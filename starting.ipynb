{
 "cells": [
  {
   "cell_type": "markdown",
   "id": "05d1cb04-f195-4371-a7c8-4e7435bfd818",
   "metadata": {},
   "source": []
  },
  {
   "cell_type": "markdown",
   "id": "d70dea03",
   "metadata": {},
   "source": [
    "# Starting with Psi4 and Gamess from within a Notebook\n",
    "\n",
    "To begin with I will explore using Psi4 and Gamess and calculation engines from within a Jupyter notebook. \n",
    "\n",
    "I am using a conda envirinmnet with the following installed (in addition to the usual requirements)\n",
    "\n",
    "conda install rdkit psi4 jupyter py3Dmol\n",
    "pip install pygamess chemtools\n",
    "\n",
    "I will be seriously stealing ideas and code from the following sources as I proceed.\n",
    "\n",
    "https://github.com/Mishima-syk/psikit\n",
    "- wrapper for Psi4 in notebooks\n",
    "\n",
    "https://github.com/kzfm/pygamess\n",
    "- scripts to directly call Gamess\n",
    "\n",
    "https://github.com/tommason14/autochem\n",
    "- classes to create input files and parse output files in gamess\n",
    "\n",
    "https://github.com/STW59/simulation-scripts\n",
    "- scripts to run gamess\n",
    "\n",
    "https://github.com/mrobinson-hub/FMO-Scripts/tree/master\n",
    "- scripts for using Gamess and PSI4. Seems specialized.\n",
    "\n",
    "https://github.com/Cipulot/GAMESS-Interface\n",
    "- looks interesting. A GUI to interpret gamess results for Avogadro?\n",
    "\n",
    "https://github.com/nar-n/Run-Gamess-in-Python\n",
    "- will it do what it says? A simple short script. First place to learn?\n",
    "\n",
    "https://github.com/nidemidovich/gamess-calculations\n",
    "- python wrapper for gamess. Uses ASE\n",
    "\n",
    "## Initial work\n",
    "\n",
    "all from \n",
    "\n",
    "https://github.com/Jammyzx1/psi4-nb/blob/main/psi4_intoductory_methods.ipynb\n",
    "\n",
    "\n",
    "\n",
    "\n",
    "\n",
    "\n",
    "\n",
    "\n",
    "\n",
    "\n"
   ]
  },
  {
   "cell_type": "code",
   "execution_count": 1,
   "id": "62a810ae",
   "metadata": {},
   "outputs": [],
   "source": [
    "### use psi4 conda environment\n",
    "### https://github.com/Jammyzx1/psi4-nb/blob/main/psi4_intoductory_methods.ipynb\n",
    "\n",
    "from typing import Union, Tuple\n",
    "import psi4\n",
    "import os\n",
    "import numpy as np\n",
    "import logging\n",
    "\n",
    "logging.basicConfig(format=\"%(message)s\")\n",
    "log = logging.getLogger(__name__)\n",
    "log.setLevel(\"INFO\")"
   ]
  },
  {
   "cell_type": "code",
   "execution_count": 2,
   "id": "4d1672ac",
   "metadata": {},
   "outputs": [
    {
     "data": {
      "text/plain": [
       "'1.9.1'"
      ]
     },
     "execution_count": 2,
     "metadata": {},
     "output_type": "execute_result"
    }
   ],
   "source": [
    "psi4.__version__"
   ]
  },
  {
   "cell_type": "code",
   "execution_count": null,
   "id": "124bb3e7",
   "metadata": {},
   "outputs": [],
   "source": [
    "psi4.core.print_global_options()"
   ]
  },
  {
   "cell_type": "code",
   "execution_count": 9,
   "id": "78c46a74",
   "metadata": {},
   "outputs": [],
   "source": [
    "psi4.set_options(\n",
    "    {\n",
    "        \"SAVE_OPTIMIZATION\": True,\n",
    "        \"MAXITER\": 100,\n",
    "        \"GEOM_MAXITER\": 100,\n",
    "        \"FULL_HESS_EVERY\": 5,\n",
    "        \"PRINT\": 2,\n",
    "        \"GUESS\": \"sad\",\n",
    "        \"REFERENCE\": \"uhf\",\n",
    "        \"SCF_TYPE\": \"direct\",\n",
    "    }\n",
    ")"
   ]
  },
  {
   "cell_type": "code",
   "execution_count": 10,
   "id": "2f98dd02",
   "metadata": {},
   "outputs": [
    {
     "name": "stdout",
     "output_type": "stream",
     "text": [
      "\n",
      "\n",
      "  Module  Options:\n",
      "  ----------------------------------------------------------------------------\n",
      "\n"
     ]
    }
   ],
   "source": [
    "psi4.core.print_options()"
   ]
  },
  {
   "cell_type": "code",
   "execution_count": 13,
   "id": "9b40f317",
   "metadata": {},
   "outputs": [],
   "source": [
    "psi4.core.clean_options()"
   ]
  },
  {
   "cell_type": "code",
   "execution_count": 16,
   "id": "dcf8c939",
   "metadata": {},
   "outputs": [
    {
     "data": {
      "text/plain": [
       "'/Users/blink/github/TryingPsi4andMore'"
      ]
     },
     "execution_count": 16,
     "metadata": {},
     "output_type": "execute_result"
    }
   ],
   "source": [
    "os.getcwd()"
   ]
  },
  {
   "cell_type": "code",
   "execution_count": 18,
   "id": "d88b4bc2",
   "metadata": {},
   "outputs": [
    {
     "ename": "AttributeError",
     "evalue": "module 'os' has no attribute 'dir'",
     "output_type": "error",
     "traceback": [
      "\u001b[0;31m---------------------------------------------------------------------------\u001b[0m",
      "\u001b[0;31mAttributeError\u001b[0m                            Traceback (most recent call last)",
      "Cell \u001b[0;32mIn[18], line 1\u001b[0m\n\u001b[0;32m----> 1\u001b[0m \u001b[43mos\u001b[49m\u001b[38;5;241;43m.\u001b[39;49m\u001b[43mdir\u001b[49m\n",
      "\u001b[0;31mAttributeError\u001b[0m: module 'os' has no attribute 'dir'"
     ]
    }
   ],
   "source": []
  },
  {
   "cell_type": "code",
   "execution_count": 19,
   "id": "0770ab7c",
   "metadata": {},
   "outputs": [
    {
     "name": "stdout",
     "output_type": "stream",
     "text": [
      "\n",
      "  Memory set to 953.674 MiB by Python driver.\n"
     ]
    }
   ],
   "source": [
    "psi4.set_memory(\"1GB\")\n",
    "psi4.set_output_file(\"p4_output.txt\", append=False, loglevel=20, print_header=True, inherit_loglevel=True)\n",
    "psi4.core.set_num_threads(4)"
   ]
  },
  {
   "cell_type": "code",
   "execution_count": 20,
   "id": "3c13b303",
   "metadata": {},
   "outputs": [],
   "source": [
    "molecule = psi4.geometry(\n",
    "    \"\"\"\n",
    "    0 1\n",
    "    O     0.00000     0.64670    -0.01863\n",
    "    H     0.76026     0.61622    -0.62453\n",
    "    H    -0.76026     0.61622    -0.62453\n",
    "    units angstrom\n",
    "    symmetry c1\n",
    "    \"\"\" \n",
    ")"
   ]
  },
  {
   "cell_type": "code",
   "execution_count": 21,
   "id": "5b228928",
   "metadata": {},
   "outputs": [
    {
     "name": "stderr",
     "output_type": "stream",
     "text": [
      "The energy for this configuration is -76.0255897 Hartree\n"
     ]
    }
   ],
   "source": [
    "energy = psi4.energy(\"hf/cc-pvdz\")\n",
    "log.info(\"The energy for this configuration is {:.7f} Hartree\".format(energy))"
   ]
  },
  {
   "cell_type": "code",
   "execution_count": 26,
   "id": "d08a2b49",
   "metadata": {},
   "outputs": [
    {
     "data": {
      "text/plain": [
       "-76.02558972212799"
      ]
     },
     "execution_count": 26,
     "metadata": {},
     "output_type": "execute_result"
    }
   ],
   "source": [
    "energy"
   ]
  },
  {
   "cell_type": "code",
   "execution_count": 35,
   "id": "7900903f",
   "metadata": {},
   "outputs": [],
   "source": [
    "molecule = psi4.geometry(\n",
    "    \"\"\"\n",
    "    0 1\n",
    "    O     0.00000     0.64670    -0.01863\n",
    "    H     0.76026     0.61622    -0.62453\n",
    "    H    -0.76026     0.61622    -0.62453\n",
    "    units angstrom\n",
    "    symmetry c1\n",
    "    \"\"\" \n",
    ")"
   ]
  },
  {
   "cell_type": "code",
   "execution_count": 30,
   "id": "bbdc5f92",
   "metadata": {},
   "outputs": [
    {
     "name": "stderr",
     "output_type": "stream",
     "text": [
      "The optimized energy for this configuration is -76.0270328 Hartree\n"
     ]
    },
    {
     "name": "stdout",
     "output_type": "stream",
     "text": [
      "Optimizer: Optimization complete!\n"
     ]
    }
   ],
   "source": [
    "opt_energy = psi4.optimize(\"hf/cc-pvdz\")\n",
    "log.info(\"The optimized energy for this configuration is {:.7f} Hartree\".format(opt_energy))"
   ]
  },
  {
   "cell_type": "code",
   "execution_count": 31,
   "id": "4b30759c",
   "metadata": {},
   "outputs": [
    {
     "name": "stderr",
     "output_type": "stream",
     "text": [
      "Difference in energy from initial conformation to optimized conformation 0.0014431 Hartree\n"
     ]
    }
   ],
   "source": [
    "log.info(\"Difference in energy from initial conformation to optimized conformation {:.7f} Hartree\".format(energy - opt_energy))"
   ]
  },
  {
   "cell_type": "code",
   "execution_count": 32,
   "id": "20b9c814",
   "metadata": {},
   "outputs": [],
   "source": [
    "psi4.core.clean()"
   ]
  },
  {
   "cell_type": "code",
   "execution_count": 36,
   "id": "144ce2ac",
   "metadata": {},
   "outputs": [],
   "source": [
    "def psi4_optimize(initial_iterations: int = 2,\n",
    "                  increment_iteration: int = 2,\n",
    "                  max_loop_count: int = 20,\n",
    "                  molecule: Union[psi4.core.Molecule, None] = None,\n",
    "                  method: str = \"hf/cc-pvdz\"\n",
    "                 ) -> Tuple[float, psi4.core.Wavefunction, dict]:\n",
    "    \"\"\"\n",
    "    General function to run Psi4 optimization and restart a max of max_loop_count times incrementing the number\n",
    "    of iterations by increment_iteration from initial_iterations each loop\n",
    "    :param initial_iterations: integer the number of initial iterations\n",
    "    :param increment_iteration: integer the number of iteration increment by each time it fails to converge\n",
    "    :param max_loop_count: integer the maximum number of times to increment for convergence incomplete\n",
    "    :param molecule: psi4.core.Molecule the molecule object or None if given will save last geometry of each unconverged loop\n",
    "    :method: string define the quantum chem optimization method eg hf/cc-pvdz\n",
    "    :return: Tuple[float, psi4.core.Wavefunction, list] the energy, the wavefunction object and the history of conformations\n",
    "    \"\"\"\n",
    "    \n",
    "    log = logging.getLogger(__name__)\n",
    "    \n",
    "    unconv = True\n",
    "\n",
    "    psi4.set_options(\n",
    "        {\n",
    "            \"MAXITER\": initial_iterations,\n",
    "            \"GEOM_MAXITER\": initial_iterations\n",
    "        }\n",
    "    )\n",
    "    \n",
    "    loop_count = 0\n",
    "    \n",
    "    if molecule is not None:\n",
    "        molecule_traj = []\n",
    "\n",
    "    while unconv is True:\n",
    "        \n",
    "        try:\n",
    "            \n",
    "            log.info(\"\\ncount {}\\n\".format(loop_count))\n",
    "            opt_energy, wfn, traj = psi4.optimize(method, return_wfn=True, return_history=True)\n",
    "            log.info(\"The optimized energy for this configuration is {:.6f} Hartree\".format(opt_energy))\n",
    "            unconv = False\n",
    "            \n",
    "        except psi4.driver.ConvergenceError as cerr:\n",
    "            \n",
    "            log.warning(\"Geometry unconverged will try restarting\")\n",
    "            if molecule is not None:\n",
    "                bohr_coor = molecule.geometry()\n",
    "                bohr_coor.scale(psi4.constants.bohr2angstroms)\n",
    "                molecule_traj.append(bohr_coor.to_array())\n",
    "            unconv_wfn = cerr.wfn\n",
    "            unconv_wfn.to_file(unconv_wfn.get_scratch_filename(180))\n",
    "            psi4.set_options(\n",
    "                {\n",
    "                    \"GUESS\": \"read\",\n",
    "                    \"MAXITER\": initial_iterations + increment_iteration,\n",
    "                    \"GEOM_MAXITER\": initial_iterations + increment_iteration\n",
    "                }\n",
    "            )\n",
    "            \n",
    "            loop_count = loop_count + 1\n",
    "\n",
    "            if max_loop_count <= loop_count:\n",
    "                log.error(\"Unconverged in maximum number of loops\")\n",
    "                raise cerr\n",
    "                \n",
    "    if molecule is not None:\n",
    "        traj = {\"coordinates\": tuple(np.array(molecule_traj))}\n",
    "\n",
    "    return opt_energy, wfn, traj"
   ]
  },
  {
   "cell_type": "code",
   "execution_count": 37,
   "id": "9f74568a",
   "metadata": {},
   "outputs": [
    {
     "name": "stderr",
     "output_type": "stream",
     "text": [
      "\n",
      "count 0\n",
      "\n",
      "The optimized energy for this configuration is -76.027033 Hartree\n",
      "Optimized energy -76.0270328\n"
     ]
    },
    {
     "name": "stdout",
     "output_type": "stream",
     "text": [
      "Optimizer: Optimization complete!\n"
     ]
    }
   ],
   "source": [
    "molecule = psi4.geometry(\n",
    "    \"\"\"\n",
    "    0 1\n",
    "    O     0.00000     0.74670    -0.01863\n",
    "    H     0.76026     0.61622    -0.62453\n",
    "    H    -0.76026     0.61622    -0.62453\n",
    "    units angstrom\n",
    "    symmetry c1\n",
    "    \"\"\" \n",
    ")\n",
    "\n",
    "psi4.set_memory(\"1GB\")\n",
    "psi4.set_output_file(\"p4_output.txt\", append=False, loglevel=20, print_header=True, inherit_loglevel=True)\n",
    "psi4.core.set_num_threads(4)\n",
    "\n",
    "#Include optional molecule=molecule to get a trajectory of the final geometry of each loop inplace of the psi4 history\n",
    "energy, wfn, traj = psi4_optimize(initial_iterations=10,\n",
    "                                  increment_iteration=10,\n",
    "                                  max_loop_count=20,\n",
    "                                  method=\"hf/cc-pvdz\",\n",
    "                                 )\n",
    "\n",
    "log.info(\"Optimized energy {:.7f}\".format(energy))\n"
   ]
  },
  {
   "cell_type": "code",
   "execution_count": 38,
   "id": "47292dfc",
   "metadata": {},
   "outputs": [],
   "source": [
    "oeprops = psi4.core.OEProp(wfn)\n",
    "oeprops.add(\"DIPOLE\")\n",
    "oeprops.add(\"QUADRUPOLE\")\n",
    "oeprops.add(\"MULLIKEN_CHARGES\")\n",
    "oeprops.add(\"MULTIPOLE(4)\")\n",
    "oeprops.add(\"ESP_AT_NUCLEI\")\n",
    "oeprops.add(\"MO_EXTENTS\")\n",
    "oeprops.add(\"LOWDIN_CHARGES\")\n",
    "oeprops.add(\"WIBERG_LOWDIN_INDICES\")\n",
    "oeprops.add(\"MAYER_INDICES\")\n",
    "oeprops.add(\"NO_OCCUPATIONS\")\n",
    "oeprops.compute()"
   ]
  },
  {
   "cell_type": "code",
   "execution_count": 50,
   "id": "2ce5f8e1",
   "metadata": {},
   "outputs": [
    {
     "data": {
      "text/plain": [
       "array([-76.02724166, -76.02703274, -76.02703278, -76.02703278,\n",
       "       -76.02703278, -76.02703278, -76.02703278])"
      ]
     },
     "execution_count": 50,
     "metadata": {},
     "output_type": "execute_result"
    }
   ],
   "source": [
    "properties = wfn.variables()\n",
    "properties[\"SCF TOTAL ENERGIES\"]"
   ]
  },
  {
   "cell_type": "code",
   "execution_count": 45,
   "id": "42c64767",
   "metadata": {},
   "outputs": [
    {
     "data": {
      "text/plain": [
       "dict_keys(['CURRENT ENERGY', 'CURRENT REFERENCE ENERGY', 'DD SOLVATION ENERGY', 'ESP AT CENTER 1', 'ESP AT CENTER 2', 'ESP AT CENTER 3', 'HF KINETIC ENERGY', 'HF POTENTIAL ENERGY', 'HF TOTAL ENERGY', 'HF VIRIAL RATIO', 'NUCLEAR REPULSION ENERGY', 'ONE-ELECTRON ENERGY', 'PCM POLARIZATION ENERGY', 'PE ENERGY', 'SCF ITERATION ENERGY', 'SCF ITERATIONS', 'SCF TOTAL ENERGY', 'TWO-ELECTRON ENERGY', 'CURRENT DIPOLE', 'CURRENT GRADIENT', 'DIPOLE', 'HEXADECAPOLE', 'HF TOTAL GRADIENT', 'LOWDIN CHARGES', 'MAYER INDICES', 'MULLIKEN CHARGES', 'OCTUPOLE', 'QUADRUPOLE', 'SCF DIPOLE', 'SCF TOTAL ENERGIES', 'SCF TOTAL GRADIENT', 'WIBERG LOWDIN INDICES'])"
      ]
     },
     "execution_count": 45,
     "metadata": {},
     "output_type": "execute_result"
    }
   ],
   "source": [
    "properties.keys()"
   ]
  },
  {
   "cell_type": "code",
   "execution_count": null,
   "id": "06183e7c",
   "metadata": {},
   "outputs": [],
   "source": []
  }
 ],
 "metadata": {
  "kernelspec": {
   "display_name": "Python 3 (ipykernel)",
   "language": "python",
   "name": "python3"
  },
  "language_info": {
   "codemirror_mode": {
    "name": "ipython",
    "version": 3
   },
   "file_extension": ".py",
   "mimetype": "text/x-python",
   "name": "python",
   "nbconvert_exporter": "python",
   "pygments_lexer": "ipython3",
   "version": "3.10.14"
  }
 },
 "nbformat": 4,
 "nbformat_minor": 5
}
