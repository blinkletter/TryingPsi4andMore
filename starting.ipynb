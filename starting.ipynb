{
 "cells": [
  {
   "cell_type": "markdown",
   "id": "05d1cb04-f195-4371-a7c8-4e7435bfd818",
   "metadata": {},
   "source": [
    "# Starting with Psi4 and Gamess from within a Notebook\n",
    "\n",
    "To begin with I will explore using Psi4 and Gamess and calculation engines from withing a Jupyter notebook. "
   ]
  },
  {
   "cell_type": "code",
   "execution_count": null,
   "id": "18b15863-ae33-4167-83fc-3cc610fd1b13",
   "metadata": {},
   "outputs": [],
   "source": []
  },
  {
   "cell_type": "code",
   "execution_count": 4,
   "id": "f80e5bb4-8900-44e7-9505-d7230885238c",
   "metadata": {},
   "outputs": [
    {
     "data": {
      "text/plain": [
       "['__class__',\n",
       " '__del__',\n",
       " '__delattr__',\n",
       " '__dict__',\n",
       " '__dir__',\n",
       " '__doc__',\n",
       " '__eq__',\n",
       " '__format__',\n",
       " '__ge__',\n",
       " '__getattribute__',\n",
       " '__getstate__',\n",
       " '__gt__',\n",
       " '__hash__',\n",
       " '__init__',\n",
       " '__init_subclass__',\n",
       " '__le__',\n",
       " '__lt__',\n",
       " '__module__',\n",
       " '__ne__',\n",
       " '__new__',\n",
       " '__reduce__',\n",
       " '__reduce_ex__',\n",
       " '__repr__',\n",
       " '__setattr__',\n",
       " '__sizeof__',\n",
       " '__str__',\n",
       " '__subclasshook__',\n",
       " '__weakref__',\n",
       " 'atom_section',\n",
       " 'basis_sets',\n",
       " 'charge',\n",
       " 'ci_type',\n",
       " 'dft_type',\n",
       " 'discover_scratch_folders',\n",
       " 'exec_rungms',\n",
       " 'hessend',\n",
       " 'input',\n",
       " 'mul_type',\n",
       " 'multiplicity',\n",
       " 'options',\n",
       " 'parse_gamout',\n",
       " 'pcm_type',\n",
       " 'print_header',\n",
       " 'print_section',\n",
       " 'py_rungms',\n",
       " 'reset',\n",
       " 'run',\n",
       " 'run_input',\n",
       " 'run_type',\n",
       " 'scf_type',\n",
       " 'send_report_e_mail',\n",
       " 'write_file']"
      ]
     },
     "execution_count": 4,
     "metadata": {},
     "output_type": "execute_result"
    }
   ],
   "source": [
    "dir(pygamess.Gamess)"
   ]
  },
  {
   "cell_type": "code",
   "execution_count": 5,
   "id": "15b36043-7108-4587-8e13-0211d8bad866",
   "metadata": {},
   "outputs": [],
   "source": [
    "import chemtools"
   ]
  },
  {
   "cell_type": "code",
   "execution_count": 7,
   "id": "78c6567e-787d-4b2d-855e-bb98e23fa93a",
   "metadata": {},
   "outputs": [
    {
     "data": {
      "text/plain": [
       "['__builtins__',\n",
       " '__cached__',\n",
       " '__doc__',\n",
       " '__file__',\n",
       " '__loader__',\n",
       " '__name__',\n",
       " '__package__',\n",
       " '__path__',\n",
       " '__spec__',\n",
       " '__version__',\n",
       " 'basisopt',\n",
       " 'basisparse',\n",
       " 'basisset',\n",
       " 'chemtools']"
      ]
     },
     "execution_count": 7,
     "metadata": {},
     "output_type": "execute_result"
    }
   ],
   "source": [
    "dir(chemtools)"
   ]
  },
  {
   "cell_type": "code",
   "execution_count": null,
   "id": "50a6e731-25fd-4405-a69b-7ff644881cce",
   "metadata": {},
   "outputs": [],
   "source": []
  }
 ],
 "metadata": {
  "kernelspec": {
   "display_name": "Python 3 (ipykernel)",
   "language": "python",
   "name": "python3"
  },
  "language_info": {
   "codemirror_mode": {
    "name": "ipython",
    "version": 3
   },
   "file_extension": ".py",
   "mimetype": "text/x-python",
   "name": "python",
   "nbconvert_exporter": "python",
   "pygments_lexer": "ipython3",
   "version": "3.11.9"
  }
 },
 "nbformat": 4,
 "nbformat_minor": 5
}
