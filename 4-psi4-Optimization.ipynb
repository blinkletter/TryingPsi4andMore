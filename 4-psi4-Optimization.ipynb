{
 "cells": [
  {
   "cell_type": "markdown",
   "id": "293d8c30-5c73-42ef-aee3-20787f9fe23f",
   "metadata": {},
   "source": [
    "# The Path of Optimization\n",
    "\n",
    "In the previous notebook we used the ability to freeze coordinates and set variables in a molecule object to create a scan of energy vs bend angle in water. That was very much a modelling of the vibration for the bending in the water molecule. What if we want to model something more similar to a reaction. A change that starts in one stable form and ends in another stable form. A bond rotation is an example of this.\n",
    "\n",
    "First we must build and optimize a molecule and then set it up so that we can change and freeze a given coordinate (distance, bend or dihedral).\n",
    "\n",
    "## Build and Optimize Butane\n",
    "\n",
    "Coordinates for butane are available or I could build it in Avogadro and then export the coordinates to a text file for including in my input text string. However, for educational purposes I will build the geometry manually using a Z-matrix. I will construct it as follows...\n",
    "\n",
    "- I will imagine a carbon attached to a second carbon. (Lines 1 and 2)\n",
    "- I will then add three hydrogens to one of the carbons at bond angles and dihedrals that describe a methyl group. (lines 3,4 & 5)\n",
    "- The add a third carbon (line 6)\n",
    "- Add two hydrogens to the second carbon (lines 7 & 8)\n",
    "- Add a fourth carbon. The dihedral angle will be defined along the carbons \\#1, 2, 6 and 9. (line 9)\n",
    "- Add two hydrogens to the third carbon (lines 10 & 11)\n",
    "- Finally, add three hydrogens to the fourth carbon (lines 12, 13 & 14)\n",
    "\n",
    "Examine the Z-matrix in the code below and convince yourself that we did it right. There are many ways to accomplish the same structure in the Z-matrix format. Don't be afariad to improve on my efforts."
   ]
  },
  {
   "cell_type": "code",
   "execution_count": 1,
   "id": "c667b754-ee1d-4c7f-a1fd-f1f0c41cd84f",
   "metadata": {},
   "outputs": [
    {
     "name": "stdout",
     "output_type": "stream",
     "text": [
      "\n",
      "  Memory set to 953.674 MiB by Python driver.\n"
     ]
    }
   ],
   "source": [
    "# use psi4conda environment\n",
    "import psi4\n",
    "\n",
    "import os\n",
    "import numpy as np\n",
    "import matplotlib.pyplot as plt\n",
    "\n",
    "import helpers as hp # Many useful functions from https://lcbc-epfl.github.io/iesm-public/intro.html\n",
    "\n",
    "output_file = \"butane_1.out\"\n",
    "psi4.set_memory(\"1GB\")\n",
    "psi4.set_output_file(output_file, append=False, loglevel=20, print_header=True, inherit_loglevel=True, execute=True)\n",
    "psi4.core.set_num_threads(4)\n",
    "\n",
    "# The Z-matrix as a text string\n",
    "data = \"\"\"\n",
    "       0 1\n",
    "       C1\n",
    "       C2  1  1.5\n",
    "       H11 1  1.0  2  109.0\n",
    "       H12 1  1.0  2  109.0  3  120\n",
    "       H13 1  1.0  2  109.0  3 -120\n",
    "       C3  2  1.5  1  109.0  3  60\n",
    "       H21 2  1.0  1  109.0  6  120\n",
    "       H22 2  1.0  1  109.0  6 -120\n",
    "       C4  6  1.5  2  109.0  1  dihedral\n",
    "       H31 6  1.0  2  109.0  9  120\n",
    "       H32 6  1.0  2  109.0  9 -120\n",
    "       H41 9  1.0  6  109.0  10  0\n",
    "       H42 9  1.0  6  109.0  10  120\n",
    "       H43 9  1.0  6  109.0  10  -120\n",
    "\n",
    "       dihedral = 175\n",
    "       units angstrom\n",
    "       \"\"\" \n",
    "\n",
    "# Create the Molecule object\n",
    "mol = psi4.geometry(data)             # Create Molecule object from data string"
   ]
  },
  {
   "cell_type": "code",
   "execution_count": 2,
   "id": "1d037fab-6d10-41cf-ae51-d99d1079b3c3",
   "metadata": {},
   "outputs": [
    {
     "name": "stdout",
     "output_type": "stream",
     "text": [
      "Help on instancemethod in module psi4.core:\n",
      "\n",
      "set_default_path(...)\n",
      "    set_default_path(self: psi4.core.IOManager, path: str) -> None\n",
      "    \n",
      "    Set the default path for files to be stored\n",
      "\n"
     ]
    }
   ],
   "source": [
    "help(psi4.core.IOManager.set_default_path)"
   ]
  },
  {
   "cell_type": "markdown",
   "id": "a5fd4054-0cb5-4f58-b482-4efb03cdb958",
   "metadata": {},
   "source": [
    "### Check the Structure\n",
    "\n",
    "I in fact goofed up several times while editting the Z-matrix above. I was constantly checking my work as I moved along by visualizing the molecule using the code below. Others wrote the ```hp.drawXYZ_labeled()``` function that I used. Always steal code, never reinvent the wheel.\n",
    "\n",
    "Spin it around in the window below with your mouse. How does it look? The number labels are numbered in the *Python* fashions starting at \"0\". The numbering in the Z-matrix starts at \"1\". So atom \\#0 in the image below is atom \\#1 in the Z-matrix. What can I say, thats *Python* for you. Perhaps I should edit the code in ```hp.drawXYZ_labeled()``` to fix it? Or maybe I just don't care enough.\n",
    "\n",
    "Change the dihedral value in the Z-matrix and confirm that it smoothly rotates a single bond and nothing goes crazy."
   ]
  },
  {
   "cell_type": "code",
   "execution_count": 3,
   "id": "4491d087-12f7-42dc-a0f3-c73386960b16",
   "metadata": {},
   "outputs": [
    {
     "data": {
      "application/3dmoljs_load.v0": "<div id=\"3dmolviewer_1715271830200337\"  style=\"position: relative; width: 400px; height: 400px;\">\n        <p id=\"3dmolwarning_1715271830200337\" style=\"background-color:#ffcccc;color:black\">3Dmol.js failed to load for some reason.  Please check your browser console for error messages.<br></p>\n        </div>\n<script>\n\nvar loadScriptAsync = function(uri){\n  return new Promise((resolve, reject) => {\n    //this is to ignore the existence of requirejs amd\n    var savedexports, savedmodule;\n    if (typeof exports !== 'undefined') savedexports = exports;\n    else exports = {}\n    if (typeof module !== 'undefined') savedmodule = module;\n    else module = {}\n\n    var tag = document.createElement('script');\n    tag.src = uri;\n    tag.async = true;\n    tag.onload = () => {\n        exports = savedexports;\n        module = savedmodule;\n        resolve();\n    };\n  var firstScriptTag = document.getElementsByTagName('script')[0];\n  firstScriptTag.parentNode.insertBefore(tag, firstScriptTag);\n});\n};\n\nif(typeof $3Dmolpromise === 'undefined') {\n$3Dmolpromise = null;\n  $3Dmolpromise = loadScriptAsync('https://cdnjs.cloudflare.com/ajax/libs/3Dmol/2.1.0/3Dmol-min.js');\n}\n\nvar viewer_1715271830200337 = null;\nvar warn = document.getElementById(\"3dmolwarning_1715271830200337\");\nif(warn) {\n    warn.parentNode.removeChild(warn);\n}\n$3Dmolpromise.then(function() {\nviewer_1715271830200337 = $3Dmol.createViewer(document.getElementById(\"3dmolviewer_1715271830200337\"),{backgroundColor:\"white\"});\nviewer_1715271830200337.zoomTo();\n\tviewer_1715271830200337.addModel(\"14\\n\\n C    0.630165507294   -0.326942830914   -1.742321626664\\n C    0.630165507294   -0.326942830914   -0.242321626664\\n H    0.630165507294    0.618575744685   -2.067889781122\\n H    1.449008613513   -0.799702118714   -2.067889781122\\n H   -0.188677598925   -0.799702118714   -2.067889781122\\n C   -0.598099152034    0.382196100785    0.246030605021\\n H    0.630165507294   -1.272461406514    0.083246527793\\n H    1.449008613513    0.145816456885    0.083246527793\\n C   -0.661426361147    0.276024323781    1.740927664472\\n H   -0.548888447724    1.343282798775   -0.025797770113\\n H   -1.404859433581   -0.046363306041   -0.160755189888\\n H   -0.640155126686    1.195370111741    2.133802780437\\n H   -1.510230124574   -0.185491666639    1.998871770393\\n H    0.124871522623   -0.250937772749    2.063490196082\\n\",\"xyz\");\n\tviewer_1715271830200337.addLabel(\"1\",{\"position\": {\"x\": 0.6301655072956089, \"y\": -0.32694283091515364, \"z\": -1.7423216266683377}, \"inFront\": true});\n\tviewer_1715271830200337.addLabel(\"2\",{\"position\": {\"x\": 0.6301655072956089, \"y\": -0.32694283091515364, \"z\": -0.24232162666490803}, \"inFront\": true});\n\tviewer_1715271830200337.addLabel(\"3\",{\"position\": {\"x\": 0.6301655072956089, \"y\": 0.6185757446863253, \"z\": -2.067889781126239}, \"inFront\": true});\n\tviewer_1715271830200337.addLabel(\"4\",{\"position\": {\"x\": 1.449008613516567, \"y\": -0.7997021187158928, \"z\": -2.067889781126239}, \"inFront\": true});\n\tviewer_1715271830200337.addLabel(\"5\",{\"position\": {\"x\": -0.18867759892534913, \"y\": -0.7997021187158928, \"z\": -2.067889781126239}, \"inFront\": true});\n\tviewer_1715271830200337.addLabel(\"6\",{\"position\": {\"x\": -0.5980991520358282, \"y\": 0.3821961007859557, \"z\": 0.24603060502194318}, \"inFront\": true});\n\tviewer_1715271830200337.addLabel(\"7\",{\"position\": {\"x\": 0.6301655072956089, \"y\": -1.2724614065166326, \"z\": 0.08324652779299299}, \"inFront\": true});\n\tviewer_1715271830200337.addLabel(\"8\",{\"position\": {\"x\": 1.449008613516567, \"y\": 0.14581645688558587, \"z\": 0.08324652779299299}, \"inFront\": true});\n\tviewer_1715271830200337.addLabel(\"9\",{\"position\": {\"x\": -0.6614263611486778, \"y\": 0.27602432378131225, \"z\": 1.7409276644758525}, \"inFront\": true});\n\tviewer_1715271830200337.addLabel(\"10\",{\"position\": {\"x\": -0.5488884477256627, \"y\": 1.343282798777915, \"z\": -0.0257977701135143}, \"inFront\": true});\n\tviewer_1715271830200337.addLabel(\"11\",{\"position\": {\"x\": -1.4048594335843942, \"y\": -0.04636330604094217, \"z\": -0.1607551898878941}, \"inFront\": true});\n\tviewer_1715271830200337.addLabel(\"12\",{\"position\": {\"x\": -0.6401551266875243, \"y\": 1.195370111743403, \"z\": 2.133802780442026}, \"inFront\": true});\n\tviewer_1715271830200337.addLabel(\"13\",{\"position\": {\"x\": -1.510230124577441, \"y\": -0.18549166663911135, \"z\": 1.9988717703980399}, \"inFront\": true});\n\tviewer_1715271830200337.addLabel(\"14\",{\"position\": {\"x\": 0.12487152262334587, \"y\": -0.25093777275003126, \"z\": 2.063490196087168}, \"inFront\": true});\n\tviewer_1715271830200337.setStyle({\"stick\": {}, \"sphere\": {\"scale\": 0.1}});\n\tviewer_1715271830200337.setStyle({\"model\": 0},{\"stick\": {\"colorscheme\": \"yellowCarbon\"}, \"sphere\": {\"scale\": 0.1}});\n\tviewer_1715271830200337.zoomTo();\nviewer_1715271830200337.render();\n});\n</script>",
      "text/html": [
       "<div id=\"3dmolviewer_1715271830200337\"  style=\"position: relative; width: 400px; height: 400px;\">\n",
       "        <p id=\"3dmolwarning_1715271830200337\" style=\"background-color:#ffcccc;color:black\">3Dmol.js failed to load for some reason.  Please check your browser console for error messages.<br></p>\n",
       "        </div>\n",
       "<script>\n",
       "\n",
       "var loadScriptAsync = function(uri){\n",
       "  return new Promise((resolve, reject) => {\n",
       "    //this is to ignore the existence of requirejs amd\n",
       "    var savedexports, savedmodule;\n",
       "    if (typeof exports !== 'undefined') savedexports = exports;\n",
       "    else exports = {}\n",
       "    if (typeof module !== 'undefined') savedmodule = module;\n",
       "    else module = {}\n",
       "\n",
       "    var tag = document.createElement('script');\n",
       "    tag.src = uri;\n",
       "    tag.async = true;\n",
       "    tag.onload = () => {\n",
       "        exports = savedexports;\n",
       "        module = savedmodule;\n",
       "        resolve();\n",
       "    };\n",
       "  var firstScriptTag = document.getElementsByTagName('script')[0];\n",
       "  firstScriptTag.parentNode.insertBefore(tag, firstScriptTag);\n",
       "});\n",
       "};\n",
       "\n",
       "if(typeof $3Dmolpromise === 'undefined') {\n",
       "$3Dmolpromise = null;\n",
       "  $3Dmolpromise = loadScriptAsync('https://cdnjs.cloudflare.com/ajax/libs/3Dmol/2.1.0/3Dmol-min.js');\n",
       "}\n",
       "\n",
       "var viewer_1715271830200337 = null;\n",
       "var warn = document.getElementById(\"3dmolwarning_1715271830200337\");\n",
       "if(warn) {\n",
       "    warn.parentNode.removeChild(warn);\n",
       "}\n",
       "$3Dmolpromise.then(function() {\n",
       "viewer_1715271830200337 = $3Dmol.createViewer(document.getElementById(\"3dmolviewer_1715271830200337\"),{backgroundColor:\"white\"});\n",
       "viewer_1715271830200337.zoomTo();\n",
       "\tviewer_1715271830200337.addModel(\"14\\n\\n C    0.630165507294   -0.326942830914   -1.742321626664\\n C    0.630165507294   -0.326942830914   -0.242321626664\\n H    0.630165507294    0.618575744685   -2.067889781122\\n H    1.449008613513   -0.799702118714   -2.067889781122\\n H   -0.188677598925   -0.799702118714   -2.067889781122\\n C   -0.598099152034    0.382196100785    0.246030605021\\n H    0.630165507294   -1.272461406514    0.083246527793\\n H    1.449008613513    0.145816456885    0.083246527793\\n C   -0.661426361147    0.276024323781    1.740927664472\\n H   -0.548888447724    1.343282798775   -0.025797770113\\n H   -1.404859433581   -0.046363306041   -0.160755189888\\n H   -0.640155126686    1.195370111741    2.133802780437\\n H   -1.510230124574   -0.185491666639    1.998871770393\\n H    0.124871522623   -0.250937772749    2.063490196082\\n\",\"xyz\");\n",
       "\tviewer_1715271830200337.addLabel(\"1\",{\"position\": {\"x\": 0.6301655072956089, \"y\": -0.32694283091515364, \"z\": -1.7423216266683377}, \"inFront\": true});\n",
       "\tviewer_1715271830200337.addLabel(\"2\",{\"position\": {\"x\": 0.6301655072956089, \"y\": -0.32694283091515364, \"z\": -0.24232162666490803}, \"inFront\": true});\n",
       "\tviewer_1715271830200337.addLabel(\"3\",{\"position\": {\"x\": 0.6301655072956089, \"y\": 0.6185757446863253, \"z\": -2.067889781126239}, \"inFront\": true});\n",
       "\tviewer_1715271830200337.addLabel(\"4\",{\"position\": {\"x\": 1.449008613516567, \"y\": -0.7997021187158928, \"z\": -2.067889781126239}, \"inFront\": true});\n",
       "\tviewer_1715271830200337.addLabel(\"5\",{\"position\": {\"x\": -0.18867759892534913, \"y\": -0.7997021187158928, \"z\": -2.067889781126239}, \"inFront\": true});\n",
       "\tviewer_1715271830200337.addLabel(\"6\",{\"position\": {\"x\": -0.5980991520358282, \"y\": 0.3821961007859557, \"z\": 0.24603060502194318}, \"inFront\": true});\n",
       "\tviewer_1715271830200337.addLabel(\"7\",{\"position\": {\"x\": 0.6301655072956089, \"y\": -1.2724614065166326, \"z\": 0.08324652779299299}, \"inFront\": true});\n",
       "\tviewer_1715271830200337.addLabel(\"8\",{\"position\": {\"x\": 1.449008613516567, \"y\": 0.14581645688558587, \"z\": 0.08324652779299299}, \"inFront\": true});\n",
       "\tviewer_1715271830200337.addLabel(\"9\",{\"position\": {\"x\": -0.6614263611486778, \"y\": 0.27602432378131225, \"z\": 1.7409276644758525}, \"inFront\": true});\n",
       "\tviewer_1715271830200337.addLabel(\"10\",{\"position\": {\"x\": -0.5488884477256627, \"y\": 1.343282798777915, \"z\": -0.0257977701135143}, \"inFront\": true});\n",
       "\tviewer_1715271830200337.addLabel(\"11\",{\"position\": {\"x\": -1.4048594335843942, \"y\": -0.04636330604094217, \"z\": -0.1607551898878941}, \"inFront\": true});\n",
       "\tviewer_1715271830200337.addLabel(\"12\",{\"position\": {\"x\": -0.6401551266875243, \"y\": 1.195370111743403, \"z\": 2.133802780442026}, \"inFront\": true});\n",
       "\tviewer_1715271830200337.addLabel(\"13\",{\"position\": {\"x\": -1.510230124577441, \"y\": -0.18549166663911135, \"z\": 1.9988717703980399}, \"inFront\": true});\n",
       "\tviewer_1715271830200337.addLabel(\"14\",{\"position\": {\"x\": 0.12487152262334587, \"y\": -0.25093777275003126, \"z\": 2.063490196087168}, \"inFront\": true});\n",
       "\tviewer_1715271830200337.setStyle({\"stick\": {}, \"sphere\": {\"scale\": 0.1}});\n",
       "\tviewer_1715271830200337.setStyle({\"model\": 0},{\"stick\": {\"colorscheme\": \"yellowCarbon\"}, \"sphere\": {\"scale\": 0.1}});\n",
       "\tviewer_1715271830200337.zoomTo();\n",
       "viewer_1715271830200337.render();\n",
       "});\n",
       "</script>"
      ]
     },
     "metadata": {},
     "output_type": "display_data"
    }
   ],
   "source": [
    "hp.drawXYZ_labeled(mol)  # This command from the 'helpers' library will display the molecule\n",
    "                         # Does it look like what you expect?\n",
    "\n",
    "#hp.drawXYZ(mol)"
   ]
  },
  {
   "cell_type": "markdown",
   "id": "fdbc8248-b0d2-44f3-88e2-b019b236458c",
   "metadata": {},
   "source": [
    "### Optimize the Structure\n",
    "\n",
    "We used the \"cc-pvdz\" basis set for our calculations in water. Water has three atoms and it is described in the cc-pvdz basis set by 24 functions (5 for H and 14 for O) \\[[wikipedia](https://en.wikipedia.org/wiki/Basis_set_(chemistry))\\]. Butane has 14 atoms and is described by 106 basis functions. Computational effort using Hartree-Fock methodology scales at $n^3$ \\[[wikipedia](https://en.wikipedia.org/wiki/Ab_initio_quantum_chemistry_methods)\\]. We have about 380 times the effort required for butane compared to water. So its going to take a lot of computer effort, even with this small molecule. \n",
    "\n",
    "The minimal \"STO-3G\" basis set uses one function for hydrogen and 5 for carbon and oxygen. Thus butane has 30 basis function comapred to 106 with \"cc-pvdz\". The computation effort will be 44 times less. What took 400 seconds with the larger basis set will take about 10 seconds with the minimal basis set. It will be less accurate but much faster. I'm not getting any younger.\n",
    "\n",
    "My first effort at optimization took over 4 minutes to complete. I can take that time when I am on my own. For this class demonstration we will drop down to the \"STO-3G\" basis set. With \"STO-3G\" the code below completed the optimization in 10 seconds. We now have an optimized structure. "
   ]
  },
  {
   "cell_type": "code",
   "execution_count": 4,
   "id": "3dce65c0-6859-4ac0-a7b2-395c516a2068",
   "metadata": {},
   "outputs": [
    {
     "name": "stdout",
     "output_type": "stream",
     "text": [
      "Before optimization: 175.000 degrees\n",
      "\n",
      "Optimizer: Optimization complete!\n",
      "The optimized energy for this configuration is -155.4666462 Hartree\n",
      "\n",
      "After optimization: -179.996 degrees\n",
      "\n"
     ]
    }
   ],
   "source": [
    "psi4.set_options({\n",
    "        \"BASIS\": \"sto-3g\",            # default => None - Basis set must be specified\n",
    "#        \"BASIS\": \"6-31+G(d)\",            # default => None - Basis set must be specified\n",
    "        \"SAVE_OPTIMIZATION\": True,    # default => False\n",
    "        \"OPT_TYPE\": \"min\",            # default => \"min\":  \"min\",\"irc\" or \"ts\"\n",
    "        \"MAXITER\": 100,               # default => 50\n",
    "        \"GEOM_MAXITER\": 100,          # default => 50\n",
    "        \"FULL_HESS_EVERY\": -1,        # default => -1 -> -1 is \"off\"; 0 will perform a calculation at the beginning\n",
    "        \"PRINT\": 2,                   # default => 1\n",
    "        \"GUESS\": \"sad\",               # default => auto\n",
    "        \"REFERENCE\": \"rhf\",           # default => rhf\n",
    "        \"SCF_TYPE\": \"direct\",         # default => pk\n",
    "        \"INTS_TOLERANCE\": 1E-8,       # default => 1e-12. A value of 1e-8 is recommended when SCF_TYPE set to \"direct\"\n",
    "        \"PRINT_TRAJECTORY_XYZ_FILE\":True,   # default => false\n",
    "        \"PRINT_OPT_PARAMS\": True,     # default => False\n",
    "        \"WRITE_TRAJECTORY\": True      # default => False\n",
    "    })\n",
    "\n",
    "start_angle = mol.get_variable(\"dihedral\")\n",
    "print(f\"Before optimization: {start_angle:.3f} degrees\\n\") \n",
    "\n",
    "\n",
    "opt_energy, hist = psi4.optimize(\"hf\", molecule = mol, return_history=True)\n",
    "print(f\"The optimized energy for this configuration is {opt_energy:.7f} Hartree\\n\")\n",
    "\n",
    "mol.print_out()\n",
    "mol.print_distances()\n",
    "mol.print_bond_angles()\n",
    "mol.print_in_input_format()\n",
    "\n",
    "dihedral_angle = mol.get_variable(\"dihedral\")\n",
    "#opt_length = mol.get_variable(\"length\")\n",
    "\n",
    "print(f\"After optimization: {dihedral_angle:.3f} degrees\\n\") "
   ]
  },
  {
   "cell_type": "markdown",
   "id": "3b176473-2401-402a-b54c-3dbbe8d8c5bc",
   "metadata": {},
   "source": [
    "### The Path to Perfect\n",
    "\n",
    "Optimization is done by calculating the derivative of the energy function and then moving the atoms along the directions that take that function \"downhill.\" Sometimes the change can be \"bad.\" Consider the energies of each structure that was tried by the optimizer as we approached the optimized geometry. These values were collected in the dictionary named \"```hist```\". I will print them out below as relative values w.r.t. the final energy value. \n",
    "\n",
    "You can see that the energy was moving toward a minimum and then the optimization took a very bad turn. But it kept going and found a structure that had settled to an energy minimum. Sometimes that bad move can blow up the whole calculation and you may need to tweek the starting geometry. out initial geometry used very crude values for the bond lengths. Perhaps that is why we had this wild ride?"
   ]
  },
  {
   "cell_type": "code",
   "execution_count": 5,
   "id": "818ce437-1c73-4b13-9cf9-4e71777aab45",
   "metadata": {},
   "outputs": [
    {
     "name": "stdout",
     "output_type": "stream",
     "text": [
      "   226.261\n",
      "    17.126\n",
      "    13.050\n",
      "    12.835\n",
      "    12.809\n",
      "    12.786\n",
      "   171.376\n",
      "    50.581\n",
      "    13.832\n",
      "    12.366\n",
      "   407.623\n",
      "   223.402\n",
      "    33.331\n",
      "    11.519\n",
      "     9.566\n",
      "     7.076\n",
      "     3.152\n",
      "     4.220\n",
      "     0.241\n",
      "     0.025\n",
      "     0.004\n",
      "     0.000\n",
      "     0.000\n"
     ]
    }
   ],
   "source": [
    "a = np.array(hist[\"energy\"])\n",
    "b = ((a - a[-1]) * psi4.constants.hartree2kJmol)\n",
    "for c in b: print(f\"{c:10.3f}\")"
   ]
  },
  {
   "cell_type": "markdown",
   "id": "30336df5-d31a-4c4d-ab73-34c01c40d34b",
   "metadata": {},
   "source": [
    "### Trust Your Eyes\n",
    "\n",
    "We should always eyeball the final structure. We might have found a local minimum (e.g. the gauche confromer) rather than the global minimum (the \"anti\" conformer). Move the molecule around with your mouse and reassure yourself that the structure is reasonable."
   ]
  },
  {
   "cell_type": "code",
   "execution_count": 6,
   "id": "b47ad4ef-2636-4a0a-9983-49eadbf97e80",
   "metadata": {},
   "outputs": [
    {
     "data": {
      "application/3dmoljs_load.v0": "<div id=\"3dmolviewer_1715271863819205\"  style=\"position: relative; width: 400px; height: 400px;\">\n        <p id=\"3dmolwarning_1715271863819205\" style=\"background-color:#ffcccc;color:black\">3Dmol.js failed to load for some reason.  Please check your browser console for error messages.<br></p>\n        </div>\n<script>\n\nvar loadScriptAsync = function(uri){\n  return new Promise((resolve, reject) => {\n    //this is to ignore the existence of requirejs amd\n    var savedexports, savedmodule;\n    if (typeof exports !== 'undefined') savedexports = exports;\n    else exports = {}\n    if (typeof module !== 'undefined') savedmodule = module;\n    else module = {}\n\n    var tag = document.createElement('script');\n    tag.src = uri;\n    tag.async = true;\n    tag.onload = () => {\n        exports = savedexports;\n        module = savedmodule;\n        resolve();\n    };\n  var firstScriptTag = document.getElementsByTagName('script')[0];\n  firstScriptTag.parentNode.insertBefore(tag, firstScriptTag);\n});\n};\n\nif(typeof $3Dmolpromise === 'undefined') {\n$3Dmolpromise = null;\n  $3Dmolpromise = loadScriptAsync('https://cdnjs.cloudflare.com/ajax/libs/3Dmol/2.1.0/3Dmol-min.js');\n}\n\nvar viewer_1715271863819205 = null;\nvar warn = document.getElementById(\"3dmolwarning_1715271863819205\");\nif(warn) {\n    warn.parentNode.removeChild(warn);\n}\n$3Dmolpromise.then(function() {\nviewer_1715271863819205 = $3Dmol.createViewer(document.getElementById(\"3dmolviewer_1715271863819205\"),{backgroundColor:\"white\"});\nviewer_1715271863819205.zoomTo();\n\tviewer_1715271863819205.addModel(\"14\\n\\n C    0.618384755479   -0.356845828266   -1.836125799285\\n C    0.618384755479   -0.356845828266   -0.295002437942\\n H    0.618384755479    0.658746528078   -2.220812902167\\n H    1.498773795399   -0.865050269859   -2.218319973774\\n H   -0.261070196110   -0.864780594550   -2.220801528569\\n C   -0.618392648864    0.356782799669    0.295021737002\\n H    0.645800481891   -1.383735625920    0.065032472682\\n H    1.521164536152    0.133349849811    0.064972063048\\n C   -0.618381197577    0.356899687820    1.836102863178\\n H   -0.645780446413    1.383694237338   -0.064933088638\\n H   -1.521181135825   -0.133327007890   -0.065026292094\\n H    0.260893809487    0.865135132977    2.220785964207\\n H   -1.498911871782    0.864784184071    2.218391900216\\n H   -0.618022106436   -0.658707259839    2.220754690777\\n\",\"xyz\");\n\tviewer_1715271863819205.setStyle({\"stick\": {}, \"sphere\": {\"scale\": 0.1}});\n\tviewer_1715271863819205.zoomTo();\nviewer_1715271863819205.render();\n});\n</script>",
      "text/html": [
       "<div id=\"3dmolviewer_1715271863819205\"  style=\"position: relative; width: 400px; height: 400px;\">\n",
       "        <p id=\"3dmolwarning_1715271863819205\" style=\"background-color:#ffcccc;color:black\">3Dmol.js failed to load for some reason.  Please check your browser console for error messages.<br></p>\n",
       "        </div>\n",
       "<script>\n",
       "\n",
       "var loadScriptAsync = function(uri){\n",
       "  return new Promise((resolve, reject) => {\n",
       "    //this is to ignore the existence of requirejs amd\n",
       "    var savedexports, savedmodule;\n",
       "    if (typeof exports !== 'undefined') savedexports = exports;\n",
       "    else exports = {}\n",
       "    if (typeof module !== 'undefined') savedmodule = module;\n",
       "    else module = {}\n",
       "\n",
       "    var tag = document.createElement('script');\n",
       "    tag.src = uri;\n",
       "    tag.async = true;\n",
       "    tag.onload = () => {\n",
       "        exports = savedexports;\n",
       "        module = savedmodule;\n",
       "        resolve();\n",
       "    };\n",
       "  var firstScriptTag = document.getElementsByTagName('script')[0];\n",
       "  firstScriptTag.parentNode.insertBefore(tag, firstScriptTag);\n",
       "});\n",
       "};\n",
       "\n",
       "if(typeof $3Dmolpromise === 'undefined') {\n",
       "$3Dmolpromise = null;\n",
       "  $3Dmolpromise = loadScriptAsync('https://cdnjs.cloudflare.com/ajax/libs/3Dmol/2.1.0/3Dmol-min.js');\n",
       "}\n",
       "\n",
       "var viewer_1715271863819205 = null;\n",
       "var warn = document.getElementById(\"3dmolwarning_1715271863819205\");\n",
       "if(warn) {\n",
       "    warn.parentNode.removeChild(warn);\n",
       "}\n",
       "$3Dmolpromise.then(function() {\n",
       "viewer_1715271863819205 = $3Dmol.createViewer(document.getElementById(\"3dmolviewer_1715271863819205\"),{backgroundColor:\"white\"});\n",
       "viewer_1715271863819205.zoomTo();\n",
       "\tviewer_1715271863819205.addModel(\"14\\n\\n C    0.618384755479   -0.356845828266   -1.836125799285\\n C    0.618384755479   -0.356845828266   -0.295002437942\\n H    0.618384755479    0.658746528078   -2.220812902167\\n H    1.498773795399   -0.865050269859   -2.218319973774\\n H   -0.261070196110   -0.864780594550   -2.220801528569\\n C   -0.618392648864    0.356782799669    0.295021737002\\n H    0.645800481891   -1.383735625920    0.065032472682\\n H    1.521164536152    0.133349849811    0.064972063048\\n C   -0.618381197577    0.356899687820    1.836102863178\\n H   -0.645780446413    1.383694237338   -0.064933088638\\n H   -1.521181135825   -0.133327007890   -0.065026292094\\n H    0.260893809487    0.865135132977    2.220785964207\\n H   -1.498911871782    0.864784184071    2.218391900216\\n H   -0.618022106436   -0.658707259839    2.220754690777\\n\",\"xyz\");\n",
       "\tviewer_1715271863819205.setStyle({\"stick\": {}, \"sphere\": {\"scale\": 0.1}});\n",
       "\tviewer_1715271863819205.zoomTo();\n",
       "viewer_1715271863819205.render();\n",
       "});\n",
       "</script>"
      ]
     },
     "metadata": {},
     "output_type": "display_data"
    }
   ],
   "source": [
    "hp.drawXYZ(mol)"
   ]
  },
  {
   "cell_type": "markdown",
   "id": "1b8d148e-9548-4785-8647-4781ae7cb48e",
   "metadata": {},
   "source": [
    "### Trust the Numbers\n",
    "\n",
    "We can also print the geometry out and check the bond lengths and angles. The ```Molecule``` object has a method called ```print_in_input_format()``` that will print the geometry in the format used in the input string. In this case it was a Z-matrix, which is easier to interpret compared to cartesian coordinates. I will start a new input file to capture this output and then I will write it into ```stdout``` so that it appears below."
   ]
  },
  {
   "cell_type": "code",
   "execution_count": 7,
   "id": "f82ed342-189c-4b88-84b0-baca949529dd",
   "metadata": {},
   "outputs": [
    {
     "name": "stdout",
     "output_type": "stream",
     "text": [
      "    Molecular point group: c1\n",
      "    Full point group: C1\n",
      "\n",
      "    Geometry (in Angstrom), charge = 0, multiplicity = 1:\n",
      "\n",
      "    C       \n",
      "    C             1    1.541123\n",
      "    H             1    1.086007      2  110.745736\n",
      "    H             1    1.086015      2  110.605005      3  119.995685\n",
      "    H             1    1.086008      2  110.745075      3 -120.008854\n",
      "    C             2    1.544996      1  112.451029      3   60.014774\n",
      "    H             2    1.088522      1  109.314659      6  121.514536\n",
      "    H             2    1.088524      1  109.311244      6 -121.513487\n",
      "    C             6    1.541081      2  112.452832      1    dihedral\n",
      "    H             6    1.088515      2  109.245176      9  121.545777\n",
      "    H             6    1.088517      2  109.246257      9 -121.561687\n",
      "    H             9    1.086006      6  110.748082     10  -61.500255\n",
      "    H             9    1.086014      6  110.612183     10   58.497890\n",
      "    H             9    1.086009      6  110.739376     10  178.492566\n",
      "\n",
      "    dihedral  = -179.9956969075\n",
      "\n"
     ]
    }
   ],
   "source": [
    "psi4.set_output_file(\"temp.dat\", append=False, print_header=False)\n",
    "mol.print_in_input_format()\n",
    "!cat \"temp.dat\"     # cat is a terminal command that will print the contents of a file to stdout"
   ]
  },
  {
   "cell_type": "markdown",
   "id": "f6175d02-d962-468b-8d7c-88a5b3135edf",
   "metadata": {},
   "source": [
    "## Digging Deeper\n",
    "\n",
    "Data analysis is the core of science. What we observe leads to our discoveries, great and small. In this case we observed a somewhat chaotic journey from the starting structure to the lowest energy optimized geometry. \n",
    "\n",
    "### Visualizing the Data\n",
    "\n",
    "We checked that the final structure made sense and it did. We observe reasonable values for bond lengths, bends and dihedral angles. I must admit, the dihedral angles in the last three lines of the Z-matrix above intrigued me. I would have expected values of 60, 120 and -120. Instead I see -60, +60 and 180 degrees. These values are all 120 degree apart and so fit the expected structure of a methyl group and yet I somehow feel something isn't as expected.\n",
    "\n",
    "First let us visualize the energies with each step of the optimization. the code below will plot the energy values collected in the ```hist``` dictionary that was created by the ```psi4.optimize()``` function above."
   ]
  },
  {
   "cell_type": "code",
   "execution_count": 8,
   "id": "20f2715c-e8e9-4f72-8289-46380d713e93",
   "metadata": {},
   "outputs": [
    {
     "data": {
      "image/png": "[encoded data removed]",
      "text/plain": [
       "<Figure size 640x480 with 1 Axes>"
      ]
     },
     "metadata": {},
     "output_type": "display_data"
    }
   ],
   "source": [
    "\n",
    "fig, ax =  plt.subplots(1)                     # Create a blank plot in a figure\n",
    "\n",
    "energies = np.array(hist[\"energy\"])           # Get the list of energies from the history of the optimization\n",
    "energies = (energies - energies[-1]) * psi4.constants.hartree2kJmol   # relative energy in kJ/mole\n",
    "\n",
    "ax.plot(energies, \"ko-\")\n",
    "ax.set_xlabel('Optimization step')\n",
    "ax.set_ylabel(r'Pot Energy /$\\;\\left(\\frac{kJ}{mol}\\right)$')\n",
    "\n",
    "plt.show()"
   ]
  },
  {
   "cell_type": "markdown",
   "id": "eb3a36e8-11b2-4faa-b46f-f4b78dcd79cb",
   "metadata": {},
   "source": [
    "### Visualizing the Journey\n",
    "\n",
    "There are two enormous excusions in the path to the optimized structure. this hints that my initial structure did not provide an easy path to the most stable conformer.\n",
    "\n",
    "The expected steric strain between the eclipsed and anti conformations of butane is about 20 $\\frac{kJ}{mol}$. After the initial relaxation with optimization of bond lengths we should have been left with minor tweeks to get to the final structure. Instead we see large energy jumps as the algorithm thrashed in frustration. It may be instructive to visualize all the geometries along the path to optimization.\n",
    "\n",
    "These geometries are stores as matrixes of xyz coordinates in the \"```coordinates```\" key of the ```hist``` object returned from the ```psi4.optimization()``` function. These coordinates lack the atom albels but each line corresponds to the lines of the input data. We can convert these to sets of input data in the cartesian coordinate format by appending a column of atom labels. The ```mol2traj()``` function in the ```helpers``` package written by Ursula Roethlisberger and Andrej Antalík of the École Polytechnique Fédérale de Lausanne will do this for us. Always steal code that has already been written. And always give credit.\n",
    "\n",
    "Move the slider in the image below and follow the progress of the optimization. You will see that one of the methyl groups (carbon 9) starts off in perfect eclipsed arrangement with the adjacent carbon group. The gradient at the top of a curve is zero, just like at the bottom. So the atoms are not displaced left or right by the optimization driver; instead the system thrashes and makes poor choice in changing bond lengths. That is why we see the large jumps in energy.\n",
    "\n",
    "Eventually there must be some part of the algorith that tries random movements of atoms or some other scheme that pushes the eclipsed arrangement just slightly away from perfect opposition.  Once the slope downhill to the anti conformer is revealed, the algorithm eventually follows it to the energy well we expected."
   ]
  },
  {
   "cell_type": "code",
   "execution_count": 9,
   "id": "339c3803-f396-4b2a-83e5-bc62969a2f89",
   "metadata": {
    "scrolled": true
   },
   "outputs": [
    {
     "data": {
      "application/vnd.jupyter.widget-view+json": {
       "model_id": "ea2a328348024c968f3daa0564557841",
       "version_major": 2,
       "version_minor": 0
      },
      "text/plain": [
       "interactive(children=(IntSlider(value=0, description='conf', max=22), Output()), _dom_classes=('widget-interac…"
      ]
     },
     "metadata": {},
     "output_type": "display_data"
    }
   ],
   "source": [
    "coordinates = hist[\"coordinates\"]\n",
    "traj = hp.mol2traj(mol, coordinates)\n",
    "\n",
    "hp.drawXYZGeomSlider(traj)"
   ]
  },
  {
   "cell_type": "markdown",
   "id": "03c9eee2-dccf-43dc-8611-a7946fa1da02",
   "metadata": {},
   "source": [
    "## Correcting the Error\n",
    "\n",
    "I had made an error in setting up the original Z-matrix. Despite visualizing the structure, I did not notice the eclipsed group. Go back up and look. You will see it now. How did we miss it? You were in the room too, so its not all on me.\n",
    "\n",
    "### Changing the Input\n",
    "\n",
    "Quite often a teh problem with a calculation is the input. Here we started with a problemativ structure at the very top of an energy peak for one of the bond rotations. The system couldn't see a way out when the derivative for that particular compnent of the energy was zero (the slope at the top of a curve is zero). Sometimes all you need to do is tweak a value to get us to the slope that leads to \"down\". In this case we know exactly wher the problem was. Sometimes I just cahge all the values in the structure by 1\\% and that fixes the problem. \n",
    "\n",
    "Let us now correct the Z-matrix. The code below will create the geometry that I had intended at the beginning.  Look to the last three lines for the changes. Do you see how I made the initial error? I cut-and-pasted code for the blocks above and the code below will declare the initial geometry, optimize it and then output the energy plot and the structures at each step. You wil see that it will take far fewer steps now that we are beginning closer to the target geometry."
   ]
  },
  {
   "cell_type": "code",
   "execution_count": 10,
   "id": "7abb1439-59c2-4c35-9d5e-7b5d73a6d078",
   "metadata": {},
   "outputs": [
    {
     "name": "stdout",
     "output_type": "stream",
     "text": [
      "Before optimization: 175.000 degrees\n",
      "\n",
      "Optimizer: Optimization complete!\n",
      "The optimized energy for this configuration is -155.4666462 Hartree\n",
      "\n",
      "After optimization: 179.941 degrees\n",
      "\n"
     ]
    },
    {
     "data": {
      "image/png": "[encoded data removed]",
      "text/plain": [
       "<Figure size 640x480 with 1 Axes>"
      ]
     },
     "metadata": {},
     "output_type": "display_data"
    },
    {
     "data": {
      "application/vnd.jupyter.widget-view+json": {
       "model_id": "87dbbf087bed4f9d8706afee0182f5c2",
       "version_major": 2,
       "version_minor": 0
      },
      "text/plain": [
       "interactive(children=(IntSlider(value=0, description='conf', max=5), Output()), _dom_classes=('widget-interact…"
      ]
     },
     "metadata": {},
     "output_type": "display_data"
    }
   ],
   "source": [
    "output_file = \"butane_2.out\"\n",
    "psi4.set_memory(\"1GB\")\n",
    "psi4.set_output_file(output_file, append=False, loglevel=20, print_header=True, inherit_loglevel=True, execute=True)\n",
    "psi4.core.set_num_threads(4)\n",
    "\n",
    "# The Z-matrix as a text string\n",
    "data = \"\"\"\n",
    "       0 1\n",
    "       C1\n",
    "       C2  1  1.5\n",
    "       H11 1  1.0  2  109.0\n",
    "       H12 1  1.0  2  109.0  3  120\n",
    "       H13 1  1.0  2  109.0  3 -120\n",
    "       C3  2  1.5  1  109.0  3  60\n",
    "       H21 2  1.0  1  109.0  6  120\n",
    "       H22 2  1.0  1  109.0  6 -120\n",
    "       C4  6  1.5  2  109.0  1  dihedral\n",
    "       H31 6  1.0  2  109.0  9  120\n",
    "       H32 6  1.0  2  109.0  9 -120\n",
    "       H41 9  1.0  6  109.0  10  60\n",
    "       H42 9  1.0  6  109.0  12  120\n",
    "       H43 9  1.0  6  109.0  12  -120\n",
    "\n",
    "       dihedral = 175\n",
    "       units angstrom\n",
    "       \"\"\" \n",
    "\n",
    "# Create the Molecule object\n",
    "mol = psi4.geometry(data)             # Create Molecule object from data string\n",
    "\n",
    "start_angle = mol.get_variable(\"dihedral\")\n",
    "print(f\"Before optimization: {start_angle:.3f} degrees\\n\") \n",
    "\n",
    "opt_energy, hist = psi4.optimize(\"hf\", molecule = mol, return_history=True)\n",
    "print(f\"The optimized energy for this configuration is {opt_energy:.7f} Hartree\\n\")\n",
    "\n",
    "mol.print_out()\n",
    "mol.print_distances()\n",
    "mol.print_bond_angles()\n",
    "mol.print_in_input_format()\n",
    "\n",
    "dihedral_angle = mol.get_variable(\"dihedral\")\n",
    "#opt_length = mol.get_variable(\"length\")\n",
    "\n",
    "print(f\"After optimization: {dihedral_angle:.3f} degrees\\n\") \n",
    "\n",
    "fig, ax =  plt.subplots(1)                     # Create a blank plot in a figure\n",
    "\n",
    "energies = np.array(hist[\"energy\"])           # Get the list of energies from the history of the optimization\n",
    "energies = (energies - energies[-1]) * psi4.constants.hartree2kJmol   # relative energy in kJ/mole\n",
    "\n",
    "ax.plot(energies, \"ko-\")\n",
    "ax.set_xlabel('Optimization step')\n",
    "ax.set_ylabel(r'Pot Energy /$\\;\\left(\\frac{kJ}{mol}\\right)$')\n",
    "\n",
    "plt.show()\n",
    "\n",
    "coordinates = hist[\"coordinates\"]\n",
    "traj = hp.mol2traj(mol, coordinates)\n",
    "\n",
    "hp.drawXYZGeomSlider(traj)"
   ]
  },
  {
   "cell_type": "markdown",
   "id": "bd17b57a-b7c3-4525-87ef-04b8d4d7d5d5",
   "metadata": {},
   "source": [
    "### "
   ]
  },
  {
   "cell_type": "markdown",
   "id": "ecde7010-04a6-4831-8eae-32b7fb37f091",
   "metadata": {},
   "source": [
    "## Conclusions\n",
    "\n",
    "We have optimized butane in the strat of our effort to perform a scan of energy vs. torsion angle. Along the way we observed some issues that you need to be aware of as you build initial structure. We also demosntrated some more features of the ```helpers``` module written by Ursula Roethlisberger and Andrej Antalík. We displayed the molecule using ```helpers.drawXYZ``` and we deisplayed the molecule with atoms labels using ```helpers.drawXYZ_labeled(mol)```. We also collected history information from the ```psi4.optimize()``` function and used this information to plot the energies at each step using ```matplotlib```. We used ```helpers.mol2traj()``` to create a list of cartesian coordinates at each optimization step from the ```Molecule``` object and the [\"coordinates\"] list in the histpry dictionary. We then sent this list of structures into ```helpers.drawXYZGeomSlider()``` to be able to visualize the structure at each step."
   ]
  },
  {
   "cell_type": "markdown",
   "id": "4fe04a3e-c6b0-4dd2-b291-76400a02cb29",
   "metadata": {},
   "source": [
    "## Preparing for the Next Step\n",
    "\n",
    "Now that we have an optimized structure, I will capture the final Z-matrix as a text file. I will use this text as the initial structure in the next notebook where we will constrain the structure to the gauche and eclipsed forms to get the energy at the anticipated peaks and valleys of the energy coordinate with bond rotation.\n",
    "\n",
    "The code below will save the Z-matrix that represents the optimizede structure as a text file and will capture that file in the output below so that we can more easily cut-and-paste it."
   ]
  },
  {
   "cell_type": "code",
   "execution_count": 11,
   "id": "3db8383b-5cfb-4b2e-8bcf-982cf894fada",
   "metadata": {},
   "outputs": [
    {
     "name": "stdout",
     "output_type": "stream",
     "text": [
      "    Molecular point group: c1\n",
      "    Full point group: C1\n",
      "\n",
      "    Geometry (in Angstrom), charge = 0, multiplicity = 1:\n",
      "\n",
      "    C       \n",
      "    C             1    1.541090\n",
      "    H             1    1.085997      2  110.737654\n",
      "    H             1    1.086006      2  110.607207      3  119.996707\n",
      "    H             1    1.085996      2  110.737537      3 -120.006541\n",
      "    C             2    1.545066      1  112.446725      3   59.916254\n",
      "    H             2    1.088519      1  109.298807      6  121.516910\n",
      "    H             2    1.088518      1  109.301738      6 -121.519264\n",
      "    C             6    1.541169      2  112.445221      1    dihedral\n",
      "    H             6    1.088515      2  109.250918      9  121.551235\n",
      "    H             6    1.088516      2  109.250874      9 -121.547269\n",
      "    H             9    1.085998      6  110.604358     10   58.384210\n",
      "    H             9    1.085992      6  110.745577     12  119.994957\n",
      "    H             9    1.085994      6  110.746117     12 -119.995065\n",
      "\n",
      "    dihedral  =  179.9414294137\n",
      "\n"
     ]
    }
   ],
   "source": [
    "psi4.set_output_file(\"temp.dat\", append=False, print_header=False)\n",
    "mol.print_in_input_format()\n",
    "!cat \"temp.dat\"     # cat is a terminal command that will print the contents of a file to stdout"
   ]
  },
  {
   "cell_type": "code",
   "execution_count": 12,
   "id": "0fb343e8-1af8-4adc-9f70-9642a835764c",
   "metadata": {},
   "outputs": [
    {
     "data": {
      "application/3dmoljs_load.v0": "<div id=\"3dmolviewer_1715271874060879\"  style=\"position: relative; width: 400px; height: 400px;\">\n        <p id=\"3dmolwarning_1715271874060879\" style=\"background-color:#ffcccc;color:black\">3Dmol.js failed to load for some reason.  Please check your browser console for error messages.<br></p>\n        </div>\n<script>\n\nvar loadScriptAsync = function(uri){\n  return new Promise((resolve, reject) => {\n    //this is to ignore the existence of requirejs amd\n    var savedexports, savedmodule;\n    if (typeof exports !== 'undefined') savedexports = exports;\n    else exports = {}\n    if (typeof module !== 'undefined') savedmodule = module;\n    else module = {}\n\n    var tag = document.createElement('script');\n    tag.src = uri;\n    tag.async = true;\n    tag.onload = () => {\n        exports = savedexports;\n        module = savedmodule;\n        resolve();\n    };\n  var firstScriptTag = document.getElementsByTagName('script')[0];\n  firstScriptTag.parentNode.insertBefore(tag, firstScriptTag);\n});\n};\n\nif(typeof $3Dmolpromise === 'undefined') {\n$3Dmolpromise = null;\n  $3Dmolpromise = loadScriptAsync('https://cdnjs.cloudflare.com/ajax/libs/3Dmol/2.1.0/3Dmol-min.js');\n}\n\nvar viewer_1715271874060879 = null;\nvar warn = document.getElementById(\"3dmolwarning_1715271874060879\");\nif(warn) {\n    warn.parentNode.removeChild(warn);\n}\n$3Dmolpromise.then(function() {\nviewer_1715271874060879 = $3Dmol.createViewer(document.getElementById(\"3dmolviewer_1715271874060879\"),{backgroundColor:\"white\"});\nviewer_1715271874060879.zoomTo();\n\tviewer_1715271874060879.addModel(\"14\\n\\n C    0.618001345110   -0.357572073534   -1.836081162750\\n C    0.618001345110   -0.357572073534   -0.294990709234\\n H    0.618001345110    0.658064813392   -2.220621312180\\n H    1.498361100731   -0.865780550777   -2.218311154438\\n H   -0.261507584251   -0.865490679787   -2.220618764289\\n C   -0.617641264060    0.358236637252    0.294952810743\\n H    0.643696280449   -1.384603169197    0.064758998744\\n H    1.521719110404    0.131004954938    0.064811212069\\n C   -0.618336392827    0.356956533018    1.836120949880\\n H   -0.642771453705    1.385495795407   -0.064174387142\\n H   -1.521312591631   -0.129741067615   -0.065774038052\\n H   -1.497025114970    0.868049905559    2.218325834648\\n H   -0.622232294437   -0.658935243310    2.219954530815\\n H    0.262773134696    0.861351530528    2.221626592123\\n\",\"xyz\");\n\tviewer_1715271874060879.setStyle({\"stick\": {}, \"sphere\": {\"scale\": 0.1}});\n\tviewer_1715271874060879.zoomTo();\nviewer_1715271874060879.render();\n});\n</script>",
      "text/html": [
       "<div id=\"3dmolviewer_1715271874060879\"  style=\"position: relative; width: 400px; height: 400px;\">\n",
       "        <p id=\"3dmolwarning_1715271874060879\" style=\"background-color:#ffcccc;color:black\">3Dmol.js failed to load for some reason.  Please check your browser console for error messages.<br></p>\n",
       "        </div>\n",
       "<script>\n",
       "\n",
       "var loadScriptAsync = function(uri){\n",
       "  return new Promise((resolve, reject) => {\n",
       "    //this is to ignore the existence of requirejs amd\n",
       "    var savedexports, savedmodule;\n",
       "    if (typeof exports !== 'undefined') savedexports = exports;\n",
       "    else exports = {}\n",
       "    if (typeof module !== 'undefined') savedmodule = module;\n",
       "    else module = {}\n",
       "\n",
       "    var tag = document.createElement('script');\n",
       "    tag.src = uri;\n",
       "    tag.async = true;\n",
       "    tag.onload = () => {\n",
       "        exports = savedexports;\n",
       "        module = savedmodule;\n",
       "        resolve();\n",
       "    };\n",
       "  var firstScriptTag = document.getElementsByTagName('script')[0];\n",
       "  firstScriptTag.parentNode.insertBefore(tag, firstScriptTag);\n",
       "});\n",
       "};\n",
       "\n",
       "if(typeof $3Dmolpromise === 'undefined') {\n",
       "$3Dmolpromise = null;\n",
       "  $3Dmolpromise = loadScriptAsync('https://cdnjs.cloudflare.com/ajax/libs/3Dmol/2.1.0/3Dmol-min.js');\n",
       "}\n",
       "\n",
       "var viewer_1715271874060879 = null;\n",
       "var warn = document.getElementById(\"3dmolwarning_1715271874060879\");\n",
       "if(warn) {\n",
       "    warn.parentNode.removeChild(warn);\n",
       "}\n",
       "$3Dmolpromise.then(function() {\n",
       "viewer_1715271874060879 = $3Dmol.createViewer(document.getElementById(\"3dmolviewer_1715271874060879\"),{backgroundColor:\"white\"});\n",
       "viewer_1715271874060879.zoomTo();\n",
       "\tviewer_1715271874060879.addModel(\"14\\n\\n C    0.618001345110   -0.357572073534   -1.836081162750\\n C    0.618001345110   -0.357572073534   -0.294990709234\\n H    0.618001345110    0.658064813392   -2.220621312180\\n H    1.498361100731   -0.865780550777   -2.218311154438\\n H   -0.261507584251   -0.865490679787   -2.220618764289\\n C   -0.617641264060    0.358236637252    0.294952810743\\n H    0.643696280449   -1.384603169197    0.064758998744\\n H    1.521719110404    0.131004954938    0.064811212069\\n C   -0.618336392827    0.356956533018    1.836120949880\\n H   -0.642771453705    1.385495795407   -0.064174387142\\n H   -1.521312591631   -0.129741067615   -0.065774038052\\n H   -1.497025114970    0.868049905559    2.218325834648\\n H   -0.622232294437   -0.658935243310    2.219954530815\\n H    0.262773134696    0.861351530528    2.221626592123\\n\",\"xyz\");\n",
       "\tviewer_1715271874060879.setStyle({\"stick\": {}, \"sphere\": {\"scale\": 0.1}});\n",
       "\tviewer_1715271874060879.zoomTo();\n",
       "viewer_1715271874060879.render();\n",
       "});\n",
       "</script>"
      ]
     },
     "metadata": {},
     "output_type": "display_data"
    }
   ],
   "source": [
    "hp.drawXYZ(mol)"
   ]
  },
  {
   "cell_type": "code",
   "execution_count": null,
   "id": "f968af27-c941-42c2-b25b-2bdab0407e41",
   "metadata": {},
   "outputs": [],
   "source": []
  }
 ],
 "metadata": {
  "kernelspec": {
   "display_name": "Python 3 (ipykernel)",
   "language": "python",
   "name": "python3"
  },
  "language_info": {
   "codemirror_mode": {
    "name": "ipython",
    "version": 3
   },
   "file_extension": ".py",
   "mimetype": "text/x-python",
   "name": "python",
   "nbconvert_exporter": "python",
   "pygments_lexer": "ipython3",
   "version": "3.11.7"
  }
 },
 "nbformat": 4,
 "nbformat_minor": 5
}
