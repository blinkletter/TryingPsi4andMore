{
 "cells": [
  {
   "cell_type": "code",
   "execution_count": 1,
   "id": "62a810ae",
   "metadata": {},
   "outputs": [
    {
     "name": "stdout",
     "output_type": "stream",
     "text": [
      "done\n"
     ]
    }
   ],
   "source": [
    "### use psi4 conda environment\n",
    "### https://github.com/Jammyzx1/psi4-nb/blob/main/psi4_intoductory_methods.ipynb\n",
    "\n",
    "import psi4\n",
    "import numpy as np\n",
    "import pickle\n",
    "import sys\n",
    "sys.path.append(\"..\")\n",
    "from helpers import *\n",
    "\n",
    "print('done')"
   ]
  },
  {
   "cell_type": "code",
   "execution_count": 2,
   "id": "02780303-e0f2-47b8-a49c-9733e38dda54",
   "metadata": {},
   "outputs": [],
   "source": [
    "forward = psi4.geometry(\"\"\"\n",
    "-1 1\n",
    "symmetry c1\n",
    "C    0.161365681713   -0.511276706871   -0.065673009935\n",
    "C    0.161365681713   -0.511276706871    1.410165317053\n",
    "CL    0.161365681713    1.675115213693   -0.830233244286\n",
    "H    1.132477277417   -0.697571103690   -0.509045086116\n",
    "C   -1.040798213810   -1.016790788061   -0.814550748460\n",
    "O    0.357772074988   -1.868713449198    1.405962676748\n",
    "H    0.974243696079    0.103536536446    1.848363511315\n",
    "H   -0.802563630608   -0.159387482769    1.838649009148\n",
    "H   -0.947705950347   -0.799141876667   -1.882566051513\n",
    "H   -1.132438474569   -2.098248457383   -0.668277590228\n",
    "H   -1.951177110115   -0.531277272596   -0.443805926449\"\"\")"
   ]
  },
  {
   "cell_type": "code",
   "execution_count": 3,
   "id": "5c46b41f-a3ca-480f-bd02-ac93d5ee9d90",
   "metadata": {},
   "outputs": [
    {
     "name": "stdout",
     "output_type": "stream",
     "text": [
      "Warning: thermodynamics relations excluded imaginary frequencies: ['312.3109i']\n",
      "Warning: used thermodynamics relations inappropriate for low-frequency modes: ['123.4973' '199.7745' '200.6338' '278.4400' '310.0244' '399.2837']\n"
     ]
    },
    {
     "ename": "ValueError",
     "evalue": "math domain error",
     "output_type": "error",
     "traceback": [
      "\u001b[0;31m---------------------------------------------------------------------------\u001b[0m",
      "\u001b[0;31mValueError\u001b[0m                                Traceback (most recent call last)",
      "Cell \u001b[0;32mIn[3], line 11\u001b[0m\n\u001b[1;32m      1\u001b[0m psi4\u001b[38;5;241m.\u001b[39mcore\u001b[38;5;241m.\u001b[39mset_output_file(\u001b[38;5;124mf\u001b[39m\u001b[38;5;124m'\u001b[39m\u001b[38;5;124mirc_forward_new.log\u001b[39m\u001b[38;5;124m'\u001b[39m, \u001b[38;5;28;01mFalse\u001b[39;00m)\n\u001b[1;32m      2\u001b[0m psi4\u001b[38;5;241m.\u001b[39mset_options({\n\u001b[1;32m      3\u001b[0m      \u001b[38;5;124m\"\u001b[39m\u001b[38;5;124mgeom_maxiter\u001b[39m\u001b[38;5;124m\"\u001b[39m:\u001b[38;5;241m500\u001b[39m,\n\u001b[1;32m      4\u001b[0m      \u001b[38;5;124m\"\u001b[39m\u001b[38;5;124mfull_hess_every\u001b[39m\u001b[38;5;124m\"\u001b[39m:\u001b[38;5;241m0\u001b[39m,\n\u001b[0;32m   (...)\u001b[0m\n\u001b[1;32m      8\u001b[0m      \u001b[38;5;124m\"\u001b[39m\u001b[38;5;124mirc_direction\u001b[39m\u001b[38;5;124m\"\u001b[39m:\u001b[38;5;124m\"\u001b[39m\u001b[38;5;124mforward\u001b[39m\u001b[38;5;124m\"\u001b[39m,\n\u001b[1;32m      9\u001b[0m      })\n\u001b[0;32m---> 11\u001b[0m E, history_forward \u001b[38;5;241m=\u001b[39m \u001b[43mpsi4\u001b[49m\u001b[38;5;241;43m.\u001b[39;49m\u001b[43moptimize\u001b[49m\u001b[43m(\u001b[49m\u001b[38;5;124;43m'\u001b[39;49m\u001b[38;5;124;43mb3pw91/6-31+G*\u001b[39;49m\u001b[38;5;124;43m'\u001b[39;49m\u001b[43m,\u001b[49m\u001b[43mmolecule\u001b[49m\u001b[38;5;241;43m=\u001b[39;49m\u001b[43mforward\u001b[49m\u001b[43m,\u001b[49m\u001b[43m \u001b[49m\u001b[43mreturn_history\u001b[49m\u001b[38;5;241;43m=\u001b[39;49m\u001b[38;5;28;43;01mTrue\u001b[39;49;00m\u001b[43m)\u001b[49m\u001b[38;5;66;03m#, )\u001b[39;00m\n\u001b[1;32m     12\u001b[0m \u001b[38;5;28mprint\u001b[39m(\u001b[38;5;124m\"\u001b[39m\u001b[38;5;124mDone\u001b[39m\u001b[38;5;124m\"\u001b[39m)\n",
      "File \u001b[0;32m~/psi4conda/lib/python3.11/site-packages/psi4/driver/driver.py:1272\u001b[0m, in \u001b[0;36moptimize\u001b[0;34m(name, **kwargs)\u001b[0m\n\u001b[1;32m   1270\u001b[0m opt_object\u001b[38;5;241m.\u001b[39mcompute()  \u001b[38;5;66;03m# process E, gX, H\u001b[39;00m\n\u001b[1;32m   1271\u001b[0m \u001b[38;5;28;01mtry\u001b[39;00m:\n\u001b[0;32m-> 1272\u001b[0m     \u001b[43mopt_object\u001b[49m\u001b[38;5;241;43m.\u001b[39;49m\u001b[43mtake_step\u001b[49m\u001b[43m(\u001b[49m\u001b[43m)\u001b[49m\n\u001b[1;32m   1273\u001b[0m \u001b[38;5;28;01mexcept\u001b[39;00m optking\u001b[38;5;241m.\u001b[39mexceptions\u001b[38;5;241m.\u001b[39mAlgError:\n\u001b[1;32m   1274\u001b[0m     \u001b[38;5;66;03m# Optking encountered an algorithm error and reset.\u001b[39;00m\n\u001b[1;32m   1275\u001b[0m     \u001b[38;5;28;01mif\u001b[39;00m \u001b[38;5;129;01mnot\u001b[39;00m opt_object\u001b[38;5;241m.\u001b[39mHX:\n",
      "File \u001b[0;32m~/psi4conda/lib/python3.11/site-packages/optking/opt_helper.py:174\u001b[0m, in \u001b[0;36mHelper.take_step\u001b[0;34m(self)\u001b[0m\n\u001b[1;32m    172\u001b[0m \u001b[38;5;28mself\u001b[39m\u001b[38;5;241m.\u001b[39mopt_manager\u001b[38;5;241m.\u001b[39merror \u001b[38;5;241m=\u001b[39m \u001b[38;5;28;01mNone\u001b[39;00m\n\u001b[1;32m    173\u001b[0m \u001b[38;5;28;01mtry\u001b[39;00m:\n\u001b[0;32m--> 174\u001b[0m     \u001b[38;5;28mself\u001b[39m\u001b[38;5;241m.\u001b[39mdq, \u001b[38;5;28mself\u001b[39m\u001b[38;5;241m.\u001b[39mstep_str \u001b[38;5;241m=\u001b[39m \u001b[38;5;28;43mself\u001b[39;49m\u001b[38;5;241;43m.\u001b[39;49m\u001b[43mopt_manager\u001b[49m\u001b[38;5;241;43m.\u001b[39;49m\u001b[43mtake_step\u001b[49m\u001b[43m(\u001b[49m\u001b[38;5;28;43mself\u001b[39;49m\u001b[38;5;241;43m.\u001b[39;49m\u001b[43mfq\u001b[49m\u001b[43m,\u001b[49m\u001b[43m \u001b[49m\u001b[38;5;28;43mself\u001b[39;49m\u001b[38;5;241;43m.\u001b[39;49m\u001b[43m_Hq\u001b[49m\u001b[43m,\u001b[49m\u001b[43m \u001b[49m\u001b[38;5;28;43mself\u001b[39;49m\u001b[38;5;241;43m.\u001b[39;49m\u001b[43mE\u001b[49m\u001b[43m,\u001b[49m\u001b[43m \u001b[49m\u001b[43mreturn_str\u001b[49m\u001b[38;5;241;43m=\u001b[39;49m\u001b[38;5;28;43;01mTrue\u001b[39;49;00m\u001b[43m)\u001b[49m\n\u001b[1;32m    175\u001b[0m \u001b[38;5;28;01mexcept\u001b[39;00m AlgError \u001b[38;5;28;01mas\u001b[39;00m e:\n\u001b[1;32m    176\u001b[0m     \u001b[38;5;28mself\u001b[39m\u001b[38;5;241m.\u001b[39mopt_manager\u001b[38;5;241m.\u001b[39malg_error_handler(e)\n",
      "File \u001b[0;32m~/psi4conda/lib/python3.11/site-packages/optking/optimize.py:232\u001b[0m, in \u001b[0;36mOptimizationManager.take_step\u001b[0;34m(self, fq, H, energy, return_str, **kwargs)\u001b[0m\n\u001b[1;32m    229\u001b[0m \u001b[38;5;28mself\u001b[39m\u001b[38;5;241m.\u001b[39mcurrent_requirements \u001b[38;5;241m=\u001b[39m \u001b[38;5;28mself\u001b[39m\u001b[38;5;241m.\u001b[39mupdate_requirements()\n\u001b[1;32m    231\u001b[0m \u001b[38;5;28;01mif\u001b[39;00m \u001b[38;5;129;01mnot\u001b[39;00m \u001b[38;5;28mself\u001b[39m\u001b[38;5;241m.\u001b[39mparams\u001b[38;5;241m.\u001b[39mlinesearch:\n\u001b[0;32m--> 232\u001b[0m     achieved_dq, returned_str \u001b[38;5;241m=\u001b[39m \u001b[38;5;28;43mself\u001b[39;49m\u001b[38;5;241;43m.\u001b[39;49m\u001b[43mopt_method\u001b[49m\u001b[38;5;241;43m.\u001b[39;49m\u001b[43mtake_step\u001b[49m\u001b[43m(\u001b[49m\u001b[43mfq\u001b[49m\u001b[43m,\u001b[49m\u001b[43m \u001b[49m\u001b[43mH\u001b[49m\u001b[43m,\u001b[49m\u001b[43m \u001b[49m\u001b[43menergy\u001b[49m\u001b[43m,\u001b[49m\u001b[43m \u001b[49m\u001b[43mreturn_str\u001b[49m\u001b[38;5;241;43m=\u001b[39;49m\u001b[38;5;28;43;01mTrue\u001b[39;49;00m\u001b[43m)\u001b[49m\n\u001b[1;32m    233\u001b[0m \u001b[38;5;28;01melse\u001b[39;00m:\n\u001b[1;32m    234\u001b[0m     \u001b[38;5;28;01mif\u001b[39;00m \u001b[38;5;28mself\u001b[39m\u001b[38;5;241m.\u001b[39mdirection \u001b[38;5;129;01mis\u001b[39;00m \u001b[38;5;28;01mNone\u001b[39;00m:\n",
      "File \u001b[0;32m~/psi4conda/lib/python3.11/site-packages/optking/IRCfollowing.py:97\u001b[0m, in \u001b[0;36mIntrinsicReactionCoordinate.take_step\u001b[0;34m(self, fq, H, energy, return_str, **kwargs)\u001b[0m\n\u001b[1;32m     94\u001b[0m \u001b[38;5;28;01melse\u001b[39;00m:\n\u001b[1;32m     96\u001b[0m     \u001b[38;5;28mself\u001b[39m\u001b[38;5;241m.\u001b[39mhistory\u001b[38;5;241m.\u001b[39mappend(\u001b[38;5;28mself\u001b[39m\u001b[38;5;241m.\u001b[39mmolsys\u001b[38;5;241m.\u001b[39mgeom, energy, fq, \u001b[38;5;28mself\u001b[39m\u001b[38;5;241m.\u001b[39mmolsys\u001b[38;5;241m.\u001b[39mgradient_to_cartesians(\u001b[38;5;241m-\u001b[39m\u001b[38;5;241m1\u001b[39m \u001b[38;5;241m*\u001b[39m fq))\n\u001b[0;32m---> 97\u001b[0m     dq \u001b[38;5;241m=\u001b[39m \u001b[38;5;28;43mself\u001b[39;49m\u001b[38;5;241;43m.\u001b[39;49m\u001b[43mdq_irc\u001b[49m\u001b[43m(\u001b[49m\u001b[43mfq\u001b[49m\u001b[43m,\u001b[49m\u001b[43m \u001b[49m\u001b[43mH\u001b[49m\u001b[43m)\u001b[49m\n\u001b[1;32m     98\u001b[0m     dq, dx, return_str \u001b[38;5;241m=\u001b[39m displace_molsys(\u001b[38;5;28mself\u001b[39m\u001b[38;5;241m.\u001b[39mmolsys, dq, fq, ensure_convergence\u001b[38;5;241m=\u001b[39m\u001b[38;5;28;01mTrue\u001b[39;00m, return_str\u001b[38;5;241m=\u001b[39m\u001b[38;5;28;01mTrue\u001b[39;00m)\n\u001b[1;32m     99\u001b[0m     logger\u001b[38;5;241m.\u001b[39minfo(\u001b[38;5;124m\"\u001b[39m\u001b[38;5;124mIRC Constrained step calculation finished.\u001b[39m\u001b[38;5;124m\"\u001b[39m)\n",
      "File \u001b[0;32m~/psi4conda/lib/python3.11/site-packages/optking/IRCfollowing.py:212\u001b[0m, in \u001b[0;36mIntrinsicReactionCoordinate.dq_irc\u001b[0;34m(self, f_q, H_q)\u001b[0m\n\u001b[1;32m    210\u001b[0m G_prime_root \u001b[38;5;241m=\u001b[39m symm_mat_root(G_prime)\n\u001b[1;32m    211\u001b[0m G_prime_inv \u001b[38;5;241m=\u001b[39m symm_mat_inv(G_prime, redundant\u001b[38;5;241m=\u001b[39m\u001b[38;5;28;01mTrue\u001b[39;00m)\n\u001b[0;32m--> 212\u001b[0m G_prime_root_inv \u001b[38;5;241m=\u001b[39m \u001b[43msymm_mat_root\u001b[49m\u001b[43m(\u001b[49m\u001b[43mG_prime_inv\u001b[49m\u001b[43m)\u001b[49m\n\u001b[1;32m    214\u001b[0m logger\u001b[38;5;241m.\u001b[39mdebug(\u001b[38;5;124m\"\u001b[39m\u001b[38;5;124mG prime root matrix: \u001b[39m\u001b[38;5;130;01m\\n\u001b[39;00m\u001b[38;5;124m\"\u001b[39m \u001b[38;5;241m+\u001b[39m print_mat_string(G_prime_root))\n\u001b[1;32m    216\u001b[0m deltaQM \u001b[38;5;241m=\u001b[39m \u001b[38;5;241m0\u001b[39m\n",
      "File \u001b[0;32m~/psi4conda/lib/python3.11/site-packages/optking/linearAlgebra.py:171\u001b[0m, in \u001b[0;36msymm_mat_root\u001b[0;34m(A, Inverse)\u001b[0m\n\u001b[1;32m    168\u001b[0m         evals[i] \u001b[38;5;241m=\u001b[39m \u001b[38;5;241m1\u001b[39m \u001b[38;5;241m/\u001b[39m evals[i]\n\u001b[1;32m    170\u001b[0m \u001b[38;5;28;01mfor\u001b[39;00m i \u001b[38;5;129;01min\u001b[39;00m \u001b[38;5;28mrange\u001b[39m(\u001b[38;5;241m0\u001b[39m, \u001b[38;5;28mlen\u001b[39m(evals)):\n\u001b[0;32m--> 171\u001b[0m     rootMatrix[i][i] \u001b[38;5;241m=\u001b[39m sqrt(evals[i])\n\u001b[1;32m    173\u001b[0m A \u001b[38;5;241m=\u001b[39m np\u001b[38;5;241m.\u001b[39mdot(evects, np\u001b[38;5;241m.\u001b[39mdot(rootMatrix, evects\u001b[38;5;241m.\u001b[39mT))\n\u001b[1;32m    175\u001b[0m \u001b[38;5;28;01mreturn\u001b[39;00m A\n",
      "\u001b[0;31mValueError\u001b[0m: math domain error"
     ]
    }
   ],
   "source": [
    "psi4.core.set_output_file(f'irc_forward_new.log', False)\n",
    "psi4.set_options({\n",
    "     \"geom_maxiter\":500,\n",
    "     \"full_hess_every\":0,\n",
    "     \"opt_type\":\"irc\",\n",
    "     \"irc_step_size\":0.25,\n",
    "     \"ensure_bt_convergence\":True,\n",
    "     \"irc_direction\":\"forward\",\n",
    "     })\n",
    "\n",
    "E, history_forward = psi4.optimize('b3pw91/6-31+G*',molecule=forward, return_history=True)#, )\n",
    "print(\"Done\")"
   ]
  },
  {
   "cell_type": "code",
   "execution_count": 4,
   "id": "6d6971a2-96c1-4ef8-a1da-0330f2e76af0",
   "metadata": {},
   "outputs": [
    {
     "ename": "NameError",
     "evalue": "name 'history_forward' is not defined",
     "output_type": "error",
     "traceback": [
      "\u001b[0;31m---------------------------------------------------------------------------\u001b[0m",
      "\u001b[0;31mNameError\u001b[0m                                 Traceback (most recent call last)",
      "Cell \u001b[0;32mIn[4], line 1\u001b[0m\n\u001b[0;32m----> 1\u001b[0m \u001b[43mhistory_forward\u001b[49m\u001b[38;5;241m.\u001b[39mkeys()\n",
      "\u001b[0;31mNameError\u001b[0m: name 'history_forward' is not defined"
     ]
    }
   ],
   "source": [
    "history_forward.keys()"
   ]
  },
  {
   "cell_type": "code",
   "execution_count": null,
   "id": "713d61e7-e6e3-4ebd-bb86-43f100efe576",
   "metadata": {},
   "outputs": [],
   "source": []
  }
 ],
 "metadata": {
  "kernelspec": {
   "display_name": "Python 3 (ipykernel)",
   "language": "python",
   "name": "python3"
  },
  "language_info": {
   "codemirror_mode": {
    "name": "ipython",
    "version": 3
   },
   "file_extension": ".py",
   "mimetype": "text/x-python",
   "name": "python",
   "nbconvert_exporter": "python",
   "pygments_lexer": "ipython3",
   "version": "3.11.7"
  }
 },
 "nbformat": 4,
 "nbformat_minor": 5
}
