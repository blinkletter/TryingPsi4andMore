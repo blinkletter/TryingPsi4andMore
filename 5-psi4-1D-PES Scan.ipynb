{
 "cells": [
  {
   "cell_type": "markdown",
   "id": "293d8c30-5c73-42ef-aee3-20787f9fe23f",
   "metadata": {},
   "source": [
    "# Rotational Coordinate Scan\n",
    "\n",
    "In the previous notebook we optimized the structure of butane. The lowest energy structure is the \"anti\" conformation. We know that as we turn the central C–C bond that we will pass through an energy barrier of an eclipsed conformation (with CH$_3$ eclipsed against hydrogen) and then settle into the energy well of the gauche conformation. If we keep turning the bond we will pass through the highest energy barrier of the conformation with both methyl groups eclipsed against each other to reach the other gauche conformation. Past that we would complete the full circle and reach the original anti conformation. \n",
    "\n",
    "Draw these conformers using Newman projection and convince yourself that the above is true.\n",
    "\n",
    "## Bring Back Butane\n",
    "\n",
    "First I will create the molecule object using the data from the optimized structure for butane. Consider the code below."
   ]
  },
  {
   "cell_type": "code",
   "execution_count": 2,
   "id": "c667b754-ee1d-4c7f-a1fd-f1f0c41cd84f",
   "metadata": {},
   "outputs": [
    {
     "name": "stdout",
     "output_type": "stream",
     "text": [
      "\n",
      "  Memory set to 953.674 MiB by Python driver.\n",
      "Optimizer: Optimization complete!\n",
      "Initial energy is -155.4666462 Hartrees\n"
     ]
    }
   ],
   "source": [
    "# use psi4conda environment\n",
    "import psi4\n",
    "import os\n",
    "import numpy as np\n",
    "import matplotlib.pyplot as plt\n",
    "import pandas as pd\n",
    "\n",
    "import helpers as hp # Many useful functions from https://lcbc-epfl.github.io/iesm-public/intro.html\n",
    "\n",
    "psi4.core.clean_options()\n",
    "\n",
    "output_file = \"butane_PES_points_1.out\"\n",
    "psi4.set_memory(\"1GB\")\n",
    "psi4.set_output_file(output_file, append=False, loglevel=20, print_header=True, inherit_loglevel=True, execute=True)\n",
    "psi4.core.set_num_threads(4)\n",
    "\n",
    "# The Z-matrix as a text string ### From previous optimization\n",
    "data = \"\"\"\n",
    "       0 1\n",
    "       C       \n",
    "       C             1    1.541090\n",
    "       H             1    1.085997      2  110.737654\n",
    "       H             1    1.086006      2  110.607207      3  119.996707\n",
    "       H             1    1.085996      2  110.737537      3 -120.006541\n",
    "       C             2    1.545066      1  112.446725      3   59.916254\n",
    "       H             2    1.088519      1  109.298807      6  121.516910\n",
    "       H             2    1.088518      1  109.301738      6 -121.519264\n",
    "       C             6    1.541169      2  112.445221      1    dihedral\n",
    "       H             6    1.088515      2  109.250918      9  121.551235\n",
    "       H             6    1.088516      2  109.250874      9 -121.547269\n",
    "       H             9    1.085998      6  110.604358     10   58.384210\n",
    "       H             9    1.085992      6  110.745577     12  119.994957\n",
    "       H             9    1.085994      6  110.746117     12 -119.995065\n",
    "\n",
    "       symmetry c1\n",
    "       dihedral  =  179.9414294137\n",
    "       units angstrom\n",
    "       \"\"\" \n",
    "\n",
    "# Create the Molecule object\n",
    "mol = psi4.geometry(data)             # Create Molecule object from data string\n",
    "\n",
    "# Set up options for calculations\n",
    "psi4.set_options({\n",
    "        \"BASIS\": \"sto-3g\",            # default => None - Basis set must be specified\n",
    "#        \"BASIS\": \"6-31+G(d)\",            # default => None - Basis set must be specified\n",
    "        \"SAVE_OPTIMIZATION\": True,    # default => False\n",
    "        \"OPT_TYPE\": \"min\",            # default => \"min\":  \"min\",\"irc\" or \"ts\"\n",
    "        \"MAXITER\": 100,               # default => 50\n",
    "        \"GEOM_MAXITER\": 100,          # default => 50\n",
    "        \"FULL_HESS_EVERY\": -1,        # default => -1 -> only perform a calculation at the beginning\n",
    "        \"PRINT\": 2,                   # default => 1\n",
    "        \"GUESS\": \"sad\",               # default => auto\n",
    "        \"REFERENCE\": \"rhf\",           # default => rhf\n",
    "        \"SCF_TYPE\": \"direct\",         # default => pk\n",
    "        \"INTS_TOLERANCE\": 1E-8,       # default => 1e-12. A value of 1e-8 is recommended when SCF_TYPE set to \"direct\"\n",
    "        \"PRINT_TRAJECTORY_XYZ_FILE\":True,   # default => false\n",
    "        \"PRINT_OPT_PARAMS\": True,     # default => False\n",
    "        \"WRITE_TRAJECTORY\": True      # default => False\n",
    "    })\n",
    "\n",
    "\n",
    "# Optimize the structure\n",
    "energy_anti, hist = psi4.optimize(\"hf\", molecule = mol, return_history=True)   # get energy of initial optimized structure\n",
    "                                                                               # should I have used psi4.energy() instead?\n",
    "print(f\"Initial energy is {energy_anti:0.7f} Hartrees\")"
   ]
  },
  {
   "cell_type": "code",
   "execution_count": 10,
   "id": "119de84f-874b-4c1f-a412-7f6bfa8809b9",
   "metadata": {},
   "outputs": [
    {
     "data": {
      "text/plain": [
       "['B787',\n",
       " 'BFS',\n",
       " 'Z',\n",
       " '__class__',\n",
       " '__delattr__',\n",
       " '__dict__',\n",
       " '__dir__',\n",
       " '__doc__',\n",
       " '__eq__',\n",
       " '__format__',\n",
       " '__ge__',\n",
       " '__getattr__',\n",
       " '__getattribute__',\n",
       " '__getstate__',\n",
       " '__gt__',\n",
       " '__hash__',\n",
       " '__init__',\n",
       " '__init_subclass__',\n",
       " '__le__',\n",
       " '__lt__',\n",
       " '__module__',\n",
       " '__ne__',\n",
       " '__new__',\n",
       " '__reduce__',\n",
       " '__reduce_ex__',\n",
       " '__repr__',\n",
       " '__setattr__',\n",
       " '__sizeof__',\n",
       " '__str__',\n",
       " '__subclasshook__',\n",
       " 'activate_all_fragments',\n",
       " 'add_atom',\n",
       " 'atom_at_position',\n",
       " 'basis_on_atom',\n",
       " 'center_of_mass',\n",
       " 'charge',\n",
       " 'clone',\n",
       " 'com_fixed',\n",
       " 'comment',\n",
       " 'connectivity',\n",
       " 'create_psi4_string_from_molecule',\n",
       " 'deactivate_all_fragments',\n",
       " 'distance_matrix',\n",
       " 'extract_subsets',\n",
       " 'fZ',\n",
       " 'fcharge',\n",
       " 'find_highest_point_group',\n",
       " 'find_point_group',\n",
       " 'fix_com',\n",
       " 'fix_orientation',\n",
       " 'flabel',\n",
       " 'fmass',\n",
       " 'form_symmetry_information',\n",
       " 'format_molecule_for_mol',\n",
       " 'from_arrays',\n",
       " 'from_dict',\n",
       " 'from_schema',\n",
       " 'from_string',\n",
       " 'fsymbol',\n",
       " 'ftrue_atomic_number',\n",
       " 'full_geometry',\n",
       " 'full_pg_n',\n",
       " 'fx',\n",
       " 'fy',\n",
       " 'fz',\n",
       " 'geometry',\n",
       " 'get_fragment_charges',\n",
       " 'get_fragment_multiplicities',\n",
       " 'get_fragment_types',\n",
       " 'get_fragments',\n",
       " 'get_full_point_group',\n",
       " 'get_full_point_group_with_n',\n",
       " 'get_variable',\n",
       " 'has_zmatrix',\n",
       " 'inertia_tensor',\n",
       " 'input_units_to_au',\n",
       " 'irrep_labels',\n",
       " 'is_variable',\n",
       " 'label',\n",
       " 'mass',\n",
       " 'mass_number',\n",
       " 'molecular_charge',\n",
       " 'move_to_com',\n",
       " 'multiplicity',\n",
       " 'nallatom',\n",
       " 'name',\n",
       " 'natom',\n",
       " 'nfragments',\n",
       " 'nuclear_dipole',\n",
       " 'nuclear_repulsion_energy',\n",
       " 'nuclear_repulsion_energy_deriv1',\n",
       " 'nuclear_repulsion_energy_deriv2',\n",
       " 'orientation_fixed',\n",
       " 'point_group',\n",
       " 'print_bond_angles',\n",
       " 'print_cluster',\n",
       " 'print_distances',\n",
       " 'print_in_input_format',\n",
       " 'print_out',\n",
       " 'print_out_in_angstrom',\n",
       " 'print_out_in_bohr',\n",
       " 'print_out_of_planes',\n",
       " 'print_rotational_constants',\n",
       " 'provenance',\n",
       " 'reinterpret_coordentry',\n",
       " 'reset_point_group',\n",
       " 'rotational_constants',\n",
       " 'rotational_symmetry_number',\n",
       " 'rotor_type',\n",
       " 'run_dftd3',\n",
       " 'run_dftd4',\n",
       " 'run_gcp',\n",
       " 'save_string_xyz',\n",
       " 'save_string_xyz_file',\n",
       " 'save_xyz_file',\n",
       " 'schoenflies_symbol',\n",
       " 'scramble',\n",
       " 'set_active_fragment',\n",
       " 'set_active_fragments',\n",
       " 'set_basis_all_atoms',\n",
       " 'set_basis_by_label',\n",
       " 'set_basis_by_number',\n",
       " 'set_basis_by_symbol',\n",
       " 'set_comment',\n",
       " 'set_connectivity',\n",
       " 'set_full_geometry',\n",
       " 'set_geometry',\n",
       " 'set_ghost_fragment',\n",
       " 'set_ghost_fragments',\n",
       " 'set_input_units_to_au',\n",
       " 'set_mass',\n",
       " 'set_molecular_charge',\n",
       " 'set_multiplicity',\n",
       " 'set_name',\n",
       " 'set_nuclear_charge',\n",
       " 'set_point_group',\n",
       " 'set_provenance',\n",
       " 'set_units',\n",
       " 'set_variable',\n",
       " 'symbol',\n",
       " 'symmetrize',\n",
       " 'symmetry_from_input',\n",
       " 'to_arrays',\n",
       " 'to_dict',\n",
       " 'to_schema',\n",
       " 'to_string',\n",
       " 'translate',\n",
       " 'true_atomic_number',\n",
       " 'units',\n",
       " 'update_geometry',\n",
       " 'x',\n",
       " 'xyz',\n",
       " 'y',\n",
       " 'z']"
      ]
     },
     "execution_count": 10,
     "metadata": {},
     "output_type": "execute_result"
    }
   ],
   "source": [
    "dir(mol)"
   ]
  },
  {
   "cell_type": "markdown",
   "id": "f04e2fb9-8e44-422b-8579-ae8ac074de67",
   "metadata": {},
   "source": [
    "## Finding Higher Ground\n",
    "\n",
    "We can see if the structure will \"fall\" into the higher-energy gauche conformation and stay there if we start within that energy well. I will take the starting dihedral angle and twist it by 120 degrees (I will just subtract 120 from the current value). Then I will optimize the geometry so that the methyl groups can rotate to find the lowest-energy gauche conformation. Consider the code below."
   ]
  },
  {
   "cell_type": "code",
   "execution_count": 34,
   "id": "3dce65c0-6859-4ac0-a7b2-395c516a2068",
   "metadata": {},
   "outputs": [
    {
     "name": "stdout",
     "output_type": "stream",
     "text": [
      "Before rotation: 179.941 degrees\n",
      "After rotation: 59.941 degrees\n",
      "\n",
      "Optimizer: Optimization complete!\n",
      "The optimized energy for this configuration is -155.4653162 Hartree\n",
      "\n",
      "After optimization: 66.508 degrees\n",
      "\n"
     ]
    }
   ],
   "source": [
    "mol2 = mol.clone()                    # make a copy of the molecule.\n",
    "\n",
    "start_angle = mol2.get_variable(\"dihedral\")\n",
    "print(f\"Before rotation: {start_angle:.3f} degrees\") \n",
    "\n",
    "start_angle = start_angle - 120\n",
    "print(f\"After rotation: {start_angle:.3f} degrees\\n\") \n",
    "mol2.set_variable(\"dihedral\", start_angle)\n",
    "\n",
    "\n",
    "energy_gauche, hist = psi4.optimize(\"hf\", molecule = mol2, return_history=True)\n",
    "print(f\"The optimized energy for this configuration is {opt_energy:.7f} Hartree\\n\")\n",
    "\n",
    "mol2.print_out()\n",
    "mol2.print_distances()\n",
    "mol2.print_bond_angles()\n",
    "mol2.print_in_input_format()\n",
    "\n",
    "dihedral_angle = mol2.get_variable(\"dihedral\")\n",
    "#opt_length = mol.get_variable(\"length\")\n",
    "\n",
    "print(f\"After optimization: {dihedral_angle:.3f} degrees\\n\") "
   ]
  },
  {
   "cell_type": "code",
   "execution_count": 35,
   "id": "13f68178-aa6c-4956-bc9e-f6a498d8bd16",
   "metadata": {},
   "outputs": [
    {
     "name": "stdout",
     "output_type": "stream",
     "text": [
      "The energy difference is 3.49 kJ/mole\n"
     ]
    },
    {
     "data": {
      "application/3dmoljs_load.v0": "<div id=\"3dmolviewer_1715290938376992\"  style=\"position: relative; width: 640px; height: 480px;\">\n        <p id=\"3dmolwarning_1715290938376992\" style=\"background-color:#ffcccc;color:black\">3Dmol.js failed to load for some reason.  Please check your browser console for error messages.<br></p>\n        </div>\n<script>\n\nvar loadScriptAsync = function(uri){\n  return new Promise((resolve, reject) => {\n    //this is to ignore the existence of requirejs amd\n    var savedexports, savedmodule;\n    if (typeof exports !== 'undefined') savedexports = exports;\n    else exports = {}\n    if (typeof module !== 'undefined') savedmodule = module;\n    else module = {}\n\n    var tag = document.createElement('script');\n    tag.src = uri;\n    tag.async = true;\n    tag.onload = () => {\n        exports = savedexports;\n        module = savedmodule;\n        resolve();\n    };\n  var firstScriptTag = document.getElementsByTagName('script')[0];\n  firstScriptTag.parentNode.insertBefore(tag, firstScriptTag);\n});\n};\n\nif(typeof $3Dmolpromise === 'undefined') {\n$3Dmolpromise = null;\n  $3Dmolpromise = loadScriptAsync('https://cdnjs.cloudflare.com/ajax/libs/3Dmol/2.1.0/3Dmol-min.js');\n}\n\nvar viewer_1715290938376992 = null;\nvar warn = document.getElementById(\"3dmolwarning_1715290938376992\");\nif(warn) {\n    warn.parentNode.removeChild(warn);\n}\n$3Dmolpromise.then(function() {\nvar viewergrid_1715290938376992 = null;\nviewergrid_1715290938376992 = $3Dmol.createViewerGrid(document.getElementById(\"3dmolviewer_1715290938376992\"),{rows: 1, cols: 2, control_all: true},{backgroundColor:\"white\"});\nviewer_1715290938376992 = viewergrid_1715290938376992[0][0];\nviewergrid_1715290938376992[0][0].zoomTo();viewergrid_1715290938376992[0][1].zoomTo();\tviewergrid_1715290938376992[0][0].addModel(\"14\\n\\n C    0.618340655443   -0.356875397048   -1.836116778226\\n C    0.618340655443   -0.356875397048   -0.294992276128\\n H    0.618340655443    0.658720161595   -2.220805697372\\n H    1.498714815098   -0.865075411727   -2.218355120405\\n H   -0.261119091609   -0.864809503895   -2.220785732589\\n C   -0.618287625180    0.356935206708    0.295027207486\\n H    0.645606529570   -1.383784799118    0.065006626991\\n H    1.521195507790    0.133161269345    0.065004861583\\n C   -0.618390904325    0.356820136996    1.836082272213\\n H   -0.645486520208    1.383900677251   -0.064816925288\\n H   -1.521185035822   -0.133021711706   -0.064983942800\\n H   -1.498799470399    0.864960164274    2.218345097396\\n H   -0.618367196609   -0.658842387790    2.220597299681\\n H    0.261066689317    0.864737370356    2.220788468299\\n\",\"xyz\");\n\tviewergrid_1715290938376992[0][1].addModel(\"14\\n\\n C    0.946155017955   -0.224100314136   -1.389847699492\\n C    0.946155017955   -0.224100314136    0.151770473478\\n H    0.946155017955    0.791602574148   -1.774305941236\\n H    1.831310841251   -0.728739106538   -1.765564718073\\n H    0.074825656035   -0.736831670778   -1.783910453965\\n C   -0.235007505448    0.554368019789    0.778403044697\\n H    0.930241779781   -1.251364865008    0.511784692722\\n H    1.875476301007    0.222235377015    0.501402098506\\n C   -1.613041445473   -0.085611816457    0.517567217032\\n H   -0.075034131427    0.613916790130    1.853558024144\\n H   -0.234195258667    1.574619926226    0.398638118175\\n H   -2.389290947020    0.469606362768    1.035731234636\\n H   -1.852162205042   -0.088593849380   -0.540830722019\\n H   -1.634336210101   -1.111203249258    0.874175208986\\n\",\"xyz\");\n\tviewergrid_1715290938376992[0][0].setStyle({\"stick\": {}, \"sphere\": {\"scale\": 0.1}});\n\tviewergrid_1715290938376992[0][1].setStyle({\"stick\": {}, \"sphere\": {\"scale\": 0.1}});\n\tviewergrid_1715290938376992[0][0].zoomTo();\n\tviewergrid_1715290938376992[0][1].zoomTo();\nviewergrid_1715290938376992[0][1].render();\nviewergrid_1715290938376992[0][0].render();\n});\n</script>",
      "text/html": [
       "<div id=\"3dmolviewer_1715290938376992\"  style=\"position: relative; width: 640px; height: 480px;\">\n",
       "        <p id=\"3dmolwarning_1715290938376992\" style=\"background-color:#ffcccc;color:black\">3Dmol.js failed to load for some reason.  Please check your browser console for error messages.<br></p>\n",
       "        </div>\n",
       "<script>\n",
       "\n",
       "var loadScriptAsync = function(uri){\n",
       "  return new Promise((resolve, reject) => {\n",
       "    //this is to ignore the existence of requirejs amd\n",
       "    var savedexports, savedmodule;\n",
       "    if (typeof exports !== 'undefined') savedexports = exports;\n",
       "    else exports = {}\n",
       "    if (typeof module !== 'undefined') savedmodule = module;\n",
       "    else module = {}\n",
       "\n",
       "    var tag = document.createElement('script');\n",
       "    tag.src = uri;\n",
       "    tag.async = true;\n",
       "    tag.onload = () => {\n",
       "        exports = savedexports;\n",
       "        module = savedmodule;\n",
       "        resolve();\n",
       "    };\n",
       "  var firstScriptTag = document.getElementsByTagName('script')[0];\n",
       "  firstScriptTag.parentNode.insertBefore(tag, firstScriptTag);\n",
       "});\n",
       "};\n",
       "\n",
       "if(typeof $3Dmolpromise === 'undefined') {\n",
       "$3Dmolpromise = null;\n",
       "  $3Dmolpromise = loadScriptAsync('https://cdnjs.cloudflare.com/ajax/libs/3Dmol/2.1.0/3Dmol-min.js');\n",
       "}\n",
       "\n",
       "var viewer_1715290938376992 = null;\n",
       "var warn = document.getElementById(\"3dmolwarning_1715290938376992\");\n",
       "if(warn) {\n",
       "    warn.parentNode.removeChild(warn);\n",
       "}\n",
       "$3Dmolpromise.then(function() {\n",
       "var viewergrid_1715290938376992 = null;\n",
       "viewergrid_1715290938376992 = $3Dmol.createViewerGrid(document.getElementById(\"3dmolviewer_1715290938376992\"),{rows: 1, cols: 2, control_all: true},{backgroundColor:\"white\"});\n",
       "viewer_1715290938376992 = viewergrid_1715290938376992[0][0];\n",
       "viewergrid_1715290938376992[0][0].zoomTo();viewergrid_1715290938376992[0][1].zoomTo();\tviewergrid_1715290938376992[0][0].addModel(\"14\\n\\n C    0.618340655443   -0.356875397048   -1.836116778226\\n C    0.618340655443   -0.356875397048   -0.294992276128\\n H    0.618340655443    0.658720161595   -2.220805697372\\n H    1.498714815098   -0.865075411727   -2.218355120405\\n H   -0.261119091609   -0.864809503895   -2.220785732589\\n C   -0.618287625180    0.356935206708    0.295027207486\\n H    0.645606529570   -1.383784799118    0.065006626991\\n H    1.521195507790    0.133161269345    0.065004861583\\n C   -0.618390904325    0.356820136996    1.836082272213\\n H   -0.645486520208    1.383900677251   -0.064816925288\\n H   -1.521185035822   -0.133021711706   -0.064983942800\\n H   -1.498799470399    0.864960164274    2.218345097396\\n H   -0.618367196609   -0.658842387790    2.220597299681\\n H    0.261066689317    0.864737370356    2.220788468299\\n\",\"xyz\");\n",
       "\tviewergrid_1715290938376992[0][1].addModel(\"14\\n\\n C    0.946155017955   -0.224100314136   -1.389847699492\\n C    0.946155017955   -0.224100314136    0.151770473478\\n H    0.946155017955    0.791602574148   -1.774305941236\\n H    1.831310841251   -0.728739106538   -1.765564718073\\n H    0.074825656035   -0.736831670778   -1.783910453965\\n C   -0.235007505448    0.554368019789    0.778403044697\\n H    0.930241779781   -1.251364865008    0.511784692722\\n H    1.875476301007    0.222235377015    0.501402098506\\n C   -1.613041445473   -0.085611816457    0.517567217032\\n H   -0.075034131427    0.613916790130    1.853558024144\\n H   -0.234195258667    1.574619926226    0.398638118175\\n H   -2.389290947020    0.469606362768    1.035731234636\\n H   -1.852162205042   -0.088593849380   -0.540830722019\\n H   -1.634336210101   -1.111203249258    0.874175208986\\n\",\"xyz\");\n",
       "\tviewergrid_1715290938376992[0][0].setStyle({\"stick\": {}, \"sphere\": {\"scale\": 0.1}});\n",
       "\tviewergrid_1715290938376992[0][1].setStyle({\"stick\": {}, \"sphere\": {\"scale\": 0.1}});\n",
       "\tviewergrid_1715290938376992[0][0].zoomTo();\n",
       "\tviewergrid_1715290938376992[0][1].zoomTo();\n",
       "viewergrid_1715290938376992[0][1].render();\n",
       "viewergrid_1715290938376992[0][0].render();\n",
       "});\n",
       "</script>"
      ]
     },
     "metadata": {},
     "output_type": "display_data"
    }
   ],
   "source": [
    "e_diff = ((energy_gauche - energy_anti) * psi4.constants.hartree2kJmol)\n",
    "print(f\"The energy difference is {e_diff:0.2f} kJ/mole\")\n",
    "hp.drawXYZSideBySide(mol, mol2)"
   ]
  },
  {
   "cell_type": "markdown",
   "id": "f626de56-9282-4e04-9ed3-05b91a17f5f7",
   "metadata": {},
   "source": [
    "### Comparing Anti and Gauche\n",
    "\n",
    "Consider the code below. We will calculate the energy difference between the two conformations and also display the conformations side-by-side using another function in the ```helpers``` module. We see that the energy difference between anti and gauche is 3.5 kJ/mole. the literature value is between 3.6 and 3.8 kJ/mole. So our very simple calculation did a decent job of calculating the energy difference.\n",
    "\n",
    "Examine the side-by-side comparison below. Note that the lowest energy geometry has a torsion angle of about 66.5 degrees rather than the cannonical value of 60 degrees expected for a gauche conformer. This is becasue of the steric bulk of the methyl groups. they push away from each other and the angle gets cheated slightly larger to lessen the amount of steric strain."
   ]
  },
  {
   "cell_type": "markdown",
   "id": "7c80a214-924c-4176-b06b-6543c15ae377",
   "metadata": {},
   "source": [
    "## Climbing the Summit\n",
    "\n",
    "The path from anti to gauche and from gauche to the other gauche and then on back to anti desctibes a full circle for the torsion angle. We have found geometries that represent two stable conformations that are energy minima. We can convert from one to the other but must pass through a higher-energy structure to do so. How can we find this high-energy structure if the optimization algorithm want to find a way downhill at all times.\n",
    "\n",
    "One way is to constrain the torsion angle. There are two possible eclipsed conformations. One is where methyl groups eclipse hydrogen groups and the other is when the methy groups eclipse each other. These will occur at torsion angles of 120 and zero degrees.\n",
    "\n",
    "### Forcing a Molecular Eclipse\n",
    "\n",
    "We will set the torsion angle to 120 degrees. Draw the structure in Newman projection and confirm this for yourself. This will place both methyl groups in eclipse with a hydrogen group. \n",
    "\n",
    "There are two ways (that I know - there may be more) to do this. One we have explored already when we used constrainsts to examine the energy of water with different bend angles. We set the bend to a value and then locked that value. We optimized the molecule allowing all other coordinates to change, except the frozen bend angle. In this case we would set the \"dihedral\" variable in the molecule to a value, freeze it, and then optimize. We would use ```mol.set_variable(\"dihedral\", some_value)``` and ```psi4.set_options({\"FROZEN_DIHEDRAL\":\"9 6 2 1\"})``` to do this here.\n",
    "\n",
    "The other option is to use ```psi4.set_options({\"RANGED_DIHEDRAL\": \"9 6 2 1 119.90 120.01\"})```.  This sets the goal for the dihedral angle to be 120 degrees (between the two narrowly spaced range values). It does not chnage y=the initial value of the angle and the optimization will apply an artificial gradient that moves the coordinate toward the range. this can be messy and fail if it forces atoms to pass through each other or any other impossible situations. \n",
    "\n",
    "the first option is easily accessible when using internal coordinates such as a Z-matrix. The second option is the only way to set desired angles when the input is a cartesian coordinate matrix. So they both have their uses and, in this case, should both work equally well."
   ]
  },
  {
   "cell_type": "markdown",
   "id": "2bd411cf-caa7-4f25-9d13-9a34a75886bd",
   "metadata": {},
   "source": [
    "### Using FROZEN_DIHEDRAL\n",
    "\n",
    "Consider the code below. Use the slider in the viewer window to follow the optimization. Observe that we start with a given, frozen dihedral and optimize the rest of the system."
   ]
  },
  {
   "cell_type": "code",
   "execution_count": 42,
   "id": "d30be7a7-d459-49c7-a8fb-668923796b17",
   "metadata": {},
   "outputs": [
    {
     "name": "stdout",
     "output_type": "stream",
     "text": [
      "Optimizer: Optimization complete!\n",
      "The optimized energy for this configuration is -155.4653162 Hartree\n",
      "\n",
      "The energy difference for torsion = 120 eclipsed is 14.20 kJ/mole\n",
      "After optimization: 119.999 degrees\n",
      "\n",
      "     1.108\n",
      "     0.306\n",
      "     0.013\n",
      "     0.000\n"
     ]
    },
    {
     "data": {
      "image/png": "[encoded data removed]",
      "text/plain": [
       "<Figure size 640x480 with 1 Axes>"
      ]
     },
     "metadata": {},
     "output_type": "display_data"
    },
    {
     "data": {
      "application/vnd.jupyter.widget-view+json": {
       "model_id": "e6b244df56364965839ddde0a5f23cf0",
       "version_major": 2,
       "version_minor": 0
      },
      "text/plain": [
       "interactive(children=(IntSlider(value=0, description='conf', max=3), Output()), _dom_classes=('widget-interact…"
      ]
     },
     "metadata": {},
     "output_type": "display_data"
    }
   ],
   "source": [
    "### We start with the optimized molecule for the gauche conformer => mol2\n",
    "\n",
    "mol3 = mol2.clone()  # Copy it into a new molecule to preserve the geometry of the original.\n",
    "                     # We will now proceed with mol3\n",
    "\n",
    "# We will not change the settings that were created above.\n",
    "\n",
    "output_file = \"butane_eclipsed_1.out\"\n",
    "psi4.set_output_file(output_file, append=False, loglevel=20, print_header=True, inherit_loglevel=True, execute=True)\n",
    "\n",
    "psi4.set_options({\"FROZEN_DIHEDRAL\":\"9 6 2 1\"})\n",
    "mol3.set_variable(\"dihedral\", 120)\n",
    "\n",
    "energy_eclipse_120, hist = psi4.optimize(\"hf\", molecule = mol3, return_history=True)\n",
    "print(f\"The optimized energy for this configuration is {opt_energy:.7f} Hartree\\n\")\n",
    "e_diff = ((energy_eclipse_120 - energy_anti) * psi4.constants.hartree2kJmol)\n",
    "print(f\"The energy difference for torsion = 120 eclipsed is {e_diff:0.2f} kJ/mole\")\n",
    "dihedral_angle = mol3.get_variable(\"dihedral\")\n",
    "print(f\"After optimization: {dihedral_angle:.3f} degrees\\n\") \n",
    "\n",
    "# a = np.array(hist[\"energy\"])                # print the energies at each step\n",
    "# b = ((a - a[-1]) * psi4.constants.hartree2kJmol)\n",
    "# for c in b: print(f\"{c:10.3f}\")\n",
    "\n",
    "fig, ax =  plt.subplots(1)                    # Create a blank plot in a figure\n",
    "\n",
    "energies = np.array(hist[\"energy\"])           # Get the list of energies from the history of the optimization\n",
    "energies = (energies - energies[-1]) * psi4.constants.hartree2kJmol   # relative energy in kJ/mole\n",
    "\n",
    "ax.plot(energies, \"ko-\")                      # Plot the energies at each step\n",
    "ax.set_xlabel('Optimization step')\n",
    "ax.set_ylabel(r'Pot Energy /$\\;\\left(\\frac{kJ}{mol}\\right)$')\n",
    "plt.show()\n",
    "    \n",
    "coordinates = hist[\"coordinates\"]             # Visualiza the structures at each step\n",
    "traj = hp.mol2traj(mol, coordinates)\n",
    "hp.drawXYZGeomSlider(traj)"
   ]
  },
  {
   "cell_type": "markdown",
   "id": "ad9a8fb2-44b2-472e-a46d-a50b41c91156",
   "metadata": {},
   "source": [
    "### Using RANGED_DIHEDRAL\n",
    "\n",
    "Consider the code below. Use the slider in the viewer window to follow the optimization. Observe that we start with the original angle and the driver moves the angle to the goal. This wroked well when the difference between goal and start was small but failed when I started with a dihedral of 60 degrees and a goal of 120 degrees. It worked up to a goal of 90 degrees and then had trouble optimizing. Perhaps I need to loosen the criteria for ending the optimization? There are many ways to approach getting this to work better and I know none of them.\n",
    "\n",
    "The code below did not give the desired result. Large differences between the start and goal values caused the optimization to crash. the higher energy structures that were closer to the starting position failed to optimize (required more steps than the ```MAXITER```step limit). I was not able to set a goal higher than 90 degrees that worked.\n",
    "\n",
    "Run the code below and change the value for ```goal``` if you like. This method for constraining a torsion angle is not working for me in this case. You can read up of the end conditions for optimization in *Psi4* and perhaps loosen the parameters so that the optimization is able to decide to finish under less perfect conditions. There may be other tweaks needed.\n",
    "\n",
    "For future work we will use the ```FROZEN_DIHEDRAL``` method. The FROZEN_DISTANCE, _BEND or _DIHEDRAL method optimizes much more quickly and with success. The ```RANGED_DIHEDRAL``` method was messy, as promised. We may return to this in other systems where internal coordinates are difficult to manage, such as cyclic systems. But, until we absolutely need to use RANGED_DIHEDRAL we will stick with FROZEN_DIHEDRAL and related settings for constraints.\n",
    "\n",
    "Update: I added in the CHEAT! line below to set the dihedral angle in the molecule to be close to the goal angle. We can only do this while using internal coordinates like the Z-matrix. Starting close to you optimized structure is the key to good optimization."
   ]
  },
  {
   "cell_type": "code",
   "execution_count": 71,
   "id": "a31dfa26-ea35-4e1e-86d8-469b970f9e1f",
   "metadata": {},
   "outputs": [
    {
     "name": "stdout",
     "output_type": "stream",
     "text": [
      "Optimizer: Optimization complete!\n",
      "The optimized energy for this configuration is -155.4653162 Hartree\n",
      "\n",
      "The energy difference for torsion = 120 eclipsed is 14.20 kJ/mole\n",
      "After optimization: 119.900 degrees\n",
      "\n"
     ]
    },
    {
     "data": {
      "image/png": "[encoded data removed]",
      "text/plain": [
       "<Figure size 640x480 with 1 Axes>"
      ]
     },
     "metadata": {},
     "output_type": "display_data"
    },
    {
     "data": {
      "application/vnd.jupyter.widget-view+json": {
       "model_id": "1f63ad52fee14a6b95e1e446ef5a93fc",
       "version_major": 2,
       "version_minor": 0
      },
      "text/plain": [
       "interactive(children=(IntSlider(value=0, description='conf', max=12), Output()), _dom_classes=('widget-interac…"
      ]
     },
     "metadata": {},
     "output_type": "display_data"
    }
   ],
   "source": [
    "### We start with the optimized molecule for the gauche conformer => mol2\n",
    "\n",
    "mol4 = mol2.clone()  # Copy it into a new molecule to preserve the geometry of the original.\n",
    "                     # We will now proceed with mol3\n",
    "\n",
    "# We will not change the settings that were created above.\n",
    "psi4.set_options({\"FROZEN_DIHEDRAL\":\"\"})     # Clear FROZEN_DIHEDRAL\n",
    "\n",
    "\n",
    "output_file = \"butane_eclipsed_2.out\"\n",
    "psi4.set_output_file(output_file, append=False, loglevel=20, print_header=True, inherit_loglevel=True, execute=True)\n",
    "\n",
    "goal = 120\n",
    "psi4.set_options({\"RANGED_DIHEDRAL\":f\"9 6 2 1 {goal-.1} {goal+.1}\"})\n",
    "\n",
    "# CHEAT!!! Set the value to near the the goal ahead of time. \n",
    "mol4.set_variable(\"dihedral\", 110)     # Setting the variable to the same as the goal will allow the system to optimize quickly\n",
    "                                       # But this won't work with cartesian coordinates\n",
    "\n",
    "energy_eclipse_120, hist = psi4.optimize(\"hf\", molecule = mol4, return_history=True)\n",
    "print(f\"The optimized energy for this configuration is {opt_energy:.7f} Hartree\\n\")\n",
    "\n",
    "e_diff = ((energy_eclipse_120 - energy_anti) * psi4.constants.hartree2kJmol)\n",
    "print(f\"The energy difference for torsion = 120 eclipsed is {e_diff:0.2f} kJ/mole\")\n",
    "\n",
    "dihedral_angle = mol4.get_variable(\"dihedral\")\n",
    "print(f\"After optimization: {dihedral_angle:.3f} degrees\\n\") \n",
    "\n",
    "\n",
    "# a = np.array(hist[\"energy\"])                 # print the energies at each step     \n",
    "# b = ((a - a[-1]) * psi4.constants.hartree2kJmol) \n",
    "# for c in b: print(f\"{c:10.3f}\")\n",
    "\n",
    "fig, ax =  plt.subplots(1)                     # Create a blank plot in a figure\n",
    "\n",
    "energies = np.array(hist[\"energy\"])            # Get the list of energies from the history of the optimization\n",
    "energies = (energies - energies[-1]) * psi4.constants.hartree2kJmol   # relative energy in kJ/mole\n",
    "\n",
    "ax.plot(energies, \"ko-\")                       # Plot the energies at each step\n",
    "ax.set_xlabel('Optimization step')\n",
    "ax.set_ylabel(r'Pot Energy /$\\;\\left(\\frac{kJ}{mol}\\right)$')\n",
    "plt.show()\n",
    "    \n",
    "coordinates = hist[\"coordinates\"]              # Visualize the structures at each step\n",
    "traj = hp.mol2traj(mol, coordinates)\n",
    "hp.drawXYZGeomSlider(traj)"
   ]
  },
  {
   "cell_type": "markdown",
   "id": "74202a9e-0f0b-4cc2-ace8-96db4eeced54",
   "metadata": {},
   "source": [
    "## The PES Scan for Bond Rotation in Butane\n",
    "\n",
    "We have explored methods for determining the structures and energies for the stable anti and gauche conformers of butane. We observed that the most stable anti conformer had a torsion angle of 180 degrees. The most stable gauche conformer was 3.49 kJ/mole higher in energy and with an angle of 66.5 degrees. These optimizations were not constrained although we had to start with structures that were close to the goals.\n",
    "\n",
    "We used the FROZEN_DIHEDRAL setting to freeze the torsion angle and set it to 120 degree and 0 degrees to get the optimized energies for the two eclipsed forms. The energies were 14.20 and 24.43 kJ/mole higher in energy compared to the anti conformer.\n",
    "\n",
    "These are only four points in the full turn. What if we wanted to explore the whole 360 degree spin and calculaue the energy of the optimized geometries with each value of the torsion angle.\n",
    "\n",
    "### Scanning the Bond Angle\n",
    "\n",
    "Below we will use the code that we wrote when we scanned the bend angle of water. I will make small changes so that it is changing the dihedral angle of our butane instead. Then we will plot the energies w.r.t. torsion angle."
   ]
  },
  {
   "cell_type": "code",
   "execution_count": 1,
   "id": "3cfde073-53dc-4d10-9c57-2658a2fc51bd",
   "metadata": {},
   "outputs": [
    {
     "ename": "NameError",
     "evalue": "name 'mol' is not defined",
     "output_type": "error",
     "traceback": [
      "\u001b[0;31m---------------------------------------------------------------------------\u001b[0m",
      "\u001b[0;31mNameError\u001b[0m                                 Traceback (most recent call last)",
      "Cell \u001b[0;32mIn[1], line 31\u001b[0m\n\u001b[1;32m     11\u001b[0m psi4\u001b[38;5;241m.\u001b[39mset_options({\n\u001b[1;32m     12\u001b[0m         \u001b[38;5;124m\"\u001b[39m\u001b[38;5;124mBASIS\u001b[39m\u001b[38;5;124m\"\u001b[39m: \u001b[38;5;124m\"\u001b[39m\u001b[38;5;124msto-3g\u001b[39m\u001b[38;5;124m\"\u001b[39m,            \u001b[38;5;66;03m# default => None - Basis set must be specified\u001b[39;00m\n\u001b[1;32m     13\u001b[0m \u001b[38;5;66;03m#        \"BASIS\": \"6-31+G(d)\",            # default => None - Basis set must be specified\u001b[39;00m\n\u001b[0;32m   (...)\u001b[0m\n\u001b[1;32m     26\u001b[0m         \u001b[38;5;124m\"\u001b[39m\u001b[38;5;124mWRITE_TRAJECTORY\u001b[39m\u001b[38;5;124m\"\u001b[39m: \u001b[38;5;28;01mTrue\u001b[39;00m      \u001b[38;5;66;03m# default => False\u001b[39;00m\n\u001b[1;32m     27\u001b[0m     })\n\u001b[1;32m     29\u001b[0m psi4\u001b[38;5;241m.\u001b[39mset_options({\u001b[38;5;124m\"\u001b[39m\u001b[38;5;124mFROZEN_DIHEDRAL\u001b[39m\u001b[38;5;124m\"\u001b[39m:\u001b[38;5;124m\"\u001b[39m\u001b[38;5;124m9 6 2 1\u001b[39m\u001b[38;5;124m\"\u001b[39m})\n\u001b[0;32m---> 31\u001b[0m mol5 \u001b[38;5;241m=\u001b[39m \u001b[43mmol\u001b[49m\u001b[38;5;241m.\u001b[39mclone()   \u001b[38;5;66;03m# Copy the optimized anti structure from above\u001b[39;00m\n\u001b[1;32m     33\u001b[0m output_file \u001b[38;5;241m=\u001b[39m \u001b[38;5;124m\"\u001b[39m\u001b[38;5;124mButane_PES_1.out\u001b[39m\u001b[38;5;124m\"\u001b[39m\n\u001b[1;32m     34\u001b[0m psi4\u001b[38;5;241m.\u001b[39mset_memory(\u001b[38;5;124m\"\u001b[39m\u001b[38;5;124m4GB\u001b[39m\u001b[38;5;124m\"\u001b[39m)\n",
      "\u001b[0;31mNameError\u001b[0m: name 'mol' is not defined"
     ]
    }
   ],
   "source": [
    "# use psi4conda environment\n",
    "import psi4\n",
    "import os\n",
    "import numpy as np\n",
    "import matplotlib.pyplot as plt\n",
    "\n",
    "import helpers as hp # Many useful functions from https://lcbc-epfl.github.io/iesm-public/intro.html\n",
    "\n",
    "psi4.core.clean_options()\n",
    "\n",
    "psi4.set_options({\n",
    "        \"BASIS\": \"sto-3g\",            # default => None - Basis set must be specified\n",
    "#        \"BASIS\": \"6-31+G(d)\",            # default => None - Basis set must be specified\n",
    "        \"SAVE_OPTIMIZATION\": True,    # default => False\n",
    "        \"OPT_TYPE\": \"min\",            # default => \"min\":  \"min\",\"irc\" or \"ts\"\n",
    "        \"MAXITER\": 100,               # default => 50\n",
    "        \"GEOM_MAXITER\": 100,          # default => 50\n",
    "        \"FULL_HESS_EVERY\": -1,        # default => -1 -> only perform a calculation at the beginning\n",
    "        \"PRINT\": 2,                   # default => 1\n",
    "        \"GUESS\": \"sad\",               # default => auto\n",
    "        \"REFERENCE\": \"rhf\",           # default => rhf\n",
    "        \"SCF_TYPE\": \"direct\",         # default => pk\n",
    "        \"INTS_TOLERANCE\": 1E-8,       # default => 1e-12. A value of 1e-8 is recommended when SCF_TYPE set to \"direct\"\n",
    "        \"PRINT_TRAJECTORY_XYZ_FILE\":True,   # default => false\n",
    "        \"PRINT_OPT_PARAMS\": True,     # default => False\n",
    "        \"WRITE_TRAJECTORY\": True      # default => False\n",
    "    })\n",
    "\n",
    "psi4.set_options({\"FROZEN_DIHEDRAL\":\"9 6 2 1\"})\n",
    "\n",
    "mol5 = mol.clone()   # Copy the optimized anti structure from above\n",
    "\n",
    "output_file = \"Butane_PES_1.out\"\n",
    "psi4.set_memory(\"4GB\")\n",
    "psi4.set_output_file(output_file, append=False, loglevel=20, print_header=True, inherit_loglevel=True, execute=True)\n",
    "psi4.core.set_num_threads(4)\n",
    "\n",
    "step = 10; start = 0; end = 360\n",
    "number_of_points = (end - start)//step + 1\n",
    "range_of_values = np.linspace(start, end, number_of_points) \n",
    "#range_of_values = [0,66.5,120,180] \n",
    "\n",
    "dihedral_list = []\n",
    "energy_list = []\n",
    "hist = []\n",
    "for angle in range_of_values:\n",
    "    mol5.set_variable(\"dihedral\", angle)\n",
    "    energy = psi4.optimize(\"hf\", molecule = mol5)\n",
    "    dihedral_list.append(angle)\n",
    "    energy_list.append(energy)\n",
    "    hist.append\n",
    "\n",
    "print(\"Done\")"
   ]
  },
  {
   "cell_type": "markdown",
   "id": "ec9eee80-9944-44f0-81b1-af27b908437c",
   "metadata": {},
   "source": [
    "### Analyze the Data\n",
    "\n",
    "As before, here we will colelct the data lists into a dataframe. We will calculate the energy difference relative to the optimized anti conformation in units of kJ/mole. then amke a quick plot using a built-in plot method of the dataframe object."
   ]
  },
  {
   "cell_type": "code",
   "execution_count": 22,
   "id": "132ac225-b026-44bb-be1f-bcc48746f087",
   "metadata": {},
   "outputs": [
    {
     "name": "stdout",
     "output_type": "stream",
     "text": [
      "   angle      energy    kJ/mole\n",
      "0    0.0 -155.457723  23.428757\n",
      "1   10.0 -155.458224  22.113275\n",
      "2   20.0 -155.459552  18.625658\n",
      "3   30.0 -155.461312  14.004319\n",
      "4   40.0 -155.463063   9.407169\n"
     ]
    },
    {
     "data": {
      "text/plain": [
       "<Axes: xlabel='angle', ylabel='kJ/mole'>"
      ]
     },
     "execution_count": 22,
     "metadata": {},
     "output_type": "execute_result"
    },
    {
     "data": {
      "image/png": "[encoded data removed]",
      "text/plain": [
       "<Figure size 640x480 with 1 Axes>"
      ]
     },
     "metadata": {},
     "output_type": "display_data"
    }
   ],
   "source": [
    "data_dictionary = {\"angle\": dihedral_list,\n",
    "                   \"energy\": energy_list}\n",
    "\n",
    "df = pd.DataFrame.from_dict(data_dictionary)\n",
    "\n",
    "df[\"kJ/mole\"] = df[\"energy\"] - energy_anti\n",
    "df[\"kJ/mole\"] = df[\"kJ/mole\"] * psi4.constants.hartree2kJmol\n",
    "print(df.head())\n",
    "\n",
    "df.plot(x=\"angle\", y = \"kJ/mole\", kind=\"scatter\", )   # try kind=\"scatter\" as well"
   ]
  },
  {
   "cell_type": "markdown",
   "id": "c540c9eb-2b5f-4d2f-8501-08cccb644a0b",
   "metadata": {},
   "source": [
    "### A Better Plot\n",
    "\n",
    "The ```plot()``` method of a dataframe object has all the power of MatPlotLib contained in it. However, I am more familiar with maniplulating MatPlotLib directly"
   ]
  },
  {
   "cell_type": "code",
   "execution_count": 61,
   "id": "708eab4f-e953-45c8-bc52-1b9539521bd8",
   "metadata": {},
   "outputs": [
    {
     "data": {
      "image/png": "[encoded data removed]",
      "text/plain": [
       "<Figure size 640x480 with 1 Axes>"
      ]
     },
     "metadata": {},
     "output_type": "display_data"
    }
   ],
   "source": [
    "fig, ax =  plt.subplots(1)                     # Create a blank plot in a figure\n",
    "\n",
    "x = df[\"angle\"]\n",
    "y = df[\"kJ/mole\"]\n",
    "\n",
    "ax.plot(x,y, color = \"black\", linewidth = 0.5, zorder = 0)\n",
    "\n",
    "ax.scatter(x,y, color = \"white\", s = 64, zorder = 1)\n",
    "ax.scatter(x,y, color = \"black\", s = 16, zorder = 2)\n",
    "\n",
    "ax.vlines(x = 66.5, ymin = 0, ymax = 20, color = \"black\", linewidth = 0.4, zorder = 0)\n",
    "\n",
    "ax.scatter([66.51, 360-66.51], [3.49, 3.49], color = \"white\", s = 64, zorder = 1)\n",
    "ax.scatter([66.51, 360-66.51], [3.49, 3.49], color = \"white\", edgecolor = \"black\", s = 16, zorder = 2)\n",
    "\n",
    "ax.text(66.51-10, 20.5,\"$66.5^\\circ$\")\n",
    "ax.text(193.49-10, 20.5,\"$193.5^\\circ$\")\n",
    "\n",
    "ax.set_xlabel('Torsion Angle')\n",
    "ax.set_ylabel(r'Potential Energy Difference /$\\;\\left(\\frac{kJ}{mol}\\right)$')\n",
    "\n",
    "plt.show()\n",
    "\n",
    "#print(df)"
   ]
  },
  {
   "cell_type": "markdown",
   "id": "218d7cc2-3d06-41f3-8c58-0b9e0960335d",
   "metadata": {},
   "source": [
    "## Conclusions\n",
    "\n",
    "We obtained the stable stuctures and energies for the anti and gauche conformers of butane. We also evaluated the high-energy eclipsed conformers using a constrained torsion angle. We demonstrated two different methods for constraining the coordinate. Then we used a list of torsion angles to set and constrain the torsion angle from zero to 360 degrees. We optimized each geometry and obtained the optimized energy for each constraint.  This is an example of a \"relaxed\" potential energy scan (PES).\n",
    "\n",
    "We plotted the results and saw the expected energy profile."
   ]
  },
  {
   "cell_type": "code",
   "execution_count": null,
   "id": "53665608-5a31-4dd7-9460-62248bc2e90d",
   "metadata": {},
   "outputs": [],
   "source": []
  }
 ],
 "metadata": {
  "kernelspec": {
   "display_name": "Python 3 (ipykernel)",
   "language": "python",
   "name": "python3"
  },
  "language_info": {
   "codemirror_mode": {
    "name": "ipython",
    "version": 3
   },
   "file_extension": ".py",
   "mimetype": "text/x-python",
   "name": "python",
   "nbconvert_exporter": "python",
   "pygments_lexer": "ipython3",
   "version": "3.11.7"
  }
 },
 "nbformat": 4,
 "nbformat_minor": 5
}
