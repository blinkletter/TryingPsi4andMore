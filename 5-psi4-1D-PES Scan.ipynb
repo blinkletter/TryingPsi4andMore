{
 "cells": [
  {
   "cell_type": "markdown",
   "id": "293d8c30-5c73-42ef-aee3-20787f9fe23f",
   "metadata": {},
   "source": [
    "# Rotational Coordinate Scan\n",
    "\n",
    "In the previous notebook we optimized the structure of butane. The lowest energy structure is the \"anti\" conformation. We know that as we turn the central C–C bond that we will pass through an energy barrier of an eclipsed conformation (with CH$_3$ eclipsed against hydrogen) and then settle into the energy well of the gauche conformation. If we keep turning the bond we will pass through the highest energy barrier of the conformation with both methyl groups eclipsed against each other to reach the other gauche conformation. Past that we would complete the full circle and reach the original anti conformation. \n",
    "\n",
    "Draw these conformers using Newman projection and convince yourself that the above is true.\n",
    "\n",
    "## Bring Back Butane\n",
    "\n",
    "First I will create the molecule object using the data from the optimized structure for butane. Consider the code below."
   ]
  },
  {
   "cell_type": "code",
   "execution_count": 33,
   "id": "c667b754-ee1d-4c7f-a1fd-f1f0c41cd84f",
   "metadata": {},
   "outputs": [
    {
     "name": "stdout",
     "output_type": "stream",
     "text": [
      "Optimizer: Optimization complete!\n",
      "Initial energy is -155.4666462 Hartrees\n"
     ]
    }
   ],
   "source": [
    "# use psi4conda environment\n",
    "import psi4\n",
    "import os\n",
    "import numpy as np\n",
    "import matplotlib.pyplot as plt\n",
    "\n",
    "import helpers as hp # Many useful functions from https://lcbc-epfl.github.io/iesm-public/intro.html\n",
    "\n",
    "output_file = \"butane_PES_points_1.out\"\n",
    "psi4.set_memory(\"1GB\")\n",
    "psi4.set_output_file(output_file, append=False, loglevel=20, print_header=True, inherit_loglevel=True, execute=True)\n",
    "psi4.core.set_num_threads(4)\n",
    "\n",
    "# The Z-matrix as a text string ### From previous optimization\n",
    "data = \"\"\"\n",
    "       0 1\n",
    "       C       \n",
    "       C             1    1.541090\n",
    "       H             1    1.085997      2  110.737654\n",
    "       H             1    1.086006      2  110.607207      3  119.996707\n",
    "       H             1    1.085996      2  110.737537      3 -120.006541\n",
    "       C             2    1.545066      1  112.446725      3   59.916254\n",
    "       H             2    1.088519      1  109.298807      6  121.516910\n",
    "       H             2    1.088518      1  109.301738      6 -121.519264\n",
    "       C             6    1.541169      2  112.445221      1    dihedral\n",
    "       H             6    1.088515      2  109.250918      9  121.551235\n",
    "       H             6    1.088516      2  109.250874      9 -121.547269\n",
    "       H             9    1.085998      6  110.604358     10   58.384210\n",
    "       H             9    1.085992      6  110.745577     12  119.994957\n",
    "       H             9    1.085994      6  110.746117     12 -119.995065\n",
    "   \n",
    "       dihedral  =  179.9414294137\n",
    "       units angstrom\n",
    "       \"\"\" \n",
    "\n",
    "# Create the Molecule object\n",
    "mol = psi4.geometry(data)             # Create Molecule object from data string\n",
    "\n",
    "energy_anti, hist = psi4.optimize(\"hf\", molecule = mol, return_history=True)   # get energy of initial optimized structure\n",
    "                                                                               # should I have used psi4.energy() instead?\n",
    "print(f\"Initial energy is {energy_anti:0.7f} Hartrees\")"
   ]
  },
  {
   "cell_type": "markdown",
   "id": "f04e2fb9-8e44-422b-8579-ae8ac074de67",
   "metadata": {},
   "source": [
    "## Finding Higher Ground\n",
    "\n",
    "We can see if the structure will \"fall\" into the higher-energy gauche conformation and stay there if we start within that energy well. I will take the starting dihedral angle and twist it by 120 degrees (I will just subtract 120 from the current value). Then I will optimize the geometry so that the methyl groups can rotate to find the lowest-energy gauche conformation. Consider the code below."
   ]
  },
  {
   "cell_type": "code",
   "execution_count": 34,
   "id": "3dce65c0-6859-4ac0-a7b2-395c516a2068",
   "metadata": {},
   "outputs": [
    {
     "name": "stdout",
     "output_type": "stream",
     "text": [
      "Before rotation: 179.941 degrees\n",
      "After rotation: 59.941 degrees\n",
      "\n",
      "Optimizer: Optimization complete!\n",
      "The optimized energy for this configuration is -155.4653162 Hartree\n",
      "\n",
      "After optimization: 66.508 degrees\n",
      "\n"
     ]
    }
   ],
   "source": [
    "psi4.set_options({\n",
    "        \"BASIS\": \"sto-3g\",            # default => None - Basis set must be specified\n",
    "#        \"BASIS\": \"6-31+G(d)\",            # default => None - Basis set must be specified\n",
    "        \"SAVE_OPTIMIZATION\": True,    # default => False\n",
    "        \"OPT_TYPE\": \"min\",            # default => \"min\":  \"min\",\"irc\" or \"ts\"\n",
    "        \"MAXITER\": 100,               # default => 50\n",
    "        \"GEOM_MAXITER\": 100,          # default => 50\n",
    "        \"FULL_HESS_EVERY\": -1,        # default => -1 -> only perform a calculation at the beginning\n",
    "        \"PRINT\": 2,                   # default => 1\n",
    "        \"GUESS\": \"sad\",               # default => auto\n",
    "        \"REFERENCE\": \"rhf\",           # default => rhf\n",
    "        \"SCF_TYPE\": \"direct\",         # default => pk\n",
    "        \"INTS_TOLERANCE\": 1E-8,       # default => 1e-12. A value of 1e-8 is recommended when SCF_TYPE set to \"direct\"\n",
    "        \"PRINT_TRAJECTORY_XYZ_FILE\":True,   # default => false\n",
    "        \"PRINT_OPT_PARAMS\": True,     # default => False\n",
    "        \"WRITE_TRAJECTORY\": True      # default => False\n",
    "    })\n",
    "\n",
    "mol2 = mol.clone()                    # make a copy of the molecule.\n",
    "\n",
    "start_angle = mol2.get_variable(\"dihedral\")\n",
    "print(f\"Before rotation: {start_angle:.3f} degrees\") \n",
    "\n",
    "start_angle = start_angle - 120\n",
    "print(f\"After rotation: {start_angle:.3f} degrees\\n\") \n",
    "mol2.set_variable(\"dihedral\", start_angle)\n",
    "\n",
    "\n",
    "energy_gauche, hist = psi4.optimize(\"hf\", molecule = mol2, return_history=True)\n",
    "print(f\"The optimized energy for this configuration is {opt_energy:.7f} Hartree\\n\")\n",
    "\n",
    "mol2.print_out()\n",
    "mol2.print_distances()\n",
    "mol2.print_bond_angles()\n",
    "mol2.print_in_input_format()\n",
    "\n",
    "dihedral_angle = mol2.get_variable(\"dihedral\")\n",
    "#opt_length = mol.get_variable(\"length\")\n",
    "\n",
    "print(f\"After optimization: {dihedral_angle:.3f} degrees\\n\") "
   ]
  },
  {
   "cell_type": "markdown",
   "id": "f626de56-9282-4e04-9ed3-05b91a17f5f7",
   "metadata": {},
   "source": [
    "### Comparing Anti and Gauche\n",
    "\n",
    "Consider the code below. We will calculate the energy difference between the two conformations and also display the conformations side-by-side using another function in the ```helpers``` module. We see that the energy difference between anti and gauche is 3.5 kJ/mole. the literature value is between 3.6 and 3.8 kJ/mole. So our very simple calculation did a decent job of calculating the energy difference.\n",
    "\n",
    "Examine the side-by-side comparison below. Note that the lowest energy geometry has a torsion angle of about 66.5 degrees rather than the cannonical value of 60 degrees expected for a gauche conformer. This is becasue of the steric bulk of the methyl groups. they push away from each other and the angle gets cheated slightly larger to lessen the amount of steric strain."
   ]
  },
  {
   "cell_type": "code",
   "execution_count": 35,
   "id": "13f68178-aa6c-4956-bc9e-f6a498d8bd16",
   "metadata": {},
   "outputs": [
    {
     "name": "stdout",
     "output_type": "stream",
     "text": [
      "The energy difference is 3.49 kJ/mole\n"
     ]
    },
    {
     "data": {
      "application/3dmoljs_load.v0": "<div id=\"3dmolviewer_1715290938376992\"  style=\"position: relative; width: 640px; height: 480px;\">\n        <p id=\"3dmolwarning_1715290938376992\" style=\"background-color:#ffcccc;color:black\">3Dmol.js failed to load for some reason.  Please check your browser console for error messages.<br></p>\n        </div>\n<script>\n\nvar loadScriptAsync = function(uri){\n  return new Promise((resolve, reject) => {\n    //this is to ignore the existence of requirejs amd\n    var savedexports, savedmodule;\n    if (typeof exports !== 'undefined') savedexports = exports;\n    else exports = {}\n    if (typeof module !== 'undefined') savedmodule = module;\n    else module = {}\n\n    var tag = document.createElement('script');\n    tag.src = uri;\n    tag.async = true;\n    tag.onload = () => {\n        exports = savedexports;\n        module = savedmodule;\n        resolve();\n    };\n  var firstScriptTag = document.getElementsByTagName('script')[0];\n  firstScriptTag.parentNode.insertBefore(tag, firstScriptTag);\n});\n};\n\nif(typeof $3Dmolpromise === 'undefined') {\n$3Dmolpromise = null;\n  $3Dmolpromise = loadScriptAsync('https://cdnjs.cloudflare.com/ajax/libs/3Dmol/2.1.0/3Dmol-min.js');\n}\n\nvar viewer_1715290938376992 = null;\nvar warn = document.getElementById(\"3dmolwarning_1715290938376992\");\nif(warn) {\n    warn.parentNode.removeChild(warn);\n}\n$3Dmolpromise.then(function() {\nvar viewergrid_1715290938376992 = null;\nviewergrid_1715290938376992 = $3Dmol.createViewerGrid(document.getElementById(\"3dmolviewer_1715290938376992\"),{rows: 1, cols: 2, control_all: true},{backgroundColor:\"white\"});\nviewer_1715290938376992 = viewergrid_1715290938376992[0][0];\nviewergrid_1715290938376992[0][0].zoomTo();viewergrid_1715290938376992[0][1].zoomTo();\tviewergrid_1715290938376992[0][0].addModel(\"14\\n\\n C    0.618340655443   -0.356875397048   -1.836116778226\\n C    0.618340655443   -0.356875397048   -0.294992276128\\n H    0.618340655443    0.658720161595   -2.220805697372\\n H    1.498714815098   -0.865075411727   -2.218355120405\\n H   -0.261119091609   -0.864809503895   -2.220785732589\\n C   -0.618287625180    0.356935206708    0.295027207486\\n H    0.645606529570   -1.383784799118    0.065006626991\\n H    1.521195507790    0.133161269345    0.065004861583\\n C   -0.618390904325    0.356820136996    1.836082272213\\n H   -0.645486520208    1.383900677251   -0.064816925288\\n H   -1.521185035822   -0.133021711706   -0.064983942800\\n H   -1.498799470399    0.864960164274    2.218345097396\\n H   -0.618367196609   -0.658842387790    2.220597299681\\n H    0.261066689317    0.864737370356    2.220788468299\\n\",\"xyz\");\n\tviewergrid_1715290938376992[0][1].addModel(\"14\\n\\n C    0.946155017955   -0.224100314136   -1.389847699492\\n C    0.946155017955   -0.224100314136    0.151770473478\\n H    0.946155017955    0.791602574148   -1.774305941236\\n H    1.831310841251   -0.728739106538   -1.765564718073\\n H    0.074825656035   -0.736831670778   -1.783910453965\\n C   -0.235007505448    0.554368019789    0.778403044697\\n H    0.930241779781   -1.251364865008    0.511784692722\\n H    1.875476301007    0.222235377015    0.501402098506\\n C   -1.613041445473   -0.085611816457    0.517567217032\\n H   -0.075034131427    0.613916790130    1.853558024144\\n H   -0.234195258667    1.574619926226    0.398638118175\\n H   -2.389290947020    0.469606362768    1.035731234636\\n H   -1.852162205042   -0.088593849380   -0.540830722019\\n H   -1.634336210101   -1.111203249258    0.874175208986\\n\",\"xyz\");\n\tviewergrid_1715290938376992[0][0].setStyle({\"stick\": {}, \"sphere\": {\"scale\": 0.1}});\n\tviewergrid_1715290938376992[0][1].setStyle({\"stick\": {}, \"sphere\": {\"scale\": 0.1}});\n\tviewergrid_1715290938376992[0][0].zoomTo();\n\tviewergrid_1715290938376992[0][1].zoomTo();\nviewergrid_1715290938376992[0][1].render();\nviewergrid_1715290938376992[0][0].render();\n});\n</script>",
      "text/html": [
       "<div id=\"3dmolviewer_1715290938376992\"  style=\"position: relative; width: 640px; height: 480px;\">\n",
       "        <p id=\"3dmolwarning_1715290938376992\" style=\"background-color:#ffcccc;color:black\">3Dmol.js failed to load for some reason.  Please check your browser console for error messages.<br></p>\n",
       "        </div>\n",
       "<script>\n",
       "\n",
       "var loadScriptAsync = function(uri){\n",
       "  return new Promise((resolve, reject) => {\n",
       "    //this is to ignore the existence of requirejs amd\n",
       "    var savedexports, savedmodule;\n",
       "    if (typeof exports !== 'undefined') savedexports = exports;\n",
       "    else exports = {}\n",
       "    if (typeof module !== 'undefined') savedmodule = module;\n",
       "    else module = {}\n",
       "\n",
       "    var tag = document.createElement('script');\n",
       "    tag.src = uri;\n",
       "    tag.async = true;\n",
       "    tag.onload = () => {\n",
       "        exports = savedexports;\n",
       "        module = savedmodule;\n",
       "        resolve();\n",
       "    };\n",
       "  var firstScriptTag = document.getElementsByTagName('script')[0];\n",
       "  firstScriptTag.parentNode.insertBefore(tag, firstScriptTag);\n",
       "});\n",
       "};\n",
       "\n",
       "if(typeof $3Dmolpromise === 'undefined') {\n",
       "$3Dmolpromise = null;\n",
       "  $3Dmolpromise = loadScriptAsync('https://cdnjs.cloudflare.com/ajax/libs/3Dmol/2.1.0/3Dmol-min.js');\n",
       "}\n",
       "\n",
       "var viewer_1715290938376992 = null;\n",
       "var warn = document.getElementById(\"3dmolwarning_1715290938376992\");\n",
       "if(warn) {\n",
       "    warn.parentNode.removeChild(warn);\n",
       "}\n",
       "$3Dmolpromise.then(function() {\n",
       "var viewergrid_1715290938376992 = null;\n",
       "viewergrid_1715290938376992 = $3Dmol.createViewerGrid(document.getElementById(\"3dmolviewer_1715290938376992\"),{rows: 1, cols: 2, control_all: true},{backgroundColor:\"white\"});\n",
       "viewer_1715290938376992 = viewergrid_1715290938376992[0][0];\n",
       "viewergrid_1715290938376992[0][0].zoomTo();viewergrid_1715290938376992[0][1].zoomTo();\tviewergrid_1715290938376992[0][0].addModel(\"14\\n\\n C    0.618340655443   -0.356875397048   -1.836116778226\\n C    0.618340655443   -0.356875397048   -0.294992276128\\n H    0.618340655443    0.658720161595   -2.220805697372\\n H    1.498714815098   -0.865075411727   -2.218355120405\\n H   -0.261119091609   -0.864809503895   -2.220785732589\\n C   -0.618287625180    0.356935206708    0.295027207486\\n H    0.645606529570   -1.383784799118    0.065006626991\\n H    1.521195507790    0.133161269345    0.065004861583\\n C   -0.618390904325    0.356820136996    1.836082272213\\n H   -0.645486520208    1.383900677251   -0.064816925288\\n H   -1.521185035822   -0.133021711706   -0.064983942800\\n H   -1.498799470399    0.864960164274    2.218345097396\\n H   -0.618367196609   -0.658842387790    2.220597299681\\n H    0.261066689317    0.864737370356    2.220788468299\\n\",\"xyz\");\n",
       "\tviewergrid_1715290938376992[0][1].addModel(\"14\\n\\n C    0.946155017955   -0.224100314136   -1.389847699492\\n C    0.946155017955   -0.224100314136    0.151770473478\\n H    0.946155017955    0.791602574148   -1.774305941236\\n H    1.831310841251   -0.728739106538   -1.765564718073\\n H    0.074825656035   -0.736831670778   -1.783910453965\\n C   -0.235007505448    0.554368019789    0.778403044697\\n H    0.930241779781   -1.251364865008    0.511784692722\\n H    1.875476301007    0.222235377015    0.501402098506\\n C   -1.613041445473   -0.085611816457    0.517567217032\\n H   -0.075034131427    0.613916790130    1.853558024144\\n H   -0.234195258667    1.574619926226    0.398638118175\\n H   -2.389290947020    0.469606362768    1.035731234636\\n H   -1.852162205042   -0.088593849380   -0.540830722019\\n H   -1.634336210101   -1.111203249258    0.874175208986\\n\",\"xyz\");\n",
       "\tviewergrid_1715290938376992[0][0].setStyle({\"stick\": {}, \"sphere\": {\"scale\": 0.1}});\n",
       "\tviewergrid_1715290938376992[0][1].setStyle({\"stick\": {}, \"sphere\": {\"scale\": 0.1}});\n",
       "\tviewergrid_1715290938376992[0][0].zoomTo();\n",
       "\tviewergrid_1715290938376992[0][1].zoomTo();\n",
       "viewergrid_1715290938376992[0][1].render();\n",
       "viewergrid_1715290938376992[0][0].render();\n",
       "});\n",
       "</script>"
      ]
     },
     "metadata": {},
     "output_type": "display_data"
    }
   ],
   "source": [
    "e_diff = b = ((energy_gauche - energy_anti) * psi4.constants.hartree2kJmol)\n",
    "print(f\"The energy difference is {e_diff:0.2f} kJ/mole\")\n",
    "hp.drawXYZSideBySide(mol, mol2)"
   ]
  },
  {
   "cell_type": "markdown",
   "id": "d89ba7bd-d14d-40c6-bf42-dc6a1abbb157",
   "metadata": {},
   "source": [
    "## Climbing the Summit\n",
    "\n",
    "The path from anti to gauche and from gauche to the other gauche and then on back to anti desctibes a full circle for the torsion angle. We have found geometries that represent two stable conformations that are energy minima. We can convert from one to the other but must pass through a higher-energy structure to do so. How can we find this high-energy structure if the optimization algorithm want to find a way downhill at all times.\n",
    "\n",
    "One way is to constrain the torsion angle. There are two possible eclipsed conformations. One is where methyl groups eclipse hydrogen groups and the other is when the methy groups eclipse each other. These will occur at torsion angles of 120 and zero degrees.\n",
    "\n",
    "### A Molecular Eclipse\n",
    "\n",
    "Consider the code below. We will set the torsion angle to 120 degrees. This will place both methyl groups in eclipse with a hydrogen group.\n",
    "\n"
   ]
  },
  {
   "cell_type": "markdown",
   "id": "f8846c09-c8c3-40d8-941d-9c80de6870ad",
   "metadata": {},
   "source": []
  },
  {
   "cell_type": "markdown",
   "id": "74202a9e-0f0b-4cc2-ace8-96db4eeced54",
   "metadata": {},
   "source": [
    "## Changing a Variable\n",
    "\n",
    "One way to investigate the effect of changing bond angle on energy would be to take this optimized structure and simply assign new bond angles and then calculate the energy. This is a simplistic approach becuase one knows that the bond length will change slightly with bond angle due to changes in hydridization (e.g., $sp^2$ bonds are shorter than $sp^3$ bonds.) However let us use this simple way to start.\n",
    "\n",
    "### Scanning the Bond Angle\n",
    "\n",
    "We have set up the geometry with a variable named \"angle.\" That variable has been changed in the optimization but we can change it manually using the ```.set_variable()``` method of the Molecule object. We will set the angle to whatever we want, then update the geomtry (recalculate the *xyz* cartesian coordinates with the new angle). After that we will calculate the energy of the new geometry. Rinse and repeat through a series of values.\n",
    "\n",
    "Recall how we did this with *Gamess*. We took the inoput file that we had constructed using the optimized geometry and then used the awesome text tools of *Unix* to change the angle (*grep*, *sed* and *awk* are the secret underpinning of modern science.) Then we subitted a whole batch of input files with different bond angles into *Gamess* on-at-a-time using the batch-queueing program *GamessQ*. But with the power of *Python* we cane do all this inside this notebook. We are using *Psi4* because it has an *Python* API that can be imported and used in a notebook like this.\n",
    "\n",
    "In the code below we pick values from a range of values and asign them in turn to the variable \"angle.\" in each case we caluclate the energy and append that value to a list. After the series of calculations is complete we will have a list of angles and a list of energies.\n",
    "\n"
   ]
  },
  {
   "cell_type": "code",
   "execution_count": 27,
   "id": "729c2068-ea68-42d5-899b-fbe07b16c4c5",
   "metadata": {},
   "outputs": [
    {
     "name": "stdout",
     "output_type": "stream",
     "text": [
      "5.806764110563818\n",
      "Before optimization: 0.000 degrees \n",
      "-155.46443447863254\n",
      "-155.46664615827854\n"
     ]
    },
    {
     "data": {
      "application/3dmoljs_load.v0": "<div id=\"3dmolviewer_1715228683576535\"  style=\"position: relative; width: 400px; height: 400px;\">\n        <p id=\"3dmolwarning_1715228683576535\" style=\"background-color:#ffcccc;color:black\">3Dmol.js failed to load for some reason.  Please check your browser console for error messages.<br></p>\n        </div>\n<script>\n\nvar loadScriptAsync = function(uri){\n  return new Promise((resolve, reject) => {\n    //this is to ignore the existence of requirejs amd\n    var savedexports, savedmodule;\n    if (typeof exports !== 'undefined') savedexports = exports;\n    else exports = {}\n    if (typeof module !== 'undefined') savedmodule = module;\n    else module = {}\n\n    var tag = document.createElement('script');\n    tag.src = uri;\n    tag.async = true;\n    tag.onload = () => {\n        exports = savedexports;\n        module = savedmodule;\n        resolve();\n    };\n  var firstScriptTag = document.getElementsByTagName('script')[0];\n  firstScriptTag.parentNode.insertBefore(tag, firstScriptTag);\n});\n};\n\nif(typeof $3Dmolpromise === 'undefined') {\n$3Dmolpromise = null;\n  $3Dmolpromise = loadScriptAsync('https://cdnjs.cloudflare.com/ajax/libs/3Dmol/2.1.0/3Dmol-min.js');\n}\n\nvar viewer_1715228683576535 = null;\nvar warn = document.getElementById(\"3dmolwarning_1715228683576535\");\nif(warn) {\n    warn.parentNode.removeChild(warn);\n}\n$3Dmolpromise.then(function() {\nviewer_1715228683576535 = $3Dmol.createViewer(document.getElementById(\"3dmolviewer_1715228683576535\"),{backgroundColor:\"white\"});\nviewer_1715228683576535.zoomTo();\n\tviewer_1715228683576535.addModel(\"14\\n\\n C    0.960184506423   -0.187660325068   -1.325537738766\\n C    0.960184506423   -0.187660325068    0.215552714748\\n H    0.960184506423    0.827976561858   -1.710077888196\\n H    1.840544262048   -0.695868802311   -1.707767730446\\n H    0.080675577064   -0.695578931323   -1.710075340308\\n C   -0.275458102755    0.528148385724    0.805496234713\\n H    0.985879441764   -1.214691420734    0.575302422718\\n H    1.863902271721    0.300916703401    0.575354636046\\n C   -1.599694956021   -0.130342324475    0.371920294439\\n H   -0.209129033309    0.521874074827    1.891970503288\\n H   -0.271331848606    1.569937014569    0.490016607797\\n H   -2.446786255285    0.394279821272    0.803891143826\\n H   -1.703147807821   -0.110928075418   -0.708959019593\\n H   -1.639169732787   -1.165646884104    0.697449285494\\n\",\"xyz\");\n\tviewer_1715228683576535.setStyle({\"stick\": {}, \"sphere\": {\"scale\": 0.1}});\n\tviewer_1715228683576535.zoomTo();\nviewer_1715228683576535.render();\n});\n</script>",
      "text/html": [
       "<div id=\"3dmolviewer_1715228683576535\"  style=\"position: relative; width: 400px; height: 400px;\">\n",
       "        <p id=\"3dmolwarning_1715228683576535\" style=\"background-color:#ffcccc;color:black\">3Dmol.js failed to load for some reason.  Please check your browser console for error messages.<br></p>\n",
       "        </div>\n",
       "<script>\n",
       "\n",
       "var loadScriptAsync = function(uri){\n",
       "  return new Promise((resolve, reject) => {\n",
       "    //this is to ignore the existence of requirejs amd\n",
       "    var savedexports, savedmodule;\n",
       "    if (typeof exports !== 'undefined') savedexports = exports;\n",
       "    else exports = {}\n",
       "    if (typeof module !== 'undefined') savedmodule = module;\n",
       "    else module = {}\n",
       "\n",
       "    var tag = document.createElement('script');\n",
       "    tag.src = uri;\n",
       "    tag.async = true;\n",
       "    tag.onload = () => {\n",
       "        exports = savedexports;\n",
       "        module = savedmodule;\n",
       "        resolve();\n",
       "    };\n",
       "  var firstScriptTag = document.getElementsByTagName('script')[0];\n",
       "  firstScriptTag.parentNode.insertBefore(tag, firstScriptTag);\n",
       "});\n",
       "};\n",
       "\n",
       "if(typeof $3Dmolpromise === 'undefined') {\n",
       "$3Dmolpromise = null;\n",
       "  $3Dmolpromise = loadScriptAsync('https://cdnjs.cloudflare.com/ajax/libs/3Dmol/2.1.0/3Dmol-min.js');\n",
       "}\n",
       "\n",
       "var viewer_1715228683576535 = null;\n",
       "var warn = document.getElementById(\"3dmolwarning_1715228683576535\");\n",
       "if(warn) {\n",
       "    warn.parentNode.removeChild(warn);\n",
       "}\n",
       "$3Dmolpromise.then(function() {\n",
       "viewer_1715228683576535 = $3Dmol.createViewer(document.getElementById(\"3dmolviewer_1715228683576535\"),{backgroundColor:\"white\"});\n",
       "viewer_1715228683576535.zoomTo();\n",
       "\tviewer_1715228683576535.addModel(\"14\\n\\n C    0.960184506423   -0.187660325068   -1.325537738766\\n C    0.960184506423   -0.187660325068    0.215552714748\\n H    0.960184506423    0.827976561858   -1.710077888196\\n H    1.840544262048   -0.695868802311   -1.707767730446\\n H    0.080675577064   -0.695578931323   -1.710075340308\\n C   -0.275458102755    0.528148385724    0.805496234713\\n H    0.985879441764   -1.214691420734    0.575302422718\\n H    1.863902271721    0.300916703401    0.575354636046\\n C   -1.599694956021   -0.130342324475    0.371920294439\\n H   -0.209129033309    0.521874074827    1.891970503288\\n H   -0.271331848606    1.569937014569    0.490016607797\\n H   -2.446786255285    0.394279821272    0.803891143826\\n H   -1.703147807821   -0.110928075418   -0.708959019593\\n H   -1.639169732787   -1.165646884104    0.697449285494\\n\",\"xyz\");\n",
       "\tviewer_1715228683576535.setStyle({\"stick\": {}, \"sphere\": {\"scale\": 0.1}});\n",
       "\tviewer_1715228683576535.zoomTo();\n",
       "viewer_1715228683576535.render();\n",
       "});\n",
       "</script>"
      ]
     },
     "metadata": {},
     "output_type": "display_data"
    }
   ],
   "source": [
    "mol.set_variable(\"dihedral\", 60)\n",
    "energy = psi4.energy(\"hf\", molecule = mol)\n",
    "print((energy - opt_energy) * psi4.constants.hartree2kJmol)\n",
    "start_angle = mol.get_variable(\"angle\")\n",
    "print(f\"Before optimization: {start_angle:.3f} degrees \") \n",
    "\n",
    "print(energy)\n",
    "print(opt_energy)\n",
    "\n",
    "hp.drawXYZ(mol)"
   ]
  },
  {
   "cell_type": "code",
   "execution_count": null,
   "id": "6914da68-dc4f-43df-a66f-60eec8a98288",
   "metadata": {},
   "outputs": [],
   "source": [
    "output_file = \"H2O_constrainst_2.out\"\n",
    "psi4.set_memory(\"1GB\")\n",
    "psi4.set_output_file(output_file, append=False, loglevel=20, print_header=True, inherit_loglevel=True, execute=True)\n",
    "psi4.core.set_num_threads(4)\n",
    "\n",
    "deviation = 10\n",
    "\n",
    "start = opt_angle - deviation\n",
    "end = opt_angle + deviation\n",
    "number_of_points = 2 * deviation + 1\n",
    "range_of_values = np.linspace(start, end, number_of_points) \n",
    "\n",
    "# We could also enter a set of values at which to to measure energies. try the range below and\n",
    "# observe the energy profile. Can you explain it?\n",
    "#range_of_values = [75,90,100,105,110,120,130,140,150,160,170,175,180,185,190,200,220,230,] \n",
    "\n",
    "angle_list = []\n",
    "energy_list = []\n",
    "\n",
    "for angle in range_of_values:\n",
    "    mol.set_variable(\"angle\", angle)\n",
    "    energy = psi4.energy(\"hf\", molecule = mol)\n",
    "    angle_list.append(angle)\n",
    "    energy_list.append(energy)\n",
    "\n",
    "print(angle_list)\n",
    "print(energy_list)"
   ]
  },
  {
   "cell_type": "markdown",
   "id": "c3152656-7448-49d4-b453-495c5a545241",
   "metadata": {},
   "source": [
    "## Data Handling\n",
    "\n",
    "We just generated some data. List of numbers are kind of useless. We need to do some data manipulation.\n",
    "\n",
    "A convenient tool for data handling is the *Pandas* library. It provides a powerful data object, the dataframe. We will combine the two lists into a dataframe. Then we will print the dataframe. We can output the dataframe as a csv file for future analysis. In many ways, we can manipulate a dataframe like a spreadsheet. Consider the code below."
   ]
  },
  {
   "cell_type": "code",
   "execution_count": null,
   "id": "8618a40e-138f-4616-9de1-c205f30e1f86",
   "metadata": {},
   "outputs": [],
   "source": [
    "import pandas as pd\n",
    "\n",
    "data_dictionary = {\"angle\": angle_list,\n",
    "                   \"energy\": energy_list}\n",
    "\n",
    "df = pd.DataFrame.from_dict(data_dictionary)\n",
    "#df.set_index('angle', inplace=True)\n",
    "print(df.head())"
   ]
  },
  {
   "cell_type": "markdown",
   "id": "cf2ecb34-0db7-40a3-9c61-dc009a73a7e1",
   "metadata": {},
   "source": [
    "### Math with a Dataframe\n",
    "\n",
    "Lets do some math. We know the optimized energy from previous calulations above. We will subtract this lowets energy value from the energy column of the dataframe. Then we will multiply this column of relative energy values by a conversion factor to get kJ/mole rather than Hartrees."
   ]
  },
  {
   "cell_type": "code",
   "execution_count": null,
   "id": "3b440b0b-4671-4072-b223-6946935f42ec",
   "metadata": {},
   "outputs": [],
   "source": [
    "df[\"energy\"] = df[\"energy\"] - opt_energy\n",
    "df[\"energy\"] = df[\"energy\"] * psi4.constants.hartree2kJmol"
   ]
  },
  {
   "cell_type": "markdown",
   "id": "bc3b619b-cc23-4997-af81-87a51234616f",
   "metadata": {},
   "source": [
    "### A Quick Plot\n",
    "\n",
    "The dataframe object is very powerful. It contains a method that will plot the data. In the example below, we set which columns were to be used in the x and y-axis of the plot. Does this look like a typical energy profile for a vibration? the angle decreasing and increasing on either side of the optimal value is just like a bending vibration."
   ]
  },
  {
   "cell_type": "code",
   "execution_count": null,
   "id": "5165025d-4f52-4677-8d85-8f5e8deec70d",
   "metadata": {},
   "outputs": [],
   "source": [
    "df.plot(x=\"angle\", y = \"energy\", kind=\"line\")   # try kind=\"scatter\" as well"
   ]
  },
  {
   "cell_type": "code",
   "execution_count": null,
   "id": "7295979d-e510-41fd-8c6d-5add59ea9cdf",
   "metadata": {},
   "outputs": [],
   "source": [
    "dir(hp)"
   ]
  },
  {
   "cell_type": "code",
   "execution_count": null,
   "id": "c7c4ddc0-0042-4ec8-a9fb-a9f6f35eab7e",
   "metadata": {},
   "outputs": [],
   "source": [
    "import sys\n",
    "sys.path.append(\"..\")\n",
    "sys.path"
   ]
  },
  {
   "cell_type": "code",
   "execution_count": null,
   "id": "a43dc38e-bc8a-46c2-804b-e65089ab8fe4",
   "metadata": {},
   "outputs": [],
   "source": [
    "import cclib\n",
    "\n",
    "# The line in the output file that gives us problems has a series of \"z\" characters\n",
    "# for the vesrion string. cclib chokes on this non-standard versioning\n",
    "# We can run a grep command in terminal as shown below that will remove the\n",
    "# line containing \"zzzz\" and write all the other lines into a new file.\n",
    "# We will then use the edited cclib package (fixed another bug) to parse the output.\n",
    "#!grep -v zzzz H2O_optimize.out > H2O_optimize2.out\n",
    "\n",
    "output_file = \"butane_1.out\"\n",
    "\n",
    "parser = cclib.io.ccopen(output_file)\n",
    "data = parser.parse()\n",
    "\n",
    "#print(f\"There are {data.natom} atoms and {data.nmo} MOs\")\n",
    "#print(\"The vibrational frequencies are...\")\n",
    "#print(data.vibfreqs)\n",
    "#print(\"The vibrational force constants are...\")\n",
    "#print(data.vibfconsts)\n",
    "#print(\"The vibrational symmetry are...\")\n",
    "#print(data.vibsyms)\n"
   ]
  },
  {
   "cell_type": "code",
   "execution_count": null,
   "id": "271f8fc2-bea5-41d4-9af5-239a3ebb0032",
   "metadata": {},
   "outputs": [],
   "source": [
    "dir(data)"
   ]
  },
  {
   "cell_type": "code",
   "execution_count": null,
   "id": "3849fd01-e261-420b-bf25-8250ec17b60a",
   "metadata": {},
   "outputs": [],
   "source": [
    "print(\"natom\")\n",
    "print(data.natom)\n",
    "print(\"mult\")\n",
    "print(data.mult)\n",
    "print(\"nbasis\")\n",
    "print(data.nbasis)\n",
    "print(\"optdone\")\n",
    "print(data.optdone)\n",
    "print(\"nelectrons\")\n",
    "print(data.nelectrons)\n",
    "print(\"scfenergies\")\n",
    "print(data.scfenergies)\n",
    "print(\"scfvalues\")\n",
    "#print(data.scfvalues)\n",
    "print(\"new_geometries\")\n",
    "print(data.new_geometries)\n",
    "print(\"geovalues\")\n",
    "print(data.geovalues)\n",
    "print(\"OPT_DONE\")\n",
    "print(data.OPT_DONE)\n",
    "\n",
    "print(\"unconverged_geometries\")\n",
    "print(data.unconverged_geometries)\n",
    "print(\"unknown_geometries\")\n",
    "print(data.unknown_geometries)\n",
    "print(\"converged_geometries\")\n",
    "print(data.converged_geometries)\n",
    "print(\"atomcoords\")\n",
    "print(data.atomcoords)\n"
   ]
  },
  {
   "cell_type": "code",
   "execution_count": null,
   "id": "5fa0cdf5-b3b6-4e43-ae77-ecae13aef07a",
   "metadata": {},
   "outputs": [],
   "source": [
    "help(data)"
   ]
  },
  {
   "cell_type": "code",
   "execution_count": null,
   "id": "8dab3333-cd1d-458e-9617-edf3187481ad",
   "metadata": {},
   "outputs": [],
   "source": [
    "data.metadata"
   ]
  },
  {
   "cell_type": "code",
   "execution_count": null,
   "id": "7024541d-97a2-4aa5-a765-4df37b8684aa",
   "metadata": {},
   "outputs": [],
   "source": [
    "psi4.core.variable('SCF TOTAL ENERGY')"
   ]
  },
  {
   "cell_type": "code",
   "execution_count": null,
   "id": "77d3f0d0-0f98-4988-8831-faa36b57bdb5",
   "metadata": {},
   "outputs": [],
   "source": [
    "mol.to_dict()['elem']"
   ]
  },
  {
   "cell_type": "code",
   "execution_count": null,
   "id": "e37193d6-4e59-4e23-8dcb-21e116c7861e",
   "metadata": {},
   "outputs": [],
   "source": [
    "coordinates = hist[\"coordinates\"]\n",
    "traj = hp.mol2traj(mol, coordinates)\n",
    "print(traj[22])"
   ]
  },
  {
   "cell_type": "code",
   "execution_count": null,
   "id": "d8efbcfe-23a4-4325-bf25-2cf5bbeb27dc",
   "metadata": {},
   "outputs": [],
   "source": [
    "hp.coord2traj_array(coordinates)"
   ]
  },
  {
   "cell_type": "code",
   "execution_count": null,
   "id": "f2397321-38a1-4a1c-9730-46ac2fada7b7",
   "metadata": {},
   "outputs": [],
   "source": [
    "hp.drawXYZGeomSlider(traj)"
   ]
  },
  {
   "cell_type": "code",
   "execution_count": null,
   "id": "b70cceb6-2287-4a61-9baa-3fbffdc3c626",
   "metadata": {},
   "outputs": [],
   "source": []
  },
  {
   "cell_type": "code",
   "execution_count": null,
   "id": "4a2a45e5-426e-4848-a760-5484cd92e699",
   "metadata": {},
   "outputs": [],
   "source": []
  },
  {
   "cell_type": "code",
   "execution_count": null,
   "id": "85ab5e9d-212e-401d-a702-48a1f69a73a8",
   "metadata": {},
   "outputs": [],
   "source": []
  },
  {
   "cell_type": "code",
   "execution_count": 32,
   "id": "1409dc32-5681-46cb-9f2a-871c0292b6c1",
   "metadata": {},
   "outputs": [
    {
     "name": "stdout",
     "output_type": "stream",
     "text": [
      "Help on method clone in module psi4.core:\n",
      "\n",
      "clone(...) method of psi4.core.Molecule instance\n",
      "    clone(self: psi4.core.Molecule) -> psi4.core.Molecule\n",
      "    \n",
      "    Returns a new Molecule identical to arg1\n",
      "\n"
     ]
    }
   ],
   "source": [
    "help(mol.clone)\n"
   ]
  },
  {
   "cell_type": "code",
   "execution_count": 21,
   "id": "2a116f2f-867b-40e5-aee7-82ec21e36f63",
   "metadata": {},
   "outputs": [
    {
     "data": {
      "text/plain": [
       "['Error',\n",
       " '__all__',\n",
       " '__builtins__',\n",
       " '__cached__',\n",
       " '__doc__',\n",
       " '__file__',\n",
       " '__loader__',\n",
       " '__name__',\n",
       " '__package__',\n",
       " '__spec__',\n",
       " '_copy_dispatch',\n",
       " '_copy_immutable',\n",
       " '_deepcopy_atomic',\n",
       " '_deepcopy_dict',\n",
       " '_deepcopy_dispatch',\n",
       " '_deepcopy_list',\n",
       " '_deepcopy_method',\n",
       " '_deepcopy_tuple',\n",
       " '_keep_alive',\n",
       " '_reconstruct',\n",
       " 'copy',\n",
       " 'deepcopy',\n",
       " 'dispatch_table',\n",
       " 'error']"
      ]
     },
     "execution_count": 21,
     "metadata": {},
     "output_type": "execute_result"
    }
   ],
   "source": [
    "dir(psi4.copy)"
   ]
  },
  {
   "cell_type": "code",
   "execution_count": null,
   "id": "df96ee75-27dd-41ea-87fa-a09f6c218ddb",
   "metadata": {},
   "outputs": [],
   "source": []
  }
 ],
 "metadata": {
  "kernelspec": {
   "display_name": "Python 3 (ipykernel)",
   "language": "python",
   "name": "python3"
  },
  "language_info": {
   "codemirror_mode": {
    "name": "ipython",
    "version": 3
   },
   "file_extension": ".py",
   "mimetype": "text/x-python",
   "name": "python",
   "nbconvert_exporter": "python",
   "pygments_lexer": "ipython3",
   "version": "3.11.7"
  }
 },
 "nbformat": 4,
 "nbformat_minor": 5
}
