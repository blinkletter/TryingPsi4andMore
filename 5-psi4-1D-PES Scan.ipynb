{
 "cells": [
  {
   "cell_type": "markdown",
   "id": "293d8c30-5c73-42ef-aee3-20787f9fe23f",
   "metadata": {},
   "source": [
    "# Rotational Coordinate Scan\n",
    "\n",
    "In the previous notebook we optimized the structure of butane. The lowest energy structure is the \"anti\" conformation. We know that as we turn the central C–C bond that we will pass through an energy barrier of an eclipsed conformation (with CH$_3$ eclipsed against hydrogen) and then settle into the energy well of the gauche conformation. If we keep turning the bond we will pass through the highest energy barrier of the conformation with both methyl groups eclipsed against each other to reach the other gauche conformation. Past that we would complete the full circle and reach the original anti conformation. \n",
    "\n",
    "Draw these conformers using Newman projection and convince yourself that the above is true.\n",
    "\n",
    "## Bring Back Butane\n",
    "\n",
    "First I will create the molecule object using the data from the optimized structure for butane. Consider the code below."
   ]
  },
  {
   "cell_type": "code",
   "execution_count": 2,
   "id": "c667b754-ee1d-4c7f-a1fd-f1f0c41cd84f",
   "metadata": {},
   "outputs": [
    {
     "name": "stdout",
     "output_type": "stream",
     "text": [
      "\n",
      "  Memory set to 953.674 MiB by Python driver.\n",
      "Optimizer: Optimization complete!\n",
      "Initial energy is -155.4666462 Hartrees\n"
     ]
    }
   ],
   "source": [
    "# use psi4conda environment\n",
    "import psi4\n",
    "import os\n",
    "import numpy as np\n",
    "import matplotlib.pyplot as plt\n",
    "import pandas as pd\n",
    "\n",
    "import helpers as hp # Many useful functions from https://lcbc-epfl.github.io/iesm-public/intro.html\n",
    "\n",
    "psi4.core.clean_options()\n",
    "\n",
    "output_file = \"butane_PES_points_1.out\"\n",
    "psi4.set_memory(\"1GB\")\n",
    "psi4.set_output_file(output_file, append=False, loglevel=20, print_header=True, inherit_loglevel=True, execute=True)\n",
    "psi4.core.set_num_threads(4)\n",
    "\n",
    "# The Z-matrix as a text string ### From previous optimization\n",
    "data = \"\"\"\n",
    "       0 1\n",
    "       C       \n",
    "       C             1    1.541090\n",
    "       H             1    1.085997      2  110.737654\n",
    "       H             1    1.086006      2  110.607207      3  119.996707\n",
    "       H             1    1.085996      2  110.737537      3 -120.006541\n",
    "       C             2    1.545066      1  112.446725      3   59.916254\n",
    "       H             2    1.088519      1  109.298807      6  121.516910\n",
    "       H             2    1.088518      1  109.301738      6 -121.519264\n",
    "       C             6    1.541169      2  112.445221      1    dihedral\n",
    "       H             6    1.088515      2  109.250918      9  121.551235\n",
    "       H             6    1.088516      2  109.250874      9 -121.547269\n",
    "       H             9    1.085998      6  110.604358     10   58.384210\n",
    "       H             9    1.085992      6  110.745577     12  119.994957\n",
    "       H             9    1.085994      6  110.746117     12 -119.995065\n",
    "\n",
    "       symmetry c1\n",
    "       dihedral  =  179.9414294137\n",
    "       units angstrom\n",
    "       \"\"\" \n",
    "\n",
    "# Create the Molecule object\n",
    "mol = psi4.geometry(data)             # Create Molecule object from data string\n",
    "\n",
    "# Set up options for calculations\n",
    "psi4.set_options({\n",
    "        \"BASIS\": \"sto-3g\",            # default => None - Basis set must be specified\n",
    "#        \"BASIS\": \"6-31+G(d)\",            # default => None - Basis set must be specified\n",
    "        \"SAVE_OPTIMIZATION\": True,    # default => False\n",
    "        \"OPT_TYPE\": \"min\",            # default => \"min\":  \"min\",\"irc\" or \"ts\"\n",
    "        \"MAXITER\": 100,               # default => 50\n",
    "        \"GEOM_MAXITER\": 100,          # default => 50\n",
    "        \"FULL_HESS_EVERY\": -1,        # default => -1 -> only perform a calculation at the beginning\n",
    "        \"PRINT\": 2,                   # default => 1\n",
    "        \"GUESS\": \"sad\",               # default => auto\n",
    "        \"REFERENCE\": \"rhf\",           # default => rhf\n",
    "        \"SCF_TYPE\": \"direct\",         # default => pk\n",
    "        \"INTS_TOLERANCE\": 1E-8,       # default => 1e-12. A value of 1e-8 is recommended when SCF_TYPE set to \"direct\"\n",
    "        \"PRINT_TRAJECTORY_XYZ_FILE\":True,   # default => false\n",
    "        \"PRINT_OPT_PARAMS\": True,     # default => False\n",
    "        \"WRITE_TRAJECTORY\": True      # default => False\n",
    "    })\n",
    "\n",
    "\n",
    "# Optimize the structure\n",
    "energy_anti, hist = psi4.optimize(\"hf\", molecule = mol, return_history=True)   # get energy of initial optimized structure\n",
    "                                                                               # should I have used psi4.energy() instead?\n",
    "print(f\"Initial energy is {energy_anti:0.7f} Hartrees\")"
   ]
  },
  {
   "cell_type": "code",
   "execution_count": null,
   "id": "119de84f-874b-4c1f-a412-7f6bfa8809b9",
   "metadata": {},
   "outputs": [],
   "source": []
  },
  {
   "cell_type": "markdown",
   "id": "f04e2fb9-8e44-422b-8579-ae8ac074de67",
   "metadata": {},
   "source": [
    "## Finding Higher Ground\n",
    "\n",
    "We can see if the structure will \"fall\" into the higher-energy gauche conformation and stay there if we start within that energy well. I will take the starting dihedral angle and twist it by 120 degrees (I will just subtract 120 from the current value). Then I will optimize the geometry so that the methyl groups can rotate to find the lowest-energy gauche conformation. Consider the code below."
   ]
  },
  {
   "cell_type": "code",
   "execution_count": 30,
   "id": "3dce65c0-6859-4ac0-a7b2-395c516a2068",
   "metadata": {},
   "outputs": [
    {
     "name": "stdout",
     "output_type": "stream",
     "text": [
      "Before rotation: 179.994 degrees\n",
      "After rotation: 59.994 degrees\n",
      "\n",
      "Optimizer: Optimization complete!\n",
      "The optimized energy for this configuration is -155.4651812 Hartree\n",
      "\n",
      "After optimization: 60.005 degrees\n",
      "\n"
     ]
    }
   ],
   "source": [
    "mol2 = mol.clone()                    # make a copy of the molecule.\n",
    "\n",
    "start_angle = mol2.get_variable(\"dihedral\")\n",
    "print(f\"Before rotation: {start_angle:.3f} degrees\") \n",
    "\n",
    "start_angle = start_angle - 120\n",
    "print(f\"After rotation: {start_angle:.3f} degrees\\n\") \n",
    "mol2.set_variable(\"dihedral\", start_angle)\n",
    "\n",
    "\n",
    "energy_gauche, hist = psi4.optimize(\"hf\", molecule = mol2, return_history=True)\n",
    "print(f\"The optimized energy for this configuration is {energy_gauche:.7f} Hartree\\n\")\n",
    "\n",
    "mol2.print_out()\n",
    "mol2.print_distances()\n",
    "mol2.print_bond_angles()\n",
    "mol2.print_in_input_format()\n",
    "\n",
    "dihedral_angle = mol2.get_variable(\"dihedral\")\n",
    "#opt_length = mol.get_variable(\"length\")\n",
    "\n",
    "print(f\"After optimization: {dihedral_angle:.3f} degrees\\n\") "
   ]
  },
  {
   "cell_type": "code",
   "execution_count": 31,
   "id": "13f68178-aa6c-4956-bc9e-f6a498d8bd16",
   "metadata": {},
   "outputs": [
    {
     "name": "stdout",
     "output_type": "stream",
     "text": [
      "The energy difference is 3.85 kJ/mole\n"
     ]
    },
    {
     "data": {
      "application/3dmoljs_load.v0": "<div id=\"3dmolviewer_1715624294267394\"  style=\"position: relative; width: 640px; height: 480px;\">\n        <p id=\"3dmolwarning_1715624294267394\" style=\"background-color:#ffcccc;color:black\">3Dmol.js failed to load for some reason.  Please check your browser console for error messages.<br></p>\n        </div>\n<script>\n\nvar loadScriptAsync = function(uri){\n  return new Promise((resolve, reject) => {\n    //this is to ignore the existence of requirejs amd\n    var savedexports, savedmodule;\n    if (typeof exports !== 'undefined') savedexports = exports;\n    else exports = {}\n    if (typeof module !== 'undefined') savedmodule = module;\n    else module = {}\n\n    var tag = document.createElement('script');\n    tag.src = uri;\n    tag.async = true;\n    tag.onload = () => {\n        exports = savedexports;\n        module = savedmodule;\n        resolve();\n    };\n  var firstScriptTag = document.getElementsByTagName('script')[0];\n  firstScriptTag.parentNode.insertBefore(tag, firstScriptTag);\n});\n};\n\nif(typeof $3Dmolpromise === 'undefined') {\n$3Dmolpromise = null;\n  $3Dmolpromise = loadScriptAsync('https://cdnjs.cloudflare.com/ajax/libs/3Dmol/2.1.0/3Dmol-min.js');\n}\n\nvar viewer_1715624294267394 = null;\nvar warn = document.getElementById(\"3dmolwarning_1715624294267394\");\nif(warn) {\n    warn.parentNode.removeChild(warn);\n}\n$3Dmolpromise.then(function() {\nvar viewergrid_1715624294267394 = null;\nviewergrid_1715624294267394 = $3Dmol.createViewerGrid(document.getElementById(\"3dmolviewer_1715624294267394\"),{rows: 1, cols: 2, control_all: true},{backgroundColor:\"white\"});\nviewer_1715624294267394 = viewergrid_1715624294267394[0][0];\nviewergrid_1715624294267394[0][0].zoomTo();viewergrid_1715624294267394[0][1].zoomTo();\tviewergrid_1715624294267394[0][0].addModel(\"14\\n\\n C    0.618340655444   -0.356875397046   -1.836116778226\\n C    0.618340655444   -0.356875397046   -0.294992276128\\n H    0.618340655444    0.658720161596   -2.220805697372\\n H    1.498714815098   -0.865075411727   -2.218355120405\\n H   -0.261119091609   -0.864809503894   -2.220785732589\\n C   -0.618287625180    0.356935206708    0.295027207486\\n H    0.645606529571   -1.383784799117    0.065006626991\\n H    1.521195507791    0.133161269346    0.065004861584\\n C   -0.618390904326    0.356820136994    1.836082272213\\n H   -0.645486520210    1.383900677251   -0.064816925288\\n H   -1.521185035821   -0.133021711708   -0.064983942801\\n H   -1.498799470402    0.864960164269    2.218345097395\\n H   -0.618367196609   -0.658842387792    2.220597299679\\n H    0.261066689315    0.864737370355    2.220788468301\\n\",\"xyz\");\n\tviewergrid_1715624294267394[0][1].addModel(\"14\\n\\n C    0.943016988729   -0.268328794104   -1.360550054478\\n C    0.943016988729   -0.268328794104    0.181046229319\\n H    0.943016988729    0.746760945555   -1.746821850452\\n H    1.828432558975   -0.773328142848   -1.735153421272\\n H    0.072226171795   -0.782280383490   -1.753811730442\\n C   -0.219650882500    0.533472015397    0.813154675259\\n H    0.901974144432   -1.296691195489    0.536234466167\\n H    1.882155631690    0.153682304803    0.534494300232\\n C   -1.621263333291    0.019723781228    0.428362172828\\n H   -0.113852990168    0.494473031162    1.895876364508\\n H   -0.132172798030    1.578854552729    0.521786686033\\n H   -2.383997150107    0.569690780119    0.971580374748\\n H   -1.808687507739    0.145796982659   -0.632795383290\\n H   -1.726328321904   -1.033876489522    0.670231753729\\n\",\"xyz\");\n\tviewergrid_1715624294267394[0][0].setStyle({\"stick\": {}, \"sphere\": {\"scale\": 0.1}});\n\tviewergrid_1715624294267394[0][1].setStyle({\"stick\": {}, \"sphere\": {\"scale\": 0.1}});\n\tviewergrid_1715624294267394[0][0].zoomTo();\n\tviewergrid_1715624294267394[0][1].zoomTo();\nviewergrid_1715624294267394[0][1].render();\nviewergrid_1715624294267394[0][0].render();\n});\n</script>",
      "text/html": [
       "<div id=\"3dmolviewer_1715624294267394\"  style=\"position: relative; width: 640px; height: 480px;\">\n",
       "        <p id=\"3dmolwarning_1715624294267394\" style=\"background-color:#ffcccc;color:black\">3Dmol.js failed to load for some reason.  Please check your browser console for error messages.<br></p>\n",
       "        </div>\n",
       "<script>\n",
       "\n",
       "var loadScriptAsync = function(uri){\n",
       "  return new Promise((resolve, reject) => {\n",
       "    //this is to ignore the existence of requirejs amd\n",
       "    var savedexports, savedmodule;\n",
       "    if (typeof exports !== 'undefined') savedexports = exports;\n",
       "    else exports = {}\n",
       "    if (typeof module !== 'undefined') savedmodule = module;\n",
       "    else module = {}\n",
       "\n",
       "    var tag = document.createElement('script');\n",
       "    tag.src = uri;\n",
       "    tag.async = true;\n",
       "    tag.onload = () => {\n",
       "        exports = savedexports;\n",
       "        module = savedmodule;\n",
       "        resolve();\n",
       "    };\n",
       "  var firstScriptTag = document.getElementsByTagName('script')[0];\n",
       "  firstScriptTag.parentNode.insertBefore(tag, firstScriptTag);\n",
       "});\n",
       "};\n",
       "\n",
       "if(typeof $3Dmolpromise === 'undefined') {\n",
       "$3Dmolpromise = null;\n",
       "  $3Dmolpromise = loadScriptAsync('https://cdnjs.cloudflare.com/ajax/libs/3Dmol/2.1.0/3Dmol-min.js');\n",
       "}\n",
       "\n",
       "var viewer_1715624294267394 = null;\n",
       "var warn = document.getElementById(\"3dmolwarning_1715624294267394\");\n",
       "if(warn) {\n",
       "    warn.parentNode.removeChild(warn);\n",
       "}\n",
       "$3Dmolpromise.then(function() {\n",
       "var viewergrid_1715624294267394 = null;\n",
       "viewergrid_1715624294267394 = $3Dmol.createViewerGrid(document.getElementById(\"3dmolviewer_1715624294267394\"),{rows: 1, cols: 2, control_all: true},{backgroundColor:\"white\"});\n",
       "viewer_1715624294267394 = viewergrid_1715624294267394[0][0];\n",
       "viewergrid_1715624294267394[0][0].zoomTo();viewergrid_1715624294267394[0][1].zoomTo();\tviewergrid_1715624294267394[0][0].addModel(\"14\\n\\n C    0.618340655444   -0.356875397046   -1.836116778226\\n C    0.618340655444   -0.356875397046   -0.294992276128\\n H    0.618340655444    0.658720161596   -2.220805697372\\n H    1.498714815098   -0.865075411727   -2.218355120405\\n H   -0.261119091609   -0.864809503894   -2.220785732589\\n C   -0.618287625180    0.356935206708    0.295027207486\\n H    0.645606529571   -1.383784799117    0.065006626991\\n H    1.521195507791    0.133161269346    0.065004861584\\n C   -0.618390904326    0.356820136994    1.836082272213\\n H   -0.645486520210    1.383900677251   -0.064816925288\\n H   -1.521185035821   -0.133021711708   -0.064983942801\\n H   -1.498799470402    0.864960164269    2.218345097395\\n H   -0.618367196609   -0.658842387792    2.220597299679\\n H    0.261066689315    0.864737370355    2.220788468301\\n\",\"xyz\");\n",
       "\tviewergrid_1715624294267394[0][1].addModel(\"14\\n\\n C    0.943016988729   -0.268328794104   -1.360550054478\\n C    0.943016988729   -0.268328794104    0.181046229319\\n H    0.943016988729    0.746760945555   -1.746821850452\\n H    1.828432558975   -0.773328142848   -1.735153421272\\n H    0.072226171795   -0.782280383490   -1.753811730442\\n C   -0.219650882500    0.533472015397    0.813154675259\\n H    0.901974144432   -1.296691195489    0.536234466167\\n H    1.882155631690    0.153682304803    0.534494300232\\n C   -1.621263333291    0.019723781228    0.428362172828\\n H   -0.113852990168    0.494473031162    1.895876364508\\n H   -0.132172798030    1.578854552729    0.521786686033\\n H   -2.383997150107    0.569690780119    0.971580374748\\n H   -1.808687507739    0.145796982659   -0.632795383290\\n H   -1.726328321904   -1.033876489522    0.670231753729\\n\",\"xyz\");\n",
       "\tviewergrid_1715624294267394[0][0].setStyle({\"stick\": {}, \"sphere\": {\"scale\": 0.1}});\n",
       "\tviewergrid_1715624294267394[0][1].setStyle({\"stick\": {}, \"sphere\": {\"scale\": 0.1}});\n",
       "\tviewergrid_1715624294267394[0][0].zoomTo();\n",
       "\tviewergrid_1715624294267394[0][1].zoomTo();\n",
       "viewergrid_1715624294267394[0][1].render();\n",
       "viewergrid_1715624294267394[0][0].render();\n",
       "});\n",
       "</script>"
      ]
     },
     "metadata": {},
     "output_type": "display_data"
    }
   ],
   "source": [
    "e_diff = ((energy_gauche - energy_anti) * psi4.constants.hartree2kJmol)\n",
    "print(f\"The energy difference is {e_diff:0.2f} kJ/mole\")\n",
    "hp.drawXYZSideBySide(mol, mol2)"
   ]
  },
  {
   "cell_type": "markdown",
   "id": "f626de56-9282-4e04-9ed3-05b91a17f5f7",
   "metadata": {},
   "source": [
    "### Comparing Anti and Gauche\n",
    "\n",
    "Consider the code below. We will calculate the energy difference between the two conformations and also display the conformations side-by-side using another function in the ```helpers``` module. We see that the energy difference between anti and gauche is 3.5 kJ/mole. the literature value is between 3.6 and 3.8 kJ/mole. So our very simple calculation did a decent job of calculating the energy difference.\n",
    "\n",
    "Examine the side-by-side comparison below. Note that the lowest energy geometry has a torsion angle of about 66.5 degrees rather than the cannonical value of 60 degrees expected for a gauche conformer. This is becasue of the steric bulk of the methyl groups. they push away from each other and the angle gets cheated slightly larger to lessen the amount of steric strain."
   ]
  },
  {
   "cell_type": "markdown",
   "id": "7c80a214-924c-4176-b06b-6543c15ae377",
   "metadata": {},
   "source": [
    "## Climbing the Summit\n",
    "\n",
    "The path from anti to gauche and from gauche to the other gauche and then on back to anti desctibes a full circle for the torsion angle. We have found geometries that represent two stable conformations that are energy minima. We can convert from one to the other but must pass through a higher-energy structure to do so. How can we find this high-energy structure if the optimization algorithm want to find a way downhill at all times.\n",
    "\n",
    "One way is to constrain the torsion angle. There are two possible eclipsed conformations. One is where methyl groups eclipse hydrogen groups and the other is when the methy groups eclipse each other. These will occur at torsion angles of 120 and zero degrees.\n",
    "\n",
    "### Forcing a Molecular Eclipse\n",
    "\n",
    "We will set the torsion angle to 120 degrees. Draw the structure in Newman projection and confirm this for yourself. This will place both methyl groups in eclipse with a hydrogen group. \n",
    "\n",
    "There are two ways (that I know - there may be more) to do this. One we have explored already when we used constrainsts to examine the energy of water with different bend angles. We set the bend to a value and then locked that value. We optimized the molecule allowing all other coordinates to change, except the frozen bend angle. In this case we would set the \"dihedral\" variable in the molecule to a value, freeze it, and then optimize. We would use ```mol.set_variable(\"dihedral\", some_value)``` and ```psi4.set_options({\"FROZEN_DIHEDRAL\":\"9 6 2 1\"})``` to do this here.\n",
    "\n",
    "The other option is to use ```psi4.set_options({\"RANGED_DIHEDRAL\": \"9 6 2 1 119.90 120.01\"})```.  This sets the goal for the dihedral angle to be 120 degrees (between the two narrowly spaced range values). It does not chnage y=the initial value of the angle and the optimization will apply an artificial gradient that moves the coordinate toward the range. this can be messy and fail if it forces atoms to pass through each other or any other impossible situations. \n",
    "\n",
    "the first option is easily accessible when using internal coordinates such as a Z-matrix. The second option is the only way to set desired angles when the input is a cartesian coordinate matrix. So they both have their uses and, in this case, should both work equally well."
   ]
  },
  {
   "cell_type": "markdown",
   "id": "2bd411cf-caa7-4f25-9d13-9a34a75886bd",
   "metadata": {},
   "source": [
    "### Using FROZEN_DIHEDRAL\n",
    "\n",
    "Consider the code below. Use the slider in the viewer window to follow the optimization. Observe that we start with a given, frozen dihedral and optimize the rest of the system."
   ]
  },
  {
   "cell_type": "code",
   "execution_count": 33,
   "id": "d30be7a7-d459-49c7-a8fb-668923796b17",
   "metadata": {},
   "outputs": [
    {
     "name": "stdout",
     "output_type": "stream",
     "text": [
      "Optimizer: Optimization complete!\n",
      "The optimized energy for this configuration is -155.4612372 Hartree\n",
      "\n",
      "The energy difference for torsion = 120 eclipsed is 14.20 kJ/mole\n",
      "After optimization: 120.001 degrees\n",
      "\n"
     ]
    },
    {
     "data": {
      "image/png": "[encoded data removed]",
      "text/plain": [
       "<Figure size 640x480 with 1 Axes>"
      ]
     },
     "metadata": {},
     "output_type": "display_data"
    },
    {
     "data": {
      "application/vnd.jupyter.widget-view+json": {
       "model_id": "7ec41d832ee745d3a712232134491d26",
       "version_major": 2,
       "version_minor": 0
      },
      "text/plain": [
       "interactive(children=(IntSlider(value=0, description='conf', max=3), Output()), _dom_classes=('widget-interact…"
      ]
     },
     "metadata": {},
     "output_type": "display_data"
    }
   ],
   "source": [
    "### We start with the optimized molecule for the gauche conformer => mol2\n",
    "\n",
    "mol3 = mol2.clone()  # Copy it into a new molecule to preserve the geometry of the original.\n",
    "                     # We will now proceed with mol3\n",
    "\n",
    "# We will not change the settings that were created above.\n",
    "\n",
    "output_file = \"butane_eclipsed_1.out\"\n",
    "psi4.set_output_file(output_file, append=False, loglevel=20, print_header=True, inherit_loglevel=True, execute=True)\n",
    "\n",
    "psi4.set_options({\"FROZEN_DIHEDRAL\":\"9 6 2 1\"})\n",
    "mol3.set_variable(\"dihedral\", 120)\n",
    "\n",
    "energy_eclipse_120, hist = psi4.optimize(\"hf\", molecule = mol3, return_history=True)\n",
    "print(f\"The optimized energy for this configuration is {energy_eclipse_120:.7f} Hartree\\n\")\n",
    "e_diff = ((energy_eclipse_120 - energy_anti) * psi4.constants.hartree2kJmol)\n",
    "print(f\"The energy difference for torsion = 120 eclipsed is {e_diff:0.2f} kJ/mole\")\n",
    "dihedral_angle = mol3.get_variable(\"dihedral\")\n",
    "print(f\"After optimization: {dihedral_angle:.3f} degrees\\n\") \n",
    "\n",
    "# a = np.array(hist[\"energy\"])                # print the energies at each step\n",
    "# b = ((a - a[-1]) * psi4.constants.hartree2kJmol)\n",
    "# for c in b: print(f\"{c:10.3f}\")\n",
    "\n",
    "fig, ax =  plt.subplots(1)                    # Create a blank plot in a figure\n",
    "\n",
    "energies = np.array(hist[\"energy\"])           # Get the list of energies from the history of the optimization\n",
    "energies = (energies - energies[-1]) * psi4.constants.hartree2kJmol   # relative energy in kJ/mole\n",
    "\n",
    "ax.plot(energies, \"ko-\")                      # Plot the energies at each step\n",
    "ax.set_xlabel('Optimization step')\n",
    "ax.set_ylabel(r'Pot Energy /$\\;\\left(\\frac{kJ}{mol}\\right)$')\n",
    "plt.show()\n",
    "    \n",
    "coordinates = hist[\"coordinates\"]             # Visualiza the structures at each step\n",
    "traj = hp.mol2traj(mol, coordinates)\n",
    "hp.drawXYZGeomSlider(traj)"
   ]
  },
  {
   "cell_type": "markdown",
   "id": "ad9a8fb2-44b2-472e-a46d-a50b41c91156",
   "metadata": {},
   "source": [
    "### Using RANGED_DIHEDRAL\n",
    "\n",
    "Consider the code below. Use the slider in the viewer window to follow the optimization. Observe that we start with the original angle and the driver moves the angle to the goal. This wroked well when the difference between goal and start was small but failed when I started with a dihedral of 60 degrees and a goal of 120 degrees. It worked up to a goal of 90 degrees and then had trouble optimizing. Perhaps I need to loosen the criteria for ending the optimization? There are many ways to approach getting this to work better and I know none of them.\n",
    "\n",
    "The code below did not give the desired result. Large differences between the start and goal values caused the optimization to crash. the higher energy structures that were closer to the starting position failed to optimize (required more steps than the ```MAXITER```step limit). I was not able to set a goal higher than 90 degrees that worked.\n",
    "\n",
    "Run the code below and change the value for ```goal``` if you like. This method for constraining a torsion angle is not working for me in this case. You can read up of the end conditions for optimization in *Psi4* and perhaps loosen the parameters so that the optimization is able to decide to finish under less perfect conditions. There may be other tweaks needed.\n",
    "\n",
    "For future work we will use the ```FROZEN_DIHEDRAL``` method. The FROZEN_DISTANCE, _BEND or _DIHEDRAL method optimizes much more quickly and with success. The ```RANGED_DIHEDRAL``` method was messy, as promised. We may return to this in other systems where internal coordinates are difficult to manage, such as cyclic systems. But, until we absolutely need to use RANGED_DIHEDRAL we will stick with FROZEN_DIHEDRAL and related settings for constraints.\n",
    "\n",
    "Update: I added in the CHEAT! line below to set the dihedral angle in the molecule to be close to the goal angle. We can only do this while using internal coordinates like the Z-matrix. Starting close to you optimized structure is the key to good optimization."
   ]
  },
  {
   "cell_type": "code",
   "execution_count": 35,
   "id": "a31dfa26-ea35-4e1e-86d8-469b970f9e1f",
   "metadata": {},
   "outputs": [
    {
     "name": "stdout",
     "output_type": "stream",
     "text": [
      "Optimizer: Optimization complete!\n",
      "The optimized energy for this configuration is -155.4612372 Hartree\n",
      "\n",
      "The energy difference for torsion = 120 eclipsed is 14.20 kJ/mole\n",
      "After optimization: 119.899 degrees\n",
      "\n"
     ]
    },
    {
     "data": {
      "image/png": "[encoded data removed]",
      "text/plain": [
       "<Figure size 640x480 with 1 Axes>"
      ]
     },
     "metadata": {},
     "output_type": "display_data"
    },
    {
     "data": {
      "application/vnd.jupyter.widget-view+json": {
       "model_id": "9de4a85508224af7b00597c2013ae684",
       "version_major": 2,
       "version_minor": 0
      },
      "text/plain": [
       "interactive(children=(IntSlider(value=0, description='conf', max=11), Output()), _dom_classes=('widget-interac…"
      ]
     },
     "metadata": {},
     "output_type": "display_data"
    }
   ],
   "source": [
    "### We start with the optimized molecule for the gauche conformer => mol2\n",
    "\n",
    "mol4 = mol2.clone()  # Copy it into a new molecule to preserve the geometry of the original.\n",
    "                     # We will now proceed with mol3\n",
    "\n",
    "# We will not change the settings that were created above.\n",
    "psi4.set_options({\"FROZEN_DIHEDRAL\":\"\"})     # Clear FROZEN_DIHEDRAL\n",
    "\n",
    "\n",
    "output_file = \"butane_eclipsed_2.out\"\n",
    "psi4.set_output_file(output_file, append=False, loglevel=20, print_header=True, inherit_loglevel=True, execute=True)\n",
    "\n",
    "goal = 120\n",
    "psi4.set_options({\"RANGED_DIHEDRAL\":f\"9 6 2 1 {goal-.1} {goal+.1}\"})\n",
    "\n",
    "# CHEAT!!! Set the value to near the the goal ahead of time. \n",
    "mol4.set_variable(\"dihedral\", 110)     # Setting the variable to the same as the goal will allow the system to optimize quickly\n",
    "                                       # But this won't work with cartesian coordinates\n",
    "\n",
    "energy_eclipse_120, hist = psi4.optimize(\"hf\", molecule = mol4, return_history=True)\n",
    "print(f\"The optimized energy for this configuration is {energy_eclipse_120:.7f} Hartree\\n\")\n",
    "\n",
    "e_diff = ((energy_eclipse_120 - energy_anti) * psi4.constants.hartree2kJmol)\n",
    "print(f\"The energy difference for torsion = 120 eclipsed is {e_diff:0.2f} kJ/mole\")\n",
    "\n",
    "dihedral_angle = mol4.get_variable(\"dihedral\")\n",
    "print(f\"After optimization: {dihedral_angle:.3f} degrees\\n\") \n",
    "\n",
    "\n",
    "# a = np.array(hist[\"energy\"])                 # print the energies at each step     \n",
    "# b = ((a - a[-1]) * psi4.constants.hartree2kJmol) \n",
    "# for c in b: print(f\"{c:10.3f}\")\n",
    "\n",
    "fig, ax =  plt.subplots(1)                     # Create a blank plot in a figure\n",
    "\n",
    "energies = np.array(hist[\"energy\"])            # Get the list of energies from the history of the optimization\n",
    "energies = (energies - energies[-1]) * psi4.constants.hartree2kJmol   # relative energy in kJ/mole\n",
    "\n",
    "ax.plot(energies, \"ko-\")                       # Plot the energies at each step\n",
    "ax.set_xlabel('Optimization step')\n",
    "ax.set_ylabel(r'Pot Energy /$\\;\\left(\\frac{kJ}{mol}\\right)$')\n",
    "plt.show()\n",
    "    \n",
    "coordinates = hist[\"coordinates\"]              # Visualize the structures at each step\n",
    "traj = hp.mol2traj(mol, coordinates)\n",
    "hp.drawXYZGeomSlider(traj)"
   ]
  },
  {
   "cell_type": "markdown",
   "id": "74202a9e-0f0b-4cc2-ace8-96db4eeced54",
   "metadata": {},
   "source": [
    "## The PES Scan for Bond Rotation in Butane\n",
    "\n",
    "We have explored methods for determining the structures and energies for the stable anti and gauche conformers of butane. We observed that the most stable anti conformer had a torsion angle of 180 degrees. The most stable gauche conformer was 3.49 kJ/mole higher in energy and with an angle of 66.5 degrees. These optimizations were not constrained although we had to start with structures that were close to the goals.\n",
    "\n",
    "We used the FROZEN_DIHEDRAL setting to freeze the torsion angle and set it to 120 degree and 0 degrees to get the optimized energies for the two eclipsed forms. The energies were 14.20 and 24.43 kJ/mole higher in energy compared to the anti conformer.\n",
    "\n",
    "These are only four points in the full turn. What if we wanted to explore the whole 360 degree spin and calculaue the energy of the optimized geometries with each value of the torsion angle.\n",
    "\n",
    "### Scanning the Bond Angle\n",
    "\n",
    "Below we will use the code that we wrote when we scanned the bend angle of water. I will make small changes so that it is changing the dihedral angle of our butane instead. Then we will plot the energies w.r.t. torsion angle."
   ]
  },
  {
   "cell_type": "code",
   "execution_count": 46,
   "id": "3cfde073-53dc-4d10-9c57-2658a2fc51bd",
   "metadata": {},
   "outputs": [
    {
     "name": "stdout",
     "output_type": "stream",
     "text": [
      "Optimizer: Optimization complete!\n",
      "Optimizer: Optimization complete!\n",
      "Optimizer: Optimization complete!\n",
      "Optimizer: Optimization complete!\n",
      "Optimizer: Optimization complete!\n",
      "Optimizer: Optimization complete!\n",
      "Optimizer: Optimization complete!\n",
      "Optimizer: Optimization complete!\n",
      "Optimizer: Optimization complete!\n",
      "Optimizer: Optimization complete!\n",
      "Optimizer: Optimization complete!\n",
      "Optimizer: Optimization complete!\n",
      "Optimizer: Optimization complete!\n",
      "Optimizer: Optimization complete!\n",
      "Optimizer: Optimization complete!\n",
      "Optimizer: Optimization complete!\n",
      "Optimizer: Optimization complete!\n",
      "Optimizer: Optimization complete!\n",
      "Optimizer: Optimization complete!\n",
      "Optimizer: Optimization complete!\n",
      "Optimizer: Optimization complete!\n"
     ]
    },
    {
     "name": "stderr",
     "output_type": "stream",
     "text": [
      "/Users/blink/psi4conda/lib/python3.11/site-packages/optking/stepAlgorithms.py:677: RuntimeWarning: invalid value encountered in scalar power\n",
      "  SRFOmat[-1, :-1] = RFOmat[-1, :-1] / alpha**0.5\n",
      "/Users/blink/psi4conda/lib/python3.11/site-packages/optking/stepAlgorithms.py:678: RuntimeWarning: invalid value encountered in scalar power\n",
      "  SRFOmat[:-1, -1] = RFOmat[:-1, -1] / alpha**0.5\n",
      "/Users/blink/psi4conda/lib/python3.11/site-packages/optking/stepAlgorithms.py:684: RuntimeWarning: invalid value encountered in scalar power\n",
      "  scale_mat = np.diag(np.repeat(1 / alpha**0.5, dim1))\n"
     ]
    },
    {
     "name": "stdout",
     "output_type": "stream",
     "text": [
      "Optimizer: Optimization complete!\n",
      "Optimizer: Optimization complete!\n",
      "Optimizer: Optimization complete!\n",
      "Optimizer: Optimization complete!\n",
      "Optimizer: Optimization complete!\n",
      "Optimizer: Optimization complete!\n"
     ]
    },
    {
     "name": "stderr",
     "output_type": "stream",
     "text": [
      "/Users/blink/psi4conda/lib/python3.11/site-packages/optking/stepAlgorithms.py:677: RuntimeWarning: invalid value encountered in scalar power\n",
      "  SRFOmat[-1, :-1] = RFOmat[-1, :-1] / alpha**0.5\n",
      "/Users/blink/psi4conda/lib/python3.11/site-packages/optking/stepAlgorithms.py:678: RuntimeWarning: invalid value encountered in scalar power\n",
      "  SRFOmat[:-1, -1] = RFOmat[:-1, -1] / alpha**0.5\n",
      "/Users/blink/psi4conda/lib/python3.11/site-packages/optking/stepAlgorithms.py:684: RuntimeWarning: invalid value encountered in scalar power\n",
      "  scale_mat = np.diag(np.repeat(1 / alpha**0.5, dim1))\n"
     ]
    },
    {
     "name": "stdout",
     "output_type": "stream",
     "text": [
      "Optimizer: Optimization complete!\n",
      "Optimizer: Optimization complete!\n",
      "Optimizer: Optimization complete!\n",
      "Optimizer: Optimization complete!\n",
      "Optimizer: Optimization complete!\n",
      "Optimizer: Optimization complete!\n",
      "Optimizer: Optimization complete!\n",
      "Optimizer: Optimization complete!\n",
      "Optimizer: Optimization complete!\n",
      "Optimizer: Optimization complete!\n",
      "Done\n"
     ]
    }
   ],
   "source": [
    "# use psi4conda environment\n",
    "import psi4\n",
    "import os\n",
    "import numpy as np\n",
    "import matplotlib.pyplot as plt\n",
    "\n",
    "import helpers as hp # Many useful functions from https://lcbc-epfl.github.io/iesm-public/intro.html\n",
    "\n",
    "psi4.core.clean_options()\n",
    "\n",
    "psi4.set_options({\n",
    "        \"BASIS\": \"sto-3g\",            # default => None - Basis set must be specified\n",
    "#        \"BASIS\": \"6-31+G(d)\",            # default => None - Basis set must be specified\n",
    "#        \"BASIS\": \"cc-pvdz\",\n",
    "        \"SAVE_OPTIMIZATION\": True,    # default => False\n",
    "        \"OPT_TYPE\": \"min\",            # default => \"min\":  \"min\",\"irc\" or \"ts\"\n",
    "        \"MAXITER\": 100,               # default => 50\n",
    "        \"GEOM_MAXITER\": 100,          # default => 50\n",
    "        \"FULL_HESS_EVERY\": -1,        # default => -1 -> only perform a calculation at the beginning\n",
    "        \"PRINT\": 2,                   # default => 1\n",
    "        \"GUESS\": \"sad\",               # default => auto\n",
    "        \"REFERENCE\": \"rhf\",           # default => rhf\n",
    "        \"SCF_TYPE\": \"direct\",         # default => pk\n",
    "        \"INTS_TOLERANCE\": 1E-8,       # default => 1e-12. A value of 1e-8 is recommended when SCF_TYPE set to \"direct\"\n",
    "        \"PRINT_TRAJECTORY_XYZ_FILE\":True,   # default => false\n",
    "        \"PRINT_OPT_PARAMS\": True,     # default => False\n",
    "        \"WRITE_TRAJECTORY\": True      # default => False\n",
    "    })\n",
    "\n",
    "psi4.set_options({\"FROZEN_DIHEDRAL\":\"9 6 2 1\"})\n",
    "\n",
    "mol5 = mol.clone()   # Copy the optimized anti structure from above\n",
    "\n",
    "output_file = \"Butane_PES_1.out\"\n",
    "psi4.set_memory(\"4GB\")\n",
    "psi4.set_output_file(output_file, append=False, loglevel=20, print_header=True, inherit_loglevel=True, execute=True)\n",
    "psi4.core.set_num_threads(4)\n",
    "\n",
    "step = 10; start = 0; end = 360\n",
    "number_of_points = (end - start)//step + 1\n",
    "range_of_values = np.linspace(start, end, number_of_points) \n",
    "#range_of_values = [0,60,120,180] \n",
    "#range_of_values = [119,119.1,119.2,119.3,119.4,119.5,119.6,119.7,119.8,119.9,120,120.1] \n",
    "\n",
    "\n",
    "dihedral_list = []\n",
    "energy_list = []\n",
    "geometries = []\n",
    "for angle in range_of_values:\n",
    "    mol5.set_variable(\"dihedral\", angle)\n",
    "    energy = psi4.optimize(\"hf\", molecule = mol5)\n",
    "    dihedral_list.append(angle)\n",
    "    energy_list.append(energy)\n",
    "    geometries.append(mol5.clone())\n",
    "\n",
    "print(\"Done\")"
   ]
  },
  {
   "cell_type": "markdown",
   "id": "15d141cc-cdd9-4330-a2c6-a06c4e7f435c",
   "metadata": {},
   "source": [
    "### Visualize Structures\n",
    "\n",
    "the code below will take the list of optimized geometries for each dihedral angle that was generate above and produce a stack of images that can be navigated by a slider widget. We can follow the changes as we move through the list of diherdal angles and see if anything went off the rails."
   ]
  },
  {
   "cell_type": "code",
   "execution_count": 23,
   "id": "1550e2c0-43d0-46d3-9ae3-9e79e64265ce",
   "metadata": {},
   "outputs": [
    {
     "data": {
      "application/vnd.jupyter.widget-view+json": {
       "model_id": "ddc945f79ce64b5ab43f762dc233c9ff",
       "version_major": 2,
       "version_minor": 0
      },
      "text/plain": [
       "interactive(children=(IntSlider(value=0, description='conf', max=36), Output()), _dom_classes=('widget-interac…"
      ]
     },
     "metadata": {},
     "output_type": "display_data"
    }
   ],
   "source": [
    "energies = np.array(energy_list)\n",
    "energies = energies - np.min(energies)\n",
    "energies = energies * psi4.constants.hartree2kJmol\n",
    "\n",
    "\n",
    "traj = [geom.save_string_xyz_file() for geom in geometries]\n",
    "traj_arrays = [geom.to_arrays()[0] for geom in geometries]\n",
    "\n",
    "hp.drawXYZGeomSlider(traj)\n",
    "\n",
    "#hp.drawXYZGeomSliderMolecularProperty(traj, dihedral_list, energies, 'dihedral')\n",
    "# for the slider to function properly you must have dihedral angles of exact integers. \n",
    "# If that is not the case, adjust the number of dihedrals to divide -180 to 180 degrees into even steps (including the zero value).\n",
    "# Did not work.  Seems to have a bug in it.\n"
   ]
  },
  {
   "cell_type": "markdown",
   "id": "ec9eee80-9944-44f0-81b1-af27b908437c",
   "metadata": {},
   "source": [
    "### Analyze the Data\n",
    "\n",
    "As before, here we will colect the data lists into a dataframe. We will calculate the energy difference relative to the optimized anti conformation in units of kJ/mole. then amke a quick plot using a built-in plot method of the dataframe object."
   ]
  },
  {
   "cell_type": "code",
   "execution_count": 47,
   "id": "132ac225-b026-44bb-be1f-bcc48746f087",
   "metadata": {},
   "outputs": [
    {
     "name": "stdout",
     "output_type": "stream",
     "text": [
      "    angle      energy    kJ/mole\n",
      "0     0.0 -157.299715  27.119443\n",
      "1    10.0 -157.300329  25.508004\n",
      "2    20.0 -157.301929  21.307303\n",
      "3    30.0 -157.303995  15.882738\n",
      "4    40.0 -157.305996  10.628680\n",
      "5    50.0 -157.307503   6.672931\n",
      "6    60.0 -157.308281   4.629084\n",
      "7    70.0 -157.308311   4.549484\n",
      "8    80.0 -157.307701   6.152005\n",
      "9    90.0 -157.306598   9.048860\n",
      "10  100.0 -157.305306  12.440646\n",
      "11  110.0 -157.304290  15.108148\n",
      "12  120.0 -157.303948  16.006622\n",
      "13  130.0 -157.304433  14.730935\n",
      "14  140.0 -157.305616  11.625656\n",
      "15  150.0 -157.307154   7.589326\n",
      "16  160.0 -157.308627   3.720264\n",
      "17  170.0 -157.309670   0.982767\n",
      "18  180.0 -157.310044   0.000000\n",
      "19  190.0 -157.309670   0.982664\n",
      "20  200.0 -157.308627   3.720238\n",
      "21  210.0 -157.307154   7.589364\n",
      "22  220.0 -157.305616  11.625969\n",
      "23  230.0 -157.304433  14.730984\n",
      "24  240.0 -157.303948  16.006589\n",
      "25  250.0 -157.304290  15.108095\n",
      "26  260.0 -157.305306  12.440192\n",
      "27  270.0 -157.306598   9.048830\n",
      "28  280.0 -157.307701   6.152056\n",
      "29  290.0 -157.308311   4.549553\n",
      "30  300.0 -157.308281   4.629133\n",
      "31  310.0 -157.307504   6.669546\n",
      "32  320.0 -157.305996  10.628767\n",
      "33  330.0 -157.303995  15.882974\n",
      "34  340.0 -157.301928  21.308172\n",
      "35  350.0 -157.300330  25.505786\n",
      "36  360.0 -157.299715  27.119148\n"
     ]
    },
    {
     "data": {
      "text/plain": [
       "<Axes: xlabel='angle', ylabel='kJ/mole'>"
      ]
     },
     "execution_count": 47,
     "metadata": {},
     "output_type": "execute_result"
    },
    {
     "data": {
      "image/png": "[encoded data removed]",
      "text/plain": [
       "<Figure size 640x480 with 1 Axes>"
      ]
     },
     "metadata": {},
     "output_type": "display_data"
    }
   ],
   "source": [
    "data_dictionary = {\"angle\": dihedral_list,\n",
    "                   \"energy\": energy_list}\n",
    "\n",
    "df = pd.DataFrame.from_dict(data_dictionary)\n",
    "\n",
    "df[\"kJ/mole\"] = df[\"energy\"] - np.min(df[\"energy\"])\n",
    "df[\"kJ/mole\"] = df[\"kJ/mole\"] * psi4.constants.hartree2kJmol\n",
    "print(df)\n",
    "\n",
    "df.plot(x=\"angle\", y = \"kJ/mole\", kind=\"scatter\", )   # try kind=\"scatter\" as well"
   ]
  },
  {
   "cell_type": "markdown",
   "id": "c540c9eb-2b5f-4d2f-8501-08cccb644a0b",
   "metadata": {},
   "source": [
    "### A Better Plot\n",
    "\n",
    "The ```plot()``` method of a dataframe object has all the power of MatPlotLib contained in it. However, I am more familiar with maniplulating MatPlotLib directly"
   ]
  },
  {
   "cell_type": "code",
   "execution_count": 28,
   "id": "708eab4f-e953-45c8-bc52-1b9539521bd8",
   "metadata": {},
   "outputs": [
    {
     "data": {
      "image/png": "[encoded data removed]",
      "text/plain": [
       "<Figure size 640x480 with 1 Axes>"
      ]
     },
     "metadata": {},
     "output_type": "display_data"
    }
   ],
   "source": [
    "fig, ax =  plt.subplots(1)                     # Create a blank plot in a figure\n",
    "\n",
    "x = df[\"angle\"]\n",
    "y = df[\"kJ/mole\"]\n",
    "\n",
    "ax.plot(x,y, color = \"black\", linewidth = 0.5, zorder = 0)\n",
    "\n",
    "ax.scatter(x,y, color = \"white\", s = 64, zorder = 1)\n",
    "ax.scatter(x,y, color = \"black\", s = 16, zorder = 2)\n",
    "\n",
    "ax.vlines(x = 66.5, ymin = 0, ymax = 20, color = \"black\", linewidth = 0.4, zorder = 0)\n",
    "ax.vlines(x = 293.49, ymin = 0, ymax = 20, color = \"black\", linewidth = 0.4, zorder = 0)\n",
    "\n",
    "ax.scatter([66.51, 360-66.51], [3.49, 3.49], color = \"white\", s = 64, zorder = 1)\n",
    "ax.scatter([66.51, 360-66.51], [3.49, 3.49], color = \"white\", edgecolor = \"black\", s = 16, zorder = 2)\n",
    "\n",
    "ax.text(66.51-10, 20.5,\"$66.5^\\circ$\")\n",
    "ax.text(293.49-10, 20.5,\"$193.5^\\circ$\")\n",
    "\n",
    "ax.set_xlabel('Torsion Angle')\n",
    "ax.set_ylabel(r'Potential Energy Difference /$\\;\\left(\\frac{kJ}{mol}\\right)$')\n",
    "\n",
    "plt.show()\n",
    "\n",
    "#print(df)"
   ]
  },
  {
   "cell_type": "markdown",
   "id": "218d7cc2-3d06-41f3-8c58-0b9e0960335d",
   "metadata": {},
   "source": [
    "## Conclusions\n",
    "\n",
    "We obtained the stable stuctures and energies for the anti and gauche conformers of butane. We also evaluated the high-energy eclipsed conformers using a constrained torsion angle. We demonstrated two different methods for constraining the coordinate. Then we used a list of torsion angles to set and constrain the torsion angle from zero to 360 degrees. We optimized each geometry and obtained the optimized energy for each constraint.  This is an example of a \"relaxed\" potential energy scan (PES).\n",
    "\n",
    "We plotted the results and saw the expected energy profile. If you have some time on your hands you could repeat the above with a higher level of theory."
   ]
  },
  {
   "cell_type": "markdown",
   "id": "132d78e9-8bb9-47da-9f86-43f596c63b60",
   "metadata": {},
   "source": [
    "## The Next Mystery\n",
    "\n",
    "We observed that the expected dihedral angle for the energy minimum that defined the gauche conformer was at 66.5 degrees and not exactle 60 degrees. What are the odds that the methyl-hydrogen eclipsed conformer occurs at exactly 120 degrees? Inspection of the energy plot above will reveal an asymmetry on either side of the energy maxdimum near 120 degrees. So its not exactly 120 degrees, but its close.\n",
    "\n",
    "How can we find the optimized structure for an energy maximum? In the next notebook we will optimize a transition state."
   ]
  },
  {
   "cell_type": "code",
   "execution_count": null,
   "id": "8d357478-75b3-43f2-a839-d11efa74de46",
   "metadata": {},
   "outputs": [],
   "source": []
  }
 ],
 "metadata": {
  "kernelspec": {
   "display_name": "Python 3 (ipykernel)",
   "language": "python",
   "name": "python3"
  },
  "language_info": {
   "codemirror_mode": {
    "name": "ipython",
    "version": 3
   },
   "file_extension": ".py",
   "mimetype": "text/x-python",
   "name": "python",
   "nbconvert_exporter": "python",
   "pygments_lexer": "ipython3",
   "version": "3.11.7"
  }
 },
 "nbformat": 4,
 "nbformat_minor": 5
}
