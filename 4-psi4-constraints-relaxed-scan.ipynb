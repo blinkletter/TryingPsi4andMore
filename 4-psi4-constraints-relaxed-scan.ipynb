{
 "cells": [
  {
   "cell_type": "markdown",
   "id": "293d8c30-5c73-42ef-aee3-20787f9fe23f",
   "metadata": {},
   "source": [
    "# Constrainsts\n",
    "\n",
    "In life you must set boundaries and in computational chemistry you can do the same thing. Let us investigate the consequences of changing the bong angle in water. We can easily obtain an optimized geometry but we want to force the bond angle into values outside of that perfect value. Its easy to role to the bottom of an energy well but how do we cling to its steep slope? We must set anchors. In this case we will set constrainsts.\n",
    "\n",
    "## Optimize Bond Angle in Water\n",
    "\n",
    "First we will optimize the geometry of water as we have done in the previous exercise. We will set up the structure using a Z-matrix as that is the easiest way to access a bond angle. The Z-matrix set that angle when we built the geomtry in the first place. So let us repeat the optimization from the previous notebook."
   ]
  },
  {
   "cell_type": "code",
   "execution_count": 11,
   "id": "41abdc6f-853d-4d3d-9746-8df22ffd0d89",
   "metadata": {},
   "outputs": [
    {
     "name": "stdout",
     "output_type": "stream",
     "text": [
      "Before optimization: 110.000 degrees and 1.000 angstroms\n",
      "\n",
      "Optimizer: Optimization complete!\n",
      "The optimized energy for this configuration is -76.0270535 Hartree\n",
      "\n",
      "After optimization: 104.617 degrees and 0.946 angstroms\n",
      "\n"
     ]
    }
   ],
   "source": [
    "# use psi4conda environment\n",
    "import psi4\n",
    "import os\n",
    "import numpy as np\n",
    "\n",
    "output_file = \"H2O_constrainst_1.out\"\n",
    "psi4.set_memory(\"1GB\")\n",
    "psi4.set_output_file(output_file, append=False, loglevel=20, print_header=True, inherit_loglevel=True, execute=True)\n",
    "psi4.core.set_num_threads(4)\n",
    "\n",
    "# The Z-matrix as a text string\n",
    "data = \"\"\"\n",
    "       0 1\n",
    "       O1\n",
    "       H2  1  length\n",
    "       H3  1  length  2  angle\n",
    "       length = 1.0\n",
    "       angle = 110\n",
    "       units angstrom\n",
    "       \"\"\" \n",
    "\n",
    "# Create the Molecule object\n",
    "mol = psi4.geometry(data)             # Create Molecule object from data string\n",
    "\n",
    "psi4.set_options({\n",
    "        \"BASIS\": \"cc-pvdz\",           # default => None - Basis set must be specified\n",
    "        \"SAVE_OPTIMIZATION\": True,    # default => False\n",
    "        \"MAXITER\": 100,               # default => 50\n",
    "        \"GEOM_MAXITER\": 100,          # default => 50\n",
    "        \"FULL_HESS_EVERY\": 5,         # default => -1\n",
    "        \"PRINT\": 2,                   # default => 1\n",
    "        \"GUESS\": \"sad\",               # default => auto\n",
    "        \"REFERENCE\": \"rhf\",           # default => rhf\n",
    "        \"SCF_TYPE\": \"direct\",         # default => pk\n",
    "        \"INTS_TOLERANCE\": 1E-8        # default => 1e-12. A value of 1e-8 is recommended when SCF_TYPE set to \"direct\"\n",
    "    })\n",
    "\n",
    "start_angle = mol.get_variable(\"angle\")\n",
    "start_length = mol.get_variable(\"length\")\n",
    "print(f\"Before optimization: {start_angle:.3f} degrees and {start_length:.3f} angstroms\\n\") \n",
    "\n",
    "\n",
    "opt_energy, hist = psi4.optimize(\"hf\", molecule = mol, return_history=True)\n",
    "print(f\"The optimized energy for this configuration is {opt_energy:.7f} Hartree\\n\")\n",
    "\n",
    "mol.print_out()\n",
    "mol.print_distances()\n",
    "mol.print_bond_angles()\n",
    "mol.print_in_input_format()\n",
    "\n",
    "opt_angle = mol.get_variable(\"angle\")\n",
    "opt_length = mol.get_variable(\"length\")\n",
    "\n",
    "print(f\"After optimization: {opt_angle:.3f} degrees and {opt_length:.3f} angstroms\\n\") \n"
   ]
  },
  {
   "cell_type": "markdown",
   "id": "74202a9e-0f0b-4cc2-ace8-96db4eeced54",
   "metadata": {},
   "source": [
    "## Changing a Variable\n",
    "\n",
    "One way to investigate the effect of changing bond angle on energy would be to take this optimized structure and simply assign new bond angles and then calculate the energy. This is a simplistic approach becuase one knows that the bond length will change slightly with bond angle due to changes in hydridization (e.g., $sp^2$ bonds are shorter than $sp^3$ bonds.) However let us use this simple way to start.\n",
    "\n",
    "### Scanning the Bond Angle\n",
    "\n",
    "We have set up the geometry with a variable named \"angle.\" That variable has been changed in the optimization but we can change it manually using the ```.set_variable()``` method of the Molecule object. We will set the angle to whatever we want, then update the geomtry (recalculate the *xyz* cartesian coordinates with the new angle). After that we will calculate the energy of the new geometry. Rinse and repeat through a series of values.\n",
    "\n",
    "Recall how we did this with *Gamess*. We took the inoput file that we had constructed using the optimized geometry and then used the awesome text tools of *Unix* to change the angle (*grep*, *sed* and *awk* are the secret underpinning of modern science.) Then we subitted a whole batch of input files with different bond angles into *Gamess* on-at-a-time using the batch-queueing program *GamessQ*. But with the power of *Python* we cane do all this inside this notebook. We are using *Psi4* because it has an *Python* API that can be imported and used in a notebook like this.\n",
    "\n",
    "In the code below we pick values from a range of values and asign them in turn to the variable \"angle.\" in each case we caluclate the energy and append that value to a list. After the series of calculations is complete we will have a list of angles and a list of energies.\n",
    "\n"
   ]
  },
  {
   "cell_type": "code",
   "execution_count": 12,
   "id": "729c2068-ea68-42d5-899b-fbe07b16c4c5",
   "metadata": {},
   "outputs": [
    {
     "name": "stdout",
     "output_type": "stream",
     "text": [
      "177.73570312516017\n",
      "Before optimization: 60.000 degrees and 0.946 angstroms\n",
      "\n"
     ]
    }
   ],
   "source": [
    "mol.set_variable(\"angle\", 60)\n",
    "energy = psi4.energy(\"hf\", molecule = mol)\n",
    "print((energy-opt_energy)*psi4.constants.hartree2kJmol)\n",
    "start_angle = mol.get_variable(\"angle\")\n",
    "start_length = mol.get_variable(\"length\")\n",
    "print(f\"Before optimization: {start_angle:.3f} degrees and {start_length:.3f} angstroms\\n\") \n"
   ]
  },
  {
   "cell_type": "code",
   "execution_count": 31,
   "id": "6914da68-dc4f-43df-a66f-60eec8a98288",
   "metadata": {},
   "outputs": [
    {
     "name": "stdout",
     "output_type": "stream",
     "text": [
      "[94.61673136613041, 95.61673136613041, 96.61673136613041, 97.61673136613041, 98.61673136613041, 99.61673136613041, 100.61673136613041, 101.61673136613041, 102.61673136613041, 103.61673136613041, 104.61673136613041, 105.61673136613041, 106.61673136613041, 107.61673136613041, 108.61673136613041, 109.61673136613041, 110.61673136613041, 111.61673136613041, 112.61673136613041, 113.61673136613041, 114.61673136613041]\n",
      "[-76.02414167848632, -76.02470712395643, -76.02520940052872, -76.02564930214108, -76.02602764379719, -76.02634526282861, -76.0266030199203, -76.02680179991108, -76.02694251239862, -76.0270260921427, -76.02705349930416, -76.02702571953355, -76.02694376393177, -76.02680866890515, -76.02662149593753, -76.02638333129993, -76.0260952857193, -76.0257584940253, -76.02537411479122, -76.02494332998512, -76.02446734464377]\n"
     ]
    }
   ],
   "source": [
    "output_file = \"H2O_constrainst_2.out\"\n",
    "psi4.set_memory(\"1GB\")\n",
    "psi4.set_output_file(output_file, append=False, loglevel=20, print_header=True, inherit_loglevel=True, execute=True)\n",
    "psi4.core.set_num_threads(4)\n",
    "\n",
    "deviation = 10\n",
    "\n",
    "start = opt_angle - deviation\n",
    "end = opt_angle + deviation\n",
    "number_of_points = 2 * deviation + 1\n",
    "range_of_values = np.linspace(start, end, number_of_points) \n",
    "\n",
    "# We could also enter a set of values at which to to measure energies. try the range below and\n",
    "# observe the energy profile. Can you explain it?\n",
    "#range_of_values = [75,90,100,105,110,120,130,140,150,160,170,175,180,185,190,200,220,230,] \n",
    "\n",
    "angle_list = []\n",
    "energy_list = []\n",
    "\n",
    "for angle in range_of_values:\n",
    "    mol.set_variable(\"angle\", angle)\n",
    "    energy = psi4.energy(\"hf\", molecule = mol)\n",
    "    angle_list.append(angle)\n",
    "    energy_list.append(energy)\n",
    "\n",
    "print(angle_list)\n",
    "print(energy_list)"
   ]
  },
  {
   "cell_type": "markdown",
   "id": "c3152656-7448-49d4-b453-495c5a545241",
   "metadata": {},
   "source": [
    "## Data Handling\n",
    "\n",
    "We just generated some data. List of numbers are kind of useless. We need to do some data manipulation.\n",
    "\n",
    "A convenient tool for data handling is the *Pandas* library. It provides a powerful data object, the dataframe. We will combine the two lists into a dataframe. Then we will print the dataframe. We can output the dataframe as a csv file for future analysis. In many ways, we can manipulate a dataframe like a spreadsheet. Consider the code below."
   ]
  },
  {
   "cell_type": "code",
   "execution_count": 32,
   "id": "8618a40e-138f-4616-9de1-c205f30e1f86",
   "metadata": {},
   "outputs": [
    {
     "name": "stdout",
     "output_type": "stream",
     "text": [
      "       angle     energy\n",
      "0  94.616731 -76.024142\n",
      "1  95.616731 -76.024707\n",
      "2  96.616731 -76.025209\n",
      "3  97.616731 -76.025649\n",
      "4  98.616731 -76.026028\n"
     ]
    }
   ],
   "source": [
    "import pandas as pd\n",
    "\n",
    "data_dictionary = {\"angle\": angle_list,\n",
    "                   \"energy\": energy_list}\n",
    "\n",
    "df = pd.DataFrame.from_dict(data_dictionary)\n",
    "#df.set_index('angle', inplace=True)\n",
    "print(df.head())"
   ]
  },
  {
   "cell_type": "markdown",
   "id": "cf2ecb34-0db7-40a3-9c61-dc009a73a7e1",
   "metadata": {},
   "source": [
    "### Math with a Dataframe\n",
    "\n",
    "Lets do some math. We know the optimized energy from previous calulations above. We will subtract this lowets energy value from the energy column of the dataframe. Then we will multiply this column of relative energy values by a conversion factor to get kJ/mole rather than Hartrees."
   ]
  },
  {
   "cell_type": "code",
   "execution_count": 33,
   "id": "3b440b0b-4671-4072-b223-6946935f42ec",
   "metadata": {},
   "outputs": [],
   "source": [
    "df[\"energy\"] = df[\"energy\"] - opt_energy\n",
    "df[\"energy\"] = df[\"energy\"] * psi4.constants.hartree2kJmol"
   ]
  },
  {
   "cell_type": "markdown",
   "id": "bc3b619b-cc23-4997-af81-87a51234616f",
   "metadata": {},
   "source": [
    "### A Quick Plot\n",
    "\n",
    "The dataframe object is very powerful. It contains a method that will plot the data. In the example below, we set which columns were to be used in the x and y-axis of the plot. Does this look like a typical energy profile for a vibration? the angle decreasing and increasing on either side of the optimal value is just like a bending vibration."
   ]
  },
  {
   "cell_type": "code",
   "execution_count": 34,
   "id": "5165025d-4f52-4677-8d85-8f5e8deec70d",
   "metadata": {},
   "outputs": [
    {
     "data": {
      "text/plain": [
       "<Axes: xlabel='angle'>"
      ]
     },
     "execution_count": 34,
     "metadata": {},
     "output_type": "execute_result"
    },
    {
     "data": {
      "image/png": "[encoded data removed]",
      "text/plain": [
       "<Figure size 640x480 with 1 Axes>"
      ]
     },
     "metadata": {},
     "output_type": "display_data"
    }
   ],
   "source": [
    "df.plot(x=\"angle\", y = \"energy\", kind=\"line\")   # try kind=\"scatter\" as well"
   ]
  },
  {
   "cell_type": "code",
   "execution_count": null,
   "id": "7295979d-e510-41fd-8c6d-5add59ea9cdf",
   "metadata": {},
   "outputs": [],
   "source": []
  }
 ],
 "metadata": {
  "kernelspec": {
   "display_name": "Python 3 (ipykernel)",
   "language": "python",
   "name": "python3"
  },
  "language_info": {
   "codemirror_mode": {
    "name": "ipython",
    "version": 3
   },
   "file_extension": ".py",
   "mimetype": "text/x-python",
   "name": "python",
   "nbconvert_exporter": "python",
   "pygments_lexer": "ipython3",
   "version": "3.11.7"
  }
 },
 "nbformat": 4,
 "nbformat_minor": 5
}
