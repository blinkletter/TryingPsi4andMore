{
 "cells": [
  {
   "cell_type": "markdown",
   "id": "c7af5f5d-2202-4356-b8aa-8f6aa1881389",
   "metadata": {},
   "source": [
    "# Visualizing Molecular Orbitals\n",
    "\n",
    "One of the most informative things that quantum mechanical calculations with molecules can give you is a visual picture of the molecular orbitals. The pictures can help explain patterns of reactivity. We can visualize these molecular orbitals right here in this notebook using the tools available to python.\n",
    "\n",
    "## The Cube File\n",
    "\n",
    "many QM programs can export \"volumetric data\" as cube files. this would be a data set of the value of the wavefunction at all points in space around a molecule. We can calculate the value at points in a xyz cubic lattice, hence the name. Then we can use math to visualize a surface that has a given value. Its just like contour lines on a map, but in 3-dimensions.\n",
    "\n",
    "The value of the wavefunction chosen to map the surface is called the 'isovalue'. We generally choose a value so that bonding orbitals appear in scale with the van der Walls size of the molecule. A wavefunction can have positive or negative values and these are expressed as a pair of colors, often red and blue.\n",
    "\n",
    "## The $\\pi$ System of Butadiene\n",
    "\n",
    "Let us use butadiene as an example and visualize the $\\pi$ orbitals. First we must have a geometry with which to calculate the wavefunctions. I will build *s-trans* butadiene and enforce $C_{2h}$ symmetry in the calculation. Usinging the highest symmetry that applies to a geometry will make the best molecular orbitals. "
   ]
  },
  {
   "cell_type": "code",
   "execution_count": 1,
   "id": "1e8610bd-9d82-415b-88de-a6ccd66cb670",
   "metadata": {},
   "outputs": [
    {
     "name": "stdout",
     "output_type": "stream",
     "text": [
      "\n",
      "  Memory set to   1.863 GiB by Python driver.\n",
      "Optimizer: Optimization complete!\n",
      "done\n"
     ]
    }
   ],
   "source": [
    "#### Build butadiene\n",
    "\n",
    "# use psi4conda environment\n",
    "import psi4\n",
    "import os\n",
    "import numpy as np\n",
    "import matplotlib.pyplot as plt\n",
    "import pandas as pd\n",
    "\n",
    "import helpers as hp # Many useful functions from https://lcbc-epfl.github.io/iesm-public/intro.html\n",
    "\n",
    "psi4.core.clean_options()\n",
    "\n",
    "output_file = \"butadiene_orb1.log\"\n",
    "\n",
    "psi4.set_memory(\"2GB\")\n",
    "psi4.set_output_file(output_file, append=False, loglevel=20, print_header=True, inherit_loglevel=True, execute=True)\n",
    "psi4.core.set_num_threads(4)\n",
    "\n",
    "# The Z-matrix as a text string ### From previous optimization\n",
    "data = \"\"\"\n",
    "       0 1\n",
    "    C1\n",
    "    C2      1    CC1\n",
    "    C3      2    CC2           1  A_321\n",
    "    C4      3    CC1           2  A_321           1     dihedral\n",
    "    H5      1    CH_5_9        2  CH_512          3     D3\n",
    "    H6      1    CH_6_10       5  CH_615          2     D2\n",
    "    H7      2    CH_7_8        1  CH_721          3     D1\n",
    "    H8      3    CH_7_8        4  CH_721          2     D1\n",
    "    H9      4    CH_5_9        3  CH_512          2     D3\n",
    "    H10     4    CH_6_10       9  CH_615          3     D2\n",
    "\n",
    "       symmetry c2h\n",
    "       dihedral  =  180     # s-trans\n",
    "       CC1 = 1.3\n",
    "       CC2 = 1.5\n",
    "       CH_5_9 = 1.0\n",
    "       CH_7_8 = 1.0\n",
    "       CH_6_10 = 1.0\n",
    "       A_321 = 120\n",
    "       CH_512 = 120\n",
    "       CH_615 = 120\n",
    "       CH_721 = 120\n",
    "       D1 = 180\n",
    "       D2 = 180\n",
    "       D3 = 180\n",
    "\n",
    "       units angstrom\n",
    "       \"\"\" \n",
    "\n",
    "# Create the Molecule object\n",
    "mol = psi4.geometry(data)             # Create Molecule object from data string\n",
    "\n",
    "# Optimize the structure\n",
    "#psi4.set_options({\"FROZEN_DIHEDRAL\":\"1 2 3 4\"})\n",
    "\n",
    "energy, wfn, hist = psi4.optimize(\"hf/6-31+G(d)\", molecule = mol, return_wfn=True, return_history=True)\n",
    "print(\"done\")"
   ]
  },
  {
   "cell_type": "markdown",
   "id": "7c3c8323-1b20-429e-9f55-56dca20d58ad",
   "metadata": {},
   "source": [
    "## Calculate the Wavefunctions\n",
    "\n",
    "Most calculation driver functions in *Psi4* can calculate the wavefunctions if asked to do so. The ```return_wfn=True``` option will cause the function to return an additional object containing wavefunction data.\n",
    "\n",
    "Below we calculate the energy of theoptimized geometry using a minimal basis set, STO-3G. We have a somewaht accurate structure (the hf/6-31+G(d) optimization only took a few seconds rather than a few weeks, so it's not as accurate as we could be; time is money.) Calculating the energy will not change the geometry but the results will be based on a smaller set of orbitals. I find this makes wavefunctions that are more similar to the diagrams in an organic text book. using larger absis sets mixes in empty d and f orbitals that are not important in interpreting the chemistry of second row elements like carbon. These extra orbitals will especially alter thenhigher energy antibonding orbitals. This effect is going to give greater accuracy but I am looking to acheive conceptual clarity, not extra decimal places."
   ]
  },
  {
   "cell_type": "code",
   "execution_count": 2,
   "id": "57782fae-bacf-4047-a6ad-705e86af81d5",
   "metadata": {},
   "outputs": [
    {
     "name": "stdout",
     "output_type": "stream",
     "text": [
      "done\n"
     ]
    }
   ],
   "source": [
    "energy, wfn = psi4.energy(\"hf/STO-3G\", molecule = mol, return_wfn=True)\n",
    "\n",
    "print(\"done\")\n",
    "\n",
    "#hp.drawXYZ(mol)\n",
    "\n",
    "# psi4.set_output_file(\"temp.dat\", append=False, print_header=False)\n",
    "# mol.print_in_input_format()\n",
    "# !cat \"temp.dat\"     # cat is a terminal command that will print the contents of a file to stdout"
   ]
  },
  {
   "cell_type": "markdown",
   "id": "4790b4b0-17e1-45b0-afd2-a977a7807b3c",
   "metadata": {},
   "source": [
    "## Write the Cube Files\n",
    "\n",
    "Below we set some options for the cube files and then use the ```psi4.cubeprop()``` function to calculate the cubuc wavefunction values for each orbital. As you can see in the code below, we can calculate just a few selected orbitals if we wish. "
   ]
  },
  {
   "cell_type": "code",
   "execution_count": 5,
   "id": "d6552416-321a-4a9c-a7c6-3ebb2107240f",
   "metadata": {},
   "outputs": [],
   "source": [
    "psi4.set_options({\n",
    "#        \"CUBEPROP_ORBITALS\": [11,12,-11,-12],      # default => []   ### positive orbital numbers for alpha electron, negative for beta.\n",
    "         \"CUBEPROP_ORBITALS\": [],      # default => []\n",
    "         \"CUBEPROP_TASKS\": \"orbitals\", # default => \"orbitals\";  frontier_orbitals, density, LOL, basis_functions, dual_description\n",
    "         \"CUBEPROP_FILEPATH\": \"./cube/\"  \n",
    "    })\n",
    "\n",
    "psi4.cubeprop(wfn)"
   ]
  },
  {
   "cell_type": "markdown",
   "id": "d2a0f269-a9ef-4409-bd99-c286a5935aa3",
   "metadata": {},
   "source": [
    "## Read in the Cube Files and Visualize Orbitals\n",
    "\n",
    "The code below will call a function that will read in all the cube files in a directory and present the molecular orbitals visually. By simple counding of electron paire I know that the HOMO will be the 15th orbital (ranked in energy from loswest to highest). I can move the slider to identify the other $\\pi$ orbitals."
   ]
  },
  {
   "cell_type": "code",
   "execution_count": 7,
   "id": "e007c662-7f23-486c-acc4-32c3f3afec87",
   "metadata": {},
   "outputs": [
    {
     "data": {
      "application/vnd.jupyter.widget-view+json": {
       "model_id": "2b08f403238b4fd2a29e885f81904d51",
       "version_major": 2,
       "version_minor": 0
      },
      "text/plain": [
       "interactive(children=(Dropdown(description='Orbital:', options=('1', '10', '11', '12', '13', '14', '15', '16',…"
      ]
     },
     "metadata": {},
     "output_type": "display_data"
    }
   ],
   "source": [
    "hp.show_orbitals(wd=\"./cube/\", mol=mol)"
   ]
  },
  {
   "cell_type": "code",
   "execution_count": null,
   "id": "9bf53da5-fa51-4f49-8359-7a1708bcb51c",
   "metadata": {},
   "outputs": [],
   "source": []
  }
 ],
 "metadata": {
  "kernelspec": {
   "display_name": "Python 3 (ipykernel)",
   "language": "python",
   "name": "python3"
  },
  "language_info": {
   "codemirror_mode": {
    "name": "ipython",
    "version": 3
   },
   "file_extension": ".py",
   "mimetype": "text/x-python",
   "name": "python",
   "nbconvert_exporter": "python",
   "pygments_lexer": "ipython3",
   "version": "3.11.7"
  }
 },
 "nbformat": 4,
 "nbformat_minor": 5
}
