{
 "cells": [
  {
   "cell_type": "markdown",
   "id": "293d8c30-5c73-42ef-aee3-20787f9fe23f",
   "metadata": {},
   "source": [
    "# Constrainsts\n",
    "\n",
    "In life you must set boundaries and in computational chemistry you can do the same thing. Let us investigate the consequences of changing the bong angle in water. We can easily obtain an optimized geometry but we want to force the bond angle into values outside of that perfect value. Its easy to role to the bottom of an energy well but how do we cling to its steep slope? We must set anchors. In this case we will set constrainsts.\n",
    "\n",
    "## Optimize Bond Angle in Water\n",
    "\n",
    "First we will optimize the geometry of water as we have done in the previous exercise. We will set up the structure using a Z-matrix as that is the easiest way to access a bond angle. The Z-matrix set that angle when we built the geomtry in the first place. So let us repeat the optimization from the previous notebook."
   ]
  },
  {
   "cell_type": "code",
   "execution_count": 6,
   "id": "41abdc6f-853d-4d3d-9746-8df22ffd0d89",
   "metadata": {},
   "outputs": [
    {
     "name": "stdout",
     "output_type": "stream",
     "text": [
      "Before optimization: 110.000 degrees and 1.000 angstroms\n",
      "\n",
      "Optimizer: Optimization complete!\n",
      "The optimized energy for this configuration is -76.0270535 Hartree\n",
      "\n",
      "After optimization: 104.617 degrees and 0.946 angstroms\n",
      "\n"
     ]
    },
    {
     "data": {
      "application/3dmoljs_load.v0": "<div id=\"3dmolviewer_17150145079451818\"  style=\"position: relative; width: 400px; height: 400px;\">\n        <p id=\"3dmolwarning_17150145079451818\" style=\"background-color:#ffcccc;color:black\">3Dmol.js failed to load for some reason.  Please check your browser console for error messages.<br></p>\n        </div>\n<script>\n\nvar loadScriptAsync = function(uri){\n  return new Promise((resolve, reject) => {\n    //this is to ignore the existence of requirejs amd\n    var savedexports, savedmodule;\n    if (typeof exports !== 'undefined') savedexports = exports;\n    else exports = {}\n    if (typeof module !== 'undefined') savedmodule = module;\n    else module = {}\n\n    var tag = document.createElement('script');\n    tag.src = uri;\n    tag.async = true;\n    tag.onload = () => {\n        exports = savedexports;\n        module = savedmodule;\n        resolve();\n    };\n  var firstScriptTag = document.getElementsByTagName('script')[0];\n  firstScriptTag.parentNode.insertBefore(tag, firstScriptTag);\n});\n};\n\nif(typeof $3Dmolpromise === 'undefined') {\n$3Dmolpromise = null;\n  $3Dmolpromise = loadScriptAsync('https://cdnjs.cloudflare.com/ajax/libs/3Dmol/2.1.0/3Dmol-min.js');\n}\n\nvar viewer_17150145079451818 = null;\nvar warn = document.getElementById(\"3dmolwarning_17150145079451818\");\nif(warn) {\n    warn.parentNode.removeChild(warn);\n}\n$3Dmolpromise.then(function() {\nviewer_17150145079451818 = $3Dmol.createViewer(document.getElementById(\"3dmolviewer_17150145079451818\"),{backgroundColor:\"white\"});\nviewer_17150145079451818.zoomTo();\n\tviewer_17150145079451818.addModel(\"3\\n\\n O    0.000000000000    0.000000000000   -0.064755758219\\n H    0.000000000000   -0.748867829969    0.513860437432\\n H    0.000000000000    0.748867829969    0.513860437432\\n\",\"xyz\");\n\tviewer_17150145079451818.setStyle({\"stick\": {}, \"sphere\": {\"scale\": 0.1}});\n\tviewer_17150145079451818.zoomTo();\nviewer_17150145079451818.render();\n});\n</script>",
      "text/html": [
       "<div id=\"3dmolviewer_17150145079451818\"  style=\"position: relative; width: 400px; height: 400px;\">\n",
       "        <p id=\"3dmolwarning_17150145079451818\" style=\"background-color:#ffcccc;color:black\">3Dmol.js failed to load for some reason.  Please check your browser console for error messages.<br></p>\n",
       "        </div>\n",
       "<script>\n",
       "\n",
       "var loadScriptAsync = function(uri){\n",
       "  return new Promise((resolve, reject) => {\n",
       "    //this is to ignore the existence of requirejs amd\n",
       "    var savedexports, savedmodule;\n",
       "    if (typeof exports !== 'undefined') savedexports = exports;\n",
       "    else exports = {}\n",
       "    if (typeof module !== 'undefined') savedmodule = module;\n",
       "    else module = {}\n",
       "\n",
       "    var tag = document.createElement('script');\n",
       "    tag.src = uri;\n",
       "    tag.async = true;\n",
       "    tag.onload = () => {\n",
       "        exports = savedexports;\n",
       "        module = savedmodule;\n",
       "        resolve();\n",
       "    };\n",
       "  var firstScriptTag = document.getElementsByTagName('script')[0];\n",
       "  firstScriptTag.parentNode.insertBefore(tag, firstScriptTag);\n",
       "});\n",
       "};\n",
       "\n",
       "if(typeof $3Dmolpromise === 'undefined') {\n",
       "$3Dmolpromise = null;\n",
       "  $3Dmolpromise = loadScriptAsync('https://cdnjs.cloudflare.com/ajax/libs/3Dmol/2.1.0/3Dmol-min.js');\n",
       "}\n",
       "\n",
       "var viewer_17150145079451818 = null;\n",
       "var warn = document.getElementById(\"3dmolwarning_17150145079451818\");\n",
       "if(warn) {\n",
       "    warn.parentNode.removeChild(warn);\n",
       "}\n",
       "$3Dmolpromise.then(function() {\n",
       "viewer_17150145079451818 = $3Dmol.createViewer(document.getElementById(\"3dmolviewer_17150145079451818\"),{backgroundColor:\"white\"});\n",
       "viewer_17150145079451818.zoomTo();\n",
       "\tviewer_17150145079451818.addModel(\"3\\n\\n O    0.000000000000    0.000000000000   -0.064755758219\\n H    0.000000000000   -0.748867829969    0.513860437432\\n H    0.000000000000    0.748867829969    0.513860437432\\n\",\"xyz\");\n",
       "\tviewer_17150145079451818.setStyle({\"stick\": {}, \"sphere\": {\"scale\": 0.1}});\n",
       "\tviewer_17150145079451818.zoomTo();\n",
       "viewer_17150145079451818.render();\n",
       "});\n",
       "</script>"
      ]
     },
     "metadata": {},
     "output_type": "display_data"
    }
   ],
   "source": [
    "# use psi4conda environment\n",
    "import psi4\n",
    "import os\n",
    "import numpy as np\n",
    "import helpers as hp # Many useful functions from https://lcbc-epfl.github.io/iesm-public/intro.html\n",
    "\n",
    "output_file = \"H2O_constrainst_1.out\"\n",
    "psi4.set_memory(\"1GB\")\n",
    "psi4.set_output_file(output_file, append=False, loglevel=20, print_header=True, inherit_loglevel=True, execute=True)\n",
    "psi4.core.set_num_threads(4)\n",
    "\n",
    "# The Z-matrix as a text string\n",
    "data = \"\"\"\n",
    "       0 1\n",
    "       O1\n",
    "       H2  1  length\n",
    "       H3  1  length  2  angle\n",
    "       length = 1.0\n",
    "       angle = 110\n",
    "       units angstrom\n",
    "       \"\"\" \n",
    "\n",
    "# Create the Molecule object\n",
    "mol = psi4.geometry(data)             # Create Molecule object from data string\n",
    "\n",
    "psi4.core.clean_options()\n",
    "psi4.set_options({\n",
    "        \"BASIS\": \"cc-pvdz\",           # default => None - Basis set must be specified\n",
    "        \"SAVE_OPTIMIZATION\": True,    # default => False\n",
    "        \"MAXITER\": 100,               # default => 50\n",
    "        \"GEOM_MAXITER\": 100,          # default => 50\n",
    "        \"FULL_HESS_EVERY\": 5,         # default => -1\n",
    "        \"PRINT\": 2,                   # default => 1\n",
    "        \"GUESS\": \"sad\",               # default => auto\n",
    "        \"REFERENCE\": \"rhf\",           # default => rhf\n",
    "        \"SCF_TYPE\": \"direct\",         # default => pk\n",
    "        \"INTS_TOLERANCE\": 1E-8        # default => 1e-12. A value of 1e-8 is recommended when SCF_TYPE set to \"direct\"\n",
    "    })\n",
    "\n",
    "start_angle = mol.get_variable(\"angle\")\n",
    "start_length = mol.get_variable(\"length\")\n",
    "print(f\"Before optimization: {start_angle:.3f} degrees and {start_length:.3f} angstroms\\n\") \n",
    "\n",
    "\n",
    "opt_energy, hist = psi4.optimize(\"hf\", molecule = mol, return_history=True)\n",
    "print(f\"The optimized energy for this configuration is {opt_energy:.7f} Hartree\\n\")\n",
    "\n",
    "mol.print_out()\n",
    "mol.print_distances()\n",
    "mol.print_bond_angles()\n",
    "mol.print_in_input_format()\n",
    "\n",
    "opt_angle = mol.get_variable(\"angle\")\n",
    "opt_length = mol.get_variable(\"length\")\n",
    "\n",
    "print(f\"After optimization: {opt_angle:.3f} degrees and {opt_length:.3f} angstroms\\n\") \n",
    "\n",
    "hp.drawXYZ(mol)  # This command form the 'helpers' library will display the molecule\n",
    "                 # Does it look like what you expect?"
   ]
  },
  {
   "cell_type": "markdown",
   "id": "74202a9e-0f0b-4cc2-ace8-96db4eeced54",
   "metadata": {},
   "source": [
    "## Changing a Variable\n",
    "\n",
    "One way to investigate the effect of changing bond angle on energy would be to take this optimized structure and simply assign new bond angles and then calculate the energy. This is a simplistic approach becuase one knows that the bond length will change slightly with bond angle due to changes in hydridization (e.g., $sp^2$ bonds are shorter than $sp^3$ bonds.) However let us use this simple way to start.\n",
    "\n",
    "### Scanning the Bond Angle\n",
    "\n",
    "We have set up the geometry with a variable named \"angle.\" That variable has been changed in the optimization but we can change it manually using the ```.set_variable()``` method of the Molecule object. We will set the angle to whatever we want, then update the geomtry (recalculate the *xyz* cartesian coordinates with the new angle). After that we will calculate the energy of the new geometry. Rinse and repeat through a series of values.\n",
    "\n",
    "Recall how we did this with *Gamess*. We took the inoput file that we had constructed using the optimized geometry and then used the awesome text tools of *Unix* to change the angle (*grep*, *sed* and *awk* are the secret underpinning of modern science.) Then we subitted a whole batch of input files with different bond angles into *Gamess* on-at-a-time using the batch-queueing program *GamessQ*. But with the power of *Python* we cane do all this inside this notebook. We are using *Psi4* because it has an *Python* API that can be imported and used in a notebook like this.\n",
    "\n",
    "In the code below we pick values from a range of values and asign them in turn to the variable \"angle.\" in each case we caluclate the energy and append that value to a list. After the series of calculations is complete we will have a list of angles and a list of energies.\n",
    "\n"
   ]
  },
  {
   "cell_type": "code",
   "execution_count": 7,
   "id": "6914da68-dc4f-43df-a66f-60eec8a98288",
   "metadata": {},
   "outputs": [
    {
     "name": "stdout",
     "output_type": "stream",
     "text": [
      "[94.61673136612164, 95.61673136612164, 96.61673136612164, 97.61673136612164, 98.61673136612164, 99.61673136612164, 100.61673136612164, 101.61673136612164, 102.61673136612164, 103.61673136612164, 104.61673136612164, 105.61673136612164, 106.61673136612164, 107.61673136612164, 108.61673136612164, 109.61673136612164, 110.61673136612164, 111.61673136612164, 112.61673136612164, 113.61673136612164, 114.61673136612164]\n",
      "[-76.02414167848654, -76.02470712395642, -76.02520940052871, -76.02564930214105, -76.02602764379729, -76.02634526282874, -76.02660301992034, -76.02680179991108, -76.02694251239873, -76.02702609214273, -76.0270534993042, -76.02702571953358, -76.02694376393174, -76.02680866890528, -76.0266214959377, -76.02638333129995, -76.02609528571924, -76.02575849402528, -76.02537411479129, -76.02494332998518, -76.02446734464365]\n",
      "[0.9463613097709768, 0.9463613097709768, 0.9463613097709765, 0.9463613097709763, 0.9463613097709763, 0.9463613097709762, 0.9463613097709763, 0.9463613097709759, 0.9463613097709759, 0.946361309770976, 0.9463613097709754, 0.9463613097709754, 0.9463613097709752, 0.946361309770975, 0.946361309770975, 0.9463613097709749, 0.9463613097709747, 0.9463613097709741, 0.9463613097709741, 0.946361309770974, 0.9463613097709738]\n"
     ]
    }
   ],
   "source": [
    "output_file = \"H2O_constrainst_2.out\"\n",
    "psi4.set_memory(\"1GB\")\n",
    "psi4.set_output_file(output_file, append=False, loglevel=20, print_header=True, inherit_loglevel=True, execute=True)\n",
    "psi4.core.set_num_threads(4)\n",
    "\n",
    "deviation = 10\n",
    "\n",
    "start = opt_angle - deviation\n",
    "end = opt_angle + deviation\n",
    "number_of_points = 2 * deviation + 1\n",
    "range_of_values = np.linspace(start, end, number_of_points) \n",
    "\n",
    "# We could also enter a set of values at which to to measure energies. try the range below and\n",
    "# observe the energy profile. Can you explain it?\n",
    "#range_of_values = [75,90,100,105,110,120,130,140,150,160,170,175,180,185,190,200,220,230,] \n",
    "#range_of_values = [90,105,120,178] \n",
    "\n",
    "angle_list = []\n",
    "energy_list = []\n",
    "length_list = []\n",
    "\n",
    "\n",
    "for angle in range_of_values:\n",
    "    mol.set_variable(\"angle\", angle)\n",
    "    energy = psi4.energy(\"hf\", molecule = mol)\n",
    "    angle_list.append(angle)\n",
    "    energy_list.append(energy)\n",
    "    length_list.append(mol.get_variable(\"length\"))\n",
    "\n",
    "print(angle_list)\n",
    "print(energy_list)\n",
    "print(length_list)"
   ]
  },
  {
   "cell_type": "markdown",
   "id": "c3152656-7448-49d4-b453-495c5a545241",
   "metadata": {},
   "source": [
    "## Data Handling\n",
    "\n",
    "We just generated some data. List of numbers are kind of useless. We need to do some data manipulation.\n",
    "\n",
    "A convenient tool for data handling is the *Pandas* library. It provides a powerful data object, the dataframe. We will combine the two lists into a dataframe. Then we will print the dataframe. We can output the dataframe as a csv file for future analysis. In many ways, we can manipulate a dataframe like a spreadsheet. Consider the code below."
   ]
  },
  {
   "cell_type": "code",
   "execution_count": 8,
   "id": "8618a40e-138f-4616-9de1-c205f30e1f86",
   "metadata": {},
   "outputs": [
    {
     "name": "stdout",
     "output_type": "stream",
     "text": [
      "       angle     energy\n",
      "0  94.616731 -76.024142\n",
      "1  95.616731 -76.024707\n",
      "2  96.616731 -76.025209\n",
      "3  97.616731 -76.025649\n",
      "4  98.616731 -76.026028\n"
     ]
    }
   ],
   "source": [
    "import pandas as pd\n",
    "\n",
    "data_dictionary = {\"angle\": angle_list,\n",
    "                   \"energy\": energy_list}\n",
    "\n",
    "df = pd.DataFrame.from_dict(data_dictionary)\n",
    "#df.set_index('angle', inplace=True)\n",
    "print(df.head())"
   ]
  },
  {
   "cell_type": "markdown",
   "id": "cf2ecb34-0db7-40a3-9c61-dc009a73a7e1",
   "metadata": {},
   "source": [
    "### Math with a Dataframe\n",
    "\n",
    "Lets do some math. We know the optimized energy from previous calulations above. We will subtract this lowets energy value from the energy column of the dataframe. Then we will multiply this column of relative energy values by a conversion factor to get kJ/mole rather than Hartrees."
   ]
  },
  {
   "cell_type": "code",
   "execution_count": 9,
   "id": "3b440b0b-4671-4072-b223-6946935f42ec",
   "metadata": {},
   "outputs": [
    {
     "name": "stdout",
     "output_type": "stream",
     "text": [
      "       angle    energy\n",
      "0  94.616731  7.644985\n",
      "1  95.616731  6.160408\n",
      "2  96.616731  4.841681\n",
      "3  97.616731  3.686719\n",
      "4  98.616731  2.693383\n"
     ]
    }
   ],
   "source": [
    "df[\"energy\"] = df[\"energy\"] - opt_energy\n",
    "df[\"energy\"] = df[\"energy\"] * psi4.constants.hartree2kJmol\n",
    "\n",
    "print(df.head())"
   ]
  },
  {
   "cell_type": "markdown",
   "id": "bc3b619b-cc23-4997-af81-87a51234616f",
   "metadata": {},
   "source": [
    "### A Quick Plot\n",
    "\n",
    "The dataframe object is very powerful. It contains a method that will plot the data. In the example below, we set which columns were to be used in the x and y-axis of the plot. Does this look like a typical energy profile for a vibration? the angle decreasing and increasing on either side of the optimal value is just like a bending vibration."
   ]
  },
  {
   "cell_type": "code",
   "execution_count": 10,
   "id": "5165025d-4f52-4677-8d85-8f5e8deec70d",
   "metadata": {},
   "outputs": [
    {
     "data": {
      "text/plain": [
       "<Axes: xlabel='angle'>"
      ]
     },
     "execution_count": 10,
     "metadata": {},
     "output_type": "execute_result"
    },
    {
     "data": {
      "image/png": "[encoded data removed]",
      "text/plain": [
       "<Figure size 640x480 with 1 Axes>"
      ]
     },
     "metadata": {},
     "output_type": "display_data"
    }
   ],
   "source": [
    "df.plot(x=\"angle\", y = \"energy\", kind=\"line\")   # try kind=\"scatter\" as well"
   ]
  },
  {
   "cell_type": "markdown",
   "id": "8df6aa90-415e-48e1-ae2a-1e950d21aed5",
   "metadata": {},
   "source": [
    "## A Relaxed Scan\n",
    "\n",
    "The above scan of bond angles and energies was performed by merely setting the angle. This works well with a simple molecule like water, but in more complex cases we might be passing atoms through other atoms when we change a bond angle that moves a whole section of the molecule at the other end of that bond. *Psi4* is not built to model nuclear fusion. So be aware of that whenever chaning bond lengths, angles and torsions.\n",
    "\n",
    "Even in a simple molecule we are not accounting for other changes that would occur when we change a parameter.  The O–H bond length will change slightly as we change bond angle. We are not actually at the lowest energy for a bond angle of 100 degrees unless we allow the bond lengths to \"relax\" and be optimized to the new values that result in the lowest energy for the case of that bond angle.\n",
    "\n",
    "### Setting up Constraints\n",
    "\n",
    "If you are familiar with *Gamess* you will know that there are several ways to contrain parameters in the geometry of a molecule. The same is true for *Psi4*. Here will will give you one example of a way to constrain a value.\n",
    "\n",
    "In the list of options available to *Psi4* (which you can access with ```psi4.core.print_global_options()```) we see the following tempting values that can be set...\n",
    "\n",
    "> FROZEN_DISTANCE\n",
    "  FROZEN_BEND               \n",
    "  FROZEN_DIHEDRAL           \n",
    "\n",
    "I think that ```FROZEN_BEND``` is the one we need. It will take a string of numbers in groups of three, one group for each frozen bend. But what numbers should we use. Let us examine the input string above (reproduced below).\n",
    "\n",
    "> ```\n",
    "O1\n",
    "H2  1  length\n",
    "H3  1  length  2  angle\n",
    "length = 1.0\n",
    "angle = 110 \n",
    "\n",
    "We see that the atoms are numberes with the oxygen being atom \\#1. The bend defined by the variable \"angle\" is the bend from atoms \\#3 (hydrogen)through atom \\#1 (oxygen) to atom \\#2 (hydrogen). The command below will add the text string ```\"3 1 2\"``` to the ```FROZEN_BEND``` option (which is empty by default).\n"
   ]
  },
  {
   "cell_type": "code",
   "execution_count": 11,
   "id": "5aedb845-5e63-4864-a303-a4ef14582c11",
   "metadata": {},
   "outputs": [],
   "source": [
    "psi4.set_options({\"FROZEN_BEND\":\"3 1 2\"})\n"
   ]
  },
  {
   "cell_type": "markdown",
   "id": "0619e705-35ce-4f5a-81ed-48fcd124be21",
   "metadata": {},
   "source": [
    "### Optimization with Constraints\n",
    "\n",
    "Next we will perform the optimization of the water by setting the angle variable as above. this time rather than calculate the energy of the structiure as given, we will optimize using the new angle, which is frozen. All other parameters (in this case only the O–H bond lengths) will be allowed to optimize.\n",
    "\n",
    "By setting a frozen variable and allowing all others to optimize, we are finding the \"relaxed\" structure for the given constraint.\n"
   ]
  },
  {
   "cell_type": "code",
   "execution_count": 12,
   "id": "ff70be39-43b4-40d3-9cd8-004b37bfdca8",
   "metadata": {},
   "outputs": [
    {
     "name": "stdout",
     "output_type": "stream",
     "text": [
      "Warning: thermodynamics relations excluded imaginary frequencies: ['586.9154i' '308.5268i']\n",
      "Warning: used thermodynamics relations inappropriate for low-frequency modes: ['495.9832']\n",
      "Optimizer: Optimization complete!\n",
      "Warning: thermodynamics relations excluded imaginary frequencies: ['460.1820i']\n",
      "Warning: used thermodynamics relations inappropriate for low-frequency modes: ['67.3608' '557.0453']\n",
      "Optimizer: Optimization complete!\n",
      "Warning: thermodynamics relations excluded imaginary frequencies: ['426.0607i']\n",
      "Warning: used thermodynamics relations inappropriate for low-frequency modes: ['81.7137' '530.2952']\n",
      "Optimizer: Optimization complete!\n",
      "Optimizer: Optimization complete!\n",
      "Optimizer: Optimization complete!\n",
      "Optimizer: Optimization complete!\n",
      "Optimizer: Optimization complete!\n",
      "Optimizer: Optimization complete!\n",
      "Optimizer: Optimization complete!\n",
      "Optimizer: Optimization complete!\n",
      "Optimizer: Optimization complete!\n",
      "Optimizer: Optimization complete!\n",
      "Optimizer: Optimization complete!\n",
      "Optimizer: Optimization complete!\n",
      "Optimizer: Optimization complete!\n",
      "Optimizer: Optimization complete!\n",
      "Optimizer: Optimization complete!\n",
      "Optimizer: Optimization complete!\n",
      "Optimizer: Optimization complete!\n",
      "Warning: thermodynamics relations excluded imaginary frequencies: ['597.9208i']\n",
      "Warning: used thermodynamics relations inappropriate for low-frequency modes: ['63.1825' '380.9989']\n",
      "Optimizer: Optimization complete!\n",
      "Warning: thermodynamics relations excluded imaginary frequencies: ['633.7226i']\n",
      "Warning: used thermodynamics relations inappropriate for low-frequency modes: ['57.5101' '394.8710']\n",
      "Optimizer: Optimization complete!\n",
      "[94.61673136612163, 95.61673136612164, 96.61673136612157, 97.6167313661216, 98.61673136612163, 99.61673136612164, 100.61673136612166, 101.61673136612163, 102.6167313661216, 103.61673136612167, 104.61673136612157, 105.61673136612164, 106.61673136612157, 107.61673136612161, 108.61673136612163, 109.61673136612163, 110.61673136612161, 111.61673136612163, 112.61673136612164, 113.61673136612166, 114.61673136612167]\n",
      "[-76.0241968461681, -76.02475060042599, -76.0252427858734, -76.0256741125335, -76.0260453018704, -76.02635710316346, -76.02661029399174, -76.02680568060069, -76.02694409816833, -76.02702641096138, -76.02705351239825, -76.02702632502526, -76.0269458004146, -76.02681291899654, -76.02662868983813, -76.02639415037689, -76.0261103661234, -76.02577843034653, -76.02539946374448, -76.02497461411976, -76.02450505606069]\n",
      "[0.9513026383036285, 0.9508190921868693, 0.9502645974950227, 0.9497239070494972, 0.9491962785504937, 0.9486813074525041, 0.948178614120604, 0.9476878392099664, 0.9472086382499645, 0.9467406766406703, 0.9462836250966041, 0.945837155570617, 0.9454009376828972, 0.9449746356725313, 0.9445579058802698, 0.9441503947634126, 0.9437517374355955, 0.9433615567172795, 0.9429794626762006, 0.9426050526317439, 0.9422379115926471]\n"
     ]
    }
   ],
   "source": [
    "output_file = \"H2O_constrainst_3.out\"\n",
    "psi4.set_memory(\"1GB\")\n",
    "psi4.set_output_file(output_file, append=False, loglevel=20, print_header=True, inherit_loglevel=True, execute=True)\n",
    "psi4.core.set_num_threads(4)\n",
    "\n",
    "deviation = 10\n",
    "\n",
    "start = opt_angle - deviation\n",
    "end = opt_angle + deviation\n",
    "number_of_points = 2 * deviation + 1\n",
    "range_of_values = np.linspace(start, end, number_of_points) \n",
    "\n",
    "# We could also enter a set of values at which to to measure energies. try the range below and\n",
    "# observe the energy profile. Can you explain it?\n",
    "#range_of_values = [75,90,100,105,110,120,130,140,150,160,170,175,179,185,190,200,220,230,] \n",
    "#range_of_values = [90,105,120,178]   # Cant use a bend of 180 in a Z-matrix\n",
    "\n",
    "angle_list = []\n",
    "energy_list = []\n",
    "length_list = []\n",
    "\n",
    "for angle in range_of_values:\n",
    "    mol.set_variable(\"angle\", angle)\n",
    "    energy = psi4.optimize(\"hf\", molecule = mol)\n",
    "    angle_list.append(mol.get_variable(\"angle\"))\n",
    "    energy_list.append(energy)\n",
    "    length_list.append(mol.get_variable(\"length\"))\n",
    "\n",
    "print(angle_list)\n",
    "print(energy_list)\n",
    "print(length_list)"
   ]
  },
  {
   "cell_type": "markdown",
   "id": "ed6c4c7b-7884-4572-a485-b4b23434f3fe",
   "metadata": {},
   "source": [
    "### More Data to Examine\n",
    "\n",
    "Now let us examine the data from this calculation. We will plot the energy and also the bond distance as the angle changes. Examine the code below and follow it through to see how it works. Its all been cut and pasted from above with some changes made (we have three columns in our data now.)"
   ]
  },
  {
   "cell_type": "code",
   "execution_count": 14,
   "id": "31dcb8fe-1bea-433a-b820-cedbd142385b",
   "metadata": {},
   "outputs": [
    {
     "name": "stdout",
     "output_type": "stream",
     "text": [
      "         angle    energy    length\n",
      "0    94.616731  7.500142  0.951303\n",
      "1    95.616731  6.046260  0.950819\n",
      "2    96.616731  4.754027  0.950265\n",
      "3    97.616731  3.621580  0.949724\n",
      "4    98.616731  2.647022  0.949196\n",
      "5    99.616731  1.828388  0.948681\n",
      "6   100.616731  1.163635  0.948179\n",
      "7   101.616731  0.650648  0.947688\n",
      "8   102.616731  0.287233  0.947209\n",
      "9   103.616731  0.071120  0.946741\n",
      "10  104.616731 -0.000034  0.946284\n",
      "11  105.616731  0.071346  0.945837\n",
      "12  106.616731  0.282763  0.945401\n",
      "13  107.616731  0.631644  0.944975\n",
      "14  108.616731  1.115337  0.944558\n",
      "15  109.616731  1.731120  0.944150\n",
      "16  110.616731  2.476196  0.943752\n",
      "17  111.616731  3.347693  0.943362\n",
      "18  112.616731  4.342670  0.942979\n",
      "19  113.616731  5.458112  0.942605\n",
      "20  114.616731  6.690937  0.942238\n"
     ]
    },
    {
     "data": {
      "text/plain": [
       "<Axes: xlabel='angle', ylabel='length'>"
      ]
     },
     "execution_count": 14,
     "metadata": {},
     "output_type": "execute_result"
    },
    {
     "data": {
      "image/png": "[encoded data removed]",
      "text/plain": [
       "<Figure size 640x480 with 1 Axes>"
      ]
     },
     "metadata": {},
     "output_type": "display_data"
    },
    {
     "data": {
      "image/png": "[encoded data removed]",
      "text/plain": [
       "<Figure size 640x480 with 1 Axes>"
      ]
     },
     "metadata": {},
     "output_type": "display_data"
    }
   ],
   "source": [
    "data_dictionary = {\"angle\": angle_list,\n",
    "                   \"energy\": energy_list,\n",
    "                   \"length\": length_list}\n",
    "\n",
    "df = pd.DataFrame.from_dict(data_dictionary)\n",
    "\n",
    "df[\"energy\"] = df[\"energy\"] - opt_energy\n",
    "df[\"energy\"] = df[\"energy\"] * psi4.constants.hartree2kJmol\n",
    "\n",
    "#df.set_index('angle', inplace=True)\n",
    "print(df)\n",
    "\n",
    "df.plot(x=\"angle\", y = \"energy\", kind=\"line\")   # try kind=\"scatter\" as well\n",
    "df.plot(x=\"angle\", y = \"length\", kind=\"scatter\")   # try kind=\"scatter\" as well"
   ]
  },
  {
   "cell_type": "markdown",
   "id": "7e76d390-3fa0-4d13-9b87-74bbb5d8c3cc",
   "metadata": {},
   "source": [
    "## Conclusions\n",
    "\n",
    "We surveyed the effect of changing the bend angle in water using single-point energy calculations of tsructures at various bend angles and using a relaxed scan of the same series of bend angles. \n",
    "\n",
    "In the relaxed scan we observed that the O–H bond length did change by about 1\\% as the bend angle was changed between 95 degrees and 115 degrees. The relaxed energies were indeed measurably lower between the simpler single-point calculations and the relaxed scan. Try the series of angles that includes more extreme values and see how much the energies and bond lengths differ between single-point and relaxed scans."
   ]
  },
  {
   "cell_type": "markdown",
   "id": "ced184a1-9e17-4648-ab78-afcf5cdadc9a",
   "metadata": {},
   "source": [
    "## Exporting Data\n",
    "\n",
    "As a final note, let us discuss exporting data. We have dataframes of our coordinate scans as we varied the bend angle in water in a series of singlepoint calculations and in a relaxed scan. We can expoert these data sets as a csv text file for later use.\n",
    "\n",
    "The code below will create a csv file from whatever data is in the current dataframe named \"df\". We could then import that data into another program and make fancy plots or create data tables in your thesis. The next line in the code will read in a dataframe from a csv file. So the next program could be another python program."
   ]
  },
  {
   "cell_type": "code",
   "execution_count": 15,
   "id": "54e06373-d574-49bc-b853-35e047445215",
   "metadata": {},
   "outputs": [
    {
     "name": "stdout",
     "output_type": "stream",
     "text": [
      "         angle    energy    length\n",
      "0    94.616731  7.500142  0.951303\n",
      "1    95.616731  6.046260  0.950819\n",
      "2    96.616731  4.754027  0.950265\n",
      "3    97.616731  3.621580  0.949724\n",
      "4    98.616731  2.647022  0.949196\n",
      "5    99.616731  1.828388  0.948681\n",
      "6   100.616731  1.163635  0.948179\n",
      "7   101.616731  0.650648  0.947688\n",
      "8   102.616731  0.287233  0.947209\n",
      "9   103.616731  0.071120  0.946741\n",
      "10  104.616731 -0.000034  0.946284\n",
      "11  105.616731  0.071346  0.945837\n",
      "12  106.616731  0.282763  0.945401\n",
      "13  107.616731  0.631644  0.944975\n",
      "14  108.616731  1.115337  0.944558\n",
      "15  109.616731  1.731120  0.944150\n",
      "16  110.616731  2.476196  0.943752\n",
      "17  111.616731  3.347693  0.943362\n",
      "18  112.616731  4.342670  0.942979\n",
      "19  113.616731  5.458112  0.942605\n",
      "20  114.616731  6.690937  0.942238\n"
     ]
    }
   ],
   "source": [
    "df.to_csv(\"data_file_name.csv\", index = False)\n",
    "df2 = pd.read_csv(\"data_file_name.csv\")\n",
    "\n",
    "print(df2)"
   ]
  },
  {
   "cell_type": "code",
   "execution_count": null,
   "id": "de85c9ac-d061-40f0-be7d-2899a14d5ea2",
   "metadata": {},
   "outputs": [],
   "source": []
  }
 ],
 "metadata": {
  "kernelspec": {
   "display_name": "Python 3 (ipykernel)",
   "language": "python",
   "name": "python3"
  },
  "language_info": {
   "codemirror_mode": {
    "name": "ipython",
    "version": 3
   },
   "file_extension": ".py",
   "mimetype": "text/x-python",
   "name": "python",
   "nbconvert_exporter": "python",
   "pygments_lexer": "ipython3",
   "version": "3.11.7"
  }
 },
 "nbformat": 4,
 "nbformat_minor": 5
}
