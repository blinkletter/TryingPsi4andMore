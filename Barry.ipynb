{
 "cells": [
  {
   "cell_type": "code",
   "execution_count": null,
   "id": "62e05e9a-5cc9-4d70-be39-32a31e436b33",
   "metadata": {},
   "outputs": [],
   "source": [
    "\n"
   ]
  },
  {
   "cell_type": "code",
   "execution_count": 4,
   "id": "775325e7-0243-493c-a18c-e03844006017",
   "metadata": {},
   "outputs": [
    {
     "name": "stdout",
     "output_type": "stream",
     "text": [
      "start\n",
      "Warning: thermodynamics relations excluded imaginary frequencies: ['732.0989i']\n",
      "Warning: used thermodynamics relations inappropriate for low-frequency modes: ['472.2194']\n",
      "Warning: thermodynamics relations excluded imaginary frequencies: ['722.9359i']\n",
      "Warning: used thermodynamics relations inappropriate for low-frequency modes: ['475.1528']\n"
     ]
    },
    {
     "ename": "ValueError",
     "evalue": "math domain error",
     "output_type": "error",
     "traceback": [
      "\u001b[0;31m---------------------------------------------------------------------------\u001b[0m",
      "\u001b[0;31mValueError\u001b[0m                                Traceback (most recent call last)",
      "Cell \u001b[0;32mIn[4], line 40\u001b[0m\n\u001b[1;32m     28\u001b[0m psi4\u001b[38;5;241m.\u001b[39mset_options({\n\u001b[1;32m     29\u001b[0m      \u001b[38;5;124m\"\u001b[39m\u001b[38;5;124mgeom_maxiter\u001b[39m\u001b[38;5;124m\"\u001b[39m:\u001b[38;5;241m500\u001b[39m,\n\u001b[1;32m     30\u001b[0m      \u001b[38;5;124m\"\u001b[39m\u001b[38;5;124mfull_hess_every\u001b[39m\u001b[38;5;124m\"\u001b[39m:\u001b[38;5;241m1\u001b[39m,                \u001b[38;5;66;03m# Tried -1 and 0\u001b[39;00m\n\u001b[0;32m   (...)\u001b[0m\n\u001b[1;32m     37\u001b[0m      \u001b[38;5;124m\"\u001b[39m\u001b[38;5;124mIRC_POINTS\u001b[39m\u001b[38;5;124m\"\u001b[39m: \u001b[38;5;241m10\u001b[39m                     \u001b[38;5;66;03m# Tried 20 and 25\u001b[39;00m\n\u001b[1;32m     38\u001b[0m      })\n\u001b[1;32m     39\u001b[0m \u001b[38;5;28mprint\u001b[39m(\u001b[38;5;124m\"\u001b[39m\u001b[38;5;124mstart\u001b[39m\u001b[38;5;124m\"\u001b[39m)\n\u001b[0;32m---> 40\u001b[0m E, history \u001b[38;5;241m=\u001b[39m \u001b[43mpsi4\u001b[49m\u001b[38;5;241;43m.\u001b[39;49m\u001b[43moptimize\u001b[49m\u001b[43m(\u001b[49m\u001b[38;5;124;43m'\u001b[39;49m\u001b[38;5;124;43mb3pw91/6-31+G(d)\u001b[39;49m\u001b[38;5;124;43m'\u001b[39;49m\u001b[43m,\u001b[49m\u001b[43mmolecule\u001b[49m\u001b[38;5;241;43m=\u001b[39;49m\u001b[43mmol\u001b[49m\u001b[43m,\u001b[49m\u001b[43m \u001b[49m\u001b[43mreturn_history\u001b[49m\u001b[38;5;241;43m=\u001b[39;49m\u001b[38;5;28;43;01mTrue\u001b[39;49;00m\u001b[43m)\u001b[49m\n\u001b[1;32m     41\u001b[0m \u001b[38;5;28mprint\u001b[39m(\u001b[38;5;124m\"\u001b[39m\u001b[38;5;124mdone\u001b[39m\u001b[38;5;124m\"\u001b[39m)\n",
      "File \u001b[0;32m~/psi4conda/lib/python3.11/site-packages/psi4/driver/driver.py:1272\u001b[0m, in \u001b[0;36moptimize\u001b[0;34m(name, **kwargs)\u001b[0m\n\u001b[1;32m   1270\u001b[0m opt_object\u001b[38;5;241m.\u001b[39mcompute()  \u001b[38;5;66;03m# process E, gX, H\u001b[39;00m\n\u001b[1;32m   1271\u001b[0m \u001b[38;5;28;01mtry\u001b[39;00m:\n\u001b[0;32m-> 1272\u001b[0m     \u001b[43mopt_object\u001b[49m\u001b[38;5;241;43m.\u001b[39;49m\u001b[43mtake_step\u001b[49m\u001b[43m(\u001b[49m\u001b[43m)\u001b[49m\n\u001b[1;32m   1273\u001b[0m \u001b[38;5;28;01mexcept\u001b[39;00m optking\u001b[38;5;241m.\u001b[39mexceptions\u001b[38;5;241m.\u001b[39mAlgError:\n\u001b[1;32m   1274\u001b[0m     \u001b[38;5;66;03m# Optking encountered an algorithm error and reset.\u001b[39;00m\n\u001b[1;32m   1275\u001b[0m     \u001b[38;5;28;01mif\u001b[39;00m \u001b[38;5;129;01mnot\u001b[39;00m opt_object\u001b[38;5;241m.\u001b[39mHX:\n",
      "File \u001b[0;32m~/psi4conda/lib/python3.11/site-packages/optking/opt_helper.py:174\u001b[0m, in \u001b[0;36mHelper.take_step\u001b[0;34m(self)\u001b[0m\n\u001b[1;32m    172\u001b[0m \u001b[38;5;28mself\u001b[39m\u001b[38;5;241m.\u001b[39mopt_manager\u001b[38;5;241m.\u001b[39merror \u001b[38;5;241m=\u001b[39m \u001b[38;5;28;01mNone\u001b[39;00m\n\u001b[1;32m    173\u001b[0m \u001b[38;5;28;01mtry\u001b[39;00m:\n\u001b[0;32m--> 174\u001b[0m     \u001b[38;5;28mself\u001b[39m\u001b[38;5;241m.\u001b[39mdq, \u001b[38;5;28mself\u001b[39m\u001b[38;5;241m.\u001b[39mstep_str \u001b[38;5;241m=\u001b[39m \u001b[38;5;28;43mself\u001b[39;49m\u001b[38;5;241;43m.\u001b[39;49m\u001b[43mopt_manager\u001b[49m\u001b[38;5;241;43m.\u001b[39;49m\u001b[43mtake_step\u001b[49m\u001b[43m(\u001b[49m\u001b[38;5;28;43mself\u001b[39;49m\u001b[38;5;241;43m.\u001b[39;49m\u001b[43mfq\u001b[49m\u001b[43m,\u001b[49m\u001b[43m \u001b[49m\u001b[38;5;28;43mself\u001b[39;49m\u001b[38;5;241;43m.\u001b[39;49m\u001b[43m_Hq\u001b[49m\u001b[43m,\u001b[49m\u001b[43m \u001b[49m\u001b[38;5;28;43mself\u001b[39;49m\u001b[38;5;241;43m.\u001b[39;49m\u001b[43mE\u001b[49m\u001b[43m,\u001b[49m\u001b[43m \u001b[49m\u001b[43mreturn_str\u001b[49m\u001b[38;5;241;43m=\u001b[39;49m\u001b[38;5;28;43;01mTrue\u001b[39;49;00m\u001b[43m)\u001b[49m\n\u001b[1;32m    175\u001b[0m \u001b[38;5;28;01mexcept\u001b[39;00m AlgError \u001b[38;5;28;01mas\u001b[39;00m e:\n\u001b[1;32m    176\u001b[0m     \u001b[38;5;28mself\u001b[39m\u001b[38;5;241m.\u001b[39mopt_manager\u001b[38;5;241m.\u001b[39malg_error_handler(e)\n",
      "File \u001b[0;32m~/psi4conda/lib/python3.11/site-packages/optking/optimize.py:232\u001b[0m, in \u001b[0;36mOptimizationManager.take_step\u001b[0;34m(self, fq, H, energy, return_str, **kwargs)\u001b[0m\n\u001b[1;32m    229\u001b[0m \u001b[38;5;28mself\u001b[39m\u001b[38;5;241m.\u001b[39mcurrent_requirements \u001b[38;5;241m=\u001b[39m \u001b[38;5;28mself\u001b[39m\u001b[38;5;241m.\u001b[39mupdate_requirements()\n\u001b[1;32m    231\u001b[0m \u001b[38;5;28;01mif\u001b[39;00m \u001b[38;5;129;01mnot\u001b[39;00m \u001b[38;5;28mself\u001b[39m\u001b[38;5;241m.\u001b[39mparams\u001b[38;5;241m.\u001b[39mlinesearch:\n\u001b[0;32m--> 232\u001b[0m     achieved_dq, returned_str \u001b[38;5;241m=\u001b[39m \u001b[38;5;28;43mself\u001b[39;49m\u001b[38;5;241;43m.\u001b[39;49m\u001b[43mopt_method\u001b[49m\u001b[38;5;241;43m.\u001b[39;49m\u001b[43mtake_step\u001b[49m\u001b[43m(\u001b[49m\u001b[43mfq\u001b[49m\u001b[43m,\u001b[49m\u001b[43m \u001b[49m\u001b[43mH\u001b[49m\u001b[43m,\u001b[49m\u001b[43m \u001b[49m\u001b[43menergy\u001b[49m\u001b[43m,\u001b[49m\u001b[43m \u001b[49m\u001b[43mreturn_str\u001b[49m\u001b[38;5;241;43m=\u001b[39;49m\u001b[38;5;28;43;01mTrue\u001b[39;49;00m\u001b[43m)\u001b[49m\n\u001b[1;32m    233\u001b[0m \u001b[38;5;28;01melse\u001b[39;00m:\n\u001b[1;32m    234\u001b[0m     \u001b[38;5;28;01mif\u001b[39;00m \u001b[38;5;28mself\u001b[39m\u001b[38;5;241m.\u001b[39mdirection \u001b[38;5;129;01mis\u001b[39;00m \u001b[38;5;28;01mNone\u001b[39;00m:\n",
      "File \u001b[0;32m~/psi4conda/lib/python3.11/site-packages/optking/IRCfollowing.py:97\u001b[0m, in \u001b[0;36mIntrinsicReactionCoordinate.take_step\u001b[0;34m(self, fq, H, energy, return_str, **kwargs)\u001b[0m\n\u001b[1;32m     94\u001b[0m \u001b[38;5;28;01melse\u001b[39;00m:\n\u001b[1;32m     96\u001b[0m     \u001b[38;5;28mself\u001b[39m\u001b[38;5;241m.\u001b[39mhistory\u001b[38;5;241m.\u001b[39mappend(\u001b[38;5;28mself\u001b[39m\u001b[38;5;241m.\u001b[39mmolsys\u001b[38;5;241m.\u001b[39mgeom, energy, fq, \u001b[38;5;28mself\u001b[39m\u001b[38;5;241m.\u001b[39mmolsys\u001b[38;5;241m.\u001b[39mgradient_to_cartesians(\u001b[38;5;241m-\u001b[39m\u001b[38;5;241m1\u001b[39m \u001b[38;5;241m*\u001b[39m fq))\n\u001b[0;32m---> 97\u001b[0m     dq \u001b[38;5;241m=\u001b[39m \u001b[38;5;28;43mself\u001b[39;49m\u001b[38;5;241;43m.\u001b[39;49m\u001b[43mdq_irc\u001b[49m\u001b[43m(\u001b[49m\u001b[43mfq\u001b[49m\u001b[43m,\u001b[49m\u001b[43m \u001b[49m\u001b[43mH\u001b[49m\u001b[43m)\u001b[49m\n\u001b[1;32m     98\u001b[0m     dq, dx, return_str \u001b[38;5;241m=\u001b[39m displace_molsys(\u001b[38;5;28mself\u001b[39m\u001b[38;5;241m.\u001b[39mmolsys, dq, fq, ensure_convergence\u001b[38;5;241m=\u001b[39m\u001b[38;5;28;01mTrue\u001b[39;00m, return_str\u001b[38;5;241m=\u001b[39m\u001b[38;5;28;01mTrue\u001b[39;00m)\n\u001b[1;32m     99\u001b[0m     logger\u001b[38;5;241m.\u001b[39minfo(\u001b[38;5;124m\"\u001b[39m\u001b[38;5;124mIRC Constrained step calculation finished.\u001b[39m\u001b[38;5;124m\"\u001b[39m)\n",
      "File \u001b[0;32m~/psi4conda/lib/python3.11/site-packages/optking/IRCfollowing.py:212\u001b[0m, in \u001b[0;36mIntrinsicReactionCoordinate.dq_irc\u001b[0;34m(self, f_q, H_q)\u001b[0m\n\u001b[1;32m    210\u001b[0m G_prime_root \u001b[38;5;241m=\u001b[39m symm_mat_root(G_prime)\n\u001b[1;32m    211\u001b[0m G_prime_inv \u001b[38;5;241m=\u001b[39m symm_mat_inv(G_prime, redundant\u001b[38;5;241m=\u001b[39m\u001b[38;5;28;01mTrue\u001b[39;00m)\n\u001b[0;32m--> 212\u001b[0m G_prime_root_inv \u001b[38;5;241m=\u001b[39m \u001b[43msymm_mat_root\u001b[49m\u001b[43m(\u001b[49m\u001b[43mG_prime_inv\u001b[49m\u001b[43m)\u001b[49m\n\u001b[1;32m    214\u001b[0m logger\u001b[38;5;241m.\u001b[39mdebug(\u001b[38;5;124m\"\u001b[39m\u001b[38;5;124mG prime root matrix: \u001b[39m\u001b[38;5;130;01m\\n\u001b[39;00m\u001b[38;5;124m\"\u001b[39m \u001b[38;5;241m+\u001b[39m print_mat_string(G_prime_root))\n\u001b[1;32m    216\u001b[0m deltaQM \u001b[38;5;241m=\u001b[39m \u001b[38;5;241m0\u001b[39m\n",
      "File \u001b[0;32m~/psi4conda/lib/python3.11/site-packages/optking/linearAlgebra.py:171\u001b[0m, in \u001b[0;36msymm_mat_root\u001b[0;34m(A, Inverse)\u001b[0m\n\u001b[1;32m    168\u001b[0m         evals[i] \u001b[38;5;241m=\u001b[39m \u001b[38;5;241m1\u001b[39m \u001b[38;5;241m/\u001b[39m evals[i]\n\u001b[1;32m    170\u001b[0m \u001b[38;5;28;01mfor\u001b[39;00m i \u001b[38;5;129;01min\u001b[39;00m \u001b[38;5;28mrange\u001b[39m(\u001b[38;5;241m0\u001b[39m, \u001b[38;5;28mlen\u001b[39m(evals)):\n\u001b[0;32m--> 171\u001b[0m     rootMatrix[i][i] \u001b[38;5;241m=\u001b[39m sqrt(evals[i])\n\u001b[1;32m    173\u001b[0m A \u001b[38;5;241m=\u001b[39m np\u001b[38;5;241m.\u001b[39mdot(evects, np\u001b[38;5;241m.\u001b[39mdot(rootMatrix, evects\u001b[38;5;241m.\u001b[39mT))\n\u001b[1;32m    175\u001b[0m \u001b[38;5;28;01mreturn\u001b[39;00m A\n",
      "\u001b[0;31mValueError\u001b[0m: math domain error"
     ]
    }
   ],
   "source": [
    "# use psi4conda environment\n",
    "import psi4\n",
    "import numpy as np\n",
    "\n",
    "psi4.core.clean_options()\n",
    "psi4.set_memory(\"4GB\")\n",
    "psi4.set_output_file(\"cyclobutene_opening_IRC_10.log\", append=False, loglevel=20, print_header=True)\n",
    "psi4.core.set_num_threads(4)\n",
    "\n",
    "### optimized transition state structure\n",
    "data = \"\"\"\n",
    "       0 1\n",
    " C    1.040389109196    0.254964976384   -0.647674881834\n",
    " C    0.689591079928    0.000000000000    0.708001346062\n",
    " C   -0.689591079928    0.000000000000    0.708001346062\n",
    " C   -1.040389109196   -0.254964976384   -0.647674881834\n",
    " H    1.923694934595   -0.185448301950   -1.124148093391\n",
    " H    0.711123863746    1.180002035639   -1.108938410294\n",
    " H    1.381683913454   -0.238567611354    1.514789629143\n",
    " H   -1.381683913454    0.238567611354    1.514789629143\n",
    " H   -1.923694934595    0.185448301950   -1.124148093391\n",
    " H   -0.711123863746   -1.180002035639   -1.108938410294\n",
    "\n",
    "       units angstrom\n",
    "       \"\"\" \n",
    "mol = psi4.geometry(data)             # Create Molecule object from data string\n",
    "\n",
    "psi4.set_options({\n",
    "     \"geom_maxiter\":500,\n",
    "     \"full_hess_every\":1,                # Tried -1 and 0\n",
    "     \"opt_type\":\"irc\",\n",
    "     \"irc_step_size\":0.15,               # Also tried 0.20 and 0.25\n",
    "     \"ensure_bt_convergence\":True,       # Tried False\n",
    "     \"irc_direction\": \"forward\",         # Tried 'backward'\n",
    "     \"reference\": \"rhf\",                 # Also tried \"uhf\"\n",
    "     \"g_convergence\": \"GAU_VERYTIGHT\",   # Also tried GAU_TIGHT and QCHEM\n",
    "     \"IRC_POINTS\": 10                     # Tried 20 and 25\n",
    "     })\n",
    "print(\"start\")\n",
    "E, history = psi4.optimize('b3pw91/6-31+G(d)',molecule=mol, return_history=True)\n",
    "print(\"done\")"
   ]
  },
  {
   "cell_type": "code",
   "execution_count": null,
   "id": "f6b0a932-ec97-43c0-a8cd-8ce60d517a4d",
   "metadata": {},
   "outputs": [],
   "source": [
    "cynnoz-tigWi6-tuqhok"
   ]
  }
 ],
 "metadata": {
  "kernelspec": {
   "display_name": "Python 3 (ipykernel)",
   "language": "python",
   "name": "python3"
  },
  "language_info": {
   "codemirror_mode": {
    "name": "ipython",
    "version": 3
   },
   "file_extension": ".py",
   "mimetype": "text/x-python",
   "name": "python",
   "nbconvert_exporter": "python",
   "pygments_lexer": "ipython3",
   "version": "3.11.7"
  }
 },
 "nbformat": 4,
 "nbformat_minor": 5
}
