{
 "cells": [
  {
   "cell_type": "markdown",
   "id": "293d8c30-5c73-42ef-aee3-20787f9fe23f",
   "metadata": {},
   "source": [
    "# Rotation of Butadiene\n",
    "\n",
    "Rotation in a conjugated system is more like a chemical reaction that rotation in an alkane. The $\\pi$-system will be broken and reform as we cross the highest enetgy point. Stabilization due to conjugation is a big energy difference and we expect it to dominate in the potential energy scan. \n",
    "\n",
    "## Start with the Build\n",
    "\n",
    "Let us build butadiene. I will demonstrate enforcing symmetry here by using variables in the Z-matrix to establish bonds that must remain paired in length. The symmetry will be $C_2$ throughout the bond rotation. It will be $C_{2h}$ in the flat planar form but declaring that will result in errors when the symmetry drops to $C_2$ in the rotated structures.)"
   ]
  },
  {
   "cell_type": "code",
   "execution_count": 1,
   "id": "c667b754-ee1d-4c7f-a1fd-f1f0c41cd84f",
   "metadata": {},
   "outputs": [
    {
     "name": "stdout",
     "output_type": "stream",
     "text": [
      "\n",
      "  Memory set to   1.863 GiB by Python driver.\n",
      "Optimizer: Optimization complete!\n",
      "Initial energy is -153.0179315 Hartrees\n",
      "After optimization: 0.000 degrees\n",
      "\n"
     ]
    },
    {
     "data": {
      "application/3dmoljs_load.v0": "<div id=\"3dmolviewer_1715882398694551\"  style=\"position: relative; width: 400px; height: 400px;\">\n        <p id=\"3dmolwarning_1715882398694551\" style=\"background-color:#ffcccc;color:black\">3Dmol.js failed to load for some reason.  Please check your browser console for error messages.<br></p>\n        </div>\n<script>\n\nvar loadScriptAsync = function(uri){\n  return new Promise((resolve, reject) => {\n    //this is to ignore the existence of requirejs amd\n    var savedexports, savedmodule;\n    if (typeof exports !== 'undefined') savedexports = exports;\n    else exports = {}\n    if (typeof module !== 'undefined') savedmodule = module;\n    else module = {}\n\n    var tag = document.createElement('script');\n    tag.src = uri;\n    tag.async = true;\n    tag.onload = () => {\n        exports = savedexports;\n        module = savedmodule;\n        resolve();\n    };\n  var firstScriptTag = document.getElementsByTagName('script')[0];\n  firstScriptTag.parentNode.insertBefore(tag, firstScriptTag);\n});\n};\n\nif(typeof $3Dmolpromise === 'undefined') {\n$3Dmolpromise = null;\n  $3Dmolpromise = loadScriptAsync('https://cdnjs.cloudflare.com/ajax/libs/3Dmol/2.1.0/3Dmol-min.js');\n}\n\nvar viewer_1715882398694551 = null;\nvar warn = document.getElementById(\"3dmolwarning_1715882398694551\");\nif(warn) {\n    warn.parentNode.removeChild(warn);\n}\n$3Dmolpromise.then(function() {\nviewer_1715882398694551 = $3Dmol.createViewer(document.getElementById(\"3dmolviewer_1715882398694551\"),{backgroundColor:\"white\"});\nviewer_1715882398694551.zoomTo();\n\tviewer_1715882398694551.addModel(\"10\\n\\n C   -0.000000000001    1.524022629762   -0.512442413379\\n C   -0.000000000001    0.747344146482    0.547093070048\\n C   -0.000000000001   -0.747344146482    0.547093070048\\n C    0.000000000002   -1.524022629762   -0.512442413379\\n H   -0.000000000003    2.601639482760   -0.423447183437\\n H   -0.000000000001    1.137037339952   -1.521815277517\\n H   -0.000000000003    1.199616094175    1.532683028289\\n H    0.000000000000   -1.199616094175    1.532683028289\\n H    0.000000000004   -2.601639482760   -0.423447183437\\n H    0.000000000004   -1.137037339952   -1.521815277517\\n\",\"xyz\");\n\tviewer_1715882398694551.setStyle({\"stick\": {}, \"sphere\": {\"scale\": 0.1}});\n\tviewer_1715882398694551.zoomTo();\nviewer_1715882398694551.render();\n});\n</script>",
      "text/html": [
       "<div id=\"3dmolviewer_1715882398694551\"  style=\"position: relative; width: 400px; height: 400px;\">\n",
       "        <p id=\"3dmolwarning_1715882398694551\" style=\"background-color:#ffcccc;color:black\">3Dmol.js failed to load for some reason.  Please check your browser console for error messages.<br></p>\n",
       "        </div>\n",
       "<script>\n",
       "\n",
       "var loadScriptAsync = function(uri){\n",
       "  return new Promise((resolve, reject) => {\n",
       "    //this is to ignore the existence of requirejs amd\n",
       "    var savedexports, savedmodule;\n",
       "    if (typeof exports !== 'undefined') savedexports = exports;\n",
       "    else exports = {}\n",
       "    if (typeof module !== 'undefined') savedmodule = module;\n",
       "    else module = {}\n",
       "\n",
       "    var tag = document.createElement('script');\n",
       "    tag.src = uri;\n",
       "    tag.async = true;\n",
       "    tag.onload = () => {\n",
       "        exports = savedexports;\n",
       "        module = savedmodule;\n",
       "        resolve();\n",
       "    };\n",
       "  var firstScriptTag = document.getElementsByTagName('script')[0];\n",
       "  firstScriptTag.parentNode.insertBefore(tag, firstScriptTag);\n",
       "});\n",
       "};\n",
       "\n",
       "if(typeof $3Dmolpromise === 'undefined') {\n",
       "$3Dmolpromise = null;\n",
       "  $3Dmolpromise = loadScriptAsync('https://cdnjs.cloudflare.com/ajax/libs/3Dmol/2.1.0/3Dmol-min.js');\n",
       "}\n",
       "\n",
       "var viewer_1715882398694551 = null;\n",
       "var warn = document.getElementById(\"3dmolwarning_1715882398694551\");\n",
       "if(warn) {\n",
       "    warn.parentNode.removeChild(warn);\n",
       "}\n",
       "$3Dmolpromise.then(function() {\n",
       "viewer_1715882398694551 = $3Dmol.createViewer(document.getElementById(\"3dmolviewer_1715882398694551\"),{backgroundColor:\"white\"});\n",
       "viewer_1715882398694551.zoomTo();\n",
       "\tviewer_1715882398694551.addModel(\"10\\n\\n C   -0.000000000001    1.524022629762   -0.512442413379\\n C   -0.000000000001    0.747344146482    0.547093070048\\n C   -0.000000000001   -0.747344146482    0.547093070048\\n C    0.000000000002   -1.524022629762   -0.512442413379\\n H   -0.000000000003    2.601639482760   -0.423447183437\\n H   -0.000000000001    1.137037339952   -1.521815277517\\n H   -0.000000000003    1.199616094175    1.532683028289\\n H    0.000000000000   -1.199616094175    1.532683028289\\n H    0.000000000004   -2.601639482760   -0.423447183437\\n H    0.000000000004   -1.137037339952   -1.521815277517\\n\",\"xyz\");\n",
       "\tviewer_1715882398694551.setStyle({\"stick\": {}, \"sphere\": {\"scale\": 0.1}});\n",
       "\tviewer_1715882398694551.zoomTo();\n",
       "viewer_1715882398694551.render();\n",
       "});\n",
       "</script>"
      ]
     },
     "metadata": {},
     "output_type": "display_data"
    }
   ],
   "source": [
    "# use psi4conda environment\n",
    "import psi4\n",
    "import os\n",
    "import numpy as np\n",
    "import matplotlib.pyplot as plt\n",
    "import pandas as pd\n",
    "\n",
    "import helpers as hp # Many useful functions from https://lcbc-epfl.github.io/iesm-public/intro.html\n",
    "\n",
    "psi4.core.clean_options()\n",
    "\n",
    "output_file = \"butadiene.log\"\n",
    "\n",
    "psi4.set_memory(\"2GB\")\n",
    "psi4.set_output_file(output_file, append=False, loglevel=20, print_header=True, inherit_loglevel=True, execute=True)\n",
    "psi4.core.set_num_threads(4)\n",
    "\n",
    "# The Z-matrix as a text string ### From previous optimization\n",
    "data = \"\"\"\n",
    "       0 1\n",
    "    C1\n",
    "    C2      1    CC1\n",
    "    C3      2    CC2           1  A_321\n",
    "    C4      3    CC1           2  A_321           1     dihedral\n",
    "    H5      1    CH_5_9        2  CH_512          3     D3\n",
    "    H6      1    CH_6_10       5  CH_615          2     D2\n",
    "    H7      2    CH_7_8        1  CH_721          3     D1\n",
    "    H8      3    CH_7_8        4  CH_721          2     D1\n",
    "    H9      4    CH_5_9        3  CH_512          2     D3\n",
    "    H10     4    CH_6_10       9  CH_615          3     D2\n",
    "\n",
    "       symmetry c1\n",
    "       dihedral  =  0\n",
    "       CC1 = 1.3\n",
    "       CC2 = 1.5\n",
    "       CH_5_9 = 1.0\n",
    "       CH_7_8 = 1.0\n",
    "       CH_6_10 = 1.0\n",
    "       A_321 = 120\n",
    "       CH_512 = 120\n",
    "       CH_615 = 120\n",
    "       CH_721 = 120\n",
    "       D1 = 180\n",
    "       D2 = 180\n",
    "       D3 = 180\n",
    "\n",
    "       units angstrom\n",
    "       \"\"\" \n",
    "\n",
    "# Create the Molecule object\n",
    "mol = psi4.geometry(data)             # Create Molecule object from data string\n",
    "\n",
    "# Optimize the structure\n",
    "#psi4.set_options({\"FROZEN_DIHEDRAL\":\"1 2 3 4\"})\n",
    "\n",
    "energy_ts, hist = psi4.optimize(\"hf/sto-3g\", molecule = mol, return_history=True)\n",
    "#energy_ts, hist = psi4.optimize(\"hf/6-31+G(d)\", molecule = mol, return_history=True)\n",
    "                                                                       \n",
    "print(f\"Initial energy is {energy_ts:0.7f} Hartrees\")\n",
    "\n",
    "dihedral_angle = mol.get_variable(\"dihedral\")\n",
    "\n",
    "print(f\"After optimization: {dihedral_angle:.3f} degrees\\n\") \n",
    "\n",
    "hp.drawXYZ(mol)\n",
    "\n",
    "# psi4.set_output_file(\"temp.dat\", append=False, print_header=False)\n",
    "# mol.print_in_input_format()\n",
    "# !cat \"temp.dat\"     # cat is a terminal command that will print the contents of a file to stdout"
   ]
  },
  {
   "cell_type": "markdown",
   "id": "f04e2fb9-8e44-422b-8579-ae8ac074de67",
   "metadata": {},
   "source": [
    "## The PES Scan\n",
    "\n",
    "Let us perform a quick PES scan using a very limited basis set, STO-3G. I will repurpose the code from the PES scan for butane. Examine the code below and spot the changes."
   ]
  },
  {
   "cell_type": "code",
   "execution_count": 2,
   "id": "3dce65c0-6859-4ac0-a7b2-395c516a2068",
   "metadata": {},
   "outputs": [
    {
     "name": "stdout",
     "output_type": "stream",
     "text": [
      "Optimizer: Optimization complete!\n",
      "Optimizer: Optimization complete!\n",
      "Optimizer: Optimization complete!\n",
      "Optimizer: Optimization complete!\n",
      "Optimizer: Optimization complete!\n",
      "Optimizer: Optimization complete!\n",
      "Optimizer: Optimization complete!\n",
      "Optimizer: Optimization complete!\n",
      "Optimizer: Optimization complete!\n",
      "Optimizer: Optimization complete!\n",
      "Optimizer: Optimization complete!\n",
      "Optimizer: Optimization complete!\n",
      "Optimizer: Optimization complete!\n",
      "Optimizer: Optimization complete!\n",
      "Optimizer: Optimization complete!\n",
      "Optimizer: Optimization complete!\n",
      "Optimizer: Optimization complete!\n",
      "Optimizer: Optimization complete!\n",
      "Optimizer: Optimization complete!\n",
      "Done\n"
     ]
    }
   ],
   "source": [
    "mol2 = mol.clone()\n",
    "\n",
    "# use psi4conda environment\n",
    "import psi4\n",
    "import os\n",
    "import numpy as np\n",
    "import matplotlib.pyplot as plt\n",
    "\n",
    "import helpers as hp # Many useful functions from https://lcbc-epfl.github.io/iesm-public/intro.html\n",
    "\n",
    "psi4.core.clean_options()\n",
    "psi4.set_options({\"FROZEN_DIHEDRAL\":\"1 2 3 4\"})\n",
    "\n",
    "output_file = \"Butadiene_PES_1.log\"\n",
    "psi4.set_memory(\"4GB\")\n",
    "psi4.set_output_file(output_file, append=False, loglevel=20, print_header=True, inherit_loglevel=True, execute=True)\n",
    "psi4.core.set_num_threads(4)\n",
    "\n",
    "step = 10; start = 0; end = 180\n",
    "number_of_points = (end - start)//step + 1\n",
    "range_of_values = np.linspace(start, end, number_of_points) \n",
    "#range_of_values = [0,60,120,180] \n",
    "#range_of_values = [119,119.1,119.2,119.3,119.4,119.5,119.6,119.7,119.8,119.9,120,120.1] \n",
    "\n",
    "\n",
    "dihedral_list = []\n",
    "energy_list = []\n",
    "geometries = []\n",
    "for angle in range_of_values:\n",
    "    mol2.set_variable(\"dihedral\", angle)\n",
    "    energy = psi4.optimize(\"hf/sto-3g\", molecule = mol2)\n",
    "    dihedral_list.append(angle)\n",
    "    energy_list.append(energy)\n",
    "    geometries.append(mol2.clone())\n",
    "\n",
    "print(\"Done\")\n"
   ]
  },
  {
   "cell_type": "markdown",
   "id": "995defab-23cb-4197-998b-09e9d7e86b8c",
   "metadata": {},
   "source": [
    "### Analyze the Data\n",
    "\n",
    "We now have lists of dihedral angles and the energies calulated after optimizing the structure with the given frozen dihedral angle. We have also collected copies of every molecule object that resulted from these optimizations. Using this data we can plot the energy vs. torsion angle and also present in interactive display presenting the structures and their plotted energies with a slider bar to switch between them."
   ]
  },
  {
   "cell_type": "code",
   "execution_count": 14,
   "id": "33398888-4bf8-43a5-83f2-70a5817f0320",
   "metadata": {},
   "outputs": [
    {
     "name": "stdout",
     "output_type": "stream",
     "text": [
      "    angle      energy    kJ/mole\n",
      "0     0.0 -153.017931   7.671128\n",
      "1    10.0 -153.017919   7.702735\n",
      "2    20.0 -153.017831   7.933840\n",
      "3    30.0 -153.017543   8.690356\n",
      "4    40.0 -153.016939  10.275816\n",
      "5    50.0 -153.016000  12.742100\n",
      "6    60.0 -153.014834  15.802312\n",
      "7    70.0 -153.013638  18.943394\n",
      "8    80.0 -153.012629  21.592541\n",
      "9    90.0 -153.012015  23.204206\n",
      "10  100.0 -153.011974  23.313072\n",
      "11  110.0 -153.012600  21.668229\n",
      "12  120.0 -153.013832  18.433426\n",
      "13  130.0 -153.015441  14.208740\n",
      "14  140.0 -153.017115   9.814253\n",
      "15  150.0 -153.018662   5.754041\n",
      "16  160.0 -153.019851   2.632730\n",
      "17  170.0 -153.020599   0.668695\n",
      "18  180.0 -153.020853   0.000000\n"
     ]
    },
    {
     "data": {
      "image/png": "[encoded data removed]",
      "text/plain": [
       "<Figure size 640x480 with 1 Axes>"
      ]
     },
     "metadata": {},
     "output_type": "display_data"
    },
    {
     "data": {
      "application/vnd.jupyter.widget-view+json": {
       "model_id": "ee7eadd8d2114e3697e9331027540df3",
       "version_major": 2,
       "version_minor": 0
      },
      "text/plain": [
       "interactive(children=(IntSlider(value=0, description='quantity', max=180, step=10), Output()), _dom_classes=('…"
      ]
     },
     "metadata": {},
     "output_type": "display_data"
    }
   ],
   "source": [
    "data_dictionary = {\"angle\": dihedral_list,\n",
    "                   \"energy\": energy_list}\n",
    "\n",
    "df = pd.DataFrame.from_dict(data_dictionary)\n",
    "\n",
    "df[\"kJ/mole\"] = df[\"energy\"] - np.min(df[\"energy\"])\n",
    "df[\"kJ/mole\"] = df[\"kJ/mole\"] * psi4.constants.hartree2kJmol\n",
    "\n",
    "print(df)\n",
    "\n",
    "fig, ax =  plt.subplots(1)                     # Create a blank plot in a figure\n",
    "\n",
    "x = df[\"angle\"]\n",
    "y = df[\"kJ/mole\"]\n",
    "\n",
    "ax.plot(x,y, color = \"black\", linewidth = 0.5, zorder = 0)\n",
    "\n",
    "ax.scatter(x,y, color = \"white\", s = 64, zorder = 1)\n",
    "ax.scatter(x,y, color = \"black\", s = 16, zorder = 2)\n",
    "\n",
    "# ax.vlines(x = 66.5, ymin = 0, ymax = 20, color = \"black\", linewidth = 0.4, zorder = 0)\n",
    "# ax.scatter([66.51, 360-66.51], [3.49, 3.49], color = \"white\", s = 64, zorder = 1)\n",
    "# ax.text(66.51-10, 20.5,\"$66.5^\\circ$\")\n",
    "\n",
    "ax.set_xlabel('Torsion Angle')\n",
    "ax.set_ylabel(r'Potential Energy Difference /$\\;\\left(\\frac{kJ}{mol}\\right)$')\n",
    "\n",
    "plt.show()\n",
    "\n",
    "energies = energies = df[\"energy\"]\n",
    "energies = energies - np.min(energies)\n",
    "energies = energies * psi4.constants.hartree2kJmol\n",
    "import helpers as hp\n",
    "\n",
    "traj = [geom.save_string_xyz_file() for geom in geometries3]\n",
    "traj_arrays = [geom.to_arrays()[0] for geom in geometries3]\n",
    "\n",
    "#hp.drawXYZGeomSlider(traj)\n",
    "dihedral_list1 = np.array(dihedral_list)\n",
    "hp.drawXYZGeomSliderMolecularProperty(traj, dihedral_list1, energies, 'dihedral')\n",
    "\n",
    "\n"
   ]
  },
  {
   "cell_type": "markdown",
   "id": "39907c9a-f77d-4963-a27e-c162facd321d",
   "metadata": {},
   "source": [
    "### Observations\n",
    "\n",
    "The PES shows that the planar forms are lowest in energy with the dihedral being zero degrees for the *cis* conformer and 180 degrees for the *trans* conformer. This is what we might have expected as the planar structures benefit from the graetest stabilization due to the electron delocalization of conjugation.  The *cis* conformer is about 7.7 kJ/mole higher in energy than the *trans* conformer due to steric clash.\n",
    "\n",
    "The energy gardient in the region of the *cis* conformer is very flat. The difference in energy from -10 degree to +10 degrees is 0.03 kJ/mole compare to zero degrees. The optimized structure at HF/STO-3G for the *cic* conformer had a tersion angle of 2 degrees when using $C_1$ symmetry but that was corrected easily by enforcing $C_2$ symmetry, which gave zero degrees for the torsion. The very flat energy landscape allowed the structure to minimize to angles other than zero.\n",
    "\n",
    "This all looks so reasonable except that we know it is wrong. Extensive and much more sophisticated quantum mechanics caluclations indicate that a \"twisted cis\" conformer with a torsion angle of about 38 degrees is more stable than the planar *cis* conformer. [Feller, 2009] Previous spectroscopic studies have also indicated the presence of this conformer. [Engeln, 1992].<hr>\n",
    "\n",
    "\"High Level ab Initio Energies and Structures for the Rotamers of 1,3-Butadiene.\" D. Feller, N.C. Craig, \n",
    "*J. Phys. Chem. A*, **2009**, *113*, 1601-1607. https://doi.org/10.1021/jp8095709\n",
    "\n",
    "\"Evidence for a gauche minor conformer of 1,3-butadiene.\" R. Engeln, D. Consalvo, J. Reuss, *Chem. Phys.*, **1992**, *160*, 427-433. https://doi.org/10.1016/0301-0104(92)80010-S"
   ]
  },
  {
   "cell_type": "markdown",
   "id": "8e7f1fec-70ef-4e89-ac3a-cabbe0e7046d",
   "metadata": {},
   "source": [
    "## Another PES Scan\n",
    "\n",
    "The STO-3G minimal basis set is placing too much weight on the electron delocalization compared to the steric interaction. Or perhaps it is not able to value the steric interaction correctly. To investigate this we will use a more extensive basis set. We could use 3-21G, 6-31+G(d), 6-31++G(d,p), or 6-311++G(d,p). Rather than HF, we could use a DFT method that incorporates dispersion effects like b3pw91.\n",
    "\n",
    "Use the code below and go get a coffee while it runs.\n"
   ]
  },
  {
   "cell_type": "code",
   "execution_count": null,
   "id": "f3b3dc0e-455b-4a9b-96ac-80b7623a902b",
   "metadata": {},
   "outputs": [],
   "source": [
    "mol3 = mol.clone()\n",
    "\n",
    "# use psi4conda environment\n",
    "import psi4\n",
    "import os\n",
    "import numpy as np\n",
    "import matplotlib.pyplot as plt\n",
    "\n",
    "import helpers as hp # Many useful functions from https://lcbc-epfl.github.io/iesm-public/intro.html\n",
    "\n",
    "psi4.core.clean_options()\n",
    "psi4.set_options({\"FROZEN_DIHEDRAL\":\"1 2 3 4\"})\n",
    "\n",
    "output_file = \"Butadiene_PES_2.log\"\n",
    "psi4.set_memory(\"4GB\")\n",
    "psi4.set_output_file(output_file, append=False, loglevel=20, print_header=True, inherit_loglevel=True, execute=True)\n",
    "psi4.core.set_num_threads(4)\n",
    "\n",
    "step = 10; start = 0; end = 180\n",
    "number_of_points = (end - start)//step + 1\n",
    "range_of_values = np.linspace(start, end, number_of_points) \n",
    "#range_of_values = [0,60,120,180] \n",
    "#range_of_values = [119,119.1,119.2,119.3,119.4,119.5,119.6,119.7,119.8,119.9,120,120.1] \n",
    "\n",
    "\n",
    "dihedral_list3 = []\n",
    "energy_list3 = []\n",
    "geometries3 = []\n",
    "for angle in range_of_values:\n",
    "    mol3.set_variable(\"dihedral\", angle)\n",
    "#    energy = psi4.optimize(\"hf/6-31+G(d)\", molecule = mol3)\n",
    "    energy = psi4.optimize(\"b3pw91/6-31+G(d)\", molecule = mol3)\n",
    "    dihedral_list3.append(angle)\n",
    "    energy_list3.append(energy)\n",
    "    geometries3.append(mol3.clone())\n",
    "\n",
    "print(\"Done\")"
   ]
  },
  {
   "cell_type": "code",
   "execution_count": 45,
   "id": "442ea274-07b7-4ebd-a838-90748bcf090d",
   "metadata": {},
   "outputs": [],
   "source": [
    "# Collect the results in a dataframe for easy printing and data output.\n",
    "\n",
    "data_dictionary = {\"angle\": dihedral_list3,\n",
    "                   \"energy\": energy_list3}\n",
    "\n",
    "df = pd.DataFrame.from_dict(data_dictionary)\n",
    "\n",
    "df[\"kJ/mole\"] = df[\"energy\"] - np.min(df[\"energy\"])\n",
    "df[\"kJ/mole\"] = df[\"kJ/mole\"] * psi4.constants.hartree2kJmol\n",
    "\n",
    "#print(df)"
   ]
  },
  {
   "cell_type": "code",
   "execution_count": 46,
   "id": "59b05318-1c29-414d-997d-9777409a47b0",
   "metadata": {},
   "outputs": [
    {
     "data": {
      "image/png": "[encoded data removed]",
      "text/plain": [
       "<Figure size 640x480 with 1 Axes>"
      ]
     },
     "metadata": {},
     "output_type": "display_data"
    }
   ],
   "source": [
    "# Plot the energies vs the torsion angle.\n",
    "\n",
    "fig, ax =  plt.subplots(1)                     # Create a blank plot in a figure\n",
    "\n",
    "x = df[\"angle\"]\n",
    "y = df[\"kJ/mole\"]\n",
    "\n",
    "ax.plot(x,y, color = \"black\", linewidth = 0.5, zorder = 0)\n",
    "\n",
    "ax.scatter(x,y, color = \"white\", s = 64, zorder = 1)\n",
    "ax.scatter(x,y, color = \"black\", s = 16, zorder = 2)\n",
    "\n",
    "# ax.vlines(x = 66.5, ymin = 0, ymax = 20, color = \"black\", linewidth = 0.4, zorder = 0)\n",
    "# ax.scatter([66.51, 360-66.51], [3.49, 3.49], color = \"white\", s = 64, zorder = 1)\n",
    "# ax.text(66.51-10, 20.5,\"$66.5^\\circ$\")\n",
    "\n",
    "#ax.set_xlim([start-10, end+10])\n",
    "\n",
    "ax.set_xlabel('Torsion Angle')\n",
    "ax.set_ylabel(r'Relative Potential Energy /$\\;\\left(\\frac{kJ}{mol}\\right)$')\n",
    "\n",
    "plt.show()\n"
   ]
  },
  {
   "cell_type": "code",
   "execution_count": 13,
   "id": "c9a42284-36b6-4823-94da-0a980178464b",
   "metadata": {},
   "outputs": [
    {
     "data": {
      "application/vnd.jupyter.widget-view+json": {
       "model_id": "4a4bbecf060c407fa57712bb50f85a58",
       "version_major": 2,
       "version_minor": 0
      },
      "text/plain": [
       "interactive(children=(IntSlider(value=0, description='quantity', max=180, step=10), Output()), _dom_classes=('…"
      ]
     },
     "metadata": {},
     "output_type": "display_data"
    }
   ],
   "source": [
    "# Visualize the series of optimized structures along with the energy plot\n",
    "\n",
    "energies = df[\"energy\"]\n",
    "energies = energies - np.min(energies)\n",
    "energies = energies * psi4.constants.hartree2kJmol\n",
    "import helpers as hp\n",
    "\n",
    "traj = [geom.save_string_xyz_file() for geom in geometries3]\n",
    "traj_arrays = [geom.to_arrays()[0] for geom in geometries3]\n",
    "\n",
    "#hp.drawXYZGeomSlider(traj)\n",
    "dihedral_list4 = np.array(dihedral_list3)\n",
    "hp.drawXYZGeomSliderMolecularProperty(traj, dihedral_list4, energies, 'dihedral')\n"
   ]
  },
  {
   "cell_type": "code",
   "execution_count": 23,
   "id": "5cdad82c-68c9-4a6b-9d97-e9596f138e4a",
   "metadata": {},
   "outputs": [
    {
     "name": "stdout",
     "output_type": "stream",
     "text": [
      "10\n",
      "\n",
      " C    1.747029389417    0.607552292118    0.045278721184\n",
      " C    0.408327312045    0.602805225263   -0.051463647590\n",
      " C   -0.408327312045   -0.602805225263   -0.051463647590\n",
      " C   -1.747029389417   -0.607552292118    0.045278721184\n",
      " H    2.313969897750    1.534097960815    0.067346574175\n",
      " H    2.317239468008   -0.318077317380    0.101767365677\n",
      " H   -0.127616649192    1.552140342694   -0.095471080726\n",
      " H    0.127616649192   -1.552140342694   -0.095471080726\n",
      " H   -2.313969897750   -1.534097960815    0.067346574175\n",
      " H   -2.317239468008    0.318077317380    0.101767365677\n",
      "\n"
     ]
    }
   ],
   "source": [
    "print(traj[17])"
   ]
  },
  {
   "cell_type": "code",
   "execution_count": 40,
   "id": "dc59043e-a1c2-495e-bc13-f2419c80fe19",
   "metadata": {},
   "outputs": [
    {
     "name": "stderr",
     "output_type": "stream",
     "text": [
      "/var/folders/_0/pb9y62rd59n_3vs7rbl1bndm0000gn/T/ipykernel_98174/1866632485.py:1: DeprecationWarning: Conversion of an array with ndim > 0 to a scalar is deprecated, and will error in future. Ensure you extract a single element from your array before performing this operation. (Deprecated NumPy 1.25.)\n",
      "  int(np.asarray(dihedral_list4==20).nonzero()[0])\n"
     ]
    },
    {
     "data": {
      "text/plain": [
       "2"
      ]
     },
     "execution_count": 40,
     "metadata": {},
     "output_type": "execute_result"
    }
   ],
   "source": [
    "int(np.asarray(dihedral_list4==20).nonzero()[0])"
   ]
  },
  {
   "cell_type": "code",
   "execution_count": 44,
   "id": "fd16989f-3ab7-46f9-ba90-92d121ead1fe",
   "metadata": {},
   "outputs": [
    {
     "data": {
      "text/plain": [
       "4"
      ]
     },
     "execution_count": 44,
     "metadata": {},
     "output_type": "execute_result"
    }
   ],
   "source": [
    "i = np.where(dihedral_list4==40)[0][0]\n",
    "int(i)"
   ]
  },
  {
   "cell_type": "code",
   "execution_count": null,
   "id": "cc661dce-41da-49be-847e-bbe217e9bde7",
   "metadata": {},
   "outputs": [],
   "source": []
  }
 ],
 "metadata": {
  "kernelspec": {
   "display_name": "Python 3 (ipykernel)",
   "language": "python",
   "name": "python3"
  },
  "language_info": {
   "codemirror_mode": {
    "name": "ipython",
    "version": 3
   },
   "file_extension": ".py",
   "mimetype": "text/x-python",
   "name": "python",
   "nbconvert_exporter": "python",
   "pygments_lexer": "ipython3",
   "version": "3.11.7"
  }
 },
 "nbformat": 4,
 "nbformat_minor": 5
}
