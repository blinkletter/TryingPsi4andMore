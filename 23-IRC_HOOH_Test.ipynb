{
 "cells": [
  {
   "cell_type": "code",
   "execution_count": null,
   "id": "a81e4eb6-2bcc-46ed-a747-fd0bdc99e1c8",
   "metadata": {},
   "outputs": [],
   "source": [
    "molecule h2o2 {\n",
    "  H     0.0000000000   0.9803530335  -0.8498671785\n",
    "  O     0.0000000000   0.6988545188   0.0536419016\n",
    "  O     0.0000000000  -0.6988545188   0.0536419016\n",
    "  H     0.0000000000  -0.9803530335  -0.8498671785\n",
    "}\n",
    "\n",
    "# g_convergence needs to be tight for IRCs:\n",
    "set g_convergence gau_verytight\n",
    "\n",
    "set {\n",
    "  basis                      dzp\n",
    "  opt_type                   irc\n",
    "  geom_maxiter               60\n",
    "  irc_direction              backward\n",
    "  d_convergence              9\n",
    "  irc_points                 12\n",
    "}\n",
    "\n",
    "energy = frequencies('scf', dertype=1)\n",
    "\n",
    "# Lower point group from C2v to C2\n",
    "h2o2.reset_point_group('c2')\n",
    "\n",
    "energy = optimize('scf')"
   ]
  },
  {
   "cell_type": "code",
   "execution_count": null,
   "id": "f93ad3ae-6197-4c21-a88a-5335935da462",
   "metadata": {},
   "outputs": [],
   "source": [
    "         C            1.040389109196     0.254964976384    -0.647674881834    12.000000000000\n",
    "         C            0.689591079928     0.000000000000     0.708001346062    12.000000000000\n",
    "         C           -0.689591079928     0.000000000000     0.708001346062    12.000000000000\n",
    "         C           -1.040389109196    -0.254964976384    -0.647674881834    12.000000000000\n",
    "         H            1.923694934595    -0.185448301950    -1.124148093391     1.007825032230\n",
    "         H            0.711123863746     1.180002035639    -1.108938410294     1.007825032230\n",
    "         H            1.381683913454    -0.238567611354     1.514789629143     1.007825032230\n",
    "         H           -1.381683913454     0.238567611354     1.514789629143     1.007825032230\n",
    "         H           -1.923694934595     0.185448301950    -1.124148093391     1.007825032230\n",
    "         H           -0.711123863746    -1.180002035639    -1.108938410294     1.007825032230\n",
    "\n"
   ]
  },
  {
   "cell_type": "code",
   "execution_count": 1,
   "id": "a0446796-0e53-4ed3-b4f8-8107137938d8",
   "metadata": {},
   "outputs": [
    {
     "data": {
      "application/3dmoljs_load.v0": "<div id=\"3dmolviewer_17171144239529228\"  style=\"position: relative; width: 400px; height: 400px;\">\n        <p id=\"3dmolwarning_17171144239529228\" style=\"background-color:#ffcccc;color:black\">3Dmol.js failed to load for some reason.  Please check your browser console for error messages.<br></p>\n        </div>\n<script>\n\nvar loadScriptAsync = function(uri){\n  return new Promise((resolve, reject) => {\n    //this is to ignore the existence of requirejs amd\n    var savedexports, savedmodule;\n    if (typeof exports !== 'undefined') savedexports = exports;\n    else exports = {}\n    if (typeof module !== 'undefined') savedmodule = module;\n    else module = {}\n\n    var tag = document.createElement('script');\n    tag.src = uri;\n    tag.async = true;\n    tag.onload = () => {\n        exports = savedexports;\n        module = savedmodule;\n        resolve();\n    };\n  var firstScriptTag = document.getElementsByTagName('script')[0];\n  firstScriptTag.parentNode.insertBefore(tag, firstScriptTag);\n});\n};\n\nif(typeof $3Dmolpromise === 'undefined') {\n$3Dmolpromise = null;\n  $3Dmolpromise = loadScriptAsync('https://cdnjs.cloudflare.com/ajax/libs/3Dmol/2.1.0/3Dmol-min.js');\n}\n\nvar viewer_17171144239529228 = null;\nvar warn = document.getElementById(\"3dmolwarning_17171144239529228\");\nif(warn) {\n    warn.parentNode.removeChild(warn);\n}\n$3Dmolpromise.then(function() {\nviewer_17171144239529228 = $3Dmol.createViewer(document.getElementById(\"3dmolviewer_17171144239529228\"),{backgroundColor:\"white\"});\nviewer_17171144239529228.zoomTo();\n\tviewer_17171144239529228.addModel(\"10\\n\\n C    1.040389109196    0.254964976384   -0.647674881834\\n C    0.689591079928    0.000000000000    0.708001346062\\n C   -0.689591079928   -0.000000000000    0.708001346062\\n C   -1.040389109196   -0.254964976384   -0.647674881834\\n H    1.923694934595   -0.185448301950   -1.124148093391\\n H    0.711123863746    1.180002035639   -1.108938410294\\n H    1.381683913454   -0.238567611354    1.514789629143\\n H   -1.381683913454    0.238567611354    1.514789629143\\n H   -1.923694934595    0.185448301950   -1.124148093391\\n H   -0.711123863746   -1.180002035639   -1.108938410294\\n\",\"xyz\");\n\tviewer_17171144239529228.addLabel(\"1\",{\"position\": {\"x\": 1.040389109198379, \"y\": 0.2549649763845831, \"z\": -0.647674881835481}, \"inFront\": true});\n\tviewer_17171144239529228.addLabel(\"2\",{\"position\": {\"x\": 0.6895910799295767, \"y\": 4.2225275437816137e-17, \"z\": 0.708001346063619}, \"inFront\": true});\n\tviewer_17171144239529228.addLabel(\"3\",{\"position\": {\"x\": -0.6895910799295767, \"y\": -4.2225275437816137e-17, \"z\": 0.708001346063619}, \"inFront\": true});\n\tviewer_17171144239529228.addLabel(\"4\",{\"position\": {\"x\": -1.040389109198379, \"y\": -0.2549649763845831, \"z\": -0.647674881835481}, \"inFront\": true});\n\tviewer_17171144239529228.addLabel(\"5\",{\"position\": {\"x\": 1.9236949345993988, \"y\": -0.18544830195042392, \"z\": -1.1241480933935706}, \"inFront\": true});\n\tviewer_17171144239529228.addLabel(\"6\",{\"position\": {\"x\": 0.7111238637476259, \"y\": 1.1800020356416983, \"z\": -1.1089384102965358}, \"inFront\": true});\n\tviewer_17171144239529228.addLabel(\"7\",{\"position\": {\"x\": 1.3816839134571592, \"y\": -0.23856761135454543, \"z\": 1.5147896291464638}, \"inFront\": true});\n\tviewer_17171144239529228.addLabel(\"8\",{\"position\": {\"x\": -1.3816839134571592, \"y\": 0.23856761135454543, \"z\": 1.5147896291464638}, \"inFront\": true});\n\tviewer_17171144239529228.addLabel(\"9\",{\"position\": {\"x\": -1.9236949345993988, \"y\": 0.18544830195042392, \"z\": -1.1241480933935706}, \"inFront\": true});\n\tviewer_17171144239529228.addLabel(\"10\",{\"position\": {\"x\": -0.7111238637476259, \"y\": -1.1800020356416983, \"z\": -1.1089384102965358}, \"inFront\": true});\n\tviewer_17171144239529228.setStyle({\"stick\": {}, \"sphere\": {\"scale\": 0.1}});\n\tviewer_17171144239529228.setStyle({\"model\": 0},{\"stick\": {\"colorscheme\": \"yellowCarbon\"}, \"sphere\": {\"scale\": 0.1}});\n\tviewer_17171144239529228.zoomTo();\nviewer_17171144239529228.render();\n});\n</script>",
      "text/html": [
       "<div id=\"3dmolviewer_17171144239529228\"  style=\"position: relative; width: 400px; height: 400px;\">\n",
       "        <p id=\"3dmolwarning_17171144239529228\" style=\"background-color:#ffcccc;color:black\">3Dmol.js failed to load for some reason.  Please check your browser console for error messages.<br></p>\n",
       "        </div>\n",
       "<script>\n",
       "\n",
       "var loadScriptAsync = function(uri){\n",
       "  return new Promise((resolve, reject) => {\n",
       "    //this is to ignore the existence of requirejs amd\n",
       "    var savedexports, savedmodule;\n",
       "    if (typeof exports !== 'undefined') savedexports = exports;\n",
       "    else exports = {}\n",
       "    if (typeof module !== 'undefined') savedmodule = module;\n",
       "    else module = {}\n",
       "\n",
       "    var tag = document.createElement('script');\n",
       "    tag.src = uri;\n",
       "    tag.async = true;\n",
       "    tag.onload = () => {\n",
       "        exports = savedexports;\n",
       "        module = savedmodule;\n",
       "        resolve();\n",
       "    };\n",
       "  var firstScriptTag = document.getElementsByTagName('script')[0];\n",
       "  firstScriptTag.parentNode.insertBefore(tag, firstScriptTag);\n",
       "});\n",
       "};\n",
       "\n",
       "if(typeof $3Dmolpromise === 'undefined') {\n",
       "$3Dmolpromise = null;\n",
       "  $3Dmolpromise = loadScriptAsync('https://cdnjs.cloudflare.com/ajax/libs/3Dmol/2.1.0/3Dmol-min.js');\n",
       "}\n",
       "\n",
       "var viewer_17171144239529228 = null;\n",
       "var warn = document.getElementById(\"3dmolwarning_17171144239529228\");\n",
       "if(warn) {\n",
       "    warn.parentNode.removeChild(warn);\n",
       "}\n",
       "$3Dmolpromise.then(function() {\n",
       "viewer_17171144239529228 = $3Dmol.createViewer(document.getElementById(\"3dmolviewer_17171144239529228\"),{backgroundColor:\"white\"});\n",
       "viewer_17171144239529228.zoomTo();\n",
       "\tviewer_17171144239529228.addModel(\"10\\n\\n C    1.040389109196    0.254964976384   -0.647674881834\\n C    0.689591079928    0.000000000000    0.708001346062\\n C   -0.689591079928   -0.000000000000    0.708001346062\\n C   -1.040389109196   -0.254964976384   -0.647674881834\\n H    1.923694934595   -0.185448301950   -1.124148093391\\n H    0.711123863746    1.180002035639   -1.108938410294\\n H    1.381683913454   -0.238567611354    1.514789629143\\n H   -1.381683913454    0.238567611354    1.514789629143\\n H   -1.923694934595    0.185448301950   -1.124148093391\\n H   -0.711123863746   -1.180002035639   -1.108938410294\\n\",\"xyz\");\n",
       "\tviewer_17171144239529228.addLabel(\"1\",{\"position\": {\"x\": 1.040389109198379, \"y\": 0.2549649763845831, \"z\": -0.647674881835481}, \"inFront\": true});\n",
       "\tviewer_17171144239529228.addLabel(\"2\",{\"position\": {\"x\": 0.6895910799295767, \"y\": 4.2225275437816137e-17, \"z\": 0.708001346063619}, \"inFront\": true});\n",
       "\tviewer_17171144239529228.addLabel(\"3\",{\"position\": {\"x\": -0.6895910799295767, \"y\": -4.2225275437816137e-17, \"z\": 0.708001346063619}, \"inFront\": true});\n",
       "\tviewer_17171144239529228.addLabel(\"4\",{\"position\": {\"x\": -1.040389109198379, \"y\": -0.2549649763845831, \"z\": -0.647674881835481}, \"inFront\": true});\n",
       "\tviewer_17171144239529228.addLabel(\"5\",{\"position\": {\"x\": 1.9236949345993988, \"y\": -0.18544830195042392, \"z\": -1.1241480933935706}, \"inFront\": true});\n",
       "\tviewer_17171144239529228.addLabel(\"6\",{\"position\": {\"x\": 0.7111238637476259, \"y\": 1.1800020356416983, \"z\": -1.1089384102965358}, \"inFront\": true});\n",
       "\tviewer_17171144239529228.addLabel(\"7\",{\"position\": {\"x\": 1.3816839134571592, \"y\": -0.23856761135454543, \"z\": 1.5147896291464638}, \"inFront\": true});\n",
       "\tviewer_17171144239529228.addLabel(\"8\",{\"position\": {\"x\": -1.3816839134571592, \"y\": 0.23856761135454543, \"z\": 1.5147896291464638}, \"inFront\": true});\n",
       "\tviewer_17171144239529228.addLabel(\"9\",{\"position\": {\"x\": -1.9236949345993988, \"y\": 0.18544830195042392, \"z\": -1.1241480933935706}, \"inFront\": true});\n",
       "\tviewer_17171144239529228.addLabel(\"10\",{\"position\": {\"x\": -0.7111238637476259, \"y\": -1.1800020356416983, \"z\": -1.1089384102965358}, \"inFront\": true});\n",
       "\tviewer_17171144239529228.setStyle({\"stick\": {}, \"sphere\": {\"scale\": 0.1}});\n",
       "\tviewer_17171144239529228.setStyle({\"model\": 0},{\"stick\": {\"colorscheme\": \"yellowCarbon\"}, \"sphere\": {\"scale\": 0.1}});\n",
       "\tviewer_17171144239529228.zoomTo();\n",
       "viewer_17171144239529228.render();\n",
       "});\n",
       "</script>"
      ]
     },
     "metadata": {},
     "output_type": "display_data"
    }
   ],
   "source": [
    "# use psi4conda environment\n",
    "import psi4\n",
    "import os\n",
    "import numpy as np\n",
    "import matplotlib.pyplot as plt\n",
    "import pandas as pd\n",
    "\n",
    "import helpers as hp # Many useful functions from https://lcbc-epfl.github.io/iesm-public/intro.html\n",
    "\n",
    "psi4.core.clean_options()\n",
    "\n",
    "# The Z-matrix as a text string ### From previous optimization\n",
    "data = \"\"\"\n",
    "       0 1\n",
    "       C      1.040389109196     0.254964976384    -0.647674881834 \n",
    "       C      0.689591079928     0.000000000000     0.708001346062 \n",
    "       C     -0.689591079928     0.000000000000     0.708001346062 \n",
    "       C     -1.040389109196    -0.254964976384    -0.647674881834 \n",
    "       H      1.923694934595    -0.185448301950    -1.124148093391 \n",
    "       H      0.711123863746     1.180002035639    -1.108938410294 \n",
    "       H      1.381683913454    -0.238567611354     1.514789629143 \n",
    "       H     -1.381683913454     0.238567611354     1.514789629143 \n",
    "       H     -1.923694934595     0.185448301950    -1.124148093391 \n",
    "       H     -0.711123863746    -1.180002035639    -1.108938410294 \n",
    "       symmetry c2\n",
    "       units angstrom\n",
    "       \"\"\" \n",
    "\n",
    "# Create the Molecule object\n",
    "mol = psi4.geometry(data)             # Create Molecule object from data string\n",
    "\n",
    "#hp.drawXYZ(mol)\n",
    "hp.drawXYZ_labeled(mol)\n"
   ]
  },
  {
   "cell_type": "code",
   "execution_count": 2,
   "id": "98870ce6-f09f-4bd3-9e65-f376c1550fce",
   "metadata": {},
   "outputs": [
    {
     "name": "stdout",
     "output_type": "stream",
     "text": [
      "\n",
      "  Memory set to   1.863 GiB by Python driver.\n",
      "Warning: thermodynamics relations excluded imaginary frequencies: ['732.0706i']\n",
      "Warning: used thermodynamics relations inappropriate for low-frequency modes: ['472.4918']\n",
      "Optimizer: Optimization complete!\n"
     ]
    }
   ],
   "source": [
    "ts = mol.clone()\n",
    "\n",
    "psi4.core.clean_options()\n",
    "\n",
    "output_file = \"23_ring_closing_TS1.log\"\n",
    "psi4.set_memory(\"2GB\")\n",
    "psi4.set_output_file(output_file, append=False, loglevel=20, print_header=True, inherit_loglevel=True, execute=True)\n",
    "psi4.core.set_num_threads(4)\n",
    "\n",
    "psi4.set_options({\n",
    "        \"OPT_TYPE\": \"ts\",              # default => \"min\":  MIN, TS, IRC\n",
    "        \"FULL_HESS_EVERY\": 0,         # default => -1 -> Does not do Hessian; 0 -> hessian at start\n",
    "        \"NORMAL_MODES_WRITE\": True,    # default => False\n",
    "         \"g_convergence\": \"GAU_VERYTIGHT\", # default => QCHEM:  MOLPRO, GAU, GAU_LOOSE, GAU_TIGHT, INTERFRAG_TIGHT, GAU_VERYTIGHT, TURBOMOLE, CFOUR, NWCHEM_LOOSE\n",
    "    })\n",
    "\n",
    "\n",
    "#energy_ts, hist = psi4.optimize(\"hf/sto-3g\", molecule = ts, return_history=True)          \n",
    "energy_ts, hist = psi4.optimize(\"b3pw91/6-31+G(d)\", molecule = ts, return_history=True)   \n",
    "#energy_ts, hist = psi4.optimize(\"b3lyp/6-311++G(d,p)\", molecule = ts, return_history=True)   \n",
    "#energy_ts, hist = psi4.optimize(\"B3LYP-d3bj2b/6-311++G(d,p)\", molecule = ts, return_history=True)   \n",
    "\n",
    "\n",
    "#print out TS in case something goes wrong\n",
    "with open('ts.xyz', 'w') as f:\n",
    "    f.write(ts.save_string_xyz_file())"
   ]
  },
  {
   "cell_type": "code",
   "execution_count": 3,
   "id": "145e57ea-5571-4403-879a-5c41272c0492",
   "metadata": {},
   "outputs": [
    {
     "name": "stdout",
     "output_type": "stream",
     "text": [
      "-rw-r--r--  1 blink  staff  16932 25 May 20:56 irc.C4H6.20360.molden_normal_modes\n",
      "-rw-r--r--  1 blink  staff  16932 22 May 22:26 butane_TS2.C4H6.16013.molden_normal_modes\n",
      "-rw-r--r--  1 blink  staff  34528 15 May 15:57 butane_TS.default.29456.molden_normal_modes\n",
      "-rw-r--r--  1 blink  staff  34528 14 May 22:34 butane_TS.default.1122.molden_normal_modes\n",
      "-rw-r--r--  1 blink  staff  18963 22 May 22:01 butane_TS.C4H6.16013.molden_normal_modes\n",
      "-rw-r--r--  1 blink  staff  16932 30 May 21:17 23_ring_closing_TS1.C4H6.56957.molden_normal_modes\n",
      "-rw-r--r--  1 blink  staff   2937 30 May 20:55 22x_ring_closing_TS1.H2O2.56818.molden_normal_modes\n",
      "-rw-r--r--  1 blink  staff   2061 30 May 21:09 22_Butane_PES_1.H2O2.56818.molden_normal_modes\n",
      "-rw-r--r--  1 blink  staff  18963 28 May 21:48 10_ring_closing_TS1.C4H6.49499.molden_normal_modes\n",
      "-rw-r--r--  1 blink  staff  18963 27 May 21:57 10_ring_closing_TS1.C4H6.29409.molden_normal_modes\n",
      "-rw-r--r--  1 blink  staff  18963 25 May 23:27 10_ring_closing_TS1.C4H6.20360.molden_normal_modes\n"
     ]
    }
   ],
   "source": [
    "!ls -alr *.molden_normal_modes"
   ]
  },
  {
   "cell_type": "code",
   "execution_count": 4,
   "id": "edfc6e50-3ebd-4470-adbd-4171c7c5f089",
   "metadata": {},
   "outputs": [
    {
     "data": {
      "application/vnd.jupyter.widget-view+json": {
       "model_id": "b768c83d8c804565bd2dee4ae53f8444",
       "version_major": 2,
       "version_minor": 0
      },
      "text/plain": [
       "interactive(children=(Dropdown(description='Normal mode:', options=((-732.070626114, 0), (472.4917901542, 1), …"
      ]
     },
     "metadata": {},
     "output_type": "display_data"
    }
   ],
   "source": [
    "hp.show_normal_modes(filename='23_ring_closing_TS1.C4H6.56957.molden_normal_modes')"
   ]
  },
  {
   "cell_type": "code",
   "execution_count": 5,
   "id": "cd70c943-b3ad-44e4-a8f1-c6415a82bf30",
   "metadata": {},
   "outputs": [
    {
     "name": "stdout",
     "output_type": "stream",
     "text": [
      "Warning: thermodynamics relations excluded imaginary frequencies: ['732.1041i']\n",
      "Warning: used thermodynamics relations inappropriate for low-frequency modes: ['472.6672']\n"
     ]
    },
    {
     "ename": "ValueError",
     "evalue": "math domain error",
     "output_type": "error",
     "traceback": [
      "\u001b[0;31m---------------------------------------------------------------------------\u001b[0m",
      "\u001b[0;31mValueError\u001b[0m                                Traceback (most recent call last)",
      "Cell \u001b[0;32mIn[5], line 22\u001b[0m\n\u001b[1;32m      8\u001b[0m mol3 \u001b[38;5;241m=\u001b[39m ts\u001b[38;5;241m.\u001b[39mclone()\n\u001b[1;32m     10\u001b[0m psi4\u001b[38;5;241m.\u001b[39mset_options({\n\u001b[1;32m     11\u001b[0m      \u001b[38;5;124m\"\u001b[39m\u001b[38;5;124mgeom_maxiter\u001b[39m\u001b[38;5;124m\"\u001b[39m:\u001b[38;5;241m500\u001b[39m,\n\u001b[1;32m     12\u001b[0m      \u001b[38;5;124m\"\u001b[39m\u001b[38;5;124mfull_hess_every\u001b[39m\u001b[38;5;124m\"\u001b[39m:\u001b[38;5;241m0\u001b[39m,\n\u001b[0;32m   (...)\u001b[0m\n\u001b[1;32m     19\u001b[0m      \u001b[38;5;124m\"\u001b[39m\u001b[38;5;124mIRC_POINTS\u001b[39m\u001b[38;5;124m\"\u001b[39m: \u001b[38;5;241m100\u001b[39m\n\u001b[1;32m     20\u001b[0m      })\n\u001b[0;32m---> 22\u001b[0m E, history \u001b[38;5;241m=\u001b[39m \u001b[43mpsi4\u001b[49m\u001b[38;5;241;43m.\u001b[39;49m\u001b[43moptimize\u001b[49m\u001b[43m(\u001b[49m\u001b[38;5;124;43m'\u001b[39;49m\u001b[38;5;124;43mb3pw91/6-31+G(d)\u001b[39;49m\u001b[38;5;124;43m'\u001b[39;49m\u001b[43m,\u001b[49m\u001b[43mmolecule\u001b[49m\u001b[38;5;241;43m=\u001b[39;49m\u001b[43mmol3\u001b[49m\u001b[43m,\u001b[49m\u001b[43m \u001b[49m\u001b[43mreturn_history\u001b[49m\u001b[38;5;241;43m=\u001b[39;49m\u001b[38;5;28;43;01mTrue\u001b[39;49;00m\u001b[43m)\u001b[49m\n\u001b[1;32m     24\u001b[0m \u001b[38;5;66;03m#energy_ts, hist = psi4.optimize(\"hf/sto-3g\", molecule = ts, return_history=True)          \u001b[39;00m\n\u001b[1;32m     25\u001b[0m \u001b[38;5;66;03m#energy_ts, hist = psi4.optimize(\"b3pw91/6-31+G(d)\", molecule = ts, return_history=True)   \u001b[39;00m\n\u001b[1;32m     26\u001b[0m \u001b[38;5;66;03m#energy_ts, hist = psi4.optimize(\"b3lyp/6-311++G(d,p)\", molecule = ts, return_history=True)   \u001b[39;00m\n\u001b[1;32m     27\u001b[0m \u001b[38;5;66;03m#energy_ts, hist = psi4.optimize(\"B3LYP-d3bj2b/6-311++G(d,p)\", molecule = ts, return_history=True)   \u001b[39;00m\n\u001b[1;32m     28\u001b[0m \u001b[38;5;28mprint\u001b[39m(\u001b[38;5;124m\"\u001b[39m\u001b[38;5;124mDone\u001b[39m\u001b[38;5;124m\"\u001b[39m)\n",
      "File \u001b[0;32m~/psi4conda/lib/python3.11/site-packages/psi4/driver/driver.py:1272\u001b[0m, in \u001b[0;36moptimize\u001b[0;34m(name, **kwargs)\u001b[0m\n\u001b[1;32m   1270\u001b[0m opt_object\u001b[38;5;241m.\u001b[39mcompute()  \u001b[38;5;66;03m# process E, gX, H\u001b[39;00m\n\u001b[1;32m   1271\u001b[0m \u001b[38;5;28;01mtry\u001b[39;00m:\n\u001b[0;32m-> 1272\u001b[0m     \u001b[43mopt_object\u001b[49m\u001b[38;5;241;43m.\u001b[39;49m\u001b[43mtake_step\u001b[49m\u001b[43m(\u001b[49m\u001b[43m)\u001b[49m\n\u001b[1;32m   1273\u001b[0m \u001b[38;5;28;01mexcept\u001b[39;00m optking\u001b[38;5;241m.\u001b[39mexceptions\u001b[38;5;241m.\u001b[39mAlgError:\n\u001b[1;32m   1274\u001b[0m     \u001b[38;5;66;03m# Optking encountered an algorithm error and reset.\u001b[39;00m\n\u001b[1;32m   1275\u001b[0m     \u001b[38;5;28;01mif\u001b[39;00m \u001b[38;5;129;01mnot\u001b[39;00m opt_object\u001b[38;5;241m.\u001b[39mHX:\n",
      "File \u001b[0;32m~/psi4conda/lib/python3.11/site-packages/optking/opt_helper.py:174\u001b[0m, in \u001b[0;36mHelper.take_step\u001b[0;34m(self)\u001b[0m\n\u001b[1;32m    172\u001b[0m \u001b[38;5;28mself\u001b[39m\u001b[38;5;241m.\u001b[39mopt_manager\u001b[38;5;241m.\u001b[39merror \u001b[38;5;241m=\u001b[39m \u001b[38;5;28;01mNone\u001b[39;00m\n\u001b[1;32m    173\u001b[0m \u001b[38;5;28;01mtry\u001b[39;00m:\n\u001b[0;32m--> 174\u001b[0m     \u001b[38;5;28mself\u001b[39m\u001b[38;5;241m.\u001b[39mdq, \u001b[38;5;28mself\u001b[39m\u001b[38;5;241m.\u001b[39mstep_str \u001b[38;5;241m=\u001b[39m \u001b[38;5;28;43mself\u001b[39;49m\u001b[38;5;241;43m.\u001b[39;49m\u001b[43mopt_manager\u001b[49m\u001b[38;5;241;43m.\u001b[39;49m\u001b[43mtake_step\u001b[49m\u001b[43m(\u001b[49m\u001b[38;5;28;43mself\u001b[39;49m\u001b[38;5;241;43m.\u001b[39;49m\u001b[43mfq\u001b[49m\u001b[43m,\u001b[49m\u001b[43m \u001b[49m\u001b[38;5;28;43mself\u001b[39;49m\u001b[38;5;241;43m.\u001b[39;49m\u001b[43m_Hq\u001b[49m\u001b[43m,\u001b[49m\u001b[43m \u001b[49m\u001b[38;5;28;43mself\u001b[39;49m\u001b[38;5;241;43m.\u001b[39;49m\u001b[43mE\u001b[49m\u001b[43m,\u001b[49m\u001b[43m \u001b[49m\u001b[43mreturn_str\u001b[49m\u001b[38;5;241;43m=\u001b[39;49m\u001b[38;5;28;43;01mTrue\u001b[39;49;00m\u001b[43m)\u001b[49m\n\u001b[1;32m    175\u001b[0m \u001b[38;5;28;01mexcept\u001b[39;00m AlgError \u001b[38;5;28;01mas\u001b[39;00m e:\n\u001b[1;32m    176\u001b[0m     \u001b[38;5;28mself\u001b[39m\u001b[38;5;241m.\u001b[39mopt_manager\u001b[38;5;241m.\u001b[39malg_error_handler(e)\n",
      "File \u001b[0;32m~/psi4conda/lib/python3.11/site-packages/optking/optimize.py:232\u001b[0m, in \u001b[0;36mOptimizationManager.take_step\u001b[0;34m(self, fq, H, energy, return_str, **kwargs)\u001b[0m\n\u001b[1;32m    229\u001b[0m \u001b[38;5;28mself\u001b[39m\u001b[38;5;241m.\u001b[39mcurrent_requirements \u001b[38;5;241m=\u001b[39m \u001b[38;5;28mself\u001b[39m\u001b[38;5;241m.\u001b[39mupdate_requirements()\n\u001b[1;32m    231\u001b[0m \u001b[38;5;28;01mif\u001b[39;00m \u001b[38;5;129;01mnot\u001b[39;00m \u001b[38;5;28mself\u001b[39m\u001b[38;5;241m.\u001b[39mparams\u001b[38;5;241m.\u001b[39mlinesearch:\n\u001b[0;32m--> 232\u001b[0m     achieved_dq, returned_str \u001b[38;5;241m=\u001b[39m \u001b[38;5;28;43mself\u001b[39;49m\u001b[38;5;241;43m.\u001b[39;49m\u001b[43mopt_method\u001b[49m\u001b[38;5;241;43m.\u001b[39;49m\u001b[43mtake_step\u001b[49m\u001b[43m(\u001b[49m\u001b[43mfq\u001b[49m\u001b[43m,\u001b[49m\u001b[43m \u001b[49m\u001b[43mH\u001b[49m\u001b[43m,\u001b[49m\u001b[43m \u001b[49m\u001b[43menergy\u001b[49m\u001b[43m,\u001b[49m\u001b[43m \u001b[49m\u001b[43mreturn_str\u001b[49m\u001b[38;5;241;43m=\u001b[39;49m\u001b[38;5;28;43;01mTrue\u001b[39;49;00m\u001b[43m)\u001b[49m\n\u001b[1;32m    233\u001b[0m \u001b[38;5;28;01melse\u001b[39;00m:\n\u001b[1;32m    234\u001b[0m     \u001b[38;5;28;01mif\u001b[39;00m \u001b[38;5;28mself\u001b[39m\u001b[38;5;241m.\u001b[39mdirection \u001b[38;5;129;01mis\u001b[39;00m \u001b[38;5;28;01mNone\u001b[39;00m:\n",
      "File \u001b[0;32m~/psi4conda/lib/python3.11/site-packages/optking/IRCfollowing.py:97\u001b[0m, in \u001b[0;36mIntrinsicReactionCoordinate.take_step\u001b[0;34m(self, fq, H, energy, return_str, **kwargs)\u001b[0m\n\u001b[1;32m     94\u001b[0m \u001b[38;5;28;01melse\u001b[39;00m:\n\u001b[1;32m     96\u001b[0m     \u001b[38;5;28mself\u001b[39m\u001b[38;5;241m.\u001b[39mhistory\u001b[38;5;241m.\u001b[39mappend(\u001b[38;5;28mself\u001b[39m\u001b[38;5;241m.\u001b[39mmolsys\u001b[38;5;241m.\u001b[39mgeom, energy, fq, \u001b[38;5;28mself\u001b[39m\u001b[38;5;241m.\u001b[39mmolsys\u001b[38;5;241m.\u001b[39mgradient_to_cartesians(\u001b[38;5;241m-\u001b[39m\u001b[38;5;241m1\u001b[39m \u001b[38;5;241m*\u001b[39m fq))\n\u001b[0;32m---> 97\u001b[0m     dq \u001b[38;5;241m=\u001b[39m \u001b[38;5;28;43mself\u001b[39;49m\u001b[38;5;241;43m.\u001b[39;49m\u001b[43mdq_irc\u001b[49m\u001b[43m(\u001b[49m\u001b[43mfq\u001b[49m\u001b[43m,\u001b[49m\u001b[43m \u001b[49m\u001b[43mH\u001b[49m\u001b[43m)\u001b[49m\n\u001b[1;32m     98\u001b[0m     dq, dx, return_str \u001b[38;5;241m=\u001b[39m displace_molsys(\u001b[38;5;28mself\u001b[39m\u001b[38;5;241m.\u001b[39mmolsys, dq, fq, ensure_convergence\u001b[38;5;241m=\u001b[39m\u001b[38;5;28;01mTrue\u001b[39;00m, return_str\u001b[38;5;241m=\u001b[39m\u001b[38;5;28;01mTrue\u001b[39;00m)\n\u001b[1;32m     99\u001b[0m     logger\u001b[38;5;241m.\u001b[39minfo(\u001b[38;5;124m\"\u001b[39m\u001b[38;5;124mIRC Constrained step calculation finished.\u001b[39m\u001b[38;5;124m\"\u001b[39m)\n",
      "File \u001b[0;32m~/psi4conda/lib/python3.11/site-packages/optking/IRCfollowing.py:212\u001b[0m, in \u001b[0;36mIntrinsicReactionCoordinate.dq_irc\u001b[0;34m(self, f_q, H_q)\u001b[0m\n\u001b[1;32m    210\u001b[0m G_prime_root \u001b[38;5;241m=\u001b[39m symm_mat_root(G_prime)\n\u001b[1;32m    211\u001b[0m G_prime_inv \u001b[38;5;241m=\u001b[39m symm_mat_inv(G_prime, redundant\u001b[38;5;241m=\u001b[39m\u001b[38;5;28;01mTrue\u001b[39;00m)\n\u001b[0;32m--> 212\u001b[0m G_prime_root_inv \u001b[38;5;241m=\u001b[39m \u001b[43msymm_mat_root\u001b[49m\u001b[43m(\u001b[49m\u001b[43mG_prime_inv\u001b[49m\u001b[43m)\u001b[49m\n\u001b[1;32m    214\u001b[0m logger\u001b[38;5;241m.\u001b[39mdebug(\u001b[38;5;124m\"\u001b[39m\u001b[38;5;124mG prime root matrix: \u001b[39m\u001b[38;5;130;01m\\n\u001b[39;00m\u001b[38;5;124m\"\u001b[39m \u001b[38;5;241m+\u001b[39m print_mat_string(G_prime_root))\n\u001b[1;32m    216\u001b[0m deltaQM \u001b[38;5;241m=\u001b[39m \u001b[38;5;241m0\u001b[39m\n",
      "File \u001b[0;32m~/psi4conda/lib/python3.11/site-packages/optking/linearAlgebra.py:171\u001b[0m, in \u001b[0;36msymm_mat_root\u001b[0;34m(A, Inverse)\u001b[0m\n\u001b[1;32m    168\u001b[0m         evals[i] \u001b[38;5;241m=\u001b[39m \u001b[38;5;241m1\u001b[39m \u001b[38;5;241m/\u001b[39m evals[i]\n\u001b[1;32m    170\u001b[0m \u001b[38;5;28;01mfor\u001b[39;00m i \u001b[38;5;129;01min\u001b[39;00m \u001b[38;5;28mrange\u001b[39m(\u001b[38;5;241m0\u001b[39m, \u001b[38;5;28mlen\u001b[39m(evals)):\n\u001b[0;32m--> 171\u001b[0m     rootMatrix[i][i] \u001b[38;5;241m=\u001b[39m sqrt(evals[i])\n\u001b[1;32m    173\u001b[0m A \u001b[38;5;241m=\u001b[39m np\u001b[38;5;241m.\u001b[39mdot(evects, np\u001b[38;5;241m.\u001b[39mdot(rootMatrix, evects\u001b[38;5;241m.\u001b[39mT))\n\u001b[1;32m    175\u001b[0m \u001b[38;5;28;01mreturn\u001b[39;00m A\n",
      "\u001b[0;31mValueError\u001b[0m: math domain error"
     ]
    }
   ],
   "source": [
    "output_file = \"23_Butane_PES_1.out\"\n",
    "psi4.set_memory(\"4GB\")\n",
    "psi4.set_output_file(output_file, append=False, loglevel=20, print_header=True, inherit_loglevel=True, execute=True)\n",
    "psi4.core.set_num_threads(4)\n",
    "\n",
    "irc_direction = \"forward\"\n",
    "\n",
    "mol3 = ts.clone()\n",
    "\n",
    "psi4.set_options({\n",
    "     \"geom_maxiter\":500,\n",
    "     \"full_hess_every\":0,\n",
    "     \"opt_type\":\"irc\",\n",
    "     \"irc_step_size\":0.25,\n",
    "     \"ensure_bt_convergence\":True,\n",
    "     \"irc_direction\":irc_direction,\n",
    "     \"reference\": \"rhf\",\n",
    "     \"g_convergence\": \"GAU_VERYTIGHT\", # default => QCHEM:  MOLPRO, GAU, GAU_LOOSE, GAU_TIGHT, INTERFRAG_TIGHT, GAU_VERYTIGHT, TURBOMOLE, CFOUR, NWCHEM_LOOSE\n",
    "     \"IRC_POINTS\": 100\n",
    "     })\n",
    "\n",
    "E, history = psi4.optimize('b3pw91/6-31+G(d)',molecule=mol3, return_history=True)\n",
    "\n",
    "#energy_ts, hist = psi4.optimize(\"hf/sto-3g\", molecule = ts, return_history=True)          \n",
    "#energy_ts, hist = psi4.optimize(\"b3pw91/6-31+G(d)\", molecule = ts, return_history=True)   \n",
    "#energy_ts, hist = psi4.optimize(\"b3lyp/6-311++G(d,p)\", molecule = ts, return_history=True)   \n",
    "#energy_ts, hist = psi4.optimize(\"B3LYP-d3bj2b/6-311++G(d,p)\", molecule = ts, return_history=True)   \n",
    "print(\"Done\")\n"
   ]
  },
  {
   "cell_type": "code",
   "execution_count": 17,
   "id": "5e1e3ad5-f25e-4834-b2bc-15712b37f5bf",
   "metadata": {},
   "outputs": [
    {
     "data": {
      "application/vnd.jupyter.widget-view+json": {
       "model_id": "c2ae3351e1184b77b73bed24f9e6301a",
       "version_major": 2,
       "version_minor": 0
      },
      "text/plain": [
       "interactive(children=(IntSlider(value=0, description='conf', max=28), Output()), _dom_classes=('widget-interac…"
      ]
     },
     "metadata": {},
     "output_type": "display_data"
    }
   ],
   "source": [
    "\n",
    "traj = hp.mol2traj(mol3, history[\"coordinates\"])\n",
    "hp.drawXYZGeomSlider(traj)"
   ]
  },
  {
   "cell_type": "code",
   "execution_count": 14,
   "id": "0e730f38-e4b8-490c-abb8-38acf5dc3681",
   "metadata": {},
   "outputs": [
    {
     "data": {
      "text/plain": [
       "[array([[-0.03771485,  1.85559399, -1.60434431],\n",
       "        [ 0.05284245,  1.31958595,  0.09936757],\n",
       "        [-0.05284245, -1.31958595,  0.09936757],\n",
       "        [ 0.03771485, -1.85559399, -1.60434431]]),\n",
       " array([[-0.01931311,  1.85986554, -1.62414151],\n",
       "        [ 0.02727382,  1.32998304,  0.11916478],\n",
       "        [-0.02727382, -1.32998304,  0.11916478],\n",
       "        [ 0.01931311, -1.85986554, -1.62414151]]),\n",
       " array([[-0.02164893,  1.86171528, -1.62446112],\n",
       "        [ 0.03050324,  1.32948919,  0.11948438],\n",
       "        [-0.03050324, -1.32948919,  0.11948438],\n",
       "        [ 0.02164893, -1.86171528, -1.62446112]]),\n",
       " array([[-0.02152118,  1.86167425, -1.62448030],\n",
       "        [ 0.03032532,  1.32950252,  0.11950356],\n",
       "        [-0.03032532, -1.32950252,  0.11950356],\n",
       "        [ 0.02152118, -1.86167425, -1.62448030]]),\n",
       " array([[-0.02152785,  1.86167603, -1.62447934],\n",
       "        [ 0.03033462,  1.32950176,  0.11950261],\n",
       "        [-0.03033462, -1.32950176,  0.11950261],\n",
       "        [ 0.02152785, -1.86167603, -1.62447934]]),\n",
       " array([[-0.02724746,  1.87699164, -1.66202818],\n",
       "        [ 0.03851191,  1.34770605,  0.15705144],\n",
       "        [-0.03851191, -1.34770605,  0.15705144],\n",
       "        [ 0.02724746, -1.87699164, -1.66202818]]),\n",
       " array([[-0.03014443,  1.86223631, -1.63180312],\n",
       "        [ 0.04289697,  1.34947759,  0.12682638],\n",
       "        [-0.04289697, -1.34947759,  0.12682638],\n",
       "        [ 0.03014443, -1.86223631, -1.63180312]]),\n",
       " array([[-0.03164454,  1.86393497, -1.63436259],\n",
       "        [ 0.04493529,  1.34967144,  0.12938585],\n",
       "        [-0.04493529, -1.34967144,  0.12938585],\n",
       "        [ 0.03164454, -1.86393497, -1.63436259]]),\n",
       " array([[-0.03160459,  1.86395467, -1.63439109],\n",
       "        [ 0.04488008,  1.34968390,  0.12941435],\n",
       "        [-0.04488008, -1.34968390,  0.12941435],\n",
       "        [ 0.03160459, -1.86395467, -1.63439109]]),\n",
       " array([[-0.04601624,  1.85406607, -1.61606614],\n",
       "        [ 0.06573965,  1.37161118,  0.11108940],\n",
       "        [-0.06573965, -1.37161118,  0.11108940],\n",
       "        [ 0.04601624, -1.85406607, -1.61606614]])]"
      ]
     },
     "execution_count": 14,
     "metadata": {},
     "output_type": "execute_result"
    }
   ],
   "source": [
    "history[\"coordinates\"]"
   ]
  },
  {
   "cell_type": "code",
   "execution_count": null,
   "id": "3fb607bd-a3de-4b5b-a39b-ce0734200cc7",
   "metadata": {},
   "outputs": [],
   "source": []
  }
 ],
 "metadata": {
  "kernelspec": {
   "display_name": "Python 3 (ipykernel)",
   "language": "python",
   "name": "python3"
  },
  "language_info": {
   "codemirror_mode": {
    "name": "ipython",
    "version": 3
   },
   "file_extension": ".py",
   "mimetype": "text/x-python",
   "name": "python",
   "nbconvert_exporter": "python",
   "pygments_lexer": "ipython3",
   "version": "3.11.7"
  }
 },
 "nbformat": 4,
 "nbformat_minor": 5
}
