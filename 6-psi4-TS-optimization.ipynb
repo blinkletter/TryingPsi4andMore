{
 "cells": [
  {
   "cell_type": "markdown",
   "id": "293d8c30-5c73-42ef-aee3-20787f9fe23f",
   "metadata": {},
   "source": [
    "# A Transition State\n",
    "\n",
    "Rotation around a dihedral is a lot like a chemical reaction. We started in one energy well, passed through a high-energy barrier, and ended up in a different energy well. In fact, its exactly like a chemical reaction. We can optimize for the structures in the energy wells as the algorithm just has to follow the derivative of the energy function downhill. To optimize for the structure that represents the high energy transition state between the two energy wells we will need to perform a transtition state optimization.\n",
    "\n",
    "## Using the Imagination\n",
    "\n",
    "To optimize for a transition state (ts) we must first start very close to it. There's all kinds of ways to go uphill in energy. Just grab any bond and pull. However, we want to follow the path that leads to the ts. First we start with a structure that is close enough to the ts to have an imaginary vibration. We perform a vibrational analysis on the structure, identify the imaginary vibration, and then follow it to the crest of the energy barrier. Yes its hard math, that is why we are letting a computer do it for us.\n",
    "\n",
    "## A Starting Point\n",
    "\n",
    "We will use the rotation of butane as our example. We have already performed a PES and observed an energy maximum near (but not exactly at) 120 degrees. Let us start there. First we will optimize the structure of butane with a torsion angle of 120 degrees. consider the code below. "
   ]
  },
  {
   "cell_type": "code",
   "execution_count": 5,
   "id": "c667b754-ee1d-4c7f-a1fd-f1f0c41cd84f",
   "metadata": {},
   "outputs": [
    {
     "name": "stdout",
     "output_type": "stream",
     "text": [
      "Optimizer: Optimization complete!\n",
      "Initial energy is -155.4617513 Hartrees\n",
      "After optimization: 120.000 degrees\n",
      "\n"
     ]
    },
    {
     "data": {
      "application/3dmoljs_load.v0": "<div id=\"3dmolviewer_17157146613365362\"  style=\"position: relative; width: 400px; height: 400px;\">\n        <p id=\"3dmolwarning_17157146613365362\" style=\"background-color:#ffcccc;color:black\">3Dmol.js failed to load for some reason.  Please check your browser console for error messages.<br></p>\n        </div>\n<script>\n\nvar loadScriptAsync = function(uri){\n  return new Promise((resolve, reject) => {\n    //this is to ignore the existence of requirejs amd\n    var savedexports, savedmodule;\n    if (typeof exports !== 'undefined') savedexports = exports;\n    else exports = {}\n    if (typeof module !== 'undefined') savedmodule = module;\n    else module = {}\n\n    var tag = document.createElement('script');\n    tag.src = uri;\n    tag.async = true;\n    tag.onload = () => {\n        exports = savedexports;\n        module = savedmodule;\n        resolve();\n    };\n  var firstScriptTag = document.getElementsByTagName('script')[0];\n  firstScriptTag.parentNode.insertBefore(tag, firstScriptTag);\n});\n};\n\nif(typeof $3Dmolpromise === 'undefined') {\n$3Dmolpromise = null;\n  $3Dmolpromise = loadScriptAsync('https://cdnjs.cloudflare.com/ajax/libs/3Dmol/2.1.0/3Dmol-min.js');\n}\n\nvar viewer_17157146613365362 = null;\nvar warn = document.getElementById(\"3dmolwarning_17157146613365362\");\nif(warn) {\n    warn.parentNode.removeChild(warn);\n}\n$3Dmolpromise.then(function() {\nviewer_17157146613365362 = $3Dmol.createViewer(document.getElementById(\"3dmolviewer_17157146613365362\"),{backgroundColor:\"white\"});\nviewer_17157146613365362.zoomTo();\n\tviewer_17157146613365362.addModel(\"14\\n\\n C    0.841884344908   -0.117076040768   -1.677484538614\\n C    0.841884344908   -0.117076040768   -0.135982249202\\n H    0.841884344908    0.898512443334   -2.062228626198\\n H    1.722431929302   -0.625544610478   -2.059587495041\\n H   -0.037854527740   -0.625066560420   -2.061568062633\\n C   -0.401219403138    0.596510453223    0.473460905720\\n H    0.881336408429   -1.146286020129    0.214216018805\\n H    1.749937781861    0.368158805482    0.215304807919\\n C   -1.253536857140   -0.330793449740    1.362224898204\\n H   -0.078310341572    1.450533145198    1.064892348923\\n H   -1.026984212611    0.987824157680   -0.325763840645\\n H   -2.109018333400    0.204944935875    1.763525516482\\n H   -1.620329558374   -1.178992623095    0.791667462711\\n H   -0.668539518961   -0.709921791421    2.194983851394\\n\",\"xyz\");\n\tviewer_17157146613365362.setStyle({\"stick\": {}, \"sphere\": {\"scale\": 0.1}});\n\tviewer_17157146613365362.zoomTo();\nviewer_17157146613365362.render();\n});\n</script>",
      "text/html": [
       "<div id=\"3dmolviewer_17157146613365362\"  style=\"position: relative; width: 400px; height: 400px;\">\n",
       "        <p id=\"3dmolwarning_17157146613365362\" style=\"background-color:#ffcccc;color:black\">3Dmol.js failed to load for some reason.  Please check your browser console for error messages.<br></p>\n",
       "        </div>\n",
       "<script>\n",
       "\n",
       "var loadScriptAsync = function(uri){\n",
       "  return new Promise((resolve, reject) => {\n",
       "    //this is to ignore the existence of requirejs amd\n",
       "    var savedexports, savedmodule;\n",
       "    if (typeof exports !== 'undefined') savedexports = exports;\n",
       "    else exports = {}\n",
       "    if (typeof module !== 'undefined') savedmodule = module;\n",
       "    else module = {}\n",
       "\n",
       "    var tag = document.createElement('script');\n",
       "    tag.src = uri;\n",
       "    tag.async = true;\n",
       "    tag.onload = () => {\n",
       "        exports = savedexports;\n",
       "        module = savedmodule;\n",
       "        resolve();\n",
       "    };\n",
       "  var firstScriptTag = document.getElementsByTagName('script')[0];\n",
       "  firstScriptTag.parentNode.insertBefore(tag, firstScriptTag);\n",
       "});\n",
       "};\n",
       "\n",
       "if(typeof $3Dmolpromise === 'undefined') {\n",
       "$3Dmolpromise = null;\n",
       "  $3Dmolpromise = loadScriptAsync('https://cdnjs.cloudflare.com/ajax/libs/3Dmol/2.1.0/3Dmol-min.js');\n",
       "}\n",
       "\n",
       "var viewer_17157146613365362 = null;\n",
       "var warn = document.getElementById(\"3dmolwarning_17157146613365362\");\n",
       "if(warn) {\n",
       "    warn.parentNode.removeChild(warn);\n",
       "}\n",
       "$3Dmolpromise.then(function() {\n",
       "viewer_17157146613365362 = $3Dmol.createViewer(document.getElementById(\"3dmolviewer_17157146613365362\"),{backgroundColor:\"white\"});\n",
       "viewer_17157146613365362.zoomTo();\n",
       "\tviewer_17157146613365362.addModel(\"14\\n\\n C    0.841884344908   -0.117076040768   -1.677484538614\\n C    0.841884344908   -0.117076040768   -0.135982249202\\n H    0.841884344908    0.898512443334   -2.062228626198\\n H    1.722431929302   -0.625544610478   -2.059587495041\\n H   -0.037854527740   -0.625066560420   -2.061568062633\\n C   -0.401219403138    0.596510453223    0.473460905720\\n H    0.881336408429   -1.146286020129    0.214216018805\\n H    1.749937781861    0.368158805482    0.215304807919\\n C   -1.253536857140   -0.330793449740    1.362224898204\\n H   -0.078310341572    1.450533145198    1.064892348923\\n H   -1.026984212611    0.987824157680   -0.325763840645\\n H   -2.109018333400    0.204944935875    1.763525516482\\n H   -1.620329558374   -1.178992623095    0.791667462711\\n H   -0.668539518961   -0.709921791421    2.194983851394\\n\",\"xyz\");\n",
       "\tviewer_17157146613365362.setStyle({\"stick\": {}, \"sphere\": {\"scale\": 0.1}});\n",
       "\tviewer_17157146613365362.zoomTo();\n",
       "viewer_17157146613365362.render();\n",
       "});\n",
       "</script>"
      ]
     },
     "metadata": {},
     "output_type": "display_data"
    }
   ],
   "source": [
    "# use psi4conda environment\n",
    "import psi4\n",
    "import os\n",
    "import numpy as np\n",
    "import matplotlib.pyplot as plt\n",
    "import pandas as pd\n",
    "\n",
    "import helpers as hp # Many useful functions from https://lcbc-epfl.github.io/iesm-public/intro.html\n",
    "\n",
    "psi4.core.clean_options()\n",
    "\n",
    "output_file = \"butane_TS_Start_120.log\"\n",
    "\n",
    "psi4.set_memory(\"2GB\")\n",
    "psi4.set_output_file(output_file, append=False, loglevel=20, print_header=True, inherit_loglevel=True, execute=True)\n",
    "psi4.core.set_num_threads(4)\n",
    "\n",
    "# The Z-matrix as a text string ### From previous optimization\n",
    "data = \"\"\"\n",
    "       0 1\n",
    "       C       \n",
    "       C             1    1.541090\n",
    "       H             1    1.085997      2  110.737654\n",
    "       H             1    1.086006      2  110.607207      3  119.996707\n",
    "       H             1    1.085996      2  110.737537      3 -120.006541\n",
    "       C             2    1.545066      1  112.446725      3   59.916254\n",
    "       H             2    1.088519      1  109.298807      6  121.516910\n",
    "       H             2    1.088518      1  109.301738      6 -121.519264\n",
    "       C             6    1.541169      2  112.445221      1    dihedral\n",
    "       H             6    1.088515      2  109.250918      9  121.551235\n",
    "       H             6    1.088516      2  109.250874      9 -121.547269\n",
    "       H             9    1.085998      6  110.604358     10   58.384210\n",
    "       H             9    1.085992      6  110.745577     12  119.994957\n",
    "       H             9    1.085994      6  110.746117     12 -119.995065\n",
    "\n",
    "       symmetry c1\n",
    "       dihedral  =  120\n",
    "       units angstrom\n",
    "       \"\"\" \n",
    "\n",
    "# Create the Molecule object\n",
    "mol = psi4.geometry(data)             # Create Molecule object from data string\n",
    "\n",
    "# Set up options for calculations\n",
    "psi4.set_options({\n",
    "#       \"BASIS\": \"sto-3g\",            # default => None - Basis set must be specified\n",
    "#       \"BASIS\": \"6-31+G(d)\",         # I am sepcifying the basis set in the method string of the optimize function\n",
    "#       \"BASIS\": \"6-31++G(d,p)\",      #  so I do not need to set the \"BASIS\" option here.\n",
    "#        \"SAVE_OPTIMIZATION\": True,    # default => False\n",
    "#        \"OPT_TYPE\": \"min\",            # default => \"min\":  MIN, TS, IRC\n",
    "#        \"MAXITER\": 100,               # default => 50\n",
    "#        \"GEOM_MAXITER\": 100,          # default => 50\n",
    "#        \"FULL_HESS_EVERY\": -1,        # default => -1 -> No Hessian performed. 0 => perform a calculation at the beginning\n",
    "#        \"PRINT\": 2,                   # default => 1\n",
    "#        \"GUESS\": \"sad\",               # default => \"auto\": AUTO, CORE, GWH, SAD, SADNO, SAP, SAPGAU, HUCKEL, MODHUCKEL, READ\n",
    "#        \"REFERENCE\": \"rhf\",           # default => rhf: RHF, ROHF, UHF, CUHF, RKS, UKS\n",
    "#        \"SCF_TYPE\": \"direct\",         # default => pk:  DIRECT, DF, PK, OUT_OF_CORE, PS, INDEPENDENT, GTFOCK, DFDIRJ+LINK, DFDIRJ+COSX\n",
    "#        \"INTS_TOLERANCE\": 1E-8,       # default => 1e-12. A value of 1e-8 is recommended when SCF_TYPE set to \"direct\"\n",
    "#        \"PRINT_TRAJECTORY_XYZ_FILE\":True,   # default => false\n",
    "#        \"PRINT_OPT_PARAMS\": True,     # default => False\n",
    "#        \"WRITE_TRAJECTORY\": True,     # default => False\n",
    "    })\n",
    "\n",
    "\n",
    "# Optimize the structure\n",
    "psi4.set_options({\"FROZEN_DIHEDRAL\":\"9 6 2 1\"})\n",
    "\n",
    "energy_ts, hist = psi4.optimize(\"hf/sto-3g\", molecule = mol, return_history=True)\n",
    "                                                                        \n",
    "print(f\"Initial energy is {energy_ts:0.7f} Hartrees\")\n",
    "\n",
    "dihedral_angle = mol.get_variable(\"dihedral\")\n",
    "\n",
    "print(f\"After optimization: {dihedral_angle:.3f} degrees\\n\") \n",
    "\n",
    "hp.drawXYZ(mol)"
   ]
  },
  {
   "cell_type": "markdown",
   "id": "f04e2fb9-8e44-422b-8579-ae8ac074de67",
   "metadata": {},
   "source": [
    "## The Transition State for Rotation\n",
    "\n",
    "We will now perform a transition state optimization. Note the ```\"OPT_TYPE\": \"ts\"``` setting in the code below. The optimized dihedral angle was 119.85 degrees using hf/STO-3G (10 seconds to run). This was surprising to me. I expected it to be slightly higher than 120 degrees due to steric repulsion. Perhaps hf/STO-3G is not accurate enough. \n",
    "\n",
    "The hf/STO-3G transition state optimization took abot 10 seconds on my laptop computer. I repeated the caluclation using hf/6-31+G(d) and the angle was optimized to be 119.0 degrees. The higher level of theory favoured even more cheating toward the other methyl group. This level of theory took a full minute to optimize.\n",
    "\n",
    "### Further Notes:\n",
    "\n",
    "Note all the comment-out options in the code below. Use the appropriate oprions and methods to repeat the calculations described here. \n",
    "\n",
    "I used a higher level of theory again, b3lyp/6-31+G(d). This is a density functional theory (DFT) method. DfT is better are handling charged systems and weak interactions (I think, I am not a computational chemist. This higher level of theory took 14 minutes to optimizer the transition state and found a dihedral angle of 188.5 degrees.\n",
    "\n",
    "However b3lyp does not include dispersion interaction in it math. This becomes important in interactions between molecules and in groups between molecules. I performed a B3LYP-d3bj2b/6-311++G(d,p) transition state oprimization (22 minutes) and the angle was found to be 119.5 degrees.\n",
    "\n",
    "The steric interaction appears to be unimportant between the methyl groups in the ts. The reason that the transition state is reached slightly before 120 degrees is explained using Hammond's postulate. Look at the energy profile in the previous notebook and convince yourself that this observation is consistent with Hammond's postulate."
   ]
  },
  {
   "cell_type": "code",
   "execution_count": 24,
   "id": "3dce65c0-6859-4ac0-a7b2-395c516a2068",
   "metadata": {},
   "outputs": [
    {
     "name": "stdout",
     "output_type": "stream",
     "text": [
      "Warning: thermodynamics relations excluded imaginary frequencies: ['129.1478i']\n",
      "Warning: used thermodynamics relations inappropriate for low-frequency modes: ['249.2737' '262.2167' '406.7300' '434.5543']\n",
      "Optimizer: Optimization complete!\n",
      "TS energy is -155.4617512 Hartrees\n",
      "After TS optimization dihedral is: 119.826 degrees\n",
      "\n",
      "done\n"
     ]
    },
    {
     "data": {
      "application/3dmoljs_load.v0": "<div id=\"3dmolviewer_1715736733887711\"  style=\"position: relative; width: 400px; height: 400px;\">\n        <p id=\"3dmolwarning_1715736733887711\" style=\"background-color:#ffcccc;color:black\">3Dmol.js failed to load for some reason.  Please check your browser console for error messages.<br></p>\n        </div>\n<script>\n\nvar loadScriptAsync = function(uri){\n  return new Promise((resolve, reject) => {\n    //this is to ignore the existence of requirejs amd\n    var savedexports, savedmodule;\n    if (typeof exports !== 'undefined') savedexports = exports;\n    else exports = {}\n    if (typeof module !== 'undefined') savedmodule = module;\n    else module = {}\n\n    var tag = document.createElement('script');\n    tag.src = uri;\n    tag.async = true;\n    tag.onload = () => {\n        exports = savedexports;\n        module = savedmodule;\n        resolve();\n    };\n  var firstScriptTag = document.getElementsByTagName('script')[0];\n  firstScriptTag.parentNode.insertBefore(tag, firstScriptTag);\n});\n};\n\nif(typeof $3Dmolpromise === 'undefined') {\n$3Dmolpromise = null;\n  $3Dmolpromise = loadScriptAsync('https://cdnjs.cloudflare.com/ajax/libs/3Dmol/2.1.0/3Dmol-min.js');\n}\n\nvar viewer_1715736733887711 = null;\nvar warn = document.getElementById(\"3dmolwarning_1715736733887711\");\nif(warn) {\n    warn.parentNode.removeChild(warn);\n}\n$3Dmolpromise.then(function() {\nviewer_1715736733887711 = $3Dmol.createViewer(document.getElementById(\"3dmolviewer_1715736733887711\"),{backgroundColor:\"white\"});\nviewer_1715736733887711.zoomTo();\n\tviewer_1715736733887711.addModel(\"14\\n\\n C    0.842594524093   -0.116360289443   -1.676718911321\\n C    0.842594524093   -0.116360289443   -0.135052112796\\n H    0.842594524093    0.899185992897   -2.061605102804\\n H    1.723229870926   -0.624743476234   -2.058646611452\\n H   -0.036989112054   -0.624483234729   -2.061032982212\\n C   -0.400924172863    0.596653467193    0.474350853781\\n H    0.882647213471   -1.145450485628    0.215424607510\\n H    1.750355761007    0.369390781162    0.216290422200\\n C   -1.255207251744   -0.332334266810    1.359742732755\\n H   -0.078189675808    1.449001623422    1.068296333743\\n H   -1.025090989588    0.990550389627   -0.324852380786\\n H   -2.111034972608    0.203025933075    1.760728043900\\n H   -1.621613269598   -1.179159298813    0.786866132528\\n H   -0.671893495688   -0.713557597528    2.192740610905\\n\",\"xyz\");\n\tviewer_1715736733887711.setStyle({\"stick\": {}, \"sphere\": {\"scale\": 0.1}});\n\tviewer_1715736733887711.zoomTo();\nviewer_1715736733887711.render();\n});\n</script>",
      "text/html": [
       "<div id=\"3dmolviewer_1715736733887711\"  style=\"position: relative; width: 400px; height: 400px;\">\n",
       "        <p id=\"3dmolwarning_1715736733887711\" style=\"background-color:#ffcccc;color:black\">3Dmol.js failed to load for some reason.  Please check your browser console for error messages.<br></p>\n",
       "        </div>\n",
       "<script>\n",
       "\n",
       "var loadScriptAsync = function(uri){\n",
       "  return new Promise((resolve, reject) => {\n",
       "    //this is to ignore the existence of requirejs amd\n",
       "    var savedexports, savedmodule;\n",
       "    if (typeof exports !== 'undefined') savedexports = exports;\n",
       "    else exports = {}\n",
       "    if (typeof module !== 'undefined') savedmodule = module;\n",
       "    else module = {}\n",
       "\n",
       "    var tag = document.createElement('script');\n",
       "    tag.src = uri;\n",
       "    tag.async = true;\n",
       "    tag.onload = () => {\n",
       "        exports = savedexports;\n",
       "        module = savedmodule;\n",
       "        resolve();\n",
       "    };\n",
       "  var firstScriptTag = document.getElementsByTagName('script')[0];\n",
       "  firstScriptTag.parentNode.insertBefore(tag, firstScriptTag);\n",
       "});\n",
       "};\n",
       "\n",
       "if(typeof $3Dmolpromise === 'undefined') {\n",
       "$3Dmolpromise = null;\n",
       "  $3Dmolpromise = loadScriptAsync('https://cdnjs.cloudflare.com/ajax/libs/3Dmol/2.1.0/3Dmol-min.js');\n",
       "}\n",
       "\n",
       "var viewer_1715736733887711 = null;\n",
       "var warn = document.getElementById(\"3dmolwarning_1715736733887711\");\n",
       "if(warn) {\n",
       "    warn.parentNode.removeChild(warn);\n",
       "}\n",
       "$3Dmolpromise.then(function() {\n",
       "viewer_1715736733887711 = $3Dmol.createViewer(document.getElementById(\"3dmolviewer_1715736733887711\"),{backgroundColor:\"white\"});\n",
       "viewer_1715736733887711.zoomTo();\n",
       "\tviewer_1715736733887711.addModel(\"14\\n\\n C    0.842594524093   -0.116360289443   -1.676718911321\\n C    0.842594524093   -0.116360289443   -0.135052112796\\n H    0.842594524093    0.899185992897   -2.061605102804\\n H    1.723229870926   -0.624743476234   -2.058646611452\\n H   -0.036989112054   -0.624483234729   -2.061032982212\\n C   -0.400924172863    0.596653467193    0.474350853781\\n H    0.882647213471   -1.145450485628    0.215424607510\\n H    1.750355761007    0.369390781162    0.216290422200\\n C   -1.255207251744   -0.332334266810    1.359742732755\\n H   -0.078189675808    1.449001623422    1.068296333743\\n H   -1.025090989588    0.990550389627   -0.324852380786\\n H   -2.111034972608    0.203025933075    1.760728043900\\n H   -1.621613269598   -1.179159298813    0.786866132528\\n H   -0.671893495688   -0.713557597528    2.192740610905\\n\",\"xyz\");\n",
       "\tviewer_1715736733887711.setStyle({\"stick\": {}, \"sphere\": {\"scale\": 0.1}});\n",
       "\tviewer_1715736733887711.zoomTo();\n",
       "viewer_1715736733887711.render();\n",
       "});\n",
       "</script>"
      ]
     },
     "metadata": {},
     "output_type": "display_data"
    }
   ],
   "source": [
    "ts = mol.clone()\n",
    "psi4.core.clean_options()\n",
    "\n",
    "output_file = \"butane_TS.log\"\n",
    "psi4.set_memory(\"2GB\")\n",
    "psi4.set_output_file(output_file, append=False, loglevel=20, print_header=True, inherit_loglevel=True, execute=True)\n",
    "psi4.core.set_num_threads(4)\n",
    "\n",
    "psi4.set_options({\n",
    "#        \"BASIS\": \"sto-3g\",            # default => None - Basis set must be specified\n",
    "#        \"BASIS\": \"6-31+G(d)\",         # I am sepcifying the basis set in the method string of the optimize function\n",
    "#        \"BASIS\": \"6-31++G(d,p)\",      #  so I do not need to set the \"BASIS\" option here.\n",
    "#        \"BASIS\": \"6-311++G(d,p)\",        \n",
    "#        \"BASIS\": \"cc-pvdz\"\n",
    "#        \"SAVE_OPTIMIZATION\": True,    # default => False\n",
    "        \"OPT_TYPE\": \"ts\",              # default => \"min\":  MIN, TS, IRC\n",
    "#        \"MAXITER\": 100,               # default => 50\n",
    "#        \"GEOM_MAXITER\": 500,          # default => 50\n",
    "        \"FULL_HESS_EVERY\": 0,         # default => -1 -> Does not do Hessian; 0 -> hessian at start\n",
    "#        \"PRINT\": 2,                   # default => 1\n",
    "#        \"GUESS\": \"sad\",               # default => \"auto\": AUTO, CORE, GWH, SAD, SADNO, SAP, SAPGAU, HUCKEL, MODHUCKEL, READ\n",
    "#        \"REFERENCE\": \"rhf\",            # default => rhf: RHF, ROHF, UHF, CUHF, RKS, UKS\n",
    "#        \"SCF_TYPE\": \"direct\",         # default => pk:  DIRECT, DF, PK, OUT_OF_CORE, PS, INDEPENDENT, GTFOCK, DFDIRJ+LINK, DFDIRJ+COSX\n",
    "#        \"SCF_TYPE\": \"df\",             # default => pk\n",
    "#        \"INTS_TOLERANCE\": 1E-8,       # default => 1e-12. A value of 1e-8 is recommended when SCF_TYPE set to \"direct\"\n",
    "#        \"PRINT_TRAJECTORY_XYZ_FILE\":True,   # default => false\n",
    "#        \"PRINT_OPT_PARAMS\": True,      # default => False\n",
    "#        \"WRITE_TRAJECTORY\": True,      # default => False\n",
    "        \"NORMAL_MODES_WRITE\": True,   # default => False\n",
    "    })\n",
    "\n",
    "energy_ts, hist = psi4.optimize(\"hf/sto-3g\", molecule = ts, return_history=True)          \n",
    "#energy_ts, hist = psi4.optimize(\"b3pw91/6-31+G(d)\", molecule = ts, return_history=True)   \n",
    "#energy_ts, hist = psi4.optimize(\"b3lyp/6-311++G(d,p)\", molecule = ts, return_history=True)   \n",
    "#energy_ts, hist = psi4.optimize(\"B3LYP-d3bj2b/6-311++G(d,p)\", molecule = ts, return_history=True)   \n",
    "\n",
    "#print out TS in case something goes wrong\n",
    "with open('ts.xyz', 'w') as f:\n",
    "    f.write(ts.save_string_xyz_file())\n",
    "\n",
    "print(f\"TS energy is {energy_ts:0.7f} Hartrees\")\n",
    "\n",
    "dihedral_angle = ts.get_variable(\"dihedral\")\n",
    "print(f\"After TS optimization dihedral is: {dihedral_angle:.3f} degrees\\n\") \n",
    "print(\"done\")\n",
    "hp.drawXYZ(ts)"
   ]
  },
  {
   "cell_type": "markdown",
   "id": "f626de56-9282-4e04-9ed3-05b91a17f5f7",
   "metadata": {},
   "source": [
    "### What's the Frequency, Kenneth?\n",
    "\n",
    "A transition state will have an imaginary frequency that represents the motion across the energy surface from starting condition to ending position. Can we observe such an imaginary frequency here?\n",
    "\n",
    "We will perform a frequency calculation and add the option to write out a file that contains the frequency \"modes\" in a format that we can use for visualization. We will use the ```helpers``` package written by Ursula Roethlisberger and Andrej Antalík of the École Polytechnique Fédérale de Lausanne to visualize the frequencies.\n",
    "\n",
    "Consider the code below. The first block performs a frequency calculatoion with the option set to write a Molden-formatted frequency file (this option could have been set for the TS optimization above and so skipped this step.) In the second block we have found that file and copied its filename into the ```show_normal_modes``` function form the ```helpers``` package. We observe that the imaginary frequency (the negative frequency) indeed describes rotation around the dihedral angle defined for rotation. Try the other frequencies. Do they track with what you learned in spectroscopy?\n",
    "\n",
    "We conclude that the transition state structure is likely correct (we're not saying its accurate, just that it is consistent with our hypothesis.)"
   ]
  },
  {
   "cell_type": "code",
   "execution_count": 26,
   "id": "8d357478-75b3-43f2-a839-d11efa74de46",
   "metadata": {},
   "outputs": [
    {
     "name": "stdout",
     "output_type": "stream",
     "text": [
      "Warning: thermodynamics relations excluded imaginary frequencies: ['128.4988i']\n",
      "Warning: used thermodynamics relations inappropriate for low-frequency modes: ['248.8737' '261.9028' '407.1251' '434.2819']\n",
      "Optimizer: Optimization complete!\n",
      "TS energy is -155.4617512 Hartrees\n"
     ]
    }
   ],
   "source": [
    "psi4.set_options({\n",
    "    \"NORMAL_MODES_WRITE\": True,   # default => False  # Write out a file of vibration modes for analysis\n",
    "    \"FULL_HESS_EVERY\": 0,         # default => -1 -> Does not do Hessian; 0 -> hessian at start\n",
    "    })\n",
    "energy_ts, hist = psi4.optimize(\"hf/sto-3g\", molecule = ts, return_history=True)          # get energy of initial optimized structure\n",
    "#energy_ts, wfn = psi4.frequency(\"b3pw91/6-31+G(d)\", molecule = ts, return_wfn=True)   \n",
    "print(f\"TS energy is {energy_ts:0.7f} Hartrees\")"
   ]
  },
  {
   "cell_type": "code",
   "execution_count": 27,
   "id": "b0cbd582-ca16-45d3-98c9-103ab02b73f0",
   "metadata": {},
   "outputs": [
    {
     "data": {
      "application/vnd.jupyter.widget-view+json": {
       "model_id": "8be5346de5424661a36940734b05c3fe",
       "version_major": 2,
       "version_minor": 0
      },
      "text/plain": [
       "interactive(children=(Dropdown(description='Normal mode:', options=((-128.4987582873, 0), (248.8736841729, 1),…"
      ]
     },
     "metadata": {},
     "output_type": "display_data"
    }
   ],
   "source": [
    "# Find the file written for the calculation above with the extension \".molden_normal_modes\" and enter\n",
    "# the file name in the command below.\n",
    "hp.show_normal_modes(filename='butane_TS.default.1122.molden_normal_modes')"
   ]
  },
  {
   "cell_type": "code",
   "execution_count": null,
   "id": "de921820-9e2b-4e38-888c-0b17774c6314",
   "metadata": {},
   "outputs": [],
   "source": []
  }
 ],
 "metadata": {
  "kernelspec": {
   "display_name": "Python 3 (ipykernel)",
   "language": "python",
   "name": "python3"
  },
  "language_info": {
   "codemirror_mode": {
    "name": "ipython",
    "version": 3
   },
   "file_extension": ".py",
   "mimetype": "text/x-python",
   "name": "python",
   "nbconvert_exporter": "python",
   "pygments_lexer": "ipython3",
   "version": "3.11.7"
  }
 },
 "nbformat": 4,
 "nbformat_minor": 5
}
