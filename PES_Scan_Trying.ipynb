{
 "cells": [
  {
   "cell_type": "code",
   "execution_count": 1,
   "id": "62a810ae",
   "metadata": {},
   "outputs": [
    {
     "name": "stdout",
     "output_type": "stream",
     "text": [
      "done\n"
     ]
    }
   ],
   "source": [
    "### use psi4 conda environment\n",
    "### https://github.com/Jammyzx1/psi4-nb/blob/main/psi4_intoductory_methods.ipynb\n",
    "\n",
    "import psi4\n",
    "import numpy as np\n",
    "import pickle\n",
    "import sys\n",
    "import py3Dmol\n",
    "import matplotlib.pyplot as plt\n",
    "\n",
    "sys.path.append(\"..\")\n",
    "from helpers import *\n",
    "\n",
    "print('done')"
   ]
  },
  {
   "cell_type": "code",
   "execution_count": 4,
   "id": "5f2010d5-f87b-4969-877e-a4b00b181edc",
   "metadata": {},
   "outputs": [
    {
     "name": "stdout",
     "output_type": "stream",
     "text": [
      "  Threads set to 4 by Python driver.\n"
     ]
    },
    {
     "data": {
      "text/plain": [
       "4000000000"
      ]
     },
     "execution_count": 4,
     "metadata": {},
     "output_type": "execute_result"
    },
    {
     "name": "stdout",
     "output_type": "stream",
     "text": [
      "\n",
      "  Memory set to   3.725 GiB by Python driver.\n"
     ]
    }
   ],
   "source": [
    "psi4.set_num_threads(4)\n",
    "psi4.set_memory('4 GB')"
   ]
  },
  {
   "cell_type": "code",
   "execution_count": 5,
   "id": "6a64ce72-9113-430f-9cb0-5a0bb23688cf",
   "metadata": {},
   "outputs": [],
   "source": [
    "butane = psi4.geometry(\"\"\"\n",
    "C       \n",
    "C    1    1.450000\n",
    "C    1    1.450000      2  109.471000\n",
    "H    1 1.089         2 109.471000         3 120\n",
    "H    1 1.089        2 109.471000          3 -120\n",
    "C    2 1.45         1 109.471000         3 180\n",
    "H    2 1.089        1 109.471000        6 120\n",
    "H    2 1.089         1 109.471000          6 240\n",
    "H    3 1.089         1 109.471000          2 180\n",
    "H    3 1.089        1 109.471000         9 120\n",
    "H    3 1.089        1 109.471000         9 240\n",
    "H    6 1.089        2 109.471000         1 180\n",
    "H    6 1.089       2 109.471000        12 120\n",
    "H    6 1.089        2 109.471000        12 240\n",
    "\"\"\")"
   ]
  },
  {
   "cell_type": "code",
   "execution_count": 6,
   "id": "56997ad1-1572-45fa-baae-f6fa3be5963a",
   "metadata": {},
   "outputs": [
    {
     "data": {
      "application/3dmoljs_load.v0": "<div id=\"3dmolviewer_17151248913448389\"  style=\"position: relative; width: 400px; height: 400px;\">\n        <p id=\"3dmolwarning_17151248913448389\" style=\"background-color:#ffcccc;color:black\">3Dmol.js failed to load for some reason.  Please check your browser console for error messages.<br></p>\n        </div>\n<script>\n\nvar loadScriptAsync = function(uri){\n  return new Promise((resolve, reject) => {\n    //this is to ignore the existence of requirejs amd\n    var savedexports, savedmodule;\n    if (typeof exports !== 'undefined') savedexports = exports;\n    else exports = {}\n    if (typeof module !== 'undefined') savedmodule = module;\n    else module = {}\n\n    var tag = document.createElement('script');\n    tag.src = uri;\n    tag.async = true;\n    tag.onload = () => {\n        exports = savedexports;\n        module = savedmodule;\n        resolve();\n    };\n  var firstScriptTag = document.getElementsByTagName('script')[0];\n  firstScriptTag.parentNode.insertBefore(tag, firstScriptTag);\n});\n};\n\nif(typeof $3Dmolpromise === 'undefined') {\n$3Dmolpromise = null;\n  $3Dmolpromise = loadScriptAsync('https://cdnjs.cloudflare.com/ajax/libs/3Dmol/2.1.0/3Dmol-min.js');\n}\n\nvar viewer_17151248913448389 = null;\nvar warn = document.getElementById(\"3dmolwarning_17151248913448389\");\nif(warn) {\n    warn.parentNode.removeChild(warn);\n}\n$3Dmolpromise.then(function() {\nviewer_17151248913448389 = $3Dmol.createViewer(document.getElementById(\"3dmolviewer_17151248913448389\"),{backgroundColor:\"white\"});\nviewer_17151248913448389.zoomTo();\n\tviewer_17151248913448389.addModel(\"14\\n\\n C    0.000000000000    0.725000000000    0.000000000000\\n C    0.000000000000   -0.725000000000    0.000000000000\\n C   -1.367074971503    1.208328069007    0.000000000000\\n H    0.513360222058    1.087996046309    0.889165987188\\n H    0.513360222058    1.087996046309   -0.889165987188\\n C    1.367074971503   -1.208328069007    0.000000000000\\n H   -0.513360222058   -1.087996046309    0.889165987188\\n H   -0.513360222058   -1.087996046309   -0.889165987188\\n H   -1.367074971503    2.297328069007    0.000000000000\\n H   -1.880429602190    0.845324115338   -0.889165987188\\n H   -1.880429602190    0.845324115338    0.889165987188\\n H    1.367074971503   -2.297328069007    0.000000000000\\n H    1.880429602190   -0.845324115338   -0.889165987188\\n H    1.880429602190   -0.845324115338    0.889165987188\\n\",\"xyz\");\n\tviewer_17151248913448389.addLabel(\"1\",{\"position\": {\"x\": 0.0, \"y\": 0.7250000000016578, \"z\": 0.0}, \"inFront\": true});\n\tviewer_17151248913448389.addLabel(\"2\",{\"position\": {\"x\": 0.0, \"y\": -0.7250000000016578, \"z\": 0.0}, \"inFront\": true});\n\tviewer_17151248913448389.addLabel(\"3\",{\"position\": {\"x\": -1.367074971506163, \"y\": 1.2083280690096954, \"z\": 0.0}, \"inFront\": true});\n\tviewer_17151248913448389.addLabel(\"4\",{\"position\": {\"x\": 0.5133602220586935, \"y\": 1.087996046311832, \"z\": 0.8891659871904984}, \"inFront\": true});\n\tviewer_17151248913448389.addLabel(\"5\",{\"position\": {\"x\": 0.5133602220586935, \"y\": 1.087996046311832, \"z\": -0.8891659871904987}, \"inFront\": true});\n\tviewer_17151248913448389.addLabel(\"6\",{\"position\": {\"x\": 1.367074971506163, \"y\": -1.2083280690096956, \"z\": 0.0}, \"inFront\": true});\n\tviewer_17151248913448389.addLabel(\"7\",{\"position\": {\"x\": -0.5133602220586935, \"y\": -1.087996046311832, \"z\": 0.8891659871904986}, \"inFront\": true});\n\tviewer_17151248913448389.addLabel(\"8\",{\"position\": {\"x\": -0.5133602220586935, \"y\": -1.087996046311832, \"z\": -0.8891659871904986}, \"inFront\": true});\n\tviewer_17151248913448389.addLabel(\"9\",{\"position\": {\"x\": -1.367074971506163, \"y\": 2.2973280690121856, \"z\": 0.0}, \"inFront\": true});\n\tviewer_17151248913448389.addLabel(\"10\",{\"position\": {\"x\": -1.8804296021942979, \"y\": 0.8453241153397411, \"z\": -0.8891659871904984}, \"inFront\": true});\n\tviewer_17151248913448389.addLabel(\"11\",{\"position\": {\"x\": -1.8804296021942979, \"y\": 0.845324115339741, \"z\": 0.8891659871904984}, \"inFront\": true});\n\tviewer_17151248913448389.addLabel(\"12\",{\"position\": {\"x\": 1.367074971506163, \"y\": -2.2973280690121856, \"z\": 0.0}, \"inFront\": true});\n\tviewer_17151248913448389.addLabel(\"13\",{\"position\": {\"x\": 1.8804296021942979, \"y\": -0.8453241153397411, \"z\": -0.8891659871904984}, \"inFront\": true});\n\tviewer_17151248913448389.addLabel(\"14\",{\"position\": {\"x\": 1.8804296021942979, \"y\": -0.845324115339741, \"z\": 0.8891659871904984}, \"inFront\": true});\n\tviewer_17151248913448389.setStyle({\"stick\": {}, \"sphere\": {\"scale\": 0.1}});\n\tviewer_17151248913448389.setStyle({\"model\": 0},{\"stick\": {\"colorscheme\": \"yellowCarbon\"}, \"sphere\": {\"scale\": 0.1}});\n\tviewer_17151248913448389.zoomTo();\nviewer_17151248913448389.render();\n});\n</script>",
      "text/html": [
       "<div id=\"3dmolviewer_17151248913448389\"  style=\"position: relative; width: 400px; height: 400px;\">\n",
       "        <p id=\"3dmolwarning_17151248913448389\" style=\"background-color:#ffcccc;color:black\">3Dmol.js failed to load for some reason.  Please check your browser console for error messages.<br></p>\n",
       "        </div>\n",
       "<script>\n",
       "\n",
       "var loadScriptAsync = function(uri){\n",
       "  return new Promise((resolve, reject) => {\n",
       "    //this is to ignore the existence of requirejs amd\n",
       "    var savedexports, savedmodule;\n",
       "    if (typeof exports !== 'undefined') savedexports = exports;\n",
       "    else exports = {}\n",
       "    if (typeof module !== 'undefined') savedmodule = module;\n",
       "    else module = {}\n",
       "\n",
       "    var tag = document.createElement('script');\n",
       "    tag.src = uri;\n",
       "    tag.async = true;\n",
       "    tag.onload = () => {\n",
       "        exports = savedexports;\n",
       "        module = savedmodule;\n",
       "        resolve();\n",
       "    };\n",
       "  var firstScriptTag = document.getElementsByTagName('script')[0];\n",
       "  firstScriptTag.parentNode.insertBefore(tag, firstScriptTag);\n",
       "});\n",
       "};\n",
       "\n",
       "if(typeof $3Dmolpromise === 'undefined') {\n",
       "$3Dmolpromise = null;\n",
       "  $3Dmolpromise = loadScriptAsync('https://cdnjs.cloudflare.com/ajax/libs/3Dmol/2.1.0/3Dmol-min.js');\n",
       "}\n",
       "\n",
       "var viewer_17151248913448389 = null;\n",
       "var warn = document.getElementById(\"3dmolwarning_17151248913448389\");\n",
       "if(warn) {\n",
       "    warn.parentNode.removeChild(warn);\n",
       "}\n",
       "$3Dmolpromise.then(function() {\n",
       "viewer_17151248913448389 = $3Dmol.createViewer(document.getElementById(\"3dmolviewer_17151248913448389\"),{backgroundColor:\"white\"});\n",
       "viewer_17151248913448389.zoomTo();\n",
       "\tviewer_17151248913448389.addModel(\"14\\n\\n C    0.000000000000    0.725000000000    0.000000000000\\n C    0.000000000000   -0.725000000000    0.000000000000\\n C   -1.367074971503    1.208328069007    0.000000000000\\n H    0.513360222058    1.087996046309    0.889165987188\\n H    0.513360222058    1.087996046309   -0.889165987188\\n C    1.367074971503   -1.208328069007    0.000000000000\\n H   -0.513360222058   -1.087996046309    0.889165987188\\n H   -0.513360222058   -1.087996046309   -0.889165987188\\n H   -1.367074971503    2.297328069007    0.000000000000\\n H   -1.880429602190    0.845324115338   -0.889165987188\\n H   -1.880429602190    0.845324115338    0.889165987188\\n H    1.367074971503   -2.297328069007    0.000000000000\\n H    1.880429602190   -0.845324115338   -0.889165987188\\n H    1.880429602190   -0.845324115338    0.889165987188\\n\",\"xyz\");\n",
       "\tviewer_17151248913448389.addLabel(\"1\",{\"position\": {\"x\": 0.0, \"y\": 0.7250000000016578, \"z\": 0.0}, \"inFront\": true});\n",
       "\tviewer_17151248913448389.addLabel(\"2\",{\"position\": {\"x\": 0.0, \"y\": -0.7250000000016578, \"z\": 0.0}, \"inFront\": true});\n",
       "\tviewer_17151248913448389.addLabel(\"3\",{\"position\": {\"x\": -1.367074971506163, \"y\": 1.2083280690096954, \"z\": 0.0}, \"inFront\": true});\n",
       "\tviewer_17151248913448389.addLabel(\"4\",{\"position\": {\"x\": 0.5133602220586935, \"y\": 1.087996046311832, \"z\": 0.8891659871904984}, \"inFront\": true});\n",
       "\tviewer_17151248913448389.addLabel(\"5\",{\"position\": {\"x\": 0.5133602220586935, \"y\": 1.087996046311832, \"z\": -0.8891659871904987}, \"inFront\": true});\n",
       "\tviewer_17151248913448389.addLabel(\"6\",{\"position\": {\"x\": 1.367074971506163, \"y\": -1.2083280690096956, \"z\": 0.0}, \"inFront\": true});\n",
       "\tviewer_17151248913448389.addLabel(\"7\",{\"position\": {\"x\": -0.5133602220586935, \"y\": -1.087996046311832, \"z\": 0.8891659871904986}, \"inFront\": true});\n",
       "\tviewer_17151248913448389.addLabel(\"8\",{\"position\": {\"x\": -0.5133602220586935, \"y\": -1.087996046311832, \"z\": -0.8891659871904986}, \"inFront\": true});\n",
       "\tviewer_17151248913448389.addLabel(\"9\",{\"position\": {\"x\": -1.367074971506163, \"y\": 2.2973280690121856, \"z\": 0.0}, \"inFront\": true});\n",
       "\tviewer_17151248913448389.addLabel(\"10\",{\"position\": {\"x\": -1.8804296021942979, \"y\": 0.8453241153397411, \"z\": -0.8891659871904984}, \"inFront\": true});\n",
       "\tviewer_17151248913448389.addLabel(\"11\",{\"position\": {\"x\": -1.8804296021942979, \"y\": 0.845324115339741, \"z\": 0.8891659871904984}, \"inFront\": true});\n",
       "\tviewer_17151248913448389.addLabel(\"12\",{\"position\": {\"x\": 1.367074971506163, \"y\": -2.2973280690121856, \"z\": 0.0}, \"inFront\": true});\n",
       "\tviewer_17151248913448389.addLabel(\"13\",{\"position\": {\"x\": 1.8804296021942979, \"y\": -0.8453241153397411, \"z\": -0.8891659871904984}, \"inFront\": true});\n",
       "\tviewer_17151248913448389.addLabel(\"14\",{\"position\": {\"x\": 1.8804296021942979, \"y\": -0.845324115339741, \"z\": 0.8891659871904984}, \"inFront\": true});\n",
       "\tviewer_17151248913448389.setStyle({\"stick\": {}, \"sphere\": {\"scale\": 0.1}});\n",
       "\tviewer_17151248913448389.setStyle({\"model\": 0},{\"stick\": {\"colorscheme\": \"yellowCarbon\"}, \"sphere\": {\"scale\": 0.1}});\n",
       "\tviewer_17151248913448389.zoomTo();\n",
       "viewer_17151248913448389.render();\n",
       "});\n",
       "</script>"
      ]
     },
     "metadata": {},
     "output_type": "display_data"
    }
   ],
   "source": [
    "drawXYZ_labeled(butane)"
   ]
  },
  {
   "cell_type": "code",
   "execution_count": 7,
   "id": "fd7e2788-8871-412d-b3b1-b64efb24c884",
   "metadata": {},
   "outputs": [
    {
     "data": {
      "application/3dmoljs_load.v0": "<div id=\"3dmolviewer_1715124948438633\"  style=\"position: relative; width: 400px; height: 400px;\">\n        <p id=\"3dmolwarning_1715124948438633\" style=\"background-color:#ffcccc;color:black\">3Dmol.js failed to load for some reason.  Please check your browser console for error messages.<br></p>\n        </div>\n<script>\n\nvar loadScriptAsync = function(uri){\n  return new Promise((resolve, reject) => {\n    //this is to ignore the existence of requirejs amd\n    var savedexports, savedmodule;\n    if (typeof exports !== 'undefined') savedexports = exports;\n    else exports = {}\n    if (typeof module !== 'undefined') savedmodule = module;\n    else module = {}\n\n    var tag = document.createElement('script');\n    tag.src = uri;\n    tag.async = true;\n    tag.onload = () => {\n        exports = savedexports;\n        module = savedmodule;\n        resolve();\n    };\n  var firstScriptTag = document.getElementsByTagName('script')[0];\n  firstScriptTag.parentNode.insertBefore(tag, firstScriptTag);\n});\n};\n\nif(typeof $3Dmolpromise === 'undefined') {\n$3Dmolpromise = null;\n  $3Dmolpromise = loadScriptAsync('https://cdnjs.cloudflare.com/ajax/libs/3Dmol/2.1.0/3Dmol-min.js');\n}\n\nvar viewer_1715124948438633 = null;\nvar warn = document.getElementById(\"3dmolwarning_1715124948438633\");\nif(warn) {\n    warn.parentNode.removeChild(warn);\n}\n$3Dmolpromise.then(function() {\nviewer_1715124948438633 = $3Dmol.createViewer(document.getElementById(\"3dmolviewer_1715124948438633\"),{backgroundColor:\"white\"});\nviewer_1715124948438633.zoomTo();\n\tviewer_1715124948438633.addModel(\"14\\n\\n C    0.000000000000    0.725000000000    0.000000000000\\n C    0.000000000000   -0.725000000000    0.000000000000\\n C   -1.367074971503    1.208328069007    0.000000000000\\n H    0.513360222058    1.087996046309    0.889165987188\\n H    0.513360222058    1.087996046309   -0.889165987188\\n C    1.367074971503   -1.208328069007    0.000000000000\\n H   -0.513360222058   -1.087996046309    0.889165987188\\n H   -0.513360222058   -1.087996046309   -0.889165987188\\n H   -1.367074971503    2.297328069007    0.000000000000\\n H   -1.880429602190    0.845324115338   -0.889165987188\\n H   -1.880429602190    0.845324115338    0.889165987188\\n H    1.367074971503   -2.297328069007    0.000000000000\\n H    1.880429602190   -0.845324115338   -0.889165987188\\n H    1.880429602190   -0.845324115338    0.889165987188\\n\",\"xyz\");\n\tviewer_1715124948438633.setStyle({\"stick\": {}, \"sphere\": {\"scale\": 0.1}});\n\tviewer_1715124948438633.zoomTo();\nviewer_1715124948438633.render();\n});\n</script>",
      "text/html": [
       "<div id=\"3dmolviewer_1715124948438633\"  style=\"position: relative; width: 400px; height: 400px;\">\n",
       "        <p id=\"3dmolwarning_1715124948438633\" style=\"background-color:#ffcccc;color:black\">3Dmol.js failed to load for some reason.  Please check your browser console for error messages.<br></p>\n",
       "        </div>\n",
       "<script>\n",
       "\n",
       "var loadScriptAsync = function(uri){\n",
       "  return new Promise((resolve, reject) => {\n",
       "    //this is to ignore the existence of requirejs amd\n",
       "    var savedexports, savedmodule;\n",
       "    if (typeof exports !== 'undefined') savedexports = exports;\n",
       "    else exports = {}\n",
       "    if (typeof module !== 'undefined') savedmodule = module;\n",
       "    else module = {}\n",
       "\n",
       "    var tag = document.createElement('script');\n",
       "    tag.src = uri;\n",
       "    tag.async = true;\n",
       "    tag.onload = () => {\n",
       "        exports = savedexports;\n",
       "        module = savedmodule;\n",
       "        resolve();\n",
       "    };\n",
       "  var firstScriptTag = document.getElementsByTagName('script')[0];\n",
       "  firstScriptTag.parentNode.insertBefore(tag, firstScriptTag);\n",
       "});\n",
       "};\n",
       "\n",
       "if(typeof $3Dmolpromise === 'undefined') {\n",
       "$3Dmolpromise = null;\n",
       "  $3Dmolpromise = loadScriptAsync('https://cdnjs.cloudflare.com/ajax/libs/3Dmol/2.1.0/3Dmol-min.js');\n",
       "}\n",
       "\n",
       "var viewer_1715124948438633 = null;\n",
       "var warn = document.getElementById(\"3dmolwarning_1715124948438633\");\n",
       "if(warn) {\n",
       "    warn.parentNode.removeChild(warn);\n",
       "}\n",
       "$3Dmolpromise.then(function() {\n",
       "viewer_1715124948438633 = $3Dmol.createViewer(document.getElementById(\"3dmolviewer_1715124948438633\"),{backgroundColor:\"white\"});\n",
       "viewer_1715124948438633.zoomTo();\n",
       "\tviewer_1715124948438633.addModel(\"14\\n\\n C    0.000000000000    0.725000000000    0.000000000000\\n C    0.000000000000   -0.725000000000    0.000000000000\\n C   -1.367074971503    1.208328069007    0.000000000000\\n H    0.513360222058    1.087996046309    0.889165987188\\n H    0.513360222058    1.087996046309   -0.889165987188\\n C    1.367074971503   -1.208328069007    0.000000000000\\n H   -0.513360222058   -1.087996046309    0.889165987188\\n H   -0.513360222058   -1.087996046309   -0.889165987188\\n H   -1.367074971503    2.297328069007    0.000000000000\\n H   -1.880429602190    0.845324115338   -0.889165987188\\n H   -1.880429602190    0.845324115338    0.889165987188\\n H    1.367074971503   -2.297328069007    0.000000000000\\n H    1.880429602190   -0.845324115338   -0.889165987188\\n H    1.880429602190   -0.845324115338    0.889165987188\\n\",\"xyz\");\n",
       "\tviewer_1715124948438633.setStyle({\"stick\": {}, \"sphere\": {\"scale\": 0.1}});\n",
       "\tviewer_1715124948438633.zoomTo();\n",
       "viewer_1715124948438633.render();\n",
       "});\n",
       "</script>"
      ]
     },
     "metadata": {},
     "output_type": "display_data"
    }
   ],
   "source": [
    "drawXYZ(butane)"
   ]
  },
  {
   "cell_type": "code",
   "execution_count": 10,
   "id": "854f0128-7229-4fb4-8d41-c9c191ed85eb",
   "metadata": {},
   "outputs": [
    {
     "name": "stdout",
     "output_type": "stream",
     "text": [
      "    Molecular point group: c2h\n",
      "    Full point group: C2h\n",
      "\n",
      "    Geometry (in Angstrom), charge = 0, multiplicity = 1:\n",
      "\n",
      "    C       \n",
      "    C             1    1.450000\n",
      "    C             1    1.450000      2  109.471000\n",
      "    H             1    1.089000      2  109.471000      3  120.000000\n",
      "    H             1    1.089000      2  109.471000      3 -120.000000\n",
      "    C             2    1.450000      1  109.471000      3 -180.000000\n",
      "    H             2    1.089000      1  109.471000      6  120.000000\n",
      "    H             2    1.089000      1  109.471000      6 -120.000000\n",
      "    H             3    1.089000      1  109.471000      2 -180.000000\n",
      "    H             3    1.089000      1  109.471000      9  120.000000\n",
      "    H             3    1.089000      1  109.471000      9 -120.000000\n",
      "    H             6    1.089000      2  109.471000      1 -180.000000\n",
      "    H             6    1.089000      2  109.471000     12  120.000000\n",
      "    H             6    1.089000      2  109.471000     12 -120.000000\n",
      "\n"
     ]
    }
   ],
   "source": [
    "psi4.core.clean_options()\n",
    "psi4.core.clean()\n",
    "psi4.core.clean_variables()\n",
    "butane.print_in_input_format()"
   ]
  },
  {
   "cell_type": "code",
   "execution_count": 13,
   "id": "0521944a-7c1e-41c9-b26b-fb676cb0c19e",
   "metadata": {},
   "outputs": [
    {
     "name": "stdout",
     "output_type": "stream",
     "text": [
      "Optimizer: Optimization complete!\n"
     ]
    }
   ],
   "source": [
    "psi4.set_options({\n",
    "#        \"BASIS\": \"sto-3g\",            # default => None - Basis set must be specified\n",
    "        \"BASIS\": \"6-31+G*\",            # default => None - Basis set must be specified\n",
    "        \"SAVE_OPTIMIZATION\": True,    # default => False\n",
    "        \"MAXITER\": 100,               # default => 50\n",
    "        \"GEOM_MAXITER\": 100,          # default => 50\n",
    "        \"FULL_HESS_EVERY\": -1,        # default => -1 -> only perform a calculation at the beginning\n",
    "        \"PRINT\": 2,                   # default => 1\n",
    "        \"GUESS\": \"sad\",               # default => auto\n",
    "        \"REFERENCE\": \"rhf\",           # default => rhf\n",
    "        \"SCF_TYPE\": \"direct\",         # default => pk\n",
    "        \"INTS_TOLERANCE\": 1E-8        # default => 1e-12. A value of 1e-8 is recommended when SCF_TYPE set to \"direct\"\n",
    "    })\n",
    "\n",
    "output_file = \"butane_PES.out\"\n",
    "psi4.set_memory(\"4GB\")\n",
    "psi4.set_output_file(output_file, append=False, loglevel=20, print_header=True, inherit_loglevel=True, execute=True)\n",
    "psi4.core.set_num_threads(4)\n",
    "\n",
    "psi4.set_options({'print_trajectory_xyz_file':True})\n",
    "\n",
    "opt_energy, hist = psi4.optimize(\"hf\", molecule = butane, return_history=True)\n",
    "butane.print_in_input_format()"
   ]
  },
  {
   "cell_type": "code",
   "execution_count": 14,
   "id": "85708bb8-bae7-4e09-9d53-880616723c4b",
   "metadata": {},
   "outputs": [
    {
     "name": "stdout",
     "output_type": "stream",
     "text": [
      "     1.039\n",
      "     0.040\n",
      "     0.000\n"
     ]
    }
   ],
   "source": [
    "a = np.array(hist[\"energy\"])\n",
    "b = ((a - a[-1]) * psi4.constants.hartree2kJmol)\n",
    "for c in b: print(f\"{c:10.3f}\")"
   ]
  },
  {
   "cell_type": "code",
   "execution_count": null,
   "id": "b76bb538-3e83-4283-9a0a-17866a1411c3",
   "metadata": {},
   "outputs": [],
   "source": []
  }
 ],
 "metadata": {
  "kernelspec": {
   "display_name": "Python 3 (ipykernel)",
   "language": "python",
   "name": "python3"
  },
  "language_info": {
   "codemirror_mode": {
    "name": "ipython",
    "version": 3
   },
   "file_extension": ".py",
   "mimetype": "text/x-python",
   "name": "python",
   "nbconvert_exporter": "python",
   "pygments_lexer": "ipython3",
   "version": "3.11.7"
  }
 },
 "nbformat": 4,
 "nbformat_minor": 5
}
