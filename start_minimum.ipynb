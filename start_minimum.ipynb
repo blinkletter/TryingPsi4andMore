{
 "cells": [
  {
   "cell_type": "code",
   "execution_count": 10,
   "id": "3a3b410b-0ecb-443c-a160-1620777085c2",
   "metadata": {},
   "outputs": [
    {
     "name": "stdout",
     "output_type": "stream",
     "text": [
      "done\n"
     ]
    }
   ],
   "source": [
    "### use psi4 conda environment\n",
    "### https://github.com/Jammyzx1/psi4-nb/blob/main/psi4_intoductory_methods.ipynb\n",
    "\n",
    "from typing import Union, Tuple\n",
    "import psi4\n",
    "import os\n",
    "import numpy as np\n",
    "\n",
    "print('done')"
   ]
  },
  {
   "cell_type": "code",
   "execution_count": 11,
   "id": "868d15bd-b65e-46b5-87f0-aa716bb4c50b",
   "metadata": {},
   "outputs": [],
   "source": [
    "psi4.set_memory(\"1GB\")\n",
    "psi4.set_output_file(\"p4_output3.out\", append=False, loglevel=20, print_header=True, inherit_loglevel=True)\n",
    "psi4.core.set_num_threads(4)"
   ]
  },
  {
   "cell_type": "code",
   "execution_count": 12,
   "id": "28f3960f-bf0b-4759-a832-4e67e9a781d1",
   "metadata": {},
   "outputs": [
    {
     "name": "stdout",
     "output_type": "stream",
     "text": [
      "The energy for this configuration is -76.0255897 Hartree\n"
     ]
    }
   ],
   "source": [
    "molecule = psi4.geometry(\n",
    "    \"\"\"\n",
    "    0 1\n",
    "    O     0.00000     0.64670    -0.01863\n",
    "    H     0.76026     0.61622    -0.62453\n",
    "    H    -0.76026     0.61622    -0.62453\n",
    "    units angstrom\n",
    "    symmetry c1\n",
    "    \"\"\" \n",
    ")\n",
    "\n",
    "energy = psi4.energy(\"hf/cc-pvdz\")\n",
    "print(\"The energy for this configuration is {:.7f} Hartree\".format(energy))"
   ]
  },
  {
   "cell_type": "code",
   "execution_count": 13,
   "id": "79522f10-7cf9-4829-8216-5c9a7395fb53",
   "metadata": {},
   "outputs": [
    {
     "name": "stderr",
     "output_type": "stream",
     "text": [
      "[Psi4 p4_output3.out ERROR] Encountered error when parsing.\n",
      "[Psi4 p4_output3.out ERROR] Last line read:                          Git: Rev {} zzzzzzz \n",
      "\n"
     ]
    },
    {
     "ename": "InvalidVersion",
     "evalue": "Invalid version: '1!1.9.1.dev+-zzzzzzz'",
     "output_type": "error",
     "traceback": [
      "\u001b[0;31m---------------------------------------------------------------------------\u001b[0m",
      "\u001b[0;31mInvalidVersion\u001b[0m                            Traceback (most recent call last)",
      "Cell \u001b[0;32mIn[13], line 5\u001b[0m\n\u001b[1;32m      3\u001b[0m output_file \u001b[38;5;241m=\u001b[39m \u001b[38;5;124m\"\u001b[39m\u001b[38;5;124mp4_output3.out\u001b[39m\u001b[38;5;124m\"\u001b[39m\n\u001b[1;32m      4\u001b[0m parser \u001b[38;5;241m=\u001b[39m cclib\u001b[38;5;241m.\u001b[39mio\u001b[38;5;241m.\u001b[39mccopen(output_file)\n\u001b[0;32m----> 5\u001b[0m data \u001b[38;5;241m=\u001b[39m \u001b[43mparser\u001b[49m\u001b[38;5;241;43m.\u001b[39;49m\u001b[43mparse\u001b[49m\u001b[43m(\u001b[49m\u001b[43m)\u001b[49m\n\u001b[1;32m      6\u001b[0m \u001b[38;5;28mprint\u001b[39m(\u001b[38;5;124m\"\u001b[39m\u001b[38;5;124mThere are \u001b[39m\u001b[38;5;132;01m%i\u001b[39;00m\u001b[38;5;124m atoms and \u001b[39m\u001b[38;5;132;01m%i\u001b[39;00m\u001b[38;5;124m MOs\u001b[39m\u001b[38;5;124m\"\u001b[39m \u001b[38;5;241m%\u001b[39m (data\u001b[38;5;241m.\u001b[39mnatom, data\u001b[38;5;241m.\u001b[39mnmo))\n",
      "File \u001b[0;32m~/psi4conda/lib/python3.11/site-packages/cclib/parser/logfileparser.py:165\u001b[0m, in \u001b[0;36mLogfile.parse\u001b[0;34m(self, progress, fupdate, cupdate)\u001b[0m\n\u001b[1;32m    160\u001b[0m \u001b[38;5;66;03m# This call should check if the line begins a section of extracted data.\u001b[39;00m\n\u001b[1;32m    161\u001b[0m \u001b[38;5;66;03m# If it does, it parses some lines and sets the relevant attributes (to self).\u001b[39;00m\n\u001b[1;32m    162\u001b[0m \u001b[38;5;66;03m# Any attributes can be freely set and used across calls, however only those\u001b[39;00m\n\u001b[1;32m    163\u001b[0m \u001b[38;5;66;03m#   in data._attrlist will be moved to final data object that is returned.\u001b[39;00m\n\u001b[1;32m    164\u001b[0m \u001b[38;5;28;01mtry\u001b[39;00m:\n\u001b[0;32m--> 165\u001b[0m     \u001b[38;5;28;43mself\u001b[39;49m\u001b[38;5;241;43m.\u001b[39;49m\u001b[43mextract\u001b[49m\u001b[43m(\u001b[49m\u001b[38;5;28;43mself\u001b[39;49m\u001b[38;5;241;43m.\u001b[39;49m\u001b[43minputfile\u001b[49m\u001b[43m,\u001b[49m\u001b[43m \u001b[49m\u001b[43mline\u001b[49m\u001b[43m)\u001b[49m\n\u001b[1;32m    166\u001b[0m \u001b[38;5;28;01mexcept\u001b[39;00m StopParsing:\n\u001b[1;32m    167\u001b[0m     \u001b[38;5;66;03m# This is fine\u001b[39;00m\n\u001b[1;32m    168\u001b[0m     \u001b[38;5;28;01mbreak\u001b[39;00m\n",
      "File \u001b[0;32m~/psi4conda/lib/python3.11/site-packages/cclib/parser/psi4parser.py:115\u001b[0m, in \u001b[0;36mPsi4.extract\u001b[0;34m(self, inputfile, line)\u001b[0m\n\u001b[1;32m    113\u001b[0m         package_version \u001b[38;5;241m=\u001b[39m \u001b[38;5;124mf\u001b[39m\u001b[38;5;124m\"\u001b[39m\u001b[38;5;132;01m{\u001b[39;00mpackage_version\u001b[38;5;132;01m}\u001b[39;00m\u001b[38;5;132;01m{\u001b[39;00mdev_flag\u001b[38;5;132;01m}\u001b[39;00m\u001b[38;5;124m+\u001b[39m\u001b[38;5;132;01m{\u001b[39;00mrevision\u001b[38;5;132;01m}\u001b[39;00m\u001b[38;5;124m\"\u001b[39m\n\u001b[1;32m    114\u001b[0m     \u001b[38;5;28mself\u001b[39m\u001b[38;5;241m.\u001b[39mmetadata[\u001b[38;5;124m\"\u001b[39m\u001b[38;5;124mpackage_version\u001b[39m\u001b[38;5;124m\"\u001b[39m] \u001b[38;5;241m=\u001b[39m package_version\n\u001b[0;32m--> 115\u001b[0m     \u001b[38;5;28mself\u001b[39m\u001b[38;5;241m.\u001b[39mpackage_version \u001b[38;5;241m=\u001b[39m \u001b[43mparse_version\u001b[49m\u001b[43m(\u001b[49m\u001b[43mpackage_version\u001b[49m\u001b[43m)\u001b[49m\n\u001b[1;32m    117\u001b[0m \u001b[38;5;66;03m# This will automatically change the section attribute for Psi4, when encountering\u001b[39;00m\n\u001b[1;32m    118\u001b[0m \u001b[38;5;66;03m# a line that <== looks like this ==>, to whatever is in between.\u001b[39;00m\n\u001b[1;32m    119\u001b[0m \u001b[38;5;28;01mif\u001b[39;00m (line\u001b[38;5;241m.\u001b[39mstrip()[:\u001b[38;5;241m3\u001b[39m] \u001b[38;5;241m==\u001b[39m \u001b[38;5;124m\"\u001b[39m\u001b[38;5;124m==>\u001b[39m\u001b[38;5;124m\"\u001b[39m) \u001b[38;5;129;01mand\u001b[39;00m (line\u001b[38;5;241m.\u001b[39mstrip()[\u001b[38;5;241m-\u001b[39m\u001b[38;5;241m3\u001b[39m:] \u001b[38;5;241m==\u001b[39m \u001b[38;5;124m\"\u001b[39m\u001b[38;5;124m<==\u001b[39m\u001b[38;5;124m\"\u001b[39m):\n",
      "File \u001b[0;32m~/psi4conda/lib/python3.11/site-packages/packaging/version.py:54\u001b[0m, in \u001b[0;36mparse\u001b[0;34m(version)\u001b[0m\n\u001b[1;32m     45\u001b[0m \u001b[38;5;28;01mdef\u001b[39;00m \u001b[38;5;21mparse\u001b[39m(version: \u001b[38;5;28mstr\u001b[39m) \u001b[38;5;241m-\u001b[39m\u001b[38;5;241m>\u001b[39m \u001b[38;5;124m\"\u001b[39m\u001b[38;5;124mVersion\u001b[39m\u001b[38;5;124m\"\u001b[39m:\n\u001b[1;32m     46\u001b[0m \u001b[38;5;250m    \u001b[39m\u001b[38;5;124;03m\"\"\"Parse the given version string.\u001b[39;00m\n\u001b[1;32m     47\u001b[0m \n\u001b[1;32m     48\u001b[0m \u001b[38;5;124;03m    >>> parse('1.0.dev1')\u001b[39;00m\n\u001b[0;32m   (...)\u001b[0m\n\u001b[1;32m     52\u001b[0m \u001b[38;5;124;03m    :raises InvalidVersion: When the version string is not a valid version.\u001b[39;00m\n\u001b[1;32m     53\u001b[0m \u001b[38;5;124;03m    \"\"\"\u001b[39;00m\n\u001b[0;32m---> 54\u001b[0m     \u001b[38;5;28;01mreturn\u001b[39;00m \u001b[43mVersion\u001b[49m\u001b[43m(\u001b[49m\u001b[43mversion\u001b[49m\u001b[43m)\u001b[49m\n",
      "File \u001b[0;32m~/psi4conda/lib/python3.11/site-packages/packaging/version.py:200\u001b[0m, in \u001b[0;36mVersion.__init__\u001b[0;34m(self, version)\u001b[0m\n\u001b[1;32m    198\u001b[0m match \u001b[38;5;241m=\u001b[39m \u001b[38;5;28mself\u001b[39m\u001b[38;5;241m.\u001b[39m_regex\u001b[38;5;241m.\u001b[39msearch(version)\n\u001b[1;32m    199\u001b[0m \u001b[38;5;28;01mif\u001b[39;00m \u001b[38;5;129;01mnot\u001b[39;00m match:\n\u001b[0;32m--> 200\u001b[0m     \u001b[38;5;28;01mraise\u001b[39;00m InvalidVersion(\u001b[38;5;124mf\u001b[39m\u001b[38;5;124m\"\u001b[39m\u001b[38;5;124mInvalid version: \u001b[39m\u001b[38;5;124m'\u001b[39m\u001b[38;5;132;01m{\u001b[39;00mversion\u001b[38;5;132;01m}\u001b[39;00m\u001b[38;5;124m'\u001b[39m\u001b[38;5;124m\"\u001b[39m)\n\u001b[1;32m    202\u001b[0m \u001b[38;5;66;03m# Store the parsed out pieces of the version\u001b[39;00m\n\u001b[1;32m    203\u001b[0m \u001b[38;5;28mself\u001b[39m\u001b[38;5;241m.\u001b[39m_version \u001b[38;5;241m=\u001b[39m _Version(\n\u001b[1;32m    204\u001b[0m     epoch\u001b[38;5;241m=\u001b[39m\u001b[38;5;28mint\u001b[39m(match\u001b[38;5;241m.\u001b[39mgroup(\u001b[38;5;124m\"\u001b[39m\u001b[38;5;124mepoch\u001b[39m\u001b[38;5;124m\"\u001b[39m)) \u001b[38;5;28;01mif\u001b[39;00m match\u001b[38;5;241m.\u001b[39mgroup(\u001b[38;5;124m\"\u001b[39m\u001b[38;5;124mepoch\u001b[39m\u001b[38;5;124m\"\u001b[39m) \u001b[38;5;28;01melse\u001b[39;00m \u001b[38;5;241m0\u001b[39m,\n\u001b[1;32m    205\u001b[0m     release\u001b[38;5;241m=\u001b[39m\u001b[38;5;28mtuple\u001b[39m(\u001b[38;5;28mint\u001b[39m(i) \u001b[38;5;28;01mfor\u001b[39;00m i \u001b[38;5;129;01min\u001b[39;00m match\u001b[38;5;241m.\u001b[39mgroup(\u001b[38;5;124m\"\u001b[39m\u001b[38;5;124mrelease\u001b[39m\u001b[38;5;124m\"\u001b[39m)\u001b[38;5;241m.\u001b[39msplit(\u001b[38;5;124m\"\u001b[39m\u001b[38;5;124m.\u001b[39m\u001b[38;5;124m\"\u001b[39m)),\n\u001b[0;32m   (...)\u001b[0m\n\u001b[1;32m    211\u001b[0m     local\u001b[38;5;241m=\u001b[39m_parse_local_version(match\u001b[38;5;241m.\u001b[39mgroup(\u001b[38;5;124m\"\u001b[39m\u001b[38;5;124mlocal\u001b[39m\u001b[38;5;124m\"\u001b[39m)),\n\u001b[1;32m    212\u001b[0m )\n",
      "\u001b[0;31mInvalidVersion\u001b[0m: Invalid version: '1!1.9.1.dev+-zzzzzzz'"
     ]
    }
   ],
   "source": [
    "import cclib\n",
    "\n",
    "output_file = \"p4_output3.out\"\n",
    "parser = cclib.io.ccopen(output_file)\n",
    "data = parser.parse()\n",
    "print(\"There are %i atoms and %i MOs\" % (data.natom, data.nmo))"
   ]
  },
  {
   "cell_type": "code",
   "execution_count": 19,
   "id": "486b4f96-d17c-443b-b418-0b546d9e6e20",
   "metadata": {},
   "outputs": [
    {
     "data": {
      "text/plain": [
       "'/Users/blink'"
      ]
     },
     "execution_count": 19,
     "metadata": {},
     "output_type": "execute_result"
    }
   ],
   "source": [
    "os.getcwd() "
   ]
  },
  {
   "cell_type": "code",
   "execution_count": null,
   "id": "95746225-6b62-4def-97d5-dedbc4f40313",
   "metadata": {},
   "outputs": [],
   "source": []
  }
 ],
 "metadata": {
  "kernelspec": {
   "display_name": "Python 3 (ipykernel)",
   "language": "python",
   "name": "python3"
  },
  "language_info": {
   "codemirror_mode": {
    "name": "ipython",
    "version": 3
   },
   "file_extension": ".py",
   "mimetype": "text/x-python",
   "name": "python",
   "nbconvert_exporter": "python",
   "pygments_lexer": "ipython3",
   "version": "3.11.7"
  }
 },
 "nbformat": 4,
 "nbformat_minor": 5
}
