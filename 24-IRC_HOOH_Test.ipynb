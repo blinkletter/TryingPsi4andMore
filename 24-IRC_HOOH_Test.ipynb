{
 "cells": [
  {
   "cell_type": "code",
   "execution_count": null,
   "id": "a81e4eb6-2bcc-46ed-a747-fd0bdc99e1c8",
   "metadata": {},
   "outputs": [],
   "source": [
    "molecule h2o2 {\n",
    "  H     0.0000000000   0.9803530335  -0.8498671785\n",
    "  O     0.0000000000   0.6988545188   0.0536419016\n",
    "  O     0.0000000000  -0.6988545188   0.0536419016\n",
    "  H     0.0000000000  -0.9803530335  -0.8498671785\n",
    "}\n",
    "\n",
    "# g_convergence needs to be tight for IRCs:\n",
    "set g_convergence gau_verytight\n",
    "\n",
    "set {\n",
    "  basis                      dzp\n",
    "  opt_type                   irc\n",
    "  geom_maxiter               60\n",
    "  irc_direction              backward\n",
    "  d_convergence              9\n",
    "  irc_points                 12\n",
    "}\n",
    "\n",
    "energy = frequencies('scf', dertype=1)\n",
    "\n",
    "# Lower point group from C2v to C2\n",
    "h2o2.reset_point_group('c2')\n",
    "\n",
    "energy = optimize('scf')"
   ]
  },
  {
   "cell_type": "code",
   "execution_count": null,
   "id": "f93ad3ae-6197-4c21-a88a-5335935da462",
   "metadata": {},
   "outputs": [],
   "source": [
    "         C            1.040389109196     0.254964976384    -0.647674881834    12.000000000000\n",
    "         C            0.689591079928     0.000000000000     0.708001346062    12.000000000000\n",
    "         C           -0.689591079928     0.000000000000     0.708001346062    12.000000000000\n",
    "         C           -1.040389109196    -0.254964976384    -0.647674881834    12.000000000000\n",
    "         H            1.923694934595    -0.185448301950    -1.124148093391     1.007825032230\n",
    "         H            0.711123863746     1.180002035639    -1.108938410294     1.007825032230\n",
    "         H            1.381683913454    -0.238567611354     1.514789629143     1.007825032230\n",
    "         H           -1.381683913454     0.238567611354     1.514789629143     1.007825032230\n",
    "         H           -1.923694934595     0.185448301950    -1.124148093391     1.007825032230\n",
    "         H           -0.711123863746    -1.180002035639    -1.108938410294     1.007825032230\n",
    "\n"
   ]
  },
  {
   "cell_type": "code",
   "execution_count": 1,
   "id": "a0446796-0e53-4ed3-b4f8-8107137938d8",
   "metadata": {},
   "outputs": [
    {
     "data": {
      "application/3dmoljs_load.v0": "<div id=\"3dmolviewer_17171173556268458\"  style=\"position: relative; width: 400px; height: 400px;\">\n        <p id=\"3dmolwarning_17171173556268458\" style=\"background-color:#ffcccc;color:black\">3Dmol.js failed to load for some reason.  Please check your browser console for error messages.<br></p>\n        </div>\n<script>\n\nvar loadScriptAsync = function(uri){\n  return new Promise((resolve, reject) => {\n    //this is to ignore the existence of requirejs amd\n    var savedexports, savedmodule;\n    if (typeof exports !== 'undefined') savedexports = exports;\n    else exports = {}\n    if (typeof module !== 'undefined') savedmodule = module;\n    else module = {}\n\n    var tag = document.createElement('script');\n    tag.src = uri;\n    tag.async = true;\n    tag.onload = () => {\n        exports = savedexports;\n        module = savedmodule;\n        resolve();\n    };\n  var firstScriptTag = document.getElementsByTagName('script')[0];\n  firstScriptTag.parentNode.insertBefore(tag, firstScriptTag);\n});\n};\n\nif(typeof $3Dmolpromise === 'undefined') {\n$3Dmolpromise = null;\n  $3Dmolpromise = loadScriptAsync('https://cdnjs.cloudflare.com/ajax/libs/3Dmol/2.1.0/3Dmol-min.js');\n}\n\nvar viewer_17171173556268458 = null;\nvar warn = document.getElementById(\"3dmolwarning_17171173556268458\");\nif(warn) {\n    warn.parentNode.removeChild(warn);\n}\n$3Dmolpromise.then(function() {\nviewer_17171173556268458 = $3Dmol.createViewer(document.getElementById(\"3dmolviewer_17171173556268458\"),{backgroundColor:\"white\"});\nviewer_17171173556268458.zoomTo();\n\tviewer_17171173556268458.addModel(\"3\\n\\n H   -0.595880652782    0.988921445883    0.000000000000\\n C   -0.595880652782   -0.166094133617    0.000000000000\\n N    0.553529265718    0.071160790483    0.000000000000\\n\",\"xyz\");\n\tviewer_17171173556268458.addLabel(\"1\",{\"position\": {\"x\": -0.5958806527829071, \"y\": 0.988921445884774, \"z\": 0.0}, \"inFront\": true});\n\tviewer_17171173556268458.addLabel(\"2\",{\"position\": {\"x\": -0.5958806527829071, \"y\": -0.16609413361786698, \"z\": 0.0}, \"inFront\": true});\n\tviewer_17171173556268458.addLabel(\"3\",{\"position\": {\"x\": 0.5535292657197212, \"y\": 0.07116079048267553, \"z\": 0.0}, \"inFront\": true});\n\tviewer_17171173556268458.setStyle({\"stick\": {}, \"sphere\": {\"scale\": 0.1}});\n\tviewer_17171173556268458.setStyle({\"model\": 0},{\"stick\": {\"colorscheme\": \"yellowCarbon\"}, \"sphere\": {\"scale\": 0.1}});\n\tviewer_17171173556268458.zoomTo();\nviewer_17171173556268458.render();\n});\n</script>",
      "text/html": [
       "<div id=\"3dmolviewer_17171173556268458\"  style=\"position: relative; width: 400px; height: 400px;\">\n",
       "        <p id=\"3dmolwarning_17171173556268458\" style=\"background-color:#ffcccc;color:black\">3Dmol.js failed to load for some reason.  Please check your browser console for error messages.<br></p>\n",
       "        </div>\n",
       "<script>\n",
       "\n",
       "var loadScriptAsync = function(uri){\n",
       "  return new Promise((resolve, reject) => {\n",
       "    //this is to ignore the existence of requirejs amd\n",
       "    var savedexports, savedmodule;\n",
       "    if (typeof exports !== 'undefined') savedexports = exports;\n",
       "    else exports = {}\n",
       "    if (typeof module !== 'undefined') savedmodule = module;\n",
       "    else module = {}\n",
       "\n",
       "    var tag = document.createElement('script');\n",
       "    tag.src = uri;\n",
       "    tag.async = true;\n",
       "    tag.onload = () => {\n",
       "        exports = savedexports;\n",
       "        module = savedmodule;\n",
       "        resolve();\n",
       "    };\n",
       "  var firstScriptTag = document.getElementsByTagName('script')[0];\n",
       "  firstScriptTag.parentNode.insertBefore(tag, firstScriptTag);\n",
       "});\n",
       "};\n",
       "\n",
       "if(typeof $3Dmolpromise === 'undefined') {\n",
       "$3Dmolpromise = null;\n",
       "  $3Dmolpromise = loadScriptAsync('https://cdnjs.cloudflare.com/ajax/libs/3Dmol/2.1.0/3Dmol-min.js');\n",
       "}\n",
       "\n",
       "var viewer_17171173556268458 = null;\n",
       "var warn = document.getElementById(\"3dmolwarning_17171173556268458\");\n",
       "if(warn) {\n",
       "    warn.parentNode.removeChild(warn);\n",
       "}\n",
       "$3Dmolpromise.then(function() {\n",
       "viewer_17171173556268458 = $3Dmol.createViewer(document.getElementById(\"3dmolviewer_17171173556268458\"),{backgroundColor:\"white\"});\n",
       "viewer_17171173556268458.zoomTo();\n",
       "\tviewer_17171173556268458.addModel(\"3\\n\\n H   -0.595880652782    0.988921445883    0.000000000000\\n C   -0.595880652782   -0.166094133617    0.000000000000\\n N    0.553529265718    0.071160790483    0.000000000000\\n\",\"xyz\");\n",
       "\tviewer_17171173556268458.addLabel(\"1\",{\"position\": {\"x\": -0.5958806527829071, \"y\": 0.988921445884774, \"z\": 0.0}, \"inFront\": true});\n",
       "\tviewer_17171173556268458.addLabel(\"2\",{\"position\": {\"x\": -0.5958806527829071, \"y\": -0.16609413361786698, \"z\": 0.0}, \"inFront\": true});\n",
       "\tviewer_17171173556268458.addLabel(\"3\",{\"position\": {\"x\": 0.5535292657197212, \"y\": 0.07116079048267553, \"z\": 0.0}, \"inFront\": true});\n",
       "\tviewer_17171173556268458.setStyle({\"stick\": {}, \"sphere\": {\"scale\": 0.1}});\n",
       "\tviewer_17171173556268458.setStyle({\"model\": 0},{\"stick\": {\"colorscheme\": \"yellowCarbon\"}, \"sphere\": {\"scale\": 0.1}});\n",
       "\tviewer_17171173556268458.zoomTo();\n",
       "viewer_17171173556268458.render();\n",
       "});\n",
       "</script>"
      ]
     },
     "metadata": {},
     "output_type": "display_data"
    }
   ],
   "source": [
    "# use psi4conda environment\n",
    "import psi4\n",
    "import os\n",
    "import numpy as np\n",
    "import matplotlib.pyplot as plt\n",
    "import pandas as pd\n",
    "\n",
    "import helpers as hp # Many useful functions from https://lcbc-epfl.github.io/iesm-public/intro.html\n",
    "\n",
    "psi4.core.clean_options()\n",
    "\n",
    "# The Z-matrix as a text string ### From previous optimization\n",
    "data = \"\"\"\n",
    "       0 1\n",
    "  H    -0.5958806528   0.9889214459   0.0000000000\n",
    "  C    -0.5958806528  -0.1660941336   0.0000000000\n",
    "  N     0.5535292657   0.0711607905   0.0000000000\n",
    "       units angstrom\n",
    "       \"\"\" \n",
    "\n",
    "# Create the Molecule object\n",
    "mol = psi4.geometry(data)             # Create Molecule object from data string\n",
    "\n",
    "#hp.drawXYZ(mol)\n",
    "hp.drawXYZ_labeled(mol)\n",
    "\n",
    "\n"
   ]
  },
  {
   "cell_type": "code",
   "execution_count": 2,
   "id": "98870ce6-f09f-4bd3-9e65-f376c1550fce",
   "metadata": {},
   "outputs": [
    {
     "name": "stdout",
     "output_type": "stream",
     "text": [
      "\n",
      "  Memory set to   1.863 GiB by Python driver.\n",
      "Warning: thermodynamics relations excluded imaginary frequencies: ['1151.2298i' '311.8748i' '232.7254i' '35.1274i']\n",
      "Optimizer: Optimization complete!\n"
     ]
    }
   ],
   "source": [
    "ts = mol.clone()\n",
    "\n",
    "psi4.core.clean_options()\n",
    "\n",
    "output_file = \"24_ring_closing_TS1.log\"\n",
    "psi4.set_memory(\"2GB\")\n",
    "psi4.set_output_file(output_file, append=False, loglevel=20, print_header=True, inherit_loglevel=True, execute=True)\n",
    "psi4.core.set_num_threads(4)\n",
    "\n",
    "psi4.set_options({\n",
    "        \"OPT_TYPE\": \"ts\",              # default => \"min\":  MIN, TS, IRC\n",
    "        \"FULL_HESS_EVERY\": 0,         # default => -1 -> Does not do Hessian; 0 -> hessian at start\n",
    "        \"NORMAL_MODES_WRITE\": True,    # default => False\n",
    "         \"g_convergence\": \"GAU_VERYTIGHT\", # default => QCHEM:  MOLPRO, GAU, GAU_LOOSE, GAU_TIGHT, INTERFRAG_TIGHT, GAU_VERYTIGHT, TURBOMOLE, CFOUR, NWCHEM_LOOSE\n",
    "    })\n",
    "\n",
    "\n",
    "#energy_ts, hist = psi4.optimize(\"hf/sto-3g\", molecule = ts, return_history=True)          \n",
    "energy_ts, hist = psi4.optimize(\"b3pw91/6-31+G(d)\", molecule = ts, return_history=True)   \n",
    "#energy_ts, hist = psi4.optimize(\"b3lyp/6-311++G(d,p)\", molecule = ts, return_history=True)   \n",
    "#energy_ts, hist = psi4.optimize(\"B3LYP-d3bj2b/6-311++G(d,p)\", molecule = ts, return_history=True)   \n",
    "\n",
    "\n",
    "#print out TS in case something goes wrong\n",
    "with open('ts.xyz', 'w') as f:\n",
    "    f.write(ts.save_string_xyz_file())"
   ]
  },
  {
   "cell_type": "code",
   "execution_count": 3,
   "id": "145e57ea-5571-4403-879a-5c41272c0492",
   "metadata": {},
   "outputs": [
    {
     "name": "stdout",
     "output_type": "stream",
     "text": [
      "-rw-r--r--  1 blink  staff  16932 25 May 20:56 irc.C4H6.20360.molden_normal_modes\n",
      "-rw-r--r--  1 blink  staff  16932 22 May 22:26 butane_TS2.C4H6.16013.molden_normal_modes\n",
      "-rw-r--r--  1 blink  staff  34528 15 May 15:57 butane_TS.default.29456.molden_normal_modes\n",
      "-rw-r--r--  1 blink  staff  34528 14 May 22:34 butane_TS.default.1122.molden_normal_modes\n",
      "-rw-r--r--  1 blink  staff  18963 22 May 22:01 butane_TS.C4H6.16013.molden_normal_modes\n",
      "-rw-r--r--  1 blink  staff   1613 30 May 22:03 24_ring_closing_TS1.CHN.57124.molden_normal_modes\n",
      "-rw-r--r--  1 blink  staff  16932 30 May 21:17 23_ring_closing_TS1.C4H6.56957.molden_normal_modes\n",
      "-rw-r--r--  1 blink  staff  16932 30 May 21:27 23_Butane_PES_1.C4H6.56957.molden_normal_modes\n",
      "-rw-r--r--  1 blink  staff   2937 30 May 20:55 22x_ring_closing_TS1.H2O2.56818.molden_normal_modes\n",
      "-rw-r--r--  1 blink  staff   2061 30 May 21:09 22_Butane_PES_1.H2O2.56818.molden_normal_modes\n",
      "-rw-r--r--  1 blink  staff  18963 28 May 21:48 10_ring_closing_TS1.C4H6.49499.molden_normal_modes\n",
      "-rw-r--r--  1 blink  staff  18963 27 May 21:57 10_ring_closing_TS1.C4H6.29409.molden_normal_modes\n",
      "-rw-r--r--  1 blink  staff  18963 25 May 23:27 10_ring_closing_TS1.C4H6.20360.molden_normal_modes\n"
     ]
    }
   ],
   "source": [
    "!ls -alr *.molden_normal_modes"
   ]
  },
  {
   "cell_type": "code",
   "execution_count": 4,
   "id": "edfc6e50-3ebd-4470-adbd-4171c7c5f089",
   "metadata": {},
   "outputs": [
    {
     "data": {
      "application/vnd.jupyter.widget-view+json": {
       "model_id": "eed1258be74a4ae58e5967ce2ccd5b30",
       "version_major": 2,
       "version_minor": 0
      },
      "text/plain": [
       "interactive(children=(Dropdown(description='Normal mode:', options=((-1151.2298413019, 0), (-311.8748045197, 1…"
      ]
     },
     "metadata": {},
     "output_type": "display_data"
    }
   ],
   "source": [
    "hp.show_normal_modes(filename='24_ring_closing_TS1.CHN.57124.molden_normal_modes')"
   ]
  },
  {
   "cell_type": "code",
   "execution_count": 8,
   "id": "cd70c943-b3ad-44e4-a8f1-c6415a82bf30",
   "metadata": {},
   "outputs": [
    {
     "name": "stdout",
     "output_type": "stream",
     "text": [
      "Warning: thermodynamics relations excluded imaginary frequencies: ['1140.2988i']\n",
      "Warning: thermodynamics relations excluded imaginary frequencies: ['1138.8864i']\n",
      "Warning: thermodynamics relations excluded imaginary frequencies: ['1130.0034i']\n",
      "Warning: thermodynamics relations excluded imaginary frequencies: ['1129.9936i']\n",
      "Warning: thermodynamics relations excluded imaginary frequencies: ['1130.0091i']\n",
      "Warning: thermodynamics relations excluded imaginary frequencies: ['1003.9767i' '311.2862i' '111.6676i']\n",
      "Warning: used thermodynamics relations inappropriate for low-frequency modes: ['322.3681']\n",
      "Warning: thermodynamics relations excluded imaginary frequencies: ['994.8380i' '298.6825i' '101.8183i']\n",
      "Warning: used thermodynamics relations inappropriate for low-frequency modes: ['339.1712']\n",
      "Warning: thermodynamics relations excluded imaginary frequencies: ['994.8470i' '298.4142i' '101.6174i']\n",
      "Warning: used thermodynamics relations inappropriate for low-frequency modes: ['339.3877']\n",
      "Warning: thermodynamics relations excluded imaginary frequencies: ['994.8580i' '298.4190i' '101.5981i']\n",
      "Warning: used thermodynamics relations inappropriate for low-frequency modes: ['339.3783']\n",
      "Warning: thermodynamics relations excluded imaginary frequencies: ['799.5110i' '330.6879i' '131.5990i']\n",
      "Warning: used thermodynamics relations inappropriate for low-frequency modes: ['410.0661']\n",
      "Warning: thermodynamics relations excluded imaginary frequencies: ['788.7411i' '320.9804i' '123.9234i']\n",
      "Warning: used thermodynamics relations inappropriate for low-frequency modes: ['423.6366']\n",
      "Warning: thermodynamics relations excluded imaginary frequencies: ['788.7413i' '320.7790i' '123.7447i']\n",
      "Warning: used thermodynamics relations inappropriate for low-frequency modes: ['423.8440']\n",
      "Warning: thermodynamics relations excluded imaginary frequencies: ['788.7403i' '320.7843i' '123.7507i']\n",
      "Warning: used thermodynamics relations inappropriate for low-frequency modes: ['423.8358']\n",
      "Warning: thermodynamics relations excluded imaginary frequencies: ['543.6709i' '325.6205i' '141.3920i']\n",
      "Warning: used thermodynamics relations inappropriate for low-frequency modes: ['481.5184']\n",
      "Warning: thermodynamics relations excluded imaginary frequencies: ['530.2706i' '318.1534i' '135.3989i']\n",
      "Warning: used thermodynamics relations inappropriate for low-frequency modes: ['492.3482']\n",
      "Warning: thermodynamics relations excluded imaginary frequencies: ['530.2112i' '318.0061i' '135.2637i']\n",
      "Warning: used thermodynamics relations inappropriate for low-frequency modes: ['492.5316']\n",
      "Warning: thermodynamics relations excluded imaginary frequencies: ['530.2049i' '318.0112i' '135.2783i']\n",
      "Warning: used thermodynamics relations inappropriate for low-frequency modes: ['492.5246']\n",
      "Warning: thermodynamics relations excluded imaginary frequencies: ['306.6449i' '168.1498i' '106.3856i']\n",
      "Warning: used thermodynamics relations inappropriate for low-frequency modes: ['539.5470']\n",
      "Warning: thermodynamics relations excluded imaginary frequencies: ['300.4868i' '144.3297i' '71.6638i']\n",
      "Warning: used thermodynamics relations inappropriate for low-frequency modes: ['548.5639']\n",
      "Warning: thermodynamics relations excluded imaginary frequencies: ['300.3750i' '143.9931i' '71.4648i']\n",
      "Warning: used thermodynamics relations inappropriate for low-frequency modes: ['548.7222']\n",
      "Warning: thermodynamics relations excluded imaginary frequencies: ['300.3796i' '144.0162i' '71.6519i']\n",
      "Warning: used thermodynamics relations inappropriate for low-frequency modes: ['548.7163']\n",
      "Warning: thermodynamics relations excluded imaginary frequencies: ['279.4659i' '142.8831i']\n",
      "Warning: used thermodynamics relations inappropriate for low-frequency modes: ['426.5515' '587.3152']\n",
      "Warning: thermodynamics relations excluded imaginary frequencies: ['274.2747i' '136.3227i']\n",
      "Warning: used thermodynamics relations inappropriate for low-frequency modes: ['437.4918' '594.6616']\n",
      "Warning: thermodynamics relations excluded imaginary frequencies: ['274.1887i' '136.2068i']\n",
      "Warning: used thermodynamics relations inappropriate for low-frequency modes: ['437.5730' '594.7909']\n",
      "Warning: thermodynamics relations excluded imaginary frequencies: ['274.1927i' '136.2130i']\n",
      "Warning: used thermodynamics relations inappropriate for low-frequency modes: ['437.6074' '594.7863']\n",
      "Warning: thermodynamics relations excluded imaginary frequencies: ['248.0446i' '134.2508i']\n",
      "Warning: used thermodynamics relations inappropriate for low-frequency modes: ['562.7170']\n",
      "Warning: thermodynamics relations excluded imaginary frequencies: ['243.4861i' '128.1263i']\n",
      "Warning: used thermodynamics relations inappropriate for low-frequency modes: ['569.4717']\n",
      "Warning: thermodynamics relations excluded imaginary frequencies: ['243.4173i' '128.0254i']\n",
      "Warning: used thermodynamics relations inappropriate for low-frequency modes: ['569.5755']\n",
      "Warning: thermodynamics relations excluded imaginary frequencies: ['243.4211i' '128.0367i']\n",
      "Warning: used thermodynamics relations inappropriate for low-frequency modes: ['569.5475']\n",
      "Warning: thermodynamics relations excluded imaginary frequencies: ['214.6832i' '122.3604i']\n",
      "Warning: thermodynamics relations excluded imaginary frequencies: ['210.4506i' '116.2838i']\n",
      "Warning: thermodynamics relations excluded imaginary frequencies: ['210.3930i' '116.1972i']\n",
      "Warning: thermodynamics relations excluded imaginary frequencies: ['210.3962i' '116.1995i']\n",
      "Warning: thermodynamics relations excluded imaginary frequencies: ['180.4753i' '107.7696i']\n",
      "Warning: thermodynamics relations excluded imaginary frequencies: ['176.3009i' '101.4819i']\n",
      "Warning: thermodynamics relations excluded imaginary frequencies: ['176.2507i' '101.4016i']\n",
      "Warning: thermodynamics relations excluded imaginary frequencies: ['176.2531i' '101.3983i']\n",
      "Warning: thermodynamics relations excluded imaginary frequencies: ['145.8904i' '90.9661i']\n",
      "Warning: thermodynamics relations excluded imaginary frequencies: ['141.5105i' '84.2369i']\n",
      "Warning: thermodynamics relations excluded imaginary frequencies: ['141.4658i' '84.1660i']\n",
      "Optimizer: Optimization complete!\n",
      "[{'step_number': 0, 'q': [2.2471476414711833, 2.249191383276396, 1.2500050559994194], 'x': [[-1.0429905356355837, 1.8620731975886977, 0.0], [-1.166671895501183, -0.3816681965544189, 0.0], [1.0035786713381203, 0.20898767257622156, 0.0]], 'f_q': [-8.613477276263412e-08, 1.6611731299999145e-07, 1.0033648075551781e-07], 'f_x': [-4.932370867173857e-08, -8.354667279812077e-08, 0.0, -1.2267826850790174e-07, 8.296724819760444e-08, 0.0, 1.720019771796403e-07, 5.794246005163298e-10, 0.0], 'energy': -93.3077457459735, 'q_pivot': [2.217790745962235, 2.2456977576572172, 1.3091600296593395], 'x_pivot': [[-1.0882099614665857, 1.8681165274821276, 0.0], [-1.1514089615367222, -0.3487735643505421, 0.0], [1.0335351632046614, 0.17004971047891473, 0.0]], 'step_dist': 0.0, 'arc_dist': 0.0, 'line_dist': 0.0}, {'step_number': 1, 'q': [2.1950509611988913, 2.2421882450597095, 1.3705048990584232], 'x': [[-1.135012207294134, 1.8775048147196995, 0.0], [-1.1341277374385115, -0.317545968285844, 0.0], [1.063056184933999, 0.12943382717664484, 0.0]], 'f_q': [-0.0013194962274334194, 0.003925025843552654, 0.025150445594949847], 'f_x': [-0.011457263153869137, -0.0013241129037724997, 0.0, 0.0053749280951929605, 0.011533437888394957, 0.0, 0.006082335058676176, -0.010209324984622457, 0.0], 'energy': -93.30930769273108, 'q_pivot': [2.1722992846015168, 2.2386783469343796, 1.4318492437322414], 'x_pivot': [[-1.1804780313405212, 1.8855529997534817, 0.0], [-1.1162892939809852, -0.28579772914234786, 0.0], [1.0906835655228602, 0.08963740299936655, 0.0]], 'step_dist': 0.25, 'arc_dist': 0.249765783749134, 'line_dist': 0.1773301678942771}, {'step_number': 2, 'q': [2.1539009527930912, 2.235201334760321, 1.4949645380730758], 'x': [[-1.2269144486729964, 1.8952304224643146, 0.0], [-1.096825400881518, -0.254738450354009, 0.0], [1.1176560897558683, 0.04890070150019505, 0.0]], 'f_q': [-0.0016394719983554014, 0.007362579536156682, 0.04606403499416599], 'f_x': [-0.021248268090790983, -0.002928148096503313, 0.0, 0.011154399569557983, 0.02234539836445415, 0.0, 0.010093868521233002, -0.019417250267950836, 0.0], 'energy': -93.31383670183517, 'q_pivot': [2.1354995869212376, 2.231723744299778, 1.558079823566843], 'x_pivot': [[-1.2719927662389887, 1.903448527809224, 0.0], [-1.076852312389611, -0.22311646978954114, 0.0], [1.1427613188299535, 0.009060615590818217, 0.0]], 'step_dist': 0.5, 'arc_dist': 0.49966002251842956, 'line_dist': 0.3554974148822351}, {'step_number': 3, 'q': [2.1209388248732384, 2.2283251006011247, 1.62273502276929], 'x': [[-1.3178066446668257, 1.9127209419468516, 0.0], [-1.0554065911096449, -0.19192337734984688, 0.0], [1.1671294759778237, -0.03140489098650408, 0.0]], 'f_q': [-0.0012244599012080843, 0.009736038370813603, 0.059930279823904725], 'f_x': [-0.027887912327079573, -0.004710912025034954, 0.0, 0.016239789984272942, 0.030834465975971743, 0.0, 0.011648122342806634, -0.026123553950936795, 0.0], 'energy': -93.32067957968368, 'q_pivot': [2.1063754176413783, 2.2249259817650633, 1.6873902639990557], 'x_pivot': [[-1.3622163128996498, 1.9204421390241266, 0.0], [-1.0335022630354807, -0.16012616638326513, 0.0], [1.1896348161364834, -0.07092329903036104, 0.0]], 'step_dist': 0.75, 'arc_dist': 0.7495802788048157, 'line_dist': 0.534878353599201}, {'step_number': 4, 'q': [2.0949731072870756, 2.2216502045680917, 1.7533808024280435], 'x': [[-1.4070648985174445, 1.9286116616712787, 0.0], [-1.010299379368726, -0.12844678258126943, 0.0], [1.2112805180875232, -0.11077220547950911, 0.0]], 'f_q': [-0.0005269168307004129, 0.010898790644917547, 0.0667836005041203], 'f_x': [-0.031201304376537408, -0.006554737594763721, 0.0, 0.02006371022797834, 0.03652743779512859, 0.0, 0.011137594148559067, -0.02997270020036487, 0.0], 'energy': -93.32898388553396, 'q_pivot': [2.0835685063084837, 2.2183740494381046, 1.819371409393825], 'x_pivot': [[-1.4504515582485213, 1.9351566523405597, 0.0], [-0.9866807592287595, -0.09614203728072215, 0.0], [1.2310485576786332, -0.1496219414493375, 0.0]], 'step_dist': 1.0, 'arc_dist': 0.999527807588551, 'line_dist': 0.7155699558544965}, {'step_number': 5, 'q': [2.0748367114621518, 2.2152770974585145, 1.8865253549633167], 'x': [[-1.4940127023071388, 1.9417047462644725, 0.0], [-0.9619142305874072, -0.0637424845607624, 0.0], [1.249843173095899, -0.1885695880932102, 0.0]], 'f_q': [0.0001704978855560515, 0.010989289620035557, 0.06792543746464862], 'f_x': [-0.03168659244567252, -0.008230898269697948, 0.0, 0.022442530102982253, 0.039463684865877126, 0.0, 0.009244062342690266, -0.03123278659617917, 0.0], 'energy': -93.3379411693299, 'q_pivot': [2.0661028175290235, 2.212179837005715, 1.9536793836722186], 'x_pivot': [[-1.536043676913093, 1.9465710982323272, 0.0], [-0.936771007066541, -0.030713180716037482, 0.0], [1.266730924180987, -0.2264652439057899, 0.0]], 'step_dist': 1.25, 'arc_dist': 1.2494916250148524, 'line_dist': 0.8975915013973165}, {'step_number': 6, 'q': [2.0595614533754225, 2.2093262085904595, 2.021846362347088], 'x': [[-1.5779696704682573, 1.9510448000737983, 0.0], [-0.9106332222243796, 0.002595302376942821, 0.0], [1.2825191328939891, -0.26424742884024144, 0.0]], 'f_q': [0.0006857815395791065, 0.01025979000373087, 0.06495388365151865], 'f_x': [-0.030058492411197693, -0.0095700290733436, 0.0, 0.023424730805480347, 0.03999384097173345, 0.0, 0.006633761605717341, -0.030423811898389854, 0.0], 'energy': -93.34689977798952, 'q_pivot': [2.0530181658351943, 2.2064723164983198, 2.0900134310927534], 'x_pivot': [[-1.6182889046148936, 1.9537921402015608, 0.0], [-0.8841559602503882, 0.03652001312934824, 0.0], [1.2963611050666342, -0.3009194797204092, 0.0]], 'step_dist': 1.5, 'arc_dist': 1.49946797932189, 'line_dist': 1.0809035476773863}, {'step_number': 7, 'q': [2.048230911076637, 2.20392440349802, 2.1590627983156434], 'x': [[-1.6582208704382004, 1.9558121804973307, 0.0], [-0.8568322822509468, 0.07086491444104348, 0.0], [1.3089693928904995, -0.33728442132787445, 0.0]], 'f_q': [0.0009611757842220281, 0.008973026722369045, 0.05931213712957648], 'f_x': [-0.027025315788451708, -0.010445422037717728, 0.0, 0.023191400939899572, 0.03855369604412315, 0.0, 0.0038339148485521356, -0.028108274006405424, 0.0], 'energy': -93.35538759008517, 'q_pivot': [2.0434419423078363, 2.201376275862501, 2.2281122508815354], 'x_pivot': [[-1.6964628546419769, 1.9560722103516657, 0.0], [-0.8292072836669634, 0.10579581310837118, 0.0], [1.3195863785102926, -0.37247534984953673, 0.0]], 'step_dist': 1.75, 'arc_dist': 1.7494530646725475, 'line_dist': 1.2654347129648547}, {'step_number': 8, 'q': [2.0400353167211556, 2.199183378105659, 2.2979279213985913], 'x': [[-1.7340411608861293, 1.9553333909993176, 0.0], [-0.8008742946358061, 0.14123755747724662, 0.0], [1.3288316957232882, -0.40717827486606395, 0.0]], 'f_q': [0.001016282854817927, 0.0073554359913059995, 0.05208794129281072], 'f_x': [-0.023169903299325962, -0.010775689341392464, 0.0, 0.021953262357986746, 0.03554679234158783, 0.0, 0.0012166409413392138, -0.024771103000195364, 0.0], 'energy': -93.36308868315835, 'q_pivot': [2.0366271969814607, 2.196990283684643, 2.3677436698144687], 'x_pivot': [[-1.7698421126099204, 1.9528110327460146, 0.0], [-0.7722812420812205, 0.17722024400143943, 0.0], [1.336039594892494, -0.4406386031369541, 0.0]], 'step_dist': 2.0, 'arc_dist': 1.9994438034665891, 'line_dist': 1.451093540789124}, {'step_number': 9, 'q': [2.034292928362985, 2.195181633230723, 2.4382174047175575], 'x': [[-1.8047133318183104, 1.9490764164362662, 0.0], [-0.7431090856117586, 0.21375392686152797, 0.0], [1.3417386576314225, -0.4734376696872939, 0.0]], 'f_q': [0.0009055616619179585, 0.005593431954814514, 0.043986699475548695], 'f_x': [-0.01891739839717674, -0.01051136770840652, 0.0, 0.01987785724819774, 0.03129306765014774, 0.0, -0.0009604588510209985, -0.020781699941741224, 0.0], 'energy': -93.3698028465578, 'q_pivot': [2.0319573831714624, 2.19337282621436, 2.5086912018788707], 'x_pivot': [[-1.8377185675446384, 1.9435447686073808, 0.0], [-0.7137227704080205, 0.25077063865257915, 0.0], [1.3453575781540124, -0.5049227336494595, 0.0]], 'step_dist': 2.25, 'arc_dist': 2.2494380619279326, 'line_dist': 1.637775379688849}, {'step_number': 10, 'q': [2.0304426419081927, 2.191958122446266, 2.5797156861488766], 'x': [[-1.8695399798500392, 1.9366380210736038, 0.0], [-0.6838816443058654, 0.2883323353970242, 0.0], [1.347337864357258, -0.535577682860127, 0.0]], 'f_q': [0.0006934091084804809, 0.003853183861698238, 0.03542478750146302], 'f_x': [-0.014568180694421225, -0.009625009238135241, 0.0, 0.01707222267881517, 0.026049468575049452, 0.0, -0.0025040419843939455, -0.01642445933691421, 0.0], 'energy': -93.37540554152018, 'q_pivot': [0, 0, 0], 'x_pivot': [0, 0, 0], 'step_dist': 2.5, 'arc_dist': 2.499434501255735, 'line_dist': 1.8253632747811765}]\n",
      "Done\n"
     ]
    }
   ],
   "source": [
    "output_file = \"24_Butane_PES_1.out\"\n",
    "psi4.set_memory(\"4GB\")\n",
    "psi4.set_output_file(output_file, append=False, loglevel=20, print_header=True, inherit_loglevel=True, execute=True)\n",
    "psi4.core.set_num_threads(4)\n",
    "\n",
    "irc_direction = \"forward\"\n",
    "\n",
    "mol3 = ts.clone()\n",
    "\n",
    "psi4.set_options({\n",
    "     \"geom_maxiter\":500,\n",
    "     \"full_hess_every\":1,\n",
    "     \"opt_type\":\"irc\",\n",
    "     \"irc_step_size\":0.25,\n",
    "     \"ensure_bt_convergence\":True,\n",
    "     \"irc_direction\":irc_direction,\n",
    "     \"reference\": \"rhf\",\n",
    "     \"g_convergence\": \"GAU_VERYTIGHT\", # default => QCHEM:  MOLPRO, GAU, GAU_LOOSE, GAU_TIGHT, INTERFRAG_TIGHT, GAU_VERYTIGHT, TURBOMOLE, CFOUR, NWCHEM_LOOSE\n",
    "     \"IRC_POINTS\": 10\n",
    "     })\n",
    "\n",
    "E, history = psi4.optimize('b3pw91/6-31+G(d)',molecule=mol3, return_history=True)\n",
    "\n",
    "#energy_ts, hist = psi4.optimize(\"hf/sto-3g\", molecule = ts, return_history=True)          \n",
    "#energy_ts, hist = psi4.optimize(\"b3pw91/6-31+G(d)\", molecule = ts, return_history=True)   \n",
    "#energy_ts, hist = psi4.optimize(\"b3lyp/6-311++G(d,p)\", molecule = ts, return_history=True)   \n",
    "#energy_ts, hist = psi4.optimize(\"B3LYP-d3bj2b/6-311++G(d,p)\", molecule = ts, return_history=True)   \n",
    "print(\"Done\")\n"
   ]
  },
  {
   "cell_type": "code",
   "execution_count": 9,
   "id": "5e1e3ad5-f25e-4834-b2bc-15712b37f5bf",
   "metadata": {},
   "outputs": [
    {
     "data": {
      "application/vnd.jupyter.widget-view+json": {
       "model_id": "c7e76b3a0a454943a1b11420406ffc84",
       "version_major": 2,
       "version_minor": 0
      },
      "text/plain": [
       "interactive(children=(IntSlider(value=0, description='conf', max=29), Output()), _dom_classes=('widget-interac…"
      ]
     },
     "metadata": {},
     "output_type": "display_data"
    }
   ],
   "source": [
    "\n",
    "traj = hp.mol2traj(mol3, history[\"coordinates\"])\n",
    "hp.drawXYZGeomSlider(traj)"
   ]
  },
  {
   "cell_type": "code",
   "execution_count": null,
   "id": "3fb607bd-a3de-4b5b-a39b-ce0734200cc7",
   "metadata": {},
   "outputs": [],
   "source": [
    "# use psi4conda environment\n",
    "import psi4\n",
    "\n",
    "psi4.core.clean_options()\n",
    "\n",
    "data = \"\"\"\n",
    "       0 1\n",
    "  H    -0.5958806528   0.9889214459   0.0000000000\n",
    "  C    -0.5958806528  -0.1660941336   0.0000000000\n",
    "  N     0.5535292657   0.0711607905   0.0000000000\n",
    "       units angstrom\n",
    "       \"\"\" \n",
    "\n",
    "# Create the Molecule object\n",
    "mol = psi4.geometry(data)             # Create Molecule object from data string\n",
    "\n",
    "ts = mol.clone()\n",
    "output_file = \"HCN_test.log\"\n",
    "psi4.set_memory(\"2GB\")\n",
    "psi4.set_output_file(output_file, append=False, loglevel=20, print_header=True, inherit_loglevel=True, execute=True)\n",
    "psi4.core.set_num_threads(4)\n",
    "\n",
    "psi4.set_options({\n",
    "        \"OPT_TYPE\": \"ts\",              # default => \"min\":  MIN, TS, IRC\n",
    "        \"FULL_HESS_EVERY\": 0,         # default => -1 -> Does not do Hessian; 0 -> hessian at start\n",
    "        \"NORMAL_MODES_WRITE\": True,    # default => False\n",
    "         \"g_convergence\": \"GAU_VERYTIGHT\", # default => QCHEM:  MOLPRO, GAU, GAU_LOOSE, GAU_TIGHT, INTERFRAG_TIGHT, GAU_VERYTIGHT, TURBOMOLE, CFOUR, NWCHEM_LOOSE\n",
    "    })\n",
    "\n",
    "energy_ts, hist = psi4.optimize(\"b3pw91/6-31+G(d)\", molecule = ts, return_history=True)   \n"
   ]
  },
  {
   "cell_type": "code",
   "execution_count": null,
   "id": "921f250e-10e2-4a36-b694-67c9cf03d98e",
   "metadata": {},
   "outputs": [],
   "source": []
  },
  {
   "cell_type": "code",
   "execution_count": null,
   "id": "c0172e4d-0ef9-4ea9-a94b-54cb6e563734",
   "metadata": {},
   "outputs": [],
   "source": []
  },
  {
   "cell_type": "code",
   "execution_count": 10,
   "id": "3fe1f42e-2479-41e7-b3b5-7e177b5484a5",
   "metadata": {},
   "outputs": [
    {
     "name": "stdout",
     "output_type": "stream",
     "text": [
      "Warning: thermodynamics relations excluded imaginary frequencies: ['1151.2304i' '311.8748i' '232.7270i' '35.1276i']\n",
      "Warning: thermodynamics relations excluded imaginary frequencies: ['1036.4458i' '381.6549i' '252.4732i']\n",
      "Warning: used thermodynamics relations inappropriate for low-frequency modes: ['210.6715']\n",
      "Warning: thermodynamics relations excluded imaginary frequencies: ['1015.4178i' '331.4483i' '188.3355i']\n",
      "Warning: used thermodynamics relations inappropriate for low-frequency modes: ['294.6778']\n",
      "Warning: thermodynamics relations excluded imaginary frequencies: ['1015.8295i' '330.8316i' '187.5881i']\n",
      "Warning: used thermodynamics relations inappropriate for low-frequency modes: ['294.9658']\n",
      "Warning: thermodynamics relations excluded imaginary frequencies: ['1015.8534i' '330.8601i' '187.6047i']\n",
      "Warning: used thermodynamics relations inappropriate for low-frequency modes: ['294.9108']\n",
      "Warning: thermodynamics relations excluded imaginary frequencies: ['1015.8547i' '330.8605i' '187.6240i']\n",
      "Warning: used thermodynamics relations inappropriate for low-frequency modes: ['294.9103']\n",
      "Warning: thermodynamics relations excluded imaginary frequencies: ['796.4231i' '282.3451i']\n",
      "Warning: used thermodynamics relations inappropriate for low-frequency modes: ['81.0610' '447.3542']\n",
      "Warning: thermodynamics relations excluded imaginary frequencies: ['805.6190i' '319.0028i' '125.6665i']\n",
      "Warning: used thermodynamics relations inappropriate for low-frequency modes: ['420.1603']\n",
      "Warning: thermodynamics relations excluded imaginary frequencies: ['804.7186i' '318.3281i' '124.4822i']\n",
      "Warning: used thermodynamics relations inappropriate for low-frequency modes: ['421.0907']\n",
      "Warning: thermodynamics relations excluded imaginary frequencies: ['804.7097i' '318.3094i' '124.4538i']\n",
      "Warning: used thermodynamics relations inappropriate for low-frequency modes: ['421.1124']\n",
      "Warning: thermodynamics relations excluded imaginary frequencies: ['804.7094i' '318.3094i' '124.4582i']\n",
      "Warning: used thermodynamics relations inappropriate for low-frequency modes: ['421.1122']\n",
      "Warning: thermodynamics relations excluded imaginary frequencies: ['573.3290i' '331.1447i' '142.0525i']\n",
      "Warning: used thermodynamics relations inappropriate for low-frequency modes: ['469.5915']\n",
      "Warning: thermodynamics relations excluded imaginary frequencies: ['554.0733i' '319.7502i' '135.8425i']\n",
      "Warning: used thermodynamics relations inappropriate for low-frequency modes: ['486.5261']\n",
      "Warning: thermodynamics relations excluded imaginary frequencies: ['554.0345i' '319.5287i' '135.6676i']\n",
      "Warning: used thermodynamics relations inappropriate for low-frequency modes: ['486.8017']\n",
      "Warning: thermodynamics relations excluded imaginary frequencies: ['554.0545i' '319.5370i' '135.6771i']\n",
      "Warning: used thermodynamics relations inappropriate for low-frequency modes: ['486.7904']\n",
      "Warning: thermodynamics relations excluded imaginary frequencies: ['307.8293i' '199.7909i' '132.5892i']\n",
      "Warning: used thermodynamics relations inappropriate for low-frequency modes: ['536.3527']\n",
      "Warning: thermodynamics relations excluded imaginary frequencies: ['302.2868i' '167.4232i' '130.2906i']\n",
      "Warning: used thermodynamics relations inappropriate for low-frequency modes: ['544.5396']\n",
      "Warning: thermodynamics relations excluded imaginary frequencies: ['302.1774i' '167.0508i' '130.3823i']\n",
      "Warning: used thermodynamics relations inappropriate for low-frequency modes: ['544.6923']\n",
      "Warning: thermodynamics relations excluded imaginary frequencies: ['302.1815i' '167.0747i' '130.3911i']\n",
      "Warning: used thermodynamics relations inappropriate for low-frequency modes: ['544.6871']\n",
      "Warning: thermodynamics relations excluded imaginary frequencies: ['281.8876i' '143.4775i']\n",
      "Warning: used thermodynamics relations inappropriate for low-frequency modes: ['410.4022' '583.7107']\n",
      "Warning: thermodynamics relations excluded imaginary frequencies: ['276.5978i' '136.8457i']\n",
      "Warning: used thermodynamics relations inappropriate for low-frequency modes: ['422.1019' '591.2910']\n",
      "Warning: thermodynamics relations excluded imaginary frequencies: ['276.5093i' '136.7168i']\n",
      "Warning: used thermodynamics relations inappropriate for low-frequency modes: ['422.2170' '591.4242']\n",
      "Warning: thermodynamics relations excluded imaginary frequencies: ['276.5133i' '136.7314i']\n",
      "Warning: used thermodynamics relations inappropriate for low-frequency modes: ['422.1916' '591.4194']\n",
      "Warning: thermodynamics relations excluded imaginary frequencies: ['250.6294i' '135.0296i']\n",
      "Warning: used thermodynamics relations inappropriate for low-frequency modes: ['554.9734' '623.8395']\n",
      "Warning: thermodynamics relations excluded imaginary frequencies: ['246.0498i' '128.9385i']\n",
      "Warning: used thermodynamics relations inappropriate for low-frequency modes: ['561.9288']\n",
      "Warning: thermodynamics relations excluded imaginary frequencies: ['245.9802i' '128.8331i']\n",
      "Warning: used thermodynamics relations inappropriate for low-frequency modes: ['562.0055']\n",
      "Warning: thermodynamics relations excluded imaginary frequencies: ['245.9838i' '128.8432i']\n",
      "Warning: used thermodynamics relations inappropriate for low-frequency modes: ['561.9857']\n",
      "Warning: thermodynamics relations excluded imaginary frequencies: ['217.3845i' '123.4216i']\n",
      "Warning: thermodynamics relations excluded imaginary frequencies: ['213.1368i' '117.3410i']\n",
      "Warning: thermodynamics relations excluded imaginary frequencies: ['213.0789i' '117.2565i']\n",
      "Warning: thermodynamics relations excluded imaginary frequencies: ['213.0819i' '117.2583i']\n",
      "Warning: thermodynamics relations excluded imaginary frequencies: ['183.2210i' '109.0125i']\n",
      "Warning: thermodynamics relations excluded imaginary frequencies: ['179.0526i' '102.7599i']\n",
      "Warning: thermodynamics relations excluded imaginary frequencies: ['179.0019i' '102.6719i']\n",
      "Warning: thermodynamics relations excluded imaginary frequencies: ['179.0045i' '102.6738i']\n",
      "Warning: thermodynamics relations excluded imaginary frequencies: ['148.6556i' '92.3680i']\n",
      "Warning: thermodynamics relations excluded imaginary frequencies: ['144.3036i' '85.6890i']\n",
      "Warning: thermodynamics relations excluded imaginary frequencies: ['144.2581i' '85.6128i']\n",
      "Warning: thermodynamics relations excluded imaginary frequencies: ['144.2605i' '85.6233i']\n",
      "Warning: thermodynamics relations excluded imaginary frequencies: ['113.9878i' '74.1365i']\n",
      "Warning: thermodynamics relations excluded imaginary frequencies: ['109.0882i' '66.6291i']\n",
      "Warning: thermodynamics relations excluded imaginary frequencies: ['109.0471i' '66.5673i']\n",
      "Optimizer: Optimization complete!\n",
      "[{'step_number': 0, 'q': [2.182663115891963, 2.2178599492131337, 1.3672406132314339], 'x': [[-1.1260512372161497, 1.8687906923097142, 0.0], [-1.1260512372161497, -0.31387242358224887, 0.0], [1.0460187146336535, 0.13447440488303522, 0.0]], 'f_q': [0.002105864990347198, 0.03171575627271743, 0.02664603735574652], 'f_x': [-0.012208039418331125, 0.002105864990347198, 0.0, -0.021281638343718413, 0.003248956356406341, 0.0, 0.03348967776204954, -0.005354821346753539, 0.0], 'energy': -93.30878966958137, 'q_pivot': [2.159113406270059, 2.2142955079277304, 1.4289239260627964], 'x_pivot': [[-1.1711774776891843, 1.8763898043394096, 0.0], [-1.1084682272194104, -0.28181274663689193, 0.0], [1.0735619451099487, 0.09481561590798278, 0.0]], 'step_dist': 0.0, 'arc_dist': 0.0, 'line_dist': 0.0}, {'step_number': 1, 'q': [2.150118705955073, 2.2227529736250724, 1.4885615097356442], 'x': [[-1.2183684152227796, 1.8908137820696185, 0.0], [-1.0943701771533412, -0.2557264310765488, 0.0], [1.1066548325774748, 0.054305322617431075, 0.0]], 'f_q': [-0.00010770917296928822, 0.021771369069822123, 0.046090082756432164], 'f_x': [-0.021394176088759948, -0.0013437566321341252, 0.0, -0.003056592026546546, 0.018839954116590944, 0.0, 0.024450768115306495, -0.01749619748445682, 0.0], 'energy': -93.31336414275724, 'q_pivot': [2.141123625431585, 2.231210420964384, 1.5481991095303012], 'x_pivot': [[-1.264812751432636, 1.9041331994152213, 0.0], [-1.079594429479813, -0.22896420872025244, 0.0], [1.138323421113803, 0.014223682915531694, 0.0]], 'step_dist': 0.25, 'arc_dist': 0.24811407630020435, 'line_dist': 0.17385461761657603}, {'step_number': 2, 'q': [2.1245326698122904, 2.2282611377476806, 1.6125890024367395], 'x': [[-1.3102461880124199, 1.9124977458695473, 0.0], [-1.058760318162353, -0.19709793159224848, 0.0], [1.162922746376127, -0.02600714066679777, 0.0]], 'f_q': [-0.001666248408235052, 0.01028235721774236, 0.05904879412379951], 'f_x': [-0.027401132276243856, -0.004944547846834941, 0.0, 0.015114405773084379, 0.030576758524157196, 0.0, 0.012286726503159479, -0.025632210677322253, 0.0], 'energy': -93.32006988092985, 'q_pivot': [2.1079416569086225, 2.2253118382085764, 1.6769788950824331], 'x_pivot': [[-1.3542580967117681, 1.9193346954127462, 0.0], [-1.037458454145413, -0.16466530828219123, 0.0], [1.1856327910585354, -0.06527671352005358, 0.0]], 'step_dist': 0.5, 'arc_dist': 0.4972733726646277, 'line_dist': 0.3490886218720665}, {'step_number': 3, 'q': [2.0965877593062565, 2.2220780358315757, 1.7428697106813953], 'x': [[-1.3992883304828072, 1.927780021932548, 0.0], [-1.014348861580595, -0.13316680847189308, 0.0], [1.2075534322647565, -0.1052205398501536, 0.0]], 'f_q': [-0.0005112895750046656, 0.01095697894927437, 0.06648426531488913], 'f_x': [-0.031077759891775372, -0.006324772507240358, 0.0, 0.01974535629503971, 0.036104464937068766, 0.0, 0.011332403596735662, -0.029779692429828405, 0.0], 'energy': -93.32828729895974, 'q_pivot': [2.085230048529105, 2.2188436142406966, 1.8087606422253648], 'x_pivot': [[-1.4428524943283496, 1.934617012966272, 0.0], [-0.990827490477247, -0.10102975186845789, 0.0], [1.2275962250069512, -0.14419458748731304, 0.0]], 'step_dist': 0.75, 'arc_dist': 0.7471355918877749, 'line_dist': 0.5296542727141418}, {'step_number': 4, 'q': [2.0762726078270215, 2.2157465771729656, 1.8758245018399933], 'x': [[-1.4865154379324208, 1.9413192483120334, 0.0], [-0.9661762725360957, -0.06869445685703278, 0.0], [1.246607950669871, -0.18323211784449905, 0.0]], 'f_q': [0.00011261091859982466, 0.011045447627254098, 0.06800681468199214], 'f_x': [-0.031737233176575945, -0.008099603706974557, 0.0, 0.02229312768243549, 0.039322042709776094, 0.0, 0.009444105494140459, -0.031222439002801534, 0.0], 'energy': -93.3372191222696, 'q_pivot': [2.067313298132683, 2.2126492512813813, 1.9428884353164695], 'x_pivot': [[-1.528656485670413, 1.9463422391711647, 0.0], [-0.9411440080816692, -0.035730756788814495, 0.0], [1.2637167339534368, -0.22121880877184896, 0.0]], 'step_dist': 1.0, 'arc_dist': 0.9971059207683185, 'line_dist': 0.7115517773876016}, {'step_number': 5, 'q': [2.060619091243115, 2.2097770630801725, 2.0109792229491106], 'x': [[-1.570725991671831, 1.9510194731796249, 0.0], [-0.9150931953012194, -0.0025149328441984387, 0.0], [1.2797354271744044, -0.25911186672492437, 0.0]], 'f_q': [0.0006549109415416925, 0.010348164028994161, 0.06530648016848618], 'f_x': [-0.030254045519146813, -0.009462859941977262, 0.0, 0.023407595406700153, 0.04001798282882224, 0.0, 0.0068464501124466635, -0.030555122886844973, 0.0], 'energy': -93.34619726067545, 'q_pivot': [2.053922934294889, 2.206904620777626, 2.079070098481334], 'x_pivot': [[-1.611195858845978, 1.9539729856178807, 0.0], [-0.8886996835724155, 0.031318909415508016, 0.0], [1.2938117826197475, -0.2958992214228865, 0.0]], 'step_dist': 1.25, 'arc_dist': 1.2470807055816977, 'line_dist': 0.8947605298326871}, {'step_number': 6, 'q': [2.0490098818683453, 2.2043311262484204, 2.148053370969693], 'x': [[-1.6512989550451005, 1.9562201849407486, 0.0], [-0.8614479190282232, 0.0655650506295766, 0.0], [1.306663114274678, -0.332392561959823, 0.0]], 'f_q': [0.0009478167246598199, 0.009091954222804951, 0.059832181686291085], 'f_x': [-0.027309176540974246, -0.010381637133299518, 0.0, 0.02326686242507906, 0.03872006188066596, 0.0, 0.004042314115895185, -0.028338424747366437, 0.0], 'energy': -93.35473605585881, 'q_pivot': [2.0440951070848117, 2.2017574115091447, 2.217036729487772], 'x_pivot': [[-1.6897197813303437, 1.956708868607827, 0.0], [-0.8338913958385515, 0.10040000923270115, 0.0], [1.3175274173702496, -0.36771620423002604, 0.0]], 'step_dist': 1.5, 'arc_dist': 1.4970653162686132, 'line_dist': 1.079196927360902}, {'step_number': 7, 'q': [2.040590768515344, 2.199535033566028, 2.286795273270826], 'x': [[-1.727499312291342, 1.9562181015003657, 0.0], [-0.8056155740226905, 0.13573985179072998, 0.0], [1.3270311265153871, -0.40256527968059386, 0.0]], 'f_q': [0.0010188881305622406, 0.007492391920747437, 0.05270352608114313], 'f_x': [-0.023501943171489997, -0.01075921973649481, 0.0, 0.02210156478225916, 0.035825423595099264, 0.0, 0.0014003783892308369, -0.02506620385860446, 0.0], 'energy': -93.36250849561173, 'q_pivot': [2.0370849679854004, 2.1973124702354294, 2.3565538919775832], 'x_pivot': [[-1.763509430752532, 1.9539444870729834, 0.0], [-0.7770759731906043, 0.1716245941821196, 0.0], [1.334501644144491, -0.4361764076446011, 0.0]], 'step_dist': 1.75, 'arc_dist': 1.7470556874058318, 'line_dist': 1.2647693369422088}, {'step_number': 8, 'q': [2.0346749184251784, 2.1954725997711484, 2.426979040294873], 'x': [[-1.7986109622664368, 1.9504729673341208, 0.0], [-0.7479469899423768, 0.20805876831922115, 0.0], [1.340474192410168, -0.4691390620428399, 0.0]], 'f_q': [0.0009189457844846888, 0.005735329687569263, 0.044653960289463765], 'f_x': [-0.019268615343257838, -0.010545761168060212, 0.0, 0.020086579386155684, 0.0316622089358528, 0.0, -0.0008179640428978478, -0.02111644776779259, 0.0], 'energy': -93.36930675560347, 'q_pivot': [2.032263555795192, 2.193632565486171, 2.4974042534724568], 'x_pivot': [[-1.8318544131831782, 1.9452042057559888, 0.0], [-0.7185997580123477, 0.2449809166101799, 0.0], [1.3443704113968802, -0.500792448755667, 0.0]], 'step_dist': 2.0, 'arc_dist': 1.9970497283584812, 'line_dist': 1.4513736512023834}, {'step_number': 9, 'q': [2.0306915928336786, 2.1921863840854643, 2.568388836920638], 'x': [[-1.8639345392694666, 1.9385711174706983, 0.0], [-0.6887874898961547, 0.2824498183037014, 0.0], [1.3466382693669758, -0.531628262163898, 0.0]], 'f_q': [0.0007125118651282839, 0.003987334313017559, 0.03611841002356643], 'f_x': [-0.01491782969980294, -0.009711699081798301, 0.0, 0.017334051193617587, 0.026490211838883983, 0.0, -0.002416221493814649, -0.01677851275708568, 0.0], 'energy': -93.37500145462548, 'q_pivot': [2.0291185193951717, 2.1907400216897908, 2.639373474965357], 'x_pivot': [[-1.8940695272311279, 1.9301369386710185, 0.0], [-0.6588079718225928, 0.32033854897057557, 0.0], [1.3467937392550748, -0.5610828140310923, 0.0]], 'step_dist': 2.25, 'arc_dist': 2.2470460283166083, 'line_dist': 1.638893904026491}, {'step_number': 10, 'q': [2.0281755826411105, 2.189684305589669, 2.7108058179395313], 'x': [[-1.9228017986288621, 1.920218980783419, 0.0], [-0.6284885174287494, 0.358729523844754, 0.0], [1.3452065562589657, -0.5895558310176711, 0.0]], 'f_q': [0.00046383930435085096, 0.0024065471119866146, 0.02733679052119908], 'f_x': [-0.010673094167237744, -0.008244423248326362, 0.0, 0.013910519009991667, 0.020539528140090066, 0.0, -0.0032374248427539244, -0.012295104891763704, 0.0], 'energy': -93.37951158546865, 'q_pivot': [0, 0, 0], 'x_pivot': [0, 0, 0], 'step_dist': 2.5, 'arc_dist': 2.4970437199864177, 'line_dist': 1.8271990479348348}]\n",
      "Done\n"
     ]
    }
   ],
   "source": [
    "# use psi4conda environment\n",
    "import psi4\n",
    "\n",
    "psi4.core.clean_options()\n",
    "\n",
    "# The Z-matrix as a text string ### From previous optimization\n",
    "data = \"\"\"\n",
    "       0 1\n",
    "  H    -0.5958806528   0.9889214459   0.0000000000\n",
    "  C    -0.5958806528  -0.1660941336   0.0000000000\n",
    "  N     0.5535292657   0.0711607905   0.0000000000\n",
    "       units angstrom\n",
    "       \"\"\" \n",
    "\n",
    "# Create the Molecule object\n",
    "mol = psi4.geometry(data)             # Create Molecule object from data string\n",
    "\n",
    "output_file = \"HCN_test.log\"\n",
    "psi4.set_memory(\"4GB\")\n",
    "psi4.set_output_file(output_file, append=False, loglevel=20, print_header=True, inherit_loglevel=True, execute=True)\n",
    "psi4.core.set_num_threads(4)\n",
    "\n",
    "irc_direction = \"forward\"\n",
    "\n",
    "psi4.set_options({\n",
    "     \"geom_maxiter\":500,\n",
    "     \"full_hess_every\":1,\n",
    "     \"opt_type\":\"irc\",\n",
    "     \"irc_step_size\":0.25,\n",
    "     \"ensure_bt_convergence\":True,\n",
    "     \"irc_direction\":irc_direction,\n",
    "     \"reference\": \"rhf\",\n",
    "     \"g_convergence\": \"GAU_VERYTIGHT\", # default => QCHEM:  MOLPRO, GAU, GAU_LOOSE, GAU_TIGHT, INTERFRAG_TIGHT, GAU_VERYTIGHT, TURBOMOLE, CFOUR, NWCHEM_LOOSE\n",
    "     \"IRC_POINTS\": 10\n",
    "     })\n",
    "\n",
    "E, history = psi4.optimize('b3pw91/6-31+G(d)',molecule=mol, return_history=True)\n",
    "\n",
    "print(\"Done\")"
   ]
  },
  {
   "cell_type": "code",
   "execution_count": 11,
   "id": "0d9db508-4499-4bba-b64b-d35d5e9577e5",
   "metadata": {},
   "outputs": [
    {
     "data": {
      "application/vnd.jupyter.widget-view+json": {
       "model_id": "b14dde7902854985a86c7c5db8abe04e",
       "version_major": 2,
       "version_minor": 0
      },
      "text/plain": [
       "interactive(children=(IntSlider(value=0, description='conf', max=31), Output()), _dom_classes=('widget-interac…"
      ]
     },
     "metadata": {},
     "output_type": "display_data"
    }
   ],
   "source": [
    "traj = hp.mol2traj(mol, history[\"coordinates\"])\n",
    "hp.drawXYZGeomSlider(traj)"
   ]
  },
  {
   "cell_type": "code",
   "execution_count": null,
   "id": "d89b20dc-f2dc-4ea5-b119-cc93551ac2aa",
   "metadata": {},
   "outputs": [],
   "source": []
  }
 ],
 "metadata": {
  "kernelspec": {
   "display_name": "Python 3 (ipykernel)",
   "language": "python",
   "name": "python3"
  },
  "language_info": {
   "codemirror_mode": {
    "name": "ipython",
    "version": 3
   },
   "file_extension": ".py",
   "mimetype": "text/x-python",
   "name": "python",
   "nbconvert_exporter": "python",
   "pygments_lexer": "ipython3",
   "version": "3.11.7"
  }
 },
 "nbformat": 4,
 "nbformat_minor": 5
}
